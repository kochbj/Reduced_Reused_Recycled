{
 "cells": [
  {
   "cell_type": "markdown",
   "id": "5af1aaed-9b9a-4ea3-b52e-f2ea71345db1",
   "metadata": {},
   "source": [
    "# Dataset Construction: RQ1 and RQ2\n",
    "\n",
    "This notebook constructs the datasets used in the analyses for research questions 1 and 2. To see the actual statistical analyses, see the R scripts.\n",
    "\n",
    "First load the PWC provided data. \"evaluation-tables.json\" and \"papers-with-abstracts.json\" were downloaded from [PWC's Github](https://github.com/paperswithcode/paperswithcode-data) on 06/16/2021."
   ]
  },
  {
   "cell_type": "code",
   "execution_count": 1,
   "id": "096cd869",
   "metadata": {},
   "outputs": [
    {
     "name": "stdout",
     "output_type": "stream",
     "text": [
      "[Errno 2] No such file or directory: 'DATASET_PATH'\n",
      "/mnt/c/Users/berna/Documents/GitHub/Life_of_a_Benchmark/Dataset_Curation\n"
     ]
    }
   ],
   "source": [
    "DATASET_PATH=\"/home/bkoch/Documents/GitHub/Life_of_a_Benchmark/Dataset_Curation\"\n",
    "%cd DATASET_PATH\n",
    "import pandas as pd\n",
    "import json\n",
    "with open('./PWC_Data/papers-with-abstracts.json') as f:\n",
    "    pwc=json.load(f)\n",
    "with open('./PWC_Data/evaluation-tables.json') as f:\n",
    "    benchmark_tables=json.load(f)"
   ]
  },
  {
   "cell_type": "markdown",
   "id": "3dba6cb7-1125-481b-8205-a1178e8e9ea1",
   "metadata": {},
   "source": [
    "### Construct Task Ontology\n",
    "\n",
    "This block parses \"evaluation-tables.json\" to create a task ontology. Benchmarks in this file are organized by task and subtask."
   ]
  },
  {
   "cell_type": "code",
   "execution_count": null,
   "id": "5118e98a",
   "metadata": {},
   "outputs": [],
   "source": [
    "all_rows=[] #used to construct benchmark_papers df\n",
    "parent_child_dict={} #dictionary capturing parent-child task relations used to create task_relations df\n",
    "child_parent_dict={} #inverse of above\n",
    "task_category_dict={} #captures task category relations: categories in PWC are larger domains like \"NLP\",\"CV\",\"Methodology\n",
    "paper_titles_tasks={} #paper titles to tasks\n",
    "paper_titles_parent_tasks={} #paper totiles to parent tasks\n",
    "dataset_associated_tasks={} # tasks associated with the dataset\n",
    "\n",
    "for i, task in enumerate(benchmark_tables):\n",
    "    task_dict={} # A dictionary for each task that will ultimately be a row in the benchmark_papers dataframe\n",
    "    task_dict['task']=task['task']\n",
    "    task_dict['task_categories']=task['categories']\n",
    "    task_dict['task_description']=task['description']\n",
    "    task_dict['parent_task']=task['task']\n",
    "    if task['task'] not in parent_child_dict: parent_child_dict[task['task']]=[]\n",
    "    if task['task'] not in child_parent_dict: child_parent_dict[task['task']]=[]\n",
    "    task_category_dict[task['task']]=task['categories']\n",
    "    if len(task['datasets'])!=0: #if there are datasets associated with task\n",
    "        for j,d in enumerate(task['datasets']):\n",
    "            if d['dataset'] not in dataset_associated_tasks:dataset_associated_tasks[d['dataset']]=[]\n",
    "            parent_dataset=d['dataset'] # variations of datasets can be listed as \"children\"\n",
    "            dataset_associated_tasks[d['dataset']].append(task['task'])\n",
    "            dataset_dict={}\n",
    "            dataset_dict.update(task_dict)\n",
    "            dataset_dict['dataset']=d['dataset']\n",
    "            dataset_dict['dataset_citations']=d['dataset_citations']\n",
    "            dataset_dict['dataset_links']=d['dataset_links']\n",
    "            dataset_dict['dataset_subdatasets']=d['subdatasets']\n",
    "            dataset_dict['task']=task['task']\n",
    "            for row in d['sota']['rows']:\n",
    "                for m in row['metrics']:\n",
    "                    row_dict=dict(row)\n",
    "                    row_dict['metrics']=m\n",
    "                    row_dict['score']=row['metrics'][m]\n",
    "                    row_dict.update(dataset_dict)\n",
    "                    all_rows.append(row_dict)\n",
    "                if row['paper_title'] not in paper_titles_tasks:paper_titles_tasks[row['paper_title']]=[]\n",
    "                if row['paper_title'] not in paper_titles_parent_tasks:paper_titles_parent_tasks[row['paper_title']]=[]\n",
    "                paper_titles_tasks[row['paper_title']]+=[task['task']]\n",
    "                paper_titles_parent_tasks[row['paper_title']]+=[task['task']]\n",
    "    if len(task['subtasks'])!=0: #tasks can have subtasks. This is not tree. A subtask could have multiple parents or be a parent itself.\n",
    "        for t in task['subtasks']:\n",
    "            task_dict={} #Each subtask is it's own row also\n",
    "            if t['task'] not in child_parent_dict: child_parent_dict[t['task']]=[]\n",
    "            if t['task'] not in parent_child_dict: parent_child_dict[t['task']]=[]\n",
    "            task_category_dict[t['task']]=t['categories']\n",
    "            parent_child_dict[task['task']].append(t['task'])\n",
    "            child_parent_dict[t['task']].append(task['task'])\n",
    "            \n",
    "            task_dict['parent_task']=task['task']\n",
    "            task_dict['task']=t['task']\n",
    "            task_dict['task_categories']=','.join(t['categories'])\n",
    "            task_dict['task_description']=t['description']\n",
    "            \n",
    "            if len(t['datasets'])!=0:\n",
    "                for d in t['datasets']:\n",
    "                    if d['dataset'] not in dataset_associated_tasks:dataset_associated_tasks[d['dataset']]=[]\n",
    "                    dataset_associated_tasks[d['dataset']].append(t['task'])\n",
    "                    dataset_associated_tasks[parent_dataset].append(t['task'])\n",
    "                    dataset_dict={}\n",
    "                    dataset_dict.update(task_dict)\n",
    "                    dataset_dict['dataset']=d['dataset']\n",
    "                    dataset_dict['dataset_citations']=d['dataset_citations']\n",
    "                    dataset_dict['dataset_links']=d['dataset_links']\n",
    "                    dataset_dict['dataset_subdatasets']=d['subdatasets']\n",
    "                    dataset_dict['task']=t['task']\n",
    "                    for row in d['sota']['rows']:\n",
    "                        for m in row['metrics']:\n",
    "                            row_dict=dict(row)\n",
    "                            row_dict['metrics']=m\n",
    "                            row_dict['score']=row['metrics'][m]\n",
    "                            row_dict.update(dataset_dict)\n",
    "                            all_rows.append(row_dict)\n",
    "                        if row['paper_title'] not in paper_titles_tasks:paper_titles_tasks[row['paper_title']]=[]\n",
    "                        paper_titles_tasks[row['paper_title']]+=[t['task']] \n",
    "                        if row['paper_title'] not in paper_titles_parent_tasks:paper_titles_parent_tasks[row['paper_title']]=[]\n",
    "                        paper_titles_parent_tasks[row['paper_title']]+=[task['task']] \n",
    "\n",
    "                        benchmark_papers=pd.DataFrame(all_rows)\n",
    "#This dataframe contains \n",
    "benchmark_papers['benchmark_id']=benchmark_papers.groupby(['task','dataset','metrics']).ngroup()\n",
    "benchmark_papers=benchmark_papers[['paper_title','paper_date','task','parent_task','dataset','score','benchmark_id','metrics','task_categories']]\n",
    "benchmark_papers=benchmark_papers.drop_duplicates(['paper_title','paper_date','task','parent_task','dataset','score','benchmark_id','metrics'])\n",
    "print(\"BP\",benchmark_papers.shape)\n",
    "\n",
    "sibling_dict={i:[] for i in child_parent_dict.keys()}\n",
    "for k in sibling_dict.keys():\n",
    "    parents=child_parent_dict[k]\n",
    "    for i in parents:\n",
    "        sibling_dict[k]+=parent_child_dict[i]\n",
    "    sibling_dict[k]=list(set(sibling_dict[k]))\n",
    "\n",
    "task_relations=pd.DataFrame({'categories':task_category_dict,'parents':child_parent_dict,'children':parent_child_dict,'siblings':sibling_dict})\n",
    "task_relations.index=task_relations.index.rename('task')\n",
    "task_relations=task_relations.reset_index()\n",
    "benchmark_papers['CV']=benchmark_papers.apply(lambda row: 'Computer Vision' in row['task_categories'] and len(row['task_categories'])==1,axis=1 )\n",
    "benchmark_papers['NLP']=benchmark_papers.apply(lambda row: 'Natural Language Processing' in row['task_categories'] and len(row['task_categories'])==1,axis=1 )\n",
    "paper_relations=pd.DataFrame({'all_tasks':paper_titles_tasks,'all_parent_tasks':paper_titles_parent_tasks})\n",
    "paper_relations.index=paper_relations.index.rename('title')\n",
    "paper_relations=paper_relations.reset_index()\n",
    "#print(flat_df['paper_title'].drop_duplicates().shape)\n",
    "task_relations.to_csv('task_relations.tsv',sep='\\t',quoting=1)"
   ]
  },
  {
   "cell_type": "code",
   "execution_count": 5,
   "id": "adbb0f9a",
   "metadata": {},
   "outputs": [
    {
     "name": "stdout",
     "output_type": "stream",
     "text": [
      "GOT HERE\n",
      "GOT HERE\n",
      "GOT HERE\n",
      "GOT HERE\n",
      "GOT HERE\n",
      "TOTAL PWC PAPERS (137510,)\n"
     ]
    }
   ],
   "source": [
    "title=[]\n",
    "pdf_url=[]\n",
    "paper_url=[]\n",
    "date=[]\n",
    "task=[]\n",
    "all_tasks=[]\n",
    "all_parents=[]\n",
    "all_children=[]\n",
    "all_categories=[]\n",
    "all_siblings=[]\n",
    "task_hist={}\n",
    "task_age={}\n",
    "sheet_id = '1Y3DDI6ySi9A6l3ZMET29EWSxBr8Uw-kvKn8RF2zYpzQ'\n",
    "sheet_name = 'untasked_datasets'\n",
    "url = f\"https://docs.google.com/spreadsheets/d/{sheet_id}/gviz/tq?tqx=out:csv&sheet={sheet_name}\"\n",
    "manual_task_labels=pd.read_csv(url)\n",
    "manual_task_labels=manual_task_labels[~manual_task_labels.Justification.isnull()]\n",
    "#manual_task_labels=manual_task_labels[~manual_task_labels['Proposed Tasks'].isnull()]\n",
    "\n",
    "for i in pwc:\n",
    "    if i['title'] in list(manual_task_labels.title.str.strip()):\n",
    "        print(\"GOT HERE\")\n",
    "        proposed_tasks=manual_task_labels[manual_task_labels.title==i['title']]['Proposed Tasks'].iloc[0]\n",
    "        i['tasks']+=[j.strip() for j in proposed_tasks.split(',')]\n",
    "    if len(i['tasks'])==0: continue\n",
    "    ap=[]\n",
    "    [ ap.extend(child_parent_dict[t]) for t in i['tasks'] if t in child_parent_dict]\n",
    "    ac =[]\n",
    "    [ ac.extend(task_category_dict[t]) for t in i['tasks'] if t in task_category_dict]\n",
    "    ah=[]\n",
    "    [ ah.extend(parent_child_dict[t]) for t in i['tasks'] if t in parent_child_dict]\n",
    "    asib=[]\n",
    "    [ asib.extend(sibling_dict[t]) for t in i['tasks'] if t in sibling_dict]\n",
    "\n",
    "    for t in i['tasks']:\n",
    "        if t not in task_hist: task_hist[t]=0\n",
    "        task_hist[t]+=1\n",
    "        if t not in task_age: task_age[t] = pd.to_datetime(i['date']).year\n",
    "        else: task_age[t]= min(task_age[t],pd.to_datetime(i['date']).year)\n",
    "        title.append(i['title'])\n",
    "        pdf_url.append(i['url_pdf'])\n",
    "        paper_url.append(i['paper_url'])\n",
    "        date.append(i['date'])\n",
    "        task.append(t)\n",
    "        all_tasks.append(i['tasks'])\n",
    "        all_parents.append(list(set(ap)))\n",
    "        all_categories.append(list(set(ac)))\n",
    "        all_children.append(list(set(ah)))\n",
    "        all_siblings.append(list(set(asib)))\n",
    "\n",
    "for i,row in manual_task_labels.iterrows():\n",
    "    if row['title'] in title: continue\n",
    "    if type(row['Proposed Tasks'])==float:continue\n",
    "    tasks=[j.strip() for j in row['Proposed Tasks'].split(',')]\n",
    "    ap=[]\n",
    "    [ ap.extend(child_parent_dict[t]) for t in tasks if t in child_parent_dict]\n",
    "    ac =[]\n",
    "    [ ac.extend(task_category_dict[t]) for t in tasks if t in task_category_dict]\n",
    "    ah=[]\n",
    "    [ ah.extend(parent_child_dict[t]) for t in tasks if t in parent_child_dict]\n",
    "    asib=[]\n",
    "    [ asib.extend(sibling_dict[t]) for t in tasks if t in sibling_dict]\n",
    "    for t in tasks:\n",
    "        if t not in task_category_dict: print(\"TASK NOT FOUND\",t)\n",
    "\n",
    "        if t not in task_hist: task_hist[t]=0\n",
    "        task_hist[t]+=1\n",
    "        if t not in task_age: task_age[t] = pd.to_datetime(row['introduced_date']).year\n",
    "        else: task_age[t]= min(task_age[t],pd.to_datetime(row['introduced_date']).year)\n",
    "        title.append(row['title'])\n",
    "        pdf_url.append(None)\n",
    "        paper_url.append(row['paper_url'])\n",
    "        date.append(row['introduced_date'])\n",
    "        task.append(t)\n",
    "        all_tasks.append(tasks)\n",
    "        all_parents.append(list(set(ap)))\n",
    "        all_categories.append(list(set(ac)))\n",
    "        all_children.append(list(set(ah)))\n",
    "        all_siblings.append(list(set(asib)))\n",
    "\n",
    "pwc_papers=pd.DataFrame({'title':title,'pdf_url':pdf_url,'paper_url':paper_url,'date':date,'task':task,\n",
    "                         'all_tasks':all_tasks,'all_parents':all_parents,'all_children':all_children,\n",
    "                         'all_siblings':all_siblings,'all_categories':all_categories,})\n",
    "\n",
    "print(\"TOTAL PWC PAPERS\",pwc_papers['title'].drop_duplicates().shape)\n",
    "task_hist=pd.Series(task_hist)\n",
    "#task_hist=task_hist[task_hist>task_hist.quantile(.3)]\n",
    "task_age=pd.Series(task_age)\n",
    "task_age.name='task_age'"
   ]
  },
  {
   "cell_type": "code",
   "execution_count": 6,
   "id": "6a29c596",
   "metadata": {},
   "outputs": [
    {
     "name": "stdout",
     "output_type": "stream",
     "text": [
      "PWC PAPERS AFTER ADDING TASKS (134312,)\n",
      "DATASET CITING PAPERS (60647,)\n",
      "TOTAL DATASET CITING PAPERS (46692,)\n",
      "TOTAL DATASET CITING PAPERS (46692,)\n"
     ]
    },
    {
     "name": "stderr",
     "output_type": "stream",
     "text": [
      "<ipython-input-6-6bdd88d0d1bd>:34: SettingWithCopyWarning: \n",
      "A value is trying to be set on a copy of a slice from a DataFrame.\n",
      "Try using .loc[row_indexer,col_indexer] = value instead\n",
      "\n",
      "See the caveats in the documentation: https://pandas.pydata.org/pandas-docs/stable/user_guide/indexing.html#returning-a-view-versus-a-copy\n",
      "  manual_dict['Proposed Tasks']=manual_dict['Proposed Tasks'].apply(lambda x: [j.strip() for j in x.split(',')] if type(x)!=float else [])\n"
     ]
    },
    {
     "name": "stdout",
     "output_type": "stream",
     "text": [
      "DATASETS (4383,)\n",
      "DATASETS_PWC (2626,)\n",
      "MISSING DATASET CITING PAPERS (13955,)\n"
     ]
    }
   ],
   "source": [
    "benchmark_papers.to_json('./DatawithTasks/benchmarks_with_datasets.json')\n",
    "pwc_papers.to_json('./DatawithTasks/pwc_papers.json')\n",
    "\n",
    "pwc_papers_task=pd.merge(task_relations,pwc_papers,on='task')\n",
    "#pwc_papers_task=pd.merge(paper_relations,pwc_papers,on='title')\n",
    "print(\"PWC PAPERS AFTER ADDING TASKS\",pwc_papers_task['title'].drop_duplicates().shape)\n",
    "dataset_citing_papers=pd.read_csv('/home/bkoch/Projects/DataProject/analyses/04-PWC/PWC_2021_06_16/datasets_citing_papers.txt',sep='\\t')\n",
    "print(\"DATASET CITING PAPERS\",dataset_citing_papers['title'].drop_duplicates().shape)\n",
    "\n",
    "dataset_citing_papers_total=pd.merge(dataset_citing_papers,pwc_papers_task,on=['title','date'],how='left')\n",
    "dataset_citing_papers_total['date']=pd.to_datetime(dataset_citing_papers_total['date'])\n",
    "dataset_citing_papers_total.to_json('./DatawithTasks/datasets_citing_papers_total.json')\n",
    "\n",
    "\n",
    "dataset_citing_papers_pwc=pd.merge(dataset_citing_papers,pwc_papers_task,on=['title','date'])\n",
    "dataset_citing_papers_pwc['date']=pd.to_datetime(dataset_citing_papers_pwc['date'])\n",
    "print(\"TOTAL DATASET CITING PAPERS\",dataset_citing_papers_pwc['title'].drop_duplicates().shape)\n",
    "dataset_citing_papers_pwc.to_json('./DatawithTasks/datasets_citing_papers_pwc.json')\n",
    "\n",
    "#dataset_citing_papers_pwc=dataset_citing_papers_pwc[dataset_citing_papers_pwc['all_parents'].apply(lambda x: len(x)<=1)]\n",
    "#dataset_citing_papers_pwc=dataset_citing_papers_pwc[dataset_citing_papers_pwc['all_tasks'].apply(lambda x: len([i for i in x if i in parent_child_dict ]))<2]\n",
    "\n",
    "print(\"TOTAL DATASET CITING PAPERS\",dataset_citing_papers_pwc['title'].drop_duplicates().shape)\n",
    "\n",
    "with open('/home/bkoch/Projects/DataProject/analyses/04-PWC/PWC_2021_06_16/datasets.json') as f:\n",
    "    datasets=pd.DataFrame(json.load(f))\n",
    "datasets['title']=datasets['paper'].apply(lambda js: js['title'] if js is not None else None)\n",
    "datasets['paper_url']=datasets['paper'].apply(lambda js: js['url'] if js is not None else None)\n",
    "datasets['introduced_date']=pd.to_datetime(datasets['introduced_date'])\n",
    "datasets['Texts']=datasets['modalities'].apply(lambda r: 'Texts' in r)\n",
    "datasets['Images']=datasets['modalities'].apply(lambda r: 'Images' in r)\n",
    "datasets['dataset_tasks']=datasets['tasks'].apply(lambda js: [ j['task'] for j in js])\n",
    "manual_dict=manual_task_labels[['name','Proposed Tasks']]\n",
    "manual_dict['Proposed Tasks']=manual_dict['Proposed Tasks'].apply(lambda x: [j.strip() for j in x.split(',')] if type(x)!=float else [])\n",
    "manual_dict=manual_dict.set_index('name').to_dict()['Proposed Tasks']\n",
    "datasets['dataset_tasks']=datasets.apply(lambda row: row['dataset_tasks']+manual_dict[row['name']] if row['name'] in manual_dict else row['dataset_tasks'],axis=1)\n",
    "datasets=datasets.drop(['tasks','paper'],axis=1)\n",
    "all_parents=[]\n",
    "all_children=[]\n",
    "all_categories=[]\n",
    "all_siblings=[]\n",
    "for i,row in datasets.iterrows():\n",
    "    ap=[]\n",
    "    [ ap.extend(child_parent_dict[t]) for t in row['dataset_tasks'] if t in child_parent_dict]\n",
    "    ac =[]\n",
    "    [ ac.extend(task_category_dict[t]) for t in row['dataset_tasks'] if t in task_category_dict]\n",
    "    ah=[]\n",
    "    [ ah.extend(parent_child_dict[t]) for t in row['dataset_tasks'] if t in parent_child_dict]\n",
    "    asib=[]\n",
    "    [ asib.extend(sibling_dict[t]) for t in row['dataset_tasks'] if t in sibling_dict]\n",
    "    all_parents.append(ap)\n",
    "    all_categories.append(ac)\n",
    "    all_children.append(ah)\n",
    "    all_siblings.append(asib)\n",
    "datasets['dataset_tasks_parents']=all_parents\n",
    "datasets['dataset_tasks_categories']=all_categories\n",
    "datasets['dataset_tasks_children']=all_children\n",
    "datasets['dataset_tasks_siblings']=all_siblings\n",
    "datasets.to_json('./dataset_with_tasks.json')\n",
    "\n",
    "\n",
    "\n",
    "# THE PAPER AFFILIATION FOR THIS DATASET IS TOTALLY MESSEDUP\n",
    "datasets=datasets[datasets.name!='PRID2011']\n",
    "\n",
    "\n",
    "#datasets['introduced_date']=pd.to_datetime(datasets['introduced_date'])\n",
    "datasets_pwc_total=pd.merge(datasets,pwc_papers_task,on=['title','paper_url'],how='left')\n",
    "datasets_pwc_total.to_json('./DatawithTasks/datasets_total.json')\n",
    "\n",
    "print(\"DATASETS\",datasets['name'].drop_duplicates().shape)\n",
    "datasets_pwc=pd.merge(datasets,pwc_papers_task,on=['title','paper_url'])\n",
    "#datasets_pwc['all_tasks']=datasets_pwc.apply(lambda row: list(set(row['all_tasks']+row['dataset_tasks'])) if row['name'] in manual_dict else row['all_tasks'],axis=1)\n",
    "\n",
    "print(\"DATASETS_PWC\",datasets_pwc['name'].drop_duplicates().shape)\n",
    "missing_papers=dataset_citing_papers[~dataset_citing_papers.title.isin(dataset_citing_papers_pwc.title)]\n",
    "print(\"MISSING DATASET CITING PAPERS\",missing_papers['title'].drop_duplicates().shape)\n",
    "datasets_pwc.to_json('./DatawithTasks/datasets_pwc.json')\n",
    "\n"
   ]
  },
  {
   "cell_type": "code",
   "execution_count": 8,
   "id": "bbd85c82-04e9-4df2-85fb-ef70535e07f4",
   "metadata": {},
   "outputs": [
    {
     "data": {
      "text/html": [
       "<div>\n",
       "<style scoped>\n",
       "    .dataframe tbody tr th:only-of-type {\n",
       "        vertical-align: middle;\n",
       "    }\n",
       "\n",
       "    .dataframe tbody tr th {\n",
       "        vertical-align: top;\n",
       "    }\n",
       "\n",
       "    .dataframe thead th {\n",
       "        text-align: right;\n",
       "    }\n",
       "</style>\n",
       "<table border=\"1\" class=\"dataframe\">\n",
       "  <thead>\n",
       "    <tr style=\"text-align: right;\">\n",
       "      <th></th>\n",
       "      <th>name</th>\n",
       "      <th>pwc_dataset_id</th>\n",
       "      <th>title</th>\n",
       "      <th>date</th>\n",
       "      <th>is_problematic</th>\n",
       "      <th>paper_count</th>\n",
       "      <th>task</th>\n",
       "      <th>categories</th>\n",
       "      <th>parents</th>\n",
       "      <th>children</th>\n",
       "      <th>siblings</th>\n",
       "      <th>pdf_url</th>\n",
       "      <th>paper_url</th>\n",
       "      <th>all_tasks</th>\n",
       "      <th>all_parents</th>\n",
       "      <th>all_children</th>\n",
       "      <th>all_siblings</th>\n",
       "      <th>all_categories</th>\n",
       "    </tr>\n",
       "  </thead>\n",
       "  <tbody>\n",
       "    <tr>\n",
       "      <th>47</th>\n",
       "      <td>MNIST</td>\n",
       "      <td>1</td>\n",
       "      <td>Sparse, Collaborative, or Nonnegative Represen...</td>\n",
       "      <td>2018-06-12</td>\n",
       "      <td>False</td>\n",
       "      <td>4159</td>\n",
       "      <td>Face Recognition</td>\n",
       "      <td>[Computer Vision]</td>\n",
       "      <td>[Facial Recognition and Modelling]</td>\n",
       "      <td>[Age-Invariant Face Recognition, Face Quality ...</td>\n",
       "      <td>[Robust Face Alignment, Gender Prediction, Fac...</td>\n",
       "      <td>http://arxiv.org/pdf/1806.04329v2.pdf</td>\n",
       "      <td>https://paperswithcode.com/paper/sparse-collab...</td>\n",
       "      <td>[Face Recognition, General Classification]</td>\n",
       "      <td>[Facial Recognition and Modelling]</td>\n",
       "      <td>[Age-Invariant Face Recognition, Constructive ...</td>\n",
       "      <td>[Robust Face Alignment, Gender Prediction, Fac...</td>\n",
       "      <td>[Methodology, Natural Language Processing, Com...</td>\n",
       "    </tr>\n",
       "    <tr>\n",
       "      <th>49</th>\n",
       "      <td>CUB-200-2011</td>\n",
       "      <td>109</td>\n",
       "      <td>Sparse, Collaborative, or Nonnegative Represen...</td>\n",
       "      <td>2018-06-12</td>\n",
       "      <td>False</td>\n",
       "      <td>920</td>\n",
       "      <td>Face Recognition</td>\n",
       "      <td>[Computer Vision]</td>\n",
       "      <td>[Facial Recognition and Modelling]</td>\n",
       "      <td>[Age-Invariant Face Recognition, Face Quality ...</td>\n",
       "      <td>[Robust Face Alignment, Gender Prediction, Fac...</td>\n",
       "      <td>http://arxiv.org/pdf/1806.04329v2.pdf</td>\n",
       "      <td>https://paperswithcode.com/paper/sparse-collab...</td>\n",
       "      <td>[Face Recognition, General Classification]</td>\n",
       "      <td>[Facial Recognition and Modelling]</td>\n",
       "      <td>[Age-Invariant Face Recognition, Constructive ...</td>\n",
       "      <td>[Robust Face Alignment, Gender Prediction, Fac...</td>\n",
       "      <td>[Methodology, Natural Language Processing, Com...</td>\n",
       "    </tr>\n",
       "    <tr>\n",
       "      <th>51</th>\n",
       "      <td>USPS</td>\n",
       "      <td>1055</td>\n",
       "      <td>Sparse, Collaborative, or Nonnegative Represen...</td>\n",
       "      <td>2018-06-12</td>\n",
       "      <td>False</td>\n",
       "      <td>254</td>\n",
       "      <td>Face Recognition</td>\n",
       "      <td>[Computer Vision]</td>\n",
       "      <td>[Facial Recognition and Modelling]</td>\n",
       "      <td>[Age-Invariant Face Recognition, Face Quality ...</td>\n",
       "      <td>[Robust Face Alignment, Gender Prediction, Fac...</td>\n",
       "      <td>http://arxiv.org/pdf/1806.04329v2.pdf</td>\n",
       "      <td>https://paperswithcode.com/paper/sparse-collab...</td>\n",
       "      <td>[Face Recognition, General Classification]</td>\n",
       "      <td>[Facial Recognition and Modelling]</td>\n",
       "      <td>[Age-Invariant Face Recognition, Constructive ...</td>\n",
       "      <td>[Robust Face Alignment, Gender Prediction, Fac...</td>\n",
       "      <td>[Methodology, Natural Language Processing, Com...</td>\n",
       "    </tr>\n",
       "    <tr>\n",
       "      <th>53</th>\n",
       "      <td>Caltech-256</td>\n",
       "      <td>1595</td>\n",
       "      <td>Sparse, Collaborative, or Nonnegative Represen...</td>\n",
       "      <td>2018-06-12</td>\n",
       "      <td>False</td>\n",
       "      <td>264</td>\n",
       "      <td>Face Recognition</td>\n",
       "      <td>[Computer Vision]</td>\n",
       "      <td>[Facial Recognition and Modelling]</td>\n",
       "      <td>[Age-Invariant Face Recognition, Face Quality ...</td>\n",
       "      <td>[Robust Face Alignment, Gender Prediction, Fac...</td>\n",
       "      <td>http://arxiv.org/pdf/1806.04329v2.pdf</td>\n",
       "      <td>https://paperswithcode.com/paper/sparse-collab...</td>\n",
       "      <td>[Face Recognition, General Classification]</td>\n",
       "      <td>[Facial Recognition and Modelling]</td>\n",
       "      <td>[Age-Invariant Face Recognition, Constructive ...</td>\n",
       "      <td>[Robust Face Alignment, Gender Prediction, Fac...</td>\n",
       "      <td>[Methodology, Natural Language Processing, Com...</td>\n",
       "    </tr>\n",
       "    <tr>\n",
       "      <th>55</th>\n",
       "      <td>Extended Yale B</td>\n",
       "      <td>3537</td>\n",
       "      <td>Sparse, Collaborative, or Nonnegative Represen...</td>\n",
       "      <td>2018-06-12</td>\n",
       "      <td>False</td>\n",
       "      <td>167</td>\n",
       "      <td>Face Recognition</td>\n",
       "      <td>[Computer Vision]</td>\n",
       "      <td>[Facial Recognition and Modelling]</td>\n",
       "      <td>[Age-Invariant Face Recognition, Face Quality ...</td>\n",
       "      <td>[Robust Face Alignment, Gender Prediction, Fac...</td>\n",
       "      <td>http://arxiv.org/pdf/1806.04329v2.pdf</td>\n",
       "      <td>https://paperswithcode.com/paper/sparse-collab...</td>\n",
       "      <td>[Face Recognition, General Classification]</td>\n",
       "      <td>[Facial Recognition and Modelling]</td>\n",
       "      <td>[Age-Invariant Face Recognition, Constructive ...</td>\n",
       "      <td>[Robust Face Alignment, Gender Prediction, Fac...</td>\n",
       "      <td>[Methodology, Natural Language Processing, Com...</td>\n",
       "    </tr>\n",
       "    <tr>\n",
       "      <th>...</th>\n",
       "      <td>...</td>\n",
       "      <td>...</td>\n",
       "      <td>...</td>\n",
       "      <td>...</td>\n",
       "      <td>...</td>\n",
       "      <td>...</td>\n",
       "      <td>...</td>\n",
       "      <td>...</td>\n",
       "      <td>...</td>\n",
       "      <td>...</td>\n",
       "      <td>...</td>\n",
       "      <td>...</td>\n",
       "      <td>...</td>\n",
       "      <td>...</td>\n",
       "      <td>...</td>\n",
       "      <td>...</td>\n",
       "      <td>...</td>\n",
       "      <td>...</td>\n",
       "    </tr>\n",
       "    <tr>\n",
       "      <th>213387</th>\n",
       "      <td>Visual Question Answering</td>\n",
       "      <td>5565</td>\n",
       "      <td>Loss-rescaling VQA: Revisiting Language Prior ...</td>\n",
       "      <td>2020-10-30</td>\n",
       "      <td>False</td>\n",
       "      <td>773</td>\n",
       "      <td>Face Recognition</td>\n",
       "      <td>[Computer Vision]</td>\n",
       "      <td>[Facial Recognition and Modelling]</td>\n",
       "      <td>[Age-Invariant Face Recognition, Face Quality ...</td>\n",
       "      <td>[Robust Face Alignment, Gender Prediction, Fac...</td>\n",
       "      <td>https://arxiv.org/pdf/2010.16010v1.pdf</td>\n",
       "      <td>https://paperswithcode.com/paper/loss-rescalin...</td>\n",
       "      <td>[Face Recognition, Image Classification, Quest...</td>\n",
       "      <td>[Facial Recognition and Modelling]</td>\n",
       "      <td>[Logical Reasoning Question Answering, Face Qu...</td>\n",
       "      <td>[Robust Face Alignment, Gender Prediction, Fac...</td>\n",
       "      <td>[Methodology, Natural Language Processing, Com...</td>\n",
       "    </tr>\n",
       "    <tr>\n",
       "      <th>213391</th>\n",
       "      <td>Visual Question Answering v2.0</td>\n",
       "      <td>5845</td>\n",
       "      <td>Loss-rescaling VQA: Revisiting Language Prior ...</td>\n",
       "      <td>2020-10-30</td>\n",
       "      <td>False</td>\n",
       "      <td>149</td>\n",
       "      <td>Face Recognition</td>\n",
       "      <td>[Computer Vision]</td>\n",
       "      <td>[Facial Recognition and Modelling]</td>\n",
       "      <td>[Age-Invariant Face Recognition, Face Quality ...</td>\n",
       "      <td>[Robust Face Alignment, Gender Prediction, Fac...</td>\n",
       "      <td>https://arxiv.org/pdf/2010.16010v1.pdf</td>\n",
       "      <td>https://paperswithcode.com/paper/loss-rescalin...</td>\n",
       "      <td>[Face Recognition, Image Classification, Quest...</td>\n",
       "      <td>[Facial Recognition and Modelling]</td>\n",
       "      <td>[Logical Reasoning Question Answering, Face Qu...</td>\n",
       "      <td>[Robust Face Alignment, Gender Prediction, Fac...</td>\n",
       "      <td>[Methodology, Natural Language Processing, Com...</td>\n",
       "    </tr>\n",
       "    <tr>\n",
       "      <th>214080</th>\n",
       "      <td>WildestFaces</td>\n",
       "      <td>5814</td>\n",
       "      <td>Red Carpet to Fight Club: Partially-supervised...</td>\n",
       "      <td>2020-09-16</td>\n",
       "      <td>False</td>\n",
       "      <td>1</td>\n",
       "      <td>Face Recognition</td>\n",
       "      <td>[Computer Vision]</td>\n",
       "      <td>[Facial Recognition and Modelling]</td>\n",
       "      <td>[Age-Invariant Face Recognition, Face Quality ...</td>\n",
       "      <td>[Robust Face Alignment, Gender Prediction, Fac...</td>\n",
       "      <td>https://arxiv.org/pdf/2009.07576v1.pdf</td>\n",
       "      <td>https://paperswithcode.com/paper/red-carpet-to...</td>\n",
       "      <td>[Face Recognition]</td>\n",
       "      <td>[Facial Recognition and Modelling]</td>\n",
       "      <td>[Age-Invariant Face Recognition, Face Quality ...</td>\n",
       "      <td>[Robust Face Alignment, Gender Prediction, Fac...</td>\n",
       "      <td>[Computer Vision]</td>\n",
       "    </tr>\n",
       "    <tr>\n",
       "      <th>214271</th>\n",
       "      <td>HQ-WMCA</td>\n",
       "      <td>5918</td>\n",
       "      <td>On the Effectiveness of Vision Transformers fo...</td>\n",
       "      <td>2020-11-16</td>\n",
       "      <td>False</td>\n",
       "      <td>4</td>\n",
       "      <td>Face Recognition</td>\n",
       "      <td>[Computer Vision]</td>\n",
       "      <td>[Facial Recognition and Modelling]</td>\n",
       "      <td>[Age-Invariant Face Recognition, Face Quality ...</td>\n",
       "      <td>[Robust Face Alignment, Gender Prediction, Fac...</td>\n",
       "      <td>https://arxiv.org/pdf/2011.08019v2.pdf</td>\n",
       "      <td>https://paperswithcode.com/paper/on-the-effect...</td>\n",
       "      <td>[Face Anti-Spoofing, Face Recognition, Transfe...</td>\n",
       "      <td>[Facial Recognition and Modelling]</td>\n",
       "      <td>[Unsupervised Domain Expansion, Face Quality A...</td>\n",
       "      <td>[Robust Face Alignment, Gender Prediction, Fac...</td>\n",
       "      <td>[Methodology, Computer Vision]</td>\n",
       "    </tr>\n",
       "    <tr>\n",
       "      <th>215740</th>\n",
       "      <td>HDA Facial Tattoo and Painting Database</td>\n",
       "      <td>6310</td>\n",
       "      <td>Impact of Facial Tattoos and Paintings on Face...</td>\n",
       "      <td>2021-03-17</td>\n",
       "      <td>False</td>\n",
       "      <td>1</td>\n",
       "      <td>Face Recognition</td>\n",
       "      <td>[Computer Vision]</td>\n",
       "      <td>[Facial Recognition and Modelling]</td>\n",
       "      <td>[Age-Invariant Face Recognition, Face Quality ...</td>\n",
       "      <td>[Robust Face Alignment, Gender Prediction, Fac...</td>\n",
       "      <td>https://arxiv.org/pdf/2103.09939v2.pdf</td>\n",
       "      <td>https://paperswithcode.com/paper/impact-of-fac...</td>\n",
       "      <td>[Face Recognition]</td>\n",
       "      <td>[Facial Recognition and Modelling]</td>\n",
       "      <td>[Age-Invariant Face Recognition, Face Quality ...</td>\n",
       "      <td>[Robust Face Alignment, Gender Prediction, Fac...</td>\n",
       "      <td>[Computer Vision]</td>\n",
       "    </tr>\n",
       "  </tbody>\n",
       "</table>\n",
       "<p>2380 rows × 18 columns</p>\n",
       "</div>"
      ],
      "text/plain": [
       "                                           name  pwc_dataset_id  \\\n",
       "47                                        MNIST               1   \n",
       "49                                 CUB-200-2011             109   \n",
       "51                                         USPS            1055   \n",
       "53                                  Caltech-256            1595   \n",
       "55                              Extended Yale B            3537   \n",
       "...                                         ...             ...   \n",
       "213387                Visual Question Answering            5565   \n",
       "213391           Visual Question Answering v2.0            5845   \n",
       "214080                             WildestFaces            5814   \n",
       "214271                                  HQ-WMCA            5918   \n",
       "215740  HDA Facial Tattoo and Painting Database            6310   \n",
       "\n",
       "                                                    title       date  \\\n",
       "47      Sparse, Collaborative, or Nonnegative Represen... 2018-06-12   \n",
       "49      Sparse, Collaborative, or Nonnegative Represen... 2018-06-12   \n",
       "51      Sparse, Collaborative, or Nonnegative Represen... 2018-06-12   \n",
       "53      Sparse, Collaborative, or Nonnegative Represen... 2018-06-12   \n",
       "55      Sparse, Collaborative, or Nonnegative Represen... 2018-06-12   \n",
       "...                                                   ...        ...   \n",
       "213387  Loss-rescaling VQA: Revisiting Language Prior ... 2020-10-30   \n",
       "213391  Loss-rescaling VQA: Revisiting Language Prior ... 2020-10-30   \n",
       "214080  Red Carpet to Fight Club: Partially-supervised... 2020-09-16   \n",
       "214271  On the Effectiveness of Vision Transformers fo... 2020-11-16   \n",
       "215740  Impact of Facial Tattoos and Paintings on Face... 2021-03-17   \n",
       "\n",
       "        is_problematic  paper_count              task         categories  \\\n",
       "47               False         4159  Face Recognition  [Computer Vision]   \n",
       "49               False          920  Face Recognition  [Computer Vision]   \n",
       "51               False          254  Face Recognition  [Computer Vision]   \n",
       "53               False          264  Face Recognition  [Computer Vision]   \n",
       "55               False          167  Face Recognition  [Computer Vision]   \n",
       "...                ...          ...               ...                ...   \n",
       "213387           False          773  Face Recognition  [Computer Vision]   \n",
       "213391           False          149  Face Recognition  [Computer Vision]   \n",
       "214080           False            1  Face Recognition  [Computer Vision]   \n",
       "214271           False            4  Face Recognition  [Computer Vision]   \n",
       "215740           False            1  Face Recognition  [Computer Vision]   \n",
       "\n",
       "                                   parents  \\\n",
       "47      [Facial Recognition and Modelling]   \n",
       "49      [Facial Recognition and Modelling]   \n",
       "51      [Facial Recognition and Modelling]   \n",
       "53      [Facial Recognition and Modelling]   \n",
       "55      [Facial Recognition and Modelling]   \n",
       "...                                    ...   \n",
       "213387  [Facial Recognition and Modelling]   \n",
       "213391  [Facial Recognition and Modelling]   \n",
       "214080  [Facial Recognition and Modelling]   \n",
       "214271  [Facial Recognition and Modelling]   \n",
       "215740  [Facial Recognition and Modelling]   \n",
       "\n",
       "                                                 children  \\\n",
       "47      [Age-Invariant Face Recognition, Face Quality ...   \n",
       "49      [Age-Invariant Face Recognition, Face Quality ...   \n",
       "51      [Age-Invariant Face Recognition, Face Quality ...   \n",
       "53      [Age-Invariant Face Recognition, Face Quality ...   \n",
       "55      [Age-Invariant Face Recognition, Face Quality ...   \n",
       "...                                                   ...   \n",
       "213387  [Age-Invariant Face Recognition, Face Quality ...   \n",
       "213391  [Age-Invariant Face Recognition, Face Quality ...   \n",
       "214080  [Age-Invariant Face Recognition, Face Quality ...   \n",
       "214271  [Age-Invariant Face Recognition, Face Quality ...   \n",
       "215740  [Age-Invariant Face Recognition, Face Quality ...   \n",
       "\n",
       "                                                 siblings  \\\n",
       "47      [Robust Face Alignment, Gender Prediction, Fac...   \n",
       "49      [Robust Face Alignment, Gender Prediction, Fac...   \n",
       "51      [Robust Face Alignment, Gender Prediction, Fac...   \n",
       "53      [Robust Face Alignment, Gender Prediction, Fac...   \n",
       "55      [Robust Face Alignment, Gender Prediction, Fac...   \n",
       "...                                                   ...   \n",
       "213387  [Robust Face Alignment, Gender Prediction, Fac...   \n",
       "213391  [Robust Face Alignment, Gender Prediction, Fac...   \n",
       "214080  [Robust Face Alignment, Gender Prediction, Fac...   \n",
       "214271  [Robust Face Alignment, Gender Prediction, Fac...   \n",
       "215740  [Robust Face Alignment, Gender Prediction, Fac...   \n",
       "\n",
       "                                       pdf_url  \\\n",
       "47       http://arxiv.org/pdf/1806.04329v2.pdf   \n",
       "49       http://arxiv.org/pdf/1806.04329v2.pdf   \n",
       "51       http://arxiv.org/pdf/1806.04329v2.pdf   \n",
       "53       http://arxiv.org/pdf/1806.04329v2.pdf   \n",
       "55       http://arxiv.org/pdf/1806.04329v2.pdf   \n",
       "...                                        ...   \n",
       "213387  https://arxiv.org/pdf/2010.16010v1.pdf   \n",
       "213391  https://arxiv.org/pdf/2010.16010v1.pdf   \n",
       "214080  https://arxiv.org/pdf/2009.07576v1.pdf   \n",
       "214271  https://arxiv.org/pdf/2011.08019v2.pdf   \n",
       "215740  https://arxiv.org/pdf/2103.09939v2.pdf   \n",
       "\n",
       "                                                paper_url  \\\n",
       "47      https://paperswithcode.com/paper/sparse-collab...   \n",
       "49      https://paperswithcode.com/paper/sparse-collab...   \n",
       "51      https://paperswithcode.com/paper/sparse-collab...   \n",
       "53      https://paperswithcode.com/paper/sparse-collab...   \n",
       "55      https://paperswithcode.com/paper/sparse-collab...   \n",
       "...                                                   ...   \n",
       "213387  https://paperswithcode.com/paper/loss-rescalin...   \n",
       "213391  https://paperswithcode.com/paper/loss-rescalin...   \n",
       "214080  https://paperswithcode.com/paper/red-carpet-to...   \n",
       "214271  https://paperswithcode.com/paper/on-the-effect...   \n",
       "215740  https://paperswithcode.com/paper/impact-of-fac...   \n",
       "\n",
       "                                                all_tasks  \\\n",
       "47             [Face Recognition, General Classification]   \n",
       "49             [Face Recognition, General Classification]   \n",
       "51             [Face Recognition, General Classification]   \n",
       "53             [Face Recognition, General Classification]   \n",
       "55             [Face Recognition, General Classification]   \n",
       "...                                                   ...   \n",
       "213387  [Face Recognition, Image Classification, Quest...   \n",
       "213391  [Face Recognition, Image Classification, Quest...   \n",
       "214080                                 [Face Recognition]   \n",
       "214271  [Face Anti-Spoofing, Face Recognition, Transfe...   \n",
       "215740                                 [Face Recognition]   \n",
       "\n",
       "                               all_parents  \\\n",
       "47      [Facial Recognition and Modelling]   \n",
       "49      [Facial Recognition and Modelling]   \n",
       "51      [Facial Recognition and Modelling]   \n",
       "53      [Facial Recognition and Modelling]   \n",
       "55      [Facial Recognition and Modelling]   \n",
       "...                                    ...   \n",
       "213387  [Facial Recognition and Modelling]   \n",
       "213391  [Facial Recognition and Modelling]   \n",
       "214080  [Facial Recognition and Modelling]   \n",
       "214271  [Facial Recognition and Modelling]   \n",
       "215740  [Facial Recognition and Modelling]   \n",
       "\n",
       "                                             all_children  \\\n",
       "47      [Age-Invariant Face Recognition, Constructive ...   \n",
       "49      [Age-Invariant Face Recognition, Constructive ...   \n",
       "51      [Age-Invariant Face Recognition, Constructive ...   \n",
       "53      [Age-Invariant Face Recognition, Constructive ...   \n",
       "55      [Age-Invariant Face Recognition, Constructive ...   \n",
       "...                                                   ...   \n",
       "213387  [Logical Reasoning Question Answering, Face Qu...   \n",
       "213391  [Logical Reasoning Question Answering, Face Qu...   \n",
       "214080  [Age-Invariant Face Recognition, Face Quality ...   \n",
       "214271  [Unsupervised Domain Expansion, Face Quality A...   \n",
       "215740  [Age-Invariant Face Recognition, Face Quality ...   \n",
       "\n",
       "                                             all_siblings  \\\n",
       "47      [Robust Face Alignment, Gender Prediction, Fac...   \n",
       "49      [Robust Face Alignment, Gender Prediction, Fac...   \n",
       "51      [Robust Face Alignment, Gender Prediction, Fac...   \n",
       "53      [Robust Face Alignment, Gender Prediction, Fac...   \n",
       "55      [Robust Face Alignment, Gender Prediction, Fac...   \n",
       "...                                                   ...   \n",
       "213387  [Robust Face Alignment, Gender Prediction, Fac...   \n",
       "213391  [Robust Face Alignment, Gender Prediction, Fac...   \n",
       "214080  [Robust Face Alignment, Gender Prediction, Fac...   \n",
       "214271  [Robust Face Alignment, Gender Prediction, Fac...   \n",
       "215740  [Robust Face Alignment, Gender Prediction, Fac...   \n",
       "\n",
       "                                           all_categories  \n",
       "47      [Methodology, Natural Language Processing, Com...  \n",
       "49      [Methodology, Natural Language Processing, Com...  \n",
       "51      [Methodology, Natural Language Processing, Com...  \n",
       "53      [Methodology, Natural Language Processing, Com...  \n",
       "55      [Methodology, Natural Language Processing, Com...  \n",
       "...                                                   ...  \n",
       "213387  [Methodology, Natural Language Processing, Com...  \n",
       "213391  [Methodology, Natural Language Processing, Com...  \n",
       "214080                                  [Computer Vision]  \n",
       "214271                     [Methodology, Computer Vision]  \n",
       "215740                                  [Computer Vision]  \n",
       "\n",
       "[2380 rows x 18 columns]"
      ]
     },
     "execution_count": 8,
     "metadata": {},
     "output_type": "execute_result"
    }
   ],
   "source": [
    "linked_Titles=pd.read_csv('/home/bkoch/Projects/DataProject/analyses/04-PWC/PWC_2021_06_16/PWC_Linkedto_MAG.PWC_Title.txt',sep='\\t')\n",
    "pwc_papers[pwc_papers.task=='Face Recognition'].title.isin(linked_Titles.PWC_Title).sum()\n",
    "datasets_pwc[datasets_pwc.dataset_tasks.apply(lambda x: \"Face Recognition\" in x)]\n",
    "dataset_citing_papers_pwc[dataset_citing_papers_pwc.task.apply(lambda x: \"Face Recognition\" in x)]"
   ]
  },
  {
   "cell_type": "code",
   "execution_count": 63,
   "id": "5d214674-c38f-4cf9-b072-1426e7dd22df",
   "metadata": {},
   "outputs": [
    {
     "data": {
      "text/html": [
       "<div>\n",
       "<style scoped>\n",
       "    .dataframe tbody tr th:only-of-type {\n",
       "        vertical-align: middle;\n",
       "    }\n",
       "\n",
       "    .dataframe tbody tr th {\n",
       "        vertical-align: top;\n",
       "    }\n",
       "\n",
       "    .dataframe thead th {\n",
       "        text-align: right;\n",
       "    }\n",
       "</style>\n",
       "<table border=\"1\" class=\"dataframe\">\n",
       "  <thead>\n",
       "    <tr style=\"text-align: right;\">\n",
       "      <th></th>\n",
       "      <th>url</th>\n",
       "      <th>name</th>\n",
       "      <th>full_name</th>\n",
       "      <th>homepage</th>\n",
       "      <th>description</th>\n",
       "      <th>introduced_date</th>\n",
       "      <th>warning</th>\n",
       "      <th>modalities</th>\n",
       "      <th>languages</th>\n",
       "      <th>variants</th>\n",
       "      <th>...</th>\n",
       "      <th>data_loaders</th>\n",
       "      <th>title</th>\n",
       "      <th>paper_url</th>\n",
       "      <th>Texts</th>\n",
       "      <th>Images</th>\n",
       "      <th>dataset_tasks</th>\n",
       "      <th>dataset_tasks_parents</th>\n",
       "      <th>dataset_tasks_categories</th>\n",
       "      <th>dataset_tasks_children</th>\n",
       "      <th>dataset_tasks_siblings</th>\n",
       "    </tr>\n",
       "  </thead>\n",
       "  <tbody>\n",
       "    <tr>\n",
       "      <th>8</th>\n",
       "      <td>https://paperswithcode.com/dataset/lfw</td>\n",
       "      <td>LFW</td>\n",
       "      <td>Labeled Faces in the Wild</td>\n",
       "      <td>http://vis-www.cs.umass.edu/lfw/</td>\n",
       "      <td>The **LFW** dataset contains 13,233 images of ...</td>\n",
       "      <td>NaT</td>\n",
       "      <td>None</td>\n",
       "      <td>[Images]</td>\n",
       "      <td>[]</td>\n",
       "      <td>[LFW, Labeled Faces in the Wild, LFW (Online O...</td>\n",
       "      <td>...</td>\n",
       "      <td>[{'url': 'https://www.tensorflow.org/datasets/...</td>\n",
       "      <td>Labeled faces in the wild: A database for stud...</td>\n",
       "      <td>http://vis-www.cs.umass.edu/lfw/lfw.pdf</td>\n",
       "      <td>False</td>\n",
       "      <td>True</td>\n",
       "      <td>[3D FACE MODELING, Face Verification, Face Rec...</td>\n",
       "      <td>[3D, Facial Recognition and Modelling, 3D, Fac...</td>\n",
       "      <td>[Computer Vision, Computer Vision, Computer Vi...</td>\n",
       "      <td>[Facial Recognition and Modelling, Disguised F...</td>\n",
       "      <td>[Video Reconstruction, 3D Shape Generation, 3D...</td>\n",
       "    </tr>\n",
       "    <tr>\n",
       "      <th>468</th>\n",
       "      <td>https://paperswithcode.com/dataset/adience</td>\n",
       "      <td>Adience</td>\n",
       "      <td></td>\n",
       "      <td>https://talhassner.github.io/home/projects/Adi...</td>\n",
       "      <td>The **Adience** dataset, published in 2014, co...</td>\n",
       "      <td>2014-01-01</td>\n",
       "      <td>None</td>\n",
       "      <td>[Images]</td>\n",
       "      <td>[]</td>\n",
       "      <td>[Adience, Adience Age, Adience Gender, Adience...</td>\n",
       "      <td>...</td>\n",
       "      <td>[]</td>\n",
       "      <td>Age and Gender Estimation of Unfiltered Faces</td>\n",
       "      <td>https://doi.org/10.1109/TIFS.2014.2359646</td>\n",
       "      <td>False</td>\n",
       "      <td>True</td>\n",
       "      <td>[Face Recognition, Age And Gender Classificati...</td>\n",
       "      <td>[Facial Recognition and Modelling, Facial Reco...</td>\n",
       "      <td>[Computer Vision]</td>\n",
       "      <td>[Age-Invariant Face Recognition, Face Quality ...</td>\n",
       "      <td>[Facial Inpainting, Action Unit Detection, Fac...</td>\n",
       "    </tr>\n",
       "    <tr>\n",
       "      <th>601</th>\n",
       "      <td>https://paperswithcode.com/dataset/multi-pie</td>\n",
       "      <td>Multi-PIE</td>\n",
       "      <td></td>\n",
       "      <td>http://www.cs.cmu.edu/afs/cs/project/PIE/Multi...</td>\n",
       "      <td>The **Multi-PIE** (Multi Pose, Illumination, E...</td>\n",
       "      <td>2008-01-01</td>\n",
       "      <td>None</td>\n",
       "      <td>[Images]</td>\n",
       "      <td>[]</td>\n",
       "      <td>[Multi-PIE]</td>\n",
       "      <td>...</td>\n",
       "      <td>[]</td>\n",
       "      <td>Multi-PIE</td>\n",
       "      <td>https://doi.org/10.1109/AFGR.2008.4813399</td>\n",
       "      <td>False</td>\n",
       "      <td>True</td>\n",
       "      <td>[Single-Image Portrait Relighting, Face Recogn...</td>\n",
       "      <td>[Facial Recognition and Modelling]</td>\n",
       "      <td>[Computer Code, Computer Vision]</td>\n",
       "      <td>[Age-Invariant Face Recognition, Face Quality ...</td>\n",
       "      <td>[Facial Inpainting, Action Unit Detection, Fac...</td>\n",
       "    </tr>\n",
       "    <tr>\n",
       "      <th>788</th>\n",
       "      <td>https://paperswithcode.com/dataset/vgg-face-1</td>\n",
       "      <td>VGG Face</td>\n",
       "      <td></td>\n",
       "      <td>https://www.robots.ox.ac.uk/~vgg/data/vgg_face/</td>\n",
       "      <td>The **VGG Face** dataset is face identity reco...</td>\n",
       "      <td>2015-01-01</td>\n",
       "      <td>None</td>\n",
       "      <td>[Images]</td>\n",
       "      <td>[]</td>\n",
       "      <td>[VGG Face]</td>\n",
       "      <td>...</td>\n",
       "      <td>[]</td>\n",
       "      <td>Deep Face Recognition</td>\n",
       "      <td>https://doi.org/10.5244/C.29.41</td>\n",
       "      <td>False</td>\n",
       "      <td>True</td>\n",
       "      <td>[Domain Adaptation, Face Verification, Face Re...</td>\n",
       "      <td>[Facial Recognition and Modelling, 3D, Facial ...</td>\n",
       "      <td>[Computer Vision, Methodology, Computer Vision...</td>\n",
       "      <td>[Unsupervised Domain Adaptation, Domain Genera...</td>\n",
       "      <td>[Facial Inpainting, Video Reconstruction, Acti...</td>\n",
       "    </tr>\n",
       "    <tr>\n",
       "      <th>790</th>\n",
       "      <td>https://paperswithcode.com/dataset/casia-webface</td>\n",
       "      <td>CASIA-WebFace</td>\n",
       "      <td></td>\n",
       "      <td></td>\n",
       "      <td>The **CASIA-WebFace** dataset is used for face...</td>\n",
       "      <td>2014-01-01</td>\n",
       "      <td>None</td>\n",
       "      <td>[Images]</td>\n",
       "      <td>[]</td>\n",
       "      <td>[WebFace, WebFace - 8x upscaling, CASIA-WebFace]</td>\n",
       "      <td>...</td>\n",
       "      <td>[]</td>\n",
       "      <td>Learning Face Representation from Scratch</td>\n",
       "      <td>https://paperswithcode.com/paper/learning-face...</td>\n",
       "      <td>False</td>\n",
       "      <td>True</td>\n",
       "      <td>[Image Super-Resolution, Face Verification, Fa...</td>\n",
       "      <td>[Super-Resolution, Facial Recognition and Mode...</td>\n",
       "      <td>[Audio, Computer Vision, Computer Vision, Comp...</td>\n",
       "      <td>[Multi-Frame Super-Resolution, Audio Super-Res...</td>\n",
       "      <td>[Depth Map Super-Resolution, Image Super-Resol...</td>\n",
       "    </tr>\n",
       "    <tr>\n",
       "      <th>792</th>\n",
       "      <td>https://paperswithcode.com/dataset/ms-celeb-1m</td>\n",
       "      <td>MS-Celeb-1M</td>\n",
       "      <td></td>\n",
       "      <td>None</td>\n",
       "      <td>The **MS-Celeb-1M** dataset is a large-scale f...</td>\n",
       "      <td>2016-01-01</td>\n",
       "      <td>None</td>\n",
       "      <td>[Images]</td>\n",
       "      <td>[]</td>\n",
       "      <td>[MS-Celeb-1M]</td>\n",
       "      <td>...</td>\n",
       "      <td>[]</td>\n",
       "      <td>MS-Celeb-1M: A Dataset and Benchmark for Large...</td>\n",
       "      <td>https://paperswithcode.com/paper/ms-celeb-1m-a...</td>\n",
       "      <td>False</td>\n",
       "      <td>True</td>\n",
       "      <td>[Face Verification, Face Recognition, Face Ide...</td>\n",
       "      <td>[Facial Recognition and Modelling, 3D, Facial ...</td>\n",
       "      <td>[Computer Vision, Computer Vision]</td>\n",
       "      <td>[Disguised Face Verification, Age-Invariant Fa...</td>\n",
       "      <td>[Facial Inpainting, Video Reconstruction, Acti...</td>\n",
       "    </tr>\n",
       "    <tr>\n",
       "      <th>815</th>\n",
       "      <td>https://paperswithcode.com/dataset/extended-ya...</td>\n",
       "      <td>Extended Yale B</td>\n",
       "      <td></td>\n",
       "      <td>http://vision.ucsd.edu/~leekc/ExtYaleDatabase/...</td>\n",
       "      <td>The **Extended Yale B** database contains 2414...</td>\n",
       "      <td>2001-01-01</td>\n",
       "      <td>None</td>\n",
       "      <td>[Images]</td>\n",
       "      <td>[]</td>\n",
       "      <td>[Extended Yale-B, Extended Yale B]</td>\n",
       "      <td>...</td>\n",
       "      <td>[]</td>\n",
       "      <td>From Few to Many: Illumination Cone Models for...</td>\n",
       "      <td>https://doi.org/10.1109/34.927464</td>\n",
       "      <td>False</td>\n",
       "      <td>True</td>\n",
       "      <td>[Image Classification, Image Clustering, Face ...</td>\n",
       "      <td>[Facial Recognition and Modelling]</td>\n",
       "      <td>[Computer Vision, Methodology, Computer Vision...</td>\n",
       "      <td>[Few-Shot Image Classification, Fine-Grained I...</td>\n",
       "      <td>[Facial Inpainting, Action Unit Detection, Fac...</td>\n",
       "    </tr>\n",
       "    <tr>\n",
       "      <th>955</th>\n",
       "      <td>https://paperswithcode.com/dataset/color-feret</td>\n",
       "      <td>Color FERET</td>\n",
       "      <td>Color FERET</td>\n",
       "      <td>https://catalog.data.gov/dataset/color-feret-d...</td>\n",
       "      <td>The color FERET database is a dataset for face...</td>\n",
       "      <td>1997-01-01</td>\n",
       "      <td>None</td>\n",
       "      <td>[Images]</td>\n",
       "      <td>[]</td>\n",
       "      <td>[Color FERET (Online Open Set), Color FERET]</td>\n",
       "      <td>...</td>\n",
       "      <td>[]</td>\n",
       "      <td>The FERET Evaluation Methodology for Face-Reco...</td>\n",
       "      <td>https://doi.org/10.1109/CVPR.1997.609311</td>\n",
       "      <td>False</td>\n",
       "      <td>True</td>\n",
       "      <td>[Face Recognition]</td>\n",
       "      <td>[Facial Recognition and Modelling]</td>\n",
       "      <td>[Computer Vision]</td>\n",
       "      <td>[Age-Invariant Face Recognition, Face Quality ...</td>\n",
       "      <td>[Facial Inpainting, Action Unit Detection, Fac...</td>\n",
       "    </tr>\n",
       "    <tr>\n",
       "      <th>968</th>\n",
       "      <td>https://paperswithcode.com/dataset/replay-mobi...</td>\n",
       "      <td>Replay-Mobile</td>\n",
       "      <td>Replay-Mobile</td>\n",
       "      <td>https://www.idiap.ch/dataset/replay-mobile</td>\n",
       "      <td>The **Replay-Mobile** Database for face spoofi...</td>\n",
       "      <td>2016-01-01</td>\n",
       "      <td>None</td>\n",
       "      <td>[Images, Videos]</td>\n",
       "      <td>[]</td>\n",
       "      <td>[Replay Mobile, Replay-Mobile]</td>\n",
       "      <td>...</td>\n",
       "      <td>[]</td>\n",
       "      <td>The Replay-Mobile Face Presentation-Attack Dat...</td>\n",
       "      <td>https://doi.org/10.1109/BIOSIG.2016.7736936</td>\n",
       "      <td>False</td>\n",
       "      <td>True</td>\n",
       "      <td>[Face Recognition, Face Anti-Spoofing, Face Pr...</td>\n",
       "      <td>[Facial Recognition and Modelling, Facial Reco...</td>\n",
       "      <td>[Computer Vision]</td>\n",
       "      <td>[Age-Invariant Face Recognition, Face Quality ...</td>\n",
       "      <td>[Facial Inpainting, Action Unit Detection, Fac...</td>\n",
       "    </tr>\n",
       "    <tr>\n",
       "      <th>975</th>\n",
       "      <td>https://paperswithcode.com/dataset/casia-fasd</td>\n",
       "      <td>CASIA-FASD</td>\n",
       "      <td>CASIA-FASD</td>\n",
       "      <td>https://pypi.org/project/bob.db.casia-fasd/</td>\n",
       "      <td>**CASIA-FASD** is a small face anti-spoofing d...</td>\n",
       "      <td>2012-01-01</td>\n",
       "      <td>None</td>\n",
       "      <td>[Images]</td>\n",
       "      <td>[]</td>\n",
       "      <td>[CASIA-FASD]</td>\n",
       "      <td>...</td>\n",
       "      <td>[]</td>\n",
       "      <td>A face antispoofing database with diverse attacks</td>\n",
       "      <td>https://doi.org/10.1109/ICB.2012.6199754</td>\n",
       "      <td>False</td>\n",
       "      <td>True</td>\n",
       "      <td>[Anomaly Detection, Face Recognition, Face Ant...</td>\n",
       "      <td>[Facial Recognition and Modelling, Facial Reco...</td>\n",
       "      <td>[Miscellaneous, Computer Vision, Speech, Metho...</td>\n",
       "      <td>[Unsupervised Anomaly Detection, Anomaly Detec...</td>\n",
       "      <td>[Facial Inpainting, Action Unit Detection, Fac...</td>\n",
       "    </tr>\n",
       "    <tr>\n",
       "      <th>995</th>\n",
       "      <td>https://paperswithcode.com/dataset/partial-reid</td>\n",
       "      <td>Partial-REID</td>\n",
       "      <td>Partial-REID</td>\n",
       "      <td>https://github.com/JDAI-CV/Partial-Person-ReID</td>\n",
       "      <td>Partial REID is a specially designed partial p...</td>\n",
       "      <td>2015-01-01</td>\n",
       "      <td>None</td>\n",
       "      <td>[Images]</td>\n",
       "      <td>[]</td>\n",
       "      <td>[Partial-REID]</td>\n",
       "      <td>...</td>\n",
       "      <td>[{'url': 'https://github.com/JDAI-CV/Partial-P...</td>\n",
       "      <td>Partial Person Re-Identification</td>\n",
       "      <td>https://paperswithcode.com/paper/partial-perso...</td>\n",
       "      <td>False</td>\n",
       "      <td>True</td>\n",
       "      <td>[Person Re-Identification, Face Recognition, D...</td>\n",
       "      <td>[Facial Recognition and Modelling]</td>\n",
       "      <td>[Computer Vision, Computer Vision, Methodology]</td>\n",
       "      <td>[Unsupervised Person Re-Identification, Video-...</td>\n",
       "      <td>[Facial Inpainting, Action Unit Detection, Fac...</td>\n",
       "    </tr>\n",
       "    <tr>\n",
       "      <th>1235</th>\n",
       "      <td>https://paperswithcode.com/dataset/iqiyi-vid</td>\n",
       "      <td>iQIYI-VID</td>\n",
       "      <td>iQIYI-VID</td>\n",
       "      <td>http://challenge.ai.iqiyi.com/detail?raceId=5a...</td>\n",
       "      <td>iQIYI-VID dataset, which comprises video clips...</td>\n",
       "      <td>2018-11-19</td>\n",
       "      <td>None</td>\n",
       "      <td>[Videos]</td>\n",
       "      <td>[]</td>\n",
       "      <td>[iQIYI-VID]</td>\n",
       "      <td>...</td>\n",
       "      <td>[]</td>\n",
       "      <td>iQIYI-VID: A Large Dataset for Multi-modal Per...</td>\n",
       "      <td>https://paperswithcode.com/paper/iqiyi-vid-a-l...</td>\n",
       "      <td>False</td>\n",
       "      <td>False</td>\n",
       "      <td>[Person Re-Identification, Face Recognition, P...</td>\n",
       "      <td>[Facial Recognition and Modelling]</td>\n",
       "      <td>[Computer Vision, Computer Vision, Computer Vi...</td>\n",
       "      <td>[Unsupervised Person Re-Identification, Video-...</td>\n",
       "      <td>[Facial Inpainting, Action Unit Detection, Fac...</td>\n",
       "    </tr>\n",
       "    <tr>\n",
       "      <th>1237</th>\n",
       "      <td>https://paperswithcode.com/dataset/kanface</td>\n",
       "      <td>KANFace</td>\n",
       "      <td>KANFace Dataset</td>\n",
       "      <td>https://sites.google.com/view/kanface-dataset</td>\n",
       "      <td>KANFace consists of 40K still images and 44K s...</td>\n",
       "      <td>2020-05-15</td>\n",
       "      <td>None</td>\n",
       "      <td>[Images]</td>\n",
       "      <td>[]</td>\n",
       "      <td>[KANFace]</td>\n",
       "      <td>...</td>\n",
       "      <td>[]</td>\n",
       "      <td>Investigating Bias in Deep Face Analysis: The ...</td>\n",
       "      <td>https://paperswithcode.com/paper/investigating...</td>\n",
       "      <td>False</td>\n",
       "      <td>True</td>\n",
       "      <td>[Face Recognition, Age Estimation, Fairness]</td>\n",
       "      <td>[Facial Recognition and Modelling, Facial Reco...</td>\n",
       "      <td>[Computer Vision, Computer Vision, Miscellaneous]</td>\n",
       "      <td>[Age-Invariant Face Recognition, Face Quality ...</td>\n",
       "      <td>[Facial Inpainting, Action Unit Detection, Fac...</td>\n",
       "    </tr>\n",
       "    <tr>\n",
       "      <th>1537</th>\n",
       "      <td>https://paperswithcode.com/dataset/casia-surf</td>\n",
       "      <td>CASIA-SURF</td>\n",
       "      <td></td>\n",
       "      <td>https://sites.google.com/qq.com/face-anti-spoo...</td>\n",
       "      <td>Dataset for face anti-spoofing in terms of bot...</td>\n",
       "      <td>NaT</td>\n",
       "      <td>None</td>\n",
       "      <td>[]</td>\n",
       "      <td>[]</td>\n",
       "      <td>[CASIA-SURF]</td>\n",
       "      <td>...</td>\n",
       "      <td>[]</td>\n",
       "      <td>CASIA-SURF: A Large-scale Multi-modal Benchmar...</td>\n",
       "      <td>https://paperswithcode.com/paper/casia-surf-a-...</td>\n",
       "      <td>False</td>\n",
       "      <td>False</td>\n",
       "      <td>[Face Recognition, Face Anti-Spoofing, Face Pr...</td>\n",
       "      <td>[Facial Recognition and Modelling, Facial Reco...</td>\n",
       "      <td>[Computer Vision]</td>\n",
       "      <td>[Age-Invariant Face Recognition, Face Quality ...</td>\n",
       "      <td>[Facial Inpainting, Action Unit Detection, Fac...</td>\n",
       "    </tr>\n",
       "    <tr>\n",
       "      <th>1550</th>\n",
       "      <td>https://paperswithcode.com/dataset/celeba-spoof</td>\n",
       "      <td>CelebA-Spoof</td>\n",
       "      <td></td>\n",
       "      <td>https://github.com/Davidzhangyuanhan/CelebA-Spoof</td>\n",
       "      <td>CelebA-Spoof is a large-scale face anti-spoofi...</td>\n",
       "      <td>NaT</td>\n",
       "      <td>None</td>\n",
       "      <td>[Images]</td>\n",
       "      <td>[]</td>\n",
       "      <td>[CelebA-Spoof]</td>\n",
       "      <td>...</td>\n",
       "      <td>[{'url': 'https://github.com/Davidzhangyuanhan...</td>\n",
       "      <td>CelebA-Spoof: Large-Scale Face Anti-Spoofing D...</td>\n",
       "      <td>https://paperswithcode.com/paper/celeba-spoof-...</td>\n",
       "      <td>False</td>\n",
       "      <td>True</td>\n",
       "      <td>[Face Recognition, Face Anti-Spoofing]</td>\n",
       "      <td>[Facial Recognition and Modelling, Facial Reco...</td>\n",
       "      <td>[Computer Vision]</td>\n",
       "      <td>[Age-Invariant Face Recognition, Face Quality ...</td>\n",
       "      <td>[Facial Inpainting, Action Unit Detection, Fac...</td>\n",
       "    </tr>\n",
       "    <tr>\n",
       "      <th>1672</th>\n",
       "      <td>https://paperswithcode.com/dataset/curated-afd</td>\n",
       "      <td>Curated AFD</td>\n",
       "      <td>None</td>\n",
       "      <td>https://github.com/vitoralbiero/afd_dataset_cl...</td>\n",
       "      <td>The **Curated AFD** dataset is a curated versi...</td>\n",
       "      <td>NaT</td>\n",
       "      <td>None</td>\n",
       "      <td>[Images]</td>\n",
       "      <td>[]</td>\n",
       "      <td>[Curated AFD]</td>\n",
       "      <td>...</td>\n",
       "      <td>[{'url': 'https://github.com/vitoralbiero/afd_...</td>\n",
       "      <td>A Method for Curation of Web-Scraped Face Imag...</td>\n",
       "      <td>https://paperswithcode.com/paper/a-method-for-...</td>\n",
       "      <td>False</td>\n",
       "      <td>True</td>\n",
       "      <td>[Face Recognition]</td>\n",
       "      <td>[Facial Recognition and Modelling]</td>\n",
       "      <td>[Computer Vision]</td>\n",
       "      <td>[Age-Invariant Face Recognition, Face Quality ...</td>\n",
       "      <td>[Facial Inpainting, Action Unit Detection, Fac...</td>\n",
       "    </tr>\n",
       "    <tr>\n",
       "      <th>1714</th>\n",
       "      <td>https://paperswithcode.com/dataset/dfw</td>\n",
       "      <td>DFW</td>\n",
       "      <td>Disguised Faces in the Wild</td>\n",
       "      <td>http://iab-rubric.org/resources/dfw.html</td>\n",
       "      <td>Contains over 11000 images of 1000 identities ...</td>\n",
       "      <td>NaT</td>\n",
       "      <td>None</td>\n",
       "      <td>[Images]</td>\n",
       "      <td>[]</td>\n",
       "      <td>[Disguised Faces in the Wild, Disguised Faces ...</td>\n",
       "      <td>...</td>\n",
       "      <td>[]</td>\n",
       "      <td>Recognizing Disguised Faces in the Wild</td>\n",
       "      <td>https://paperswithcode.com/paper/recognizing-d...</td>\n",
       "      <td>False</td>\n",
       "      <td>True</td>\n",
       "      <td>[Face Recognition, Heterogeneous Face Recognit...</td>\n",
       "      <td>[Facial Recognition and Modelling, Facial Reco...</td>\n",
       "      <td>[Computer Vision]</td>\n",
       "      <td>[Age-Invariant Face Recognition, Face Quality ...</td>\n",
       "      <td>[Facial Inpainting, Action Unit Detection, Fac...</td>\n",
       "    </tr>\n",
       "    <tr>\n",
       "      <th>1725</th>\n",
       "      <td>https://paperswithcode.com/dataset/diveface</td>\n",
       "      <td>DiveFace</td>\n",
       "      <td></td>\n",
       "      <td>https://github.com/BiDAlab/DiveFace</td>\n",
       "      <td>A new face annotation dataset with balanced di...</td>\n",
       "      <td>NaT</td>\n",
       "      <td>None</td>\n",
       "      <td>[]</td>\n",
       "      <td>[]</td>\n",
       "      <td>[DiveFace]</td>\n",
       "      <td>...</td>\n",
       "      <td>[{'url': 'https://github.com/BiDAlab/DiveFace'...</td>\n",
       "      <td>SensitiveNets: Learning Agnostic Representatio...</td>\n",
       "      <td>https://paperswithcode.com/paper/sensitivenets...</td>\n",
       "      <td>False</td>\n",
       "      <td>False</td>\n",
       "      <td>[Face Recognition, Fairness]</td>\n",
       "      <td>[Facial Recognition and Modelling]</td>\n",
       "      <td>[Computer Vision, Computer Vision, Miscellaneous]</td>\n",
       "      <td>[Age-Invariant Face Recognition, Face Quality ...</td>\n",
       "      <td>[Facial Inpainting, Action Unit Detection, Fac...</td>\n",
       "    </tr>\n",
       "    <tr>\n",
       "      <th>1813</th>\n",
       "      <td>https://paperswithcode.com/dataset/fairface</td>\n",
       "      <td>FairFace</td>\n",
       "      <td></td>\n",
       "      <td>https://github.com/joojs/fairface</td>\n",
       "      <td>**FairFace** is a face image dataset which is ...</td>\n",
       "      <td>NaT</td>\n",
       "      <td>None</td>\n",
       "      <td>[Images]</td>\n",
       "      <td>[]</td>\n",
       "      <td>[FairFace]</td>\n",
       "      <td>...</td>\n",
       "      <td>[{'url': 'https://huggingface.co/datasets/nate...</td>\n",
       "      <td>FairFace: Face Attribute Dataset for Balanced ...</td>\n",
       "      <td>https://paperswithcode.com/paper/fairface-face...</td>\n",
       "      <td>False</td>\n",
       "      <td>True</td>\n",
       "      <td>[Face Recognition, Facial Attribute Classifica...</td>\n",
       "      <td>[Facial Recognition and Modelling, Facial Reco...</td>\n",
       "      <td>[Computer Vision, Reasoning, Computer Vision, ...</td>\n",
       "      <td>[Age-Invariant Face Recognition, Face Quality ...</td>\n",
       "      <td>[Facial Inpainting, Action Unit Detection, Fac...</td>\n",
       "    </tr>\n",
       "    <tr>\n",
       "      <th>1957</th>\n",
       "      <td>https://paperswithcode.com/dataset/icartoonface</td>\n",
       "      <td>iCartoonFace</td>\n",
       "      <td>None</td>\n",
       "      <td>https://github.com/luxiangju-PersonAI/iCartoon...</td>\n",
       "      <td>The **iCartoonFace** dataset is a large-scale ...</td>\n",
       "      <td>NaT</td>\n",
       "      <td>None</td>\n",
       "      <td>[Images]</td>\n",
       "      <td>[]</td>\n",
       "      <td>[iCartoonFace]</td>\n",
       "      <td>...</td>\n",
       "      <td>[{'url': 'https://github.com/luxiangju-PersonA...</td>\n",
       "      <td>Cartoon Face Recognition: A Benchmark Dataset</td>\n",
       "      <td>https://paperswithcode.com/paper/icartoonface-...</td>\n",
       "      <td>False</td>\n",
       "      <td>True</td>\n",
       "      <td>[Image Classification, Face Recognition, Perso...</td>\n",
       "      <td>[Facial Recognition and Modelling]</td>\n",
       "      <td>[Computer Vision, Methodology, Computer Vision...</td>\n",
       "      <td>[Few-Shot Image Classification, Fine-Grained I...</td>\n",
       "      <td>[Facial Inpainting, Action Unit Detection, Fac...</td>\n",
       "    </tr>\n",
       "    <tr>\n",
       "      <th>1977</th>\n",
       "      <td>https://paperswithcode.com/dataset/imdb-face</td>\n",
       "      <td>IMDb-Face</td>\n",
       "      <td></td>\n",
       "      <td>https://github.com/fwang91/IMDb-Face</td>\n",
       "      <td>IMDb-Face is  large-scale noise-controlled dat...</td>\n",
       "      <td>NaT</td>\n",
       "      <td>None</td>\n",
       "      <td>[Images]</td>\n",
       "      <td>[]</td>\n",
       "      <td>[IMDb-Face]</td>\n",
       "      <td>...</td>\n",
       "      <td>[{'url': 'https://github.com/fwang91/IMDb-Face...</td>\n",
       "      <td>The Devil of Face Recognition is in the Noise</td>\n",
       "      <td>https://paperswithcode.com/paper/the-devil-of-...</td>\n",
       "      <td>False</td>\n",
       "      <td>True</td>\n",
       "      <td>[Face Recognition, Curriculum Learning]</td>\n",
       "      <td>[Facial Recognition and Modelling, General Rei...</td>\n",
       "      <td>[Computer Vision]</td>\n",
       "      <td>[Age-Invariant Face Recognition, Face Quality ...</td>\n",
       "      <td>[Facial Inpainting, Action Unit Detection, Fac...</td>\n",
       "    </tr>\n",
       "    <tr>\n",
       "      <th>2095</th>\n",
       "      <td>https://paperswithcode.com/dataset/lslf</td>\n",
       "      <td>LSLF</td>\n",
       "      <td>Large-scale Labeled Face</td>\n",
       "      <td>http://discovery.cs.wayne.edu/lab_website/lsdl/</td>\n",
       "      <td>Consists of a large number of unconstrained mu...</td>\n",
       "      <td>NaT</td>\n",
       "      <td>None</td>\n",
       "      <td>[Images]</td>\n",
       "      <td>[]</td>\n",
       "      <td>[LSLF]</td>\n",
       "      <td>...</td>\n",
       "      <td>[]</td>\n",
       "      <td>Large-scale Datasets: Faces with Partial Occlu...</td>\n",
       "      <td>https://paperswithcode.com/paper/large-scale-d...</td>\n",
       "      <td>False</td>\n",
       "      <td>True</td>\n",
       "      <td>[Face Recognition, Face Detection]</td>\n",
       "      <td>[Facial Recognition and Modelling, Facial Reco...</td>\n",
       "      <td>[Computer Vision, Computer Vision]</td>\n",
       "      <td>[Age-Invariant Face Recognition, Face Quality ...</td>\n",
       "      <td>[Facial Inpainting, Action Unit Detection, Fac...</td>\n",
       "    </tr>\n",
       "    <tr>\n",
       "      <th>2124</th>\n",
       "      <td>https://paperswithcode.com/dataset/mebal</td>\n",
       "      <td>mEBAL</td>\n",
       "      <td></td>\n",
       "      <td>https://github.com/BiDAlab/mEBAL</td>\n",
       "      <td>A multimodal database for eye blink detection ...</td>\n",
       "      <td>NaT</td>\n",
       "      <td>None</td>\n",
       "      <td>[]</td>\n",
       "      <td>[]</td>\n",
       "      <td>[mEBAL]</td>\n",
       "      <td>...</td>\n",
       "      <td>[{'url': 'https://github.com/BiDAlab/mEBAL', '...</td>\n",
       "      <td>mEBAL: A Multimodal Database for Eye Blink Det...</td>\n",
       "      <td>https://paperswithcode.com/paper/mebal-a-multi...</td>\n",
       "      <td>False</td>\n",
       "      <td>False</td>\n",
       "      <td>[Face Recognition, EEG, Face Anti-Spoofing]</td>\n",
       "      <td>[Facial Recognition and Modelling, Facial Reco...</td>\n",
       "      <td>[Computer Vision, Time Series, Methodology]</td>\n",
       "      <td>[Age-Invariant Face Recognition, Face Quality ...</td>\n",
       "      <td>[Facial Inpainting, Action Unit Detection, Fac...</td>\n",
       "    </tr>\n",
       "    <tr>\n",
       "      <th>2139</th>\n",
       "      <td>https://paperswithcode.com/dataset/meglass</td>\n",
       "      <td>MeGlass</td>\n",
       "      <td>None</td>\n",
       "      <td>https://github.com/cleardusk/MeGlass</td>\n",
       "      <td>**MeGlass** is an eyeglass dataset originally ...</td>\n",
       "      <td>NaT</td>\n",
       "      <td>None</td>\n",
       "      <td>[Images]</td>\n",
       "      <td>[]</td>\n",
       "      <td>[MeGlass]</td>\n",
       "      <td>...</td>\n",
       "      <td>[{'url': 'https://github.com/cleardusk/MeGlass...</td>\n",
       "      <td>Face Synthesis for Eyeglass-Robust Face Recogn...</td>\n",
       "      <td>https://paperswithcode.com/paper/face-synthesi...</td>\n",
       "      <td>False</td>\n",
       "      <td>True</td>\n",
       "      <td>[Face Recognition, Robust Face Recognition, Fa...</td>\n",
       "      <td>[Facial Recognition and Modelling, Facial Reco...</td>\n",
       "      <td>[Computer Vision, Computer Vision]</td>\n",
       "      <td>[Age-Invariant Face Recognition, Face Quality ...</td>\n",
       "      <td>[Facial Inpainting, Action Unit Detection, Fac...</td>\n",
       "    </tr>\n",
       "    <tr>\n",
       "      <th>2414</th>\n",
       "      <td>https://paperswithcode.com/dataset/qmul-survface</td>\n",
       "      <td>QMUL-SurvFace</td>\n",
       "      <td></td>\n",
       "      <td>https://qmul-survface.github.io/</td>\n",
       "      <td>**QMUL-SurvFace** is a surveillance face recog...</td>\n",
       "      <td>NaT</td>\n",
       "      <td>None</td>\n",
       "      <td>[]</td>\n",
       "      <td>[]</td>\n",
       "      <td>[QMUL-SurvFace]</td>\n",
       "      <td>...</td>\n",
       "      <td>[]</td>\n",
       "      <td>Surveillance Face Recognition Challenge</td>\n",
       "      <td>https://paperswithcode.com/paper/surveillance-...</td>\n",
       "      <td>False</td>\n",
       "      <td>False</td>\n",
       "      <td>[Super-Resolution, Face Recognition, Deblurring]</td>\n",
       "      <td>[Facial Recognition and Modelling]</td>\n",
       "      <td>[Graphs, Computer Vision, Computer Vision, Com...</td>\n",
       "      <td>[Image Super-Resolution, Video Super-Resolutio...</td>\n",
       "      <td>[Facial Inpainting, Action Unit Detection, Fac...</td>\n",
       "    </tr>\n",
       "    <tr>\n",
       "      <th>2457</th>\n",
       "      <td>https://paperswithcode.com/dataset/rfw</td>\n",
       "      <td>RFW</td>\n",
       "      <td>Racial Faces in-the-Wild</td>\n",
       "      <td>http://whdeng.cn/RFW/testing.html</td>\n",
       "      <td>To validate the racial bias of four commercial...</td>\n",
       "      <td>NaT</td>\n",
       "      <td>None</td>\n",
       "      <td>[]</td>\n",
       "      <td>[]</td>\n",
       "      <td>[RFW]</td>\n",
       "      <td>...</td>\n",
       "      <td>[]</td>\n",
       "      <td>Racial Faces in-the-Wild: Reducing Racial Bias...</td>\n",
       "      <td>https://paperswithcode.com/paper/racial-faces-...</td>\n",
       "      <td>False</td>\n",
       "      <td>False</td>\n",
       "      <td>[Face Verification, Face Recognition, Fairness]</td>\n",
       "      <td>[Facial Recognition and Modelling, 3D, Facial ...</td>\n",
       "      <td>[Computer Vision, Computer Vision, Computer Vi...</td>\n",
       "      <td>[Disguised Face Verification, Age-Invariant Fa...</td>\n",
       "      <td>[Facial Inpainting, Video Reconstruction, Acti...</td>\n",
       "    </tr>\n",
       "    <tr>\n",
       "      <th>2467</th>\n",
       "      <td>https://paperswithcode.com/dataset/rmfd</td>\n",
       "      <td>RMFD</td>\n",
       "      <td>Real-World Masked Face Dataset</td>\n",
       "      <td>https://github.com/X-zhangyang/Real-World-Mask...</td>\n",
       "      <td>**Real-World Masked Face Dataset** (**RMFD**) ...</td>\n",
       "      <td>NaT</td>\n",
       "      <td>None</td>\n",
       "      <td>[Images]</td>\n",
       "      <td>[]</td>\n",
       "      <td>[RMFD]</td>\n",
       "      <td>...</td>\n",
       "      <td>[{'url': 'https://github.com/X-zhangyang/Real-...</td>\n",
       "      <td>Masked Face Recognition Dataset and Application</td>\n",
       "      <td>https://paperswithcode.com/paper/masked-face-r...</td>\n",
       "      <td>False</td>\n",
       "      <td>True</td>\n",
       "      <td>[Face Recognition, Face Detection]</td>\n",
       "      <td>[Facial Recognition and Modelling, Facial Reco...</td>\n",
       "      <td>[Computer Vision, Computer Vision]</td>\n",
       "      <td>[Age-Invariant Face Recognition, Face Quality ...</td>\n",
       "      <td>[Facial Inpainting, Action Unit Detection, Fac...</td>\n",
       "    </tr>\n",
       "    <tr>\n",
       "      <th>2622</th>\n",
       "      <td>https://paperswithcode.com/dataset/swax</td>\n",
       "      <td>SWAX</td>\n",
       "      <td>Sense Wax Attack dataset</td>\n",
       "      <td>http://smartsenselab.dcc.ufmg.br/en/dataset/sw...</td>\n",
       "      <td>Comprised of real human and wax figure images ...</td>\n",
       "      <td>NaT</td>\n",
       "      <td>None</td>\n",
       "      <td>[Images]</td>\n",
       "      <td>[]</td>\n",
       "      <td>[SWAX]</td>\n",
       "      <td>...</td>\n",
       "      <td>[]</td>\n",
       "      <td>The SWAX Benchmark: Attacking Biometric System...</td>\n",
       "      <td>https://paperswithcode.com/paper/the-swax-benc...</td>\n",
       "      <td>False</td>\n",
       "      <td>True</td>\n",
       "      <td>[Face Recognition, Face Anti-Spoofing, Face Pr...</td>\n",
       "      <td>[Facial Recognition and Modelling, Facial Reco...</td>\n",
       "      <td>[Computer Vision]</td>\n",
       "      <td>[Age-Invariant Face Recognition, Face Quality ...</td>\n",
       "      <td>[Facial Inpainting, Action Unit Detection, Fac...</td>\n",
       "    </tr>\n",
       "    <tr>\n",
       "      <th>2732</th>\n",
       "      <td>https://paperswithcode.com/dataset/umdfaces</td>\n",
       "      <td>UMDFaces</td>\n",
       "      <td></td>\n",
       "      <td>https://www.umdfaces.io/</td>\n",
       "      <td>UMDFaces is a face dataset divided into two pa...</td>\n",
       "      <td>NaT</td>\n",
       "      <td>None</td>\n",
       "      <td>[Images]</td>\n",
       "      <td>[]</td>\n",
       "      <td>[UMDFaces]</td>\n",
       "      <td>...</td>\n",
       "      <td>[]</td>\n",
       "      <td>UMDFaces: An Annotated Face Dataset for Traini...</td>\n",
       "      <td>https://paperswithcode.com/paper/umdfaces-an-a...</td>\n",
       "      <td>False</td>\n",
       "      <td>True</td>\n",
       "      <td>[Face Verification, Face Recognition, Face Det...</td>\n",
       "      <td>[Facial Recognition and Modelling, 3D, Facial ...</td>\n",
       "      <td>[Computer Vision, Computer Vision, Computer Vi...</td>\n",
       "      <td>[Disguised Face Verification, Age-Invariant Fa...</td>\n",
       "      <td>[Facial Inpainting, Video Reconstruction, Acti...</td>\n",
       "    </tr>\n",
       "    <tr>\n",
       "      <th>2786</th>\n",
       "      <td>https://paperswithcode.com/dataset/webcaricatu...</td>\n",
       "      <td>WebCaricature Dataset</td>\n",
       "      <td></td>\n",
       "      <td>http://cs.nju.edu.cn/rl/WebCaricature.htm</td>\n",
       "      <td>Aims to facilitate research in caricature reco...</td>\n",
       "      <td>NaT</td>\n",
       "      <td>None</td>\n",
       "      <td>[]</td>\n",
       "      <td>[]</td>\n",
       "      <td>[WebCaricature Dataset]</td>\n",
       "      <td>...</td>\n",
       "      <td>[]</td>\n",
       "      <td>WebCaricature: a benchmark for caricature reco...</td>\n",
       "      <td>https://paperswithcode.com/paper/webcaricature...</td>\n",
       "      <td>False</td>\n",
       "      <td>False</td>\n",
       "      <td>[Face Recognition, Style Transfer, Caricature]</td>\n",
       "      <td>[Facial Recognition and Modelling]</td>\n",
       "      <td>[Computer Vision, Computer Vision, Computer Vi...</td>\n",
       "      <td>[Age-Invariant Face Recognition, Face Quality ...</td>\n",
       "      <td>[Facial Inpainting, Action Unit Detection, Fac...</td>\n",
       "    </tr>\n",
       "    <tr>\n",
       "      <th>3015</th>\n",
       "      <td>https://paperswithcode.com/dataset/wildestfaces</td>\n",
       "      <td>WildestFaces</td>\n",
       "      <td></td>\n",
       "      <td>https://ycbilge.github.io/wildestFaces</td>\n",
       "      <td>WildestFaces is tailored to study cross-domain...</td>\n",
       "      <td>2020-09-16</td>\n",
       "      <td>None</td>\n",
       "      <td>[Images]</td>\n",
       "      <td>[]</td>\n",
       "      <td>[WildestFaces]</td>\n",
       "      <td>...</td>\n",
       "      <td>[]</td>\n",
       "      <td>Red Carpet to Fight Club: Partially-supervised...</td>\n",
       "      <td>https://paperswithcode.com/paper/red-carpet-to...</td>\n",
       "      <td>False</td>\n",
       "      <td>True</td>\n",
       "      <td>[Face Recognition]</td>\n",
       "      <td>[Facial Recognition and Modelling]</td>\n",
       "      <td>[Computer Vision]</td>\n",
       "      <td>[Age-Invariant Face Recognition, Face Quality ...</td>\n",
       "      <td>[Facial Inpainting, Action Unit Detection, Fac...</td>\n",
       "    </tr>\n",
       "    <tr>\n",
       "      <th>3016</th>\n",
       "      <td>https://paperswithcode.com/dataset/fad</td>\n",
       "      <td>FAD</td>\n",
       "      <td>Face Attributes Dataset</td>\n",
       "      <td>https://arxiv.org/pdf/1605.09062.pdf</td>\n",
       "      <td>FAD is a dataset that have roughly 200,000 att...</td>\n",
       "      <td>2016-05-29</td>\n",
       "      <td>None</td>\n",
       "      <td>[Images]</td>\n",
       "      <td>[]</td>\n",
       "      <td>[FAD]</td>\n",
       "      <td>...</td>\n",
       "      <td>[]</td>\n",
       "      <td>Predicting Personal Traits from Facial Images ...</td>\n",
       "      <td>https://paperswithcode.com/paper/predicting-pe...</td>\n",
       "      <td>False</td>\n",
       "      <td>True</td>\n",
       "      <td>[Face Recognition, Face Detection, Physical At...</td>\n",
       "      <td>[Facial Recognition and Modelling, Facial Reco...</td>\n",
       "      <td>[Computer Vision, Computer Vision, Computer Vi...</td>\n",
       "      <td>[Age-Invariant Face Recognition, Face Quality ...</td>\n",
       "      <td>[Facial Inpainting, Action Unit Detection, Fac...</td>\n",
       "    </tr>\n",
       "    <tr>\n",
       "      <th>3999</th>\n",
       "      <td>https://paperswithcode.com/dataset/casia-face-...</td>\n",
       "      <td>CASIA-Face-Africa</td>\n",
       "      <td></td>\n",
       "      <td>http://www.cripacsir.cn/dataset/casia-face-afr...</td>\n",
       "      <td>**CASIA-Face-Africa** is a face image database...</td>\n",
       "      <td>2021-05-08</td>\n",
       "      <td>None</td>\n",
       "      <td>[Images]</td>\n",
       "      <td>[]</td>\n",
       "      <td>[CASIA-Face-Africa]</td>\n",
       "      <td>...</td>\n",
       "      <td>[]</td>\n",
       "      <td>CASIA-Face-Africa: A Large-scale African Face ...</td>\n",
       "      <td>https://paperswithcode.com/paper/casia-face-af...</td>\n",
       "      <td>False</td>\n",
       "      <td>True</td>\n",
       "      <td>[Face Recognition, Facial Landmark Detection, ...</td>\n",
       "      <td>[Facial Recognition and Modelling, Facial Reco...</td>\n",
       "      <td>[Computer Vision, Computer Vision, Computer Vi...</td>\n",
       "      <td>[Age-Invariant Face Recognition, Face Quality ...</td>\n",
       "      <td>[Facial Inpainting, Action Unit Detection, Fac...</td>\n",
       "    </tr>\n",
       "    <tr>\n",
       "      <th>4231</th>\n",
       "      <td>https://paperswithcode.com/dataset/imfw</td>\n",
       "      <td>IMFW</td>\n",
       "      <td>Indian Masked Faces In The Wild</td>\n",
       "      <td>http://www.iab-rubric.org/resources/imfw.html</td>\n",
       "      <td>Indian Masked faces in the wild Database is co...</td>\n",
       "      <td>2021-06-17</td>\n",
       "      <td>None</td>\n",
       "      <td>[Images]</td>\n",
       "      <td>[]</td>\n",
       "      <td>[IMFW]</td>\n",
       "      <td>...</td>\n",
       "      <td>[]</td>\n",
       "      <td>Indian Masked Faces in the Wild Dataset</td>\n",
       "      <td>https://paperswithcode.com/paper/indian-masked...</td>\n",
       "      <td>False</td>\n",
       "      <td>True</td>\n",
       "      <td>[Face Recognition]</td>\n",
       "      <td>[Facial Recognition and Modelling]</td>\n",
       "      <td>[Computer Vision]</td>\n",
       "      <td>[Age-Invariant Face Recognition, Face Quality ...</td>\n",
       "      <td>[Facial Inpainting, Action Unit Detection, Fac...</td>\n",
       "    </tr>\n",
       "    <tr>\n",
       "      <th>4285</th>\n",
       "      <td>https://paperswithcode.com/dataset/extended-yo...</td>\n",
       "      <td>Extended YouTube Faces (E-YTF)</td>\n",
       "      <td></td>\n",
       "      <td>https://www.micc.unifi.it/resources/datasets/e...</td>\n",
       "      <td>The proposed Extended-YouTube Faces (E-YTF) is...</td>\n",
       "      <td>2018-01-01</td>\n",
       "      <td>None</td>\n",
       "      <td>[Images, Videos]</td>\n",
       "      <td>[English]</td>\n",
       "      <td>[Extended YouTube Faces (E-YTF)]</td>\n",
       "      <td>...</td>\n",
       "      <td>[]</td>\n",
       "      <td>Additional Baseline Metrics for the paper \"Ext...</td>\n",
       "      <td>https://paperswithcode.com/paper/additional-ba...</td>\n",
       "      <td>False</td>\n",
       "      <td>True</td>\n",
       "      <td>[Face Verification, Face Recognition]</td>\n",
       "      <td>[Facial Recognition and Modelling, 3D, Facial ...</td>\n",
       "      <td>[Computer Vision, Computer Vision]</td>\n",
       "      <td>[Disguised Face Verification, Age-Invariant Fa...</td>\n",
       "      <td>[Facial Inpainting, Video Reconstruction, Acti...</td>\n",
       "    </tr>\n",
       "    <tr>\n",
       "      <th>4298</th>\n",
       "      <td>https://paperswithcode.com/dataset/tinyface</td>\n",
       "      <td>TinyFace</td>\n",
       "      <td></td>\n",
       "      <td>https://qmul-tinyface.github.io/</td>\n",
       "      <td>**TinyFace** is a large scale face recognition...</td>\n",
       "      <td>2018-11-21</td>\n",
       "      <td>None</td>\n",
       "      <td>[Images]</td>\n",
       "      <td>[]</td>\n",
       "      <td>[TinyFace]</td>\n",
       "      <td>...</td>\n",
       "      <td>[]</td>\n",
       "      <td>Low-Resolution Face Recognition</td>\n",
       "      <td>https://paperswithcode.com/paper/low-resolutio...</td>\n",
       "      <td>False</td>\n",
       "      <td>True</td>\n",
       "      <td>[Face Recognition]</td>\n",
       "      <td>[Facial Recognition and Modelling]</td>\n",
       "      <td>[Computer Vision]</td>\n",
       "      <td>[Age-Invariant Face Recognition, Face Quality ...</td>\n",
       "      <td>[Facial Inpainting, Action Unit Detection, Fac...</td>\n",
       "    </tr>\n",
       "  </tbody>\n",
       "</table>\n",
       "<p>36 rows × 21 columns</p>\n",
       "</div>"
      ],
      "text/plain": [
       "                                                    url  \\\n",
       "8                https://paperswithcode.com/dataset/lfw   \n",
       "468          https://paperswithcode.com/dataset/adience   \n",
       "601        https://paperswithcode.com/dataset/multi-pie   \n",
       "788       https://paperswithcode.com/dataset/vgg-face-1   \n",
       "790    https://paperswithcode.com/dataset/casia-webface   \n",
       "792      https://paperswithcode.com/dataset/ms-celeb-1m   \n",
       "815   https://paperswithcode.com/dataset/extended-ya...   \n",
       "955      https://paperswithcode.com/dataset/color-feret   \n",
       "968   https://paperswithcode.com/dataset/replay-mobi...   \n",
       "975       https://paperswithcode.com/dataset/casia-fasd   \n",
       "995     https://paperswithcode.com/dataset/partial-reid   \n",
       "1235       https://paperswithcode.com/dataset/iqiyi-vid   \n",
       "1237         https://paperswithcode.com/dataset/kanface   \n",
       "1537      https://paperswithcode.com/dataset/casia-surf   \n",
       "1550    https://paperswithcode.com/dataset/celeba-spoof   \n",
       "1672     https://paperswithcode.com/dataset/curated-afd   \n",
       "1714             https://paperswithcode.com/dataset/dfw   \n",
       "1725        https://paperswithcode.com/dataset/diveface   \n",
       "1813        https://paperswithcode.com/dataset/fairface   \n",
       "1957    https://paperswithcode.com/dataset/icartoonface   \n",
       "1977       https://paperswithcode.com/dataset/imdb-face   \n",
       "2095            https://paperswithcode.com/dataset/lslf   \n",
       "2124           https://paperswithcode.com/dataset/mebal   \n",
       "2139         https://paperswithcode.com/dataset/meglass   \n",
       "2414   https://paperswithcode.com/dataset/qmul-survface   \n",
       "2457             https://paperswithcode.com/dataset/rfw   \n",
       "2467            https://paperswithcode.com/dataset/rmfd   \n",
       "2622            https://paperswithcode.com/dataset/swax   \n",
       "2732        https://paperswithcode.com/dataset/umdfaces   \n",
       "2786  https://paperswithcode.com/dataset/webcaricatu...   \n",
       "3015    https://paperswithcode.com/dataset/wildestfaces   \n",
       "3016             https://paperswithcode.com/dataset/fad   \n",
       "3999  https://paperswithcode.com/dataset/casia-face-...   \n",
       "4231            https://paperswithcode.com/dataset/imfw   \n",
       "4285  https://paperswithcode.com/dataset/extended-yo...   \n",
       "4298        https://paperswithcode.com/dataset/tinyface   \n",
       "\n",
       "                                name                        full_name  \\\n",
       "8                                LFW        Labeled Faces in the Wild   \n",
       "468                          Adience                                    \n",
       "601                        Multi-PIE                                    \n",
       "788                         VGG Face                                    \n",
       "790                    CASIA-WebFace                                    \n",
       "792                      MS-Celeb-1M                                    \n",
       "815                  Extended Yale B                                    \n",
       "955                      Color FERET                      Color FERET   \n",
       "968                    Replay-Mobile                    Replay-Mobile   \n",
       "975                       CASIA-FASD                       CASIA-FASD   \n",
       "995                     Partial-REID                     Partial-REID   \n",
       "1235                       iQIYI-VID                        iQIYI-VID   \n",
       "1237                         KANFace                  KANFace Dataset   \n",
       "1537                      CASIA-SURF                                    \n",
       "1550                    CelebA-Spoof                                    \n",
       "1672                     Curated AFD                             None   \n",
       "1714                             DFW      Disguised Faces in the Wild   \n",
       "1725                        DiveFace                                    \n",
       "1813                        FairFace                                    \n",
       "1957                    iCartoonFace                             None   \n",
       "1977                       IMDb-Face                                    \n",
       "2095                            LSLF         Large-scale Labeled Face   \n",
       "2124                           mEBAL                                    \n",
       "2139                         MeGlass                             None   \n",
       "2414                   QMUL-SurvFace                                    \n",
       "2457                             RFW         Racial Faces in-the-Wild   \n",
       "2467                            RMFD   Real-World Masked Face Dataset   \n",
       "2622                            SWAX         Sense Wax Attack dataset   \n",
       "2732                        UMDFaces                                    \n",
       "2786           WebCaricature Dataset                                    \n",
       "3015                    WildestFaces                                    \n",
       "3016                             FAD          Face Attributes Dataset   \n",
       "3999               CASIA-Face-Africa                                    \n",
       "4231                            IMFW  Indian Masked Faces In The Wild   \n",
       "4285  Extended YouTube Faces (E-YTF)                                    \n",
       "4298                        TinyFace                                    \n",
       "\n",
       "                                               homepage  \\\n",
       "8                      http://vis-www.cs.umass.edu/lfw/   \n",
       "468   https://talhassner.github.io/home/projects/Adi...   \n",
       "601   http://www.cs.cmu.edu/afs/cs/project/PIE/Multi...   \n",
       "788     https://www.robots.ox.ac.uk/~vgg/data/vgg_face/   \n",
       "790                                                       \n",
       "792                                                None   \n",
       "815   http://vision.ucsd.edu/~leekc/ExtYaleDatabase/...   \n",
       "955   https://catalog.data.gov/dataset/color-feret-d...   \n",
       "968          https://www.idiap.ch/dataset/replay-mobile   \n",
       "975         https://pypi.org/project/bob.db.casia-fasd/   \n",
       "995      https://github.com/JDAI-CV/Partial-Person-ReID   \n",
       "1235  http://challenge.ai.iqiyi.com/detail?raceId=5a...   \n",
       "1237      https://sites.google.com/view/kanface-dataset   \n",
       "1537  https://sites.google.com/qq.com/face-anti-spoo...   \n",
       "1550  https://github.com/Davidzhangyuanhan/CelebA-Spoof   \n",
       "1672  https://github.com/vitoralbiero/afd_dataset_cl...   \n",
       "1714           http://iab-rubric.org/resources/dfw.html   \n",
       "1725                https://github.com/BiDAlab/DiveFace   \n",
       "1813                  https://github.com/joojs/fairface   \n",
       "1957  https://github.com/luxiangju-PersonAI/iCartoon...   \n",
       "1977               https://github.com/fwang91/IMDb-Face   \n",
       "2095    http://discovery.cs.wayne.edu/lab_website/lsdl/   \n",
       "2124                   https://github.com/BiDAlab/mEBAL   \n",
       "2139               https://github.com/cleardusk/MeGlass   \n",
       "2414                   https://qmul-survface.github.io/   \n",
       "2457                  http://whdeng.cn/RFW/testing.html   \n",
       "2467  https://github.com/X-zhangyang/Real-World-Mask...   \n",
       "2622  http://smartsenselab.dcc.ufmg.br/en/dataset/sw...   \n",
       "2732                           https://www.umdfaces.io/   \n",
       "2786          http://cs.nju.edu.cn/rl/WebCaricature.htm   \n",
       "3015             https://ycbilge.github.io/wildestFaces   \n",
       "3016               https://arxiv.org/pdf/1605.09062.pdf   \n",
       "3999  http://www.cripacsir.cn/dataset/casia-face-afr...   \n",
       "4231      http://www.iab-rubric.org/resources/imfw.html   \n",
       "4285  https://www.micc.unifi.it/resources/datasets/e...   \n",
       "4298                   https://qmul-tinyface.github.io/   \n",
       "\n",
       "                                            description introduced_date  \\\n",
       "8     The **LFW** dataset contains 13,233 images of ...             NaT   \n",
       "468   The **Adience** dataset, published in 2014, co...      2014-01-01   \n",
       "601   The **Multi-PIE** (Multi Pose, Illumination, E...      2008-01-01   \n",
       "788   The **VGG Face** dataset is face identity reco...      2015-01-01   \n",
       "790   The **CASIA-WebFace** dataset is used for face...      2014-01-01   \n",
       "792   The **MS-Celeb-1M** dataset is a large-scale f...      2016-01-01   \n",
       "815   The **Extended Yale B** database contains 2414...      2001-01-01   \n",
       "955   The color FERET database is a dataset for face...      1997-01-01   \n",
       "968   The **Replay-Mobile** Database for face spoofi...      2016-01-01   \n",
       "975   **CASIA-FASD** is a small face anti-spoofing d...      2012-01-01   \n",
       "995   Partial REID is a specially designed partial p...      2015-01-01   \n",
       "1235  iQIYI-VID dataset, which comprises video clips...      2018-11-19   \n",
       "1237  KANFace consists of 40K still images and 44K s...      2020-05-15   \n",
       "1537  Dataset for face anti-spoofing in terms of bot...             NaT   \n",
       "1550  CelebA-Spoof is a large-scale face anti-spoofi...             NaT   \n",
       "1672  The **Curated AFD** dataset is a curated versi...             NaT   \n",
       "1714  Contains over 11000 images of 1000 identities ...             NaT   \n",
       "1725  A new face annotation dataset with balanced di...             NaT   \n",
       "1813  **FairFace** is a face image dataset which is ...             NaT   \n",
       "1957  The **iCartoonFace** dataset is a large-scale ...             NaT   \n",
       "1977  IMDb-Face is  large-scale noise-controlled dat...             NaT   \n",
       "2095  Consists of a large number of unconstrained mu...             NaT   \n",
       "2124  A multimodal database for eye blink detection ...             NaT   \n",
       "2139  **MeGlass** is an eyeglass dataset originally ...             NaT   \n",
       "2414  **QMUL-SurvFace** is a surveillance face recog...             NaT   \n",
       "2457  To validate the racial bias of four commercial...             NaT   \n",
       "2467  **Real-World Masked Face Dataset** (**RMFD**) ...             NaT   \n",
       "2622  Comprised of real human and wax figure images ...             NaT   \n",
       "2732  UMDFaces is a face dataset divided into two pa...             NaT   \n",
       "2786  Aims to facilitate research in caricature reco...             NaT   \n",
       "3015  WildestFaces is tailored to study cross-domain...      2020-09-16   \n",
       "3016  FAD is a dataset that have roughly 200,000 att...      2016-05-29   \n",
       "3999  **CASIA-Face-Africa** is a face image database...      2021-05-08   \n",
       "4231  Indian Masked faces in the wild Database is co...      2021-06-17   \n",
       "4285  The proposed Extended-YouTube Faces (E-YTF) is...      2018-01-01   \n",
       "4298  **TinyFace** is a large scale face recognition...      2018-11-21   \n",
       "\n",
       "     warning        modalities  languages  \\\n",
       "8       None          [Images]         []   \n",
       "468     None          [Images]         []   \n",
       "601     None          [Images]         []   \n",
       "788     None          [Images]         []   \n",
       "790     None          [Images]         []   \n",
       "792     None          [Images]         []   \n",
       "815     None          [Images]         []   \n",
       "955     None          [Images]         []   \n",
       "968     None  [Images, Videos]         []   \n",
       "975     None          [Images]         []   \n",
       "995     None          [Images]         []   \n",
       "1235    None          [Videos]         []   \n",
       "1237    None          [Images]         []   \n",
       "1537    None                []         []   \n",
       "1550    None          [Images]         []   \n",
       "1672    None          [Images]         []   \n",
       "1714    None          [Images]         []   \n",
       "1725    None                []         []   \n",
       "1813    None          [Images]         []   \n",
       "1957    None          [Images]         []   \n",
       "1977    None          [Images]         []   \n",
       "2095    None          [Images]         []   \n",
       "2124    None                []         []   \n",
       "2139    None          [Images]         []   \n",
       "2414    None                []         []   \n",
       "2457    None                []         []   \n",
       "2467    None          [Images]         []   \n",
       "2622    None          [Images]         []   \n",
       "2732    None          [Images]         []   \n",
       "2786    None                []         []   \n",
       "3015    None          [Images]         []   \n",
       "3016    None          [Images]         []   \n",
       "3999    None          [Images]         []   \n",
       "4231    None          [Images]         []   \n",
       "4285    None  [Images, Videos]  [English]   \n",
       "4298    None          [Images]         []   \n",
       "\n",
       "                                               variants  ...  \\\n",
       "8     [LFW, Labeled Faces in the Wild, LFW (Online O...  ...   \n",
       "468   [Adience, Adience Age, Adience Gender, Adience...  ...   \n",
       "601                                         [Multi-PIE]  ...   \n",
       "788                                          [VGG Face]  ...   \n",
       "790    [WebFace, WebFace - 8x upscaling, CASIA-WebFace]  ...   \n",
       "792                                       [MS-Celeb-1M]  ...   \n",
       "815                  [Extended Yale-B, Extended Yale B]  ...   \n",
       "955        [Color FERET (Online Open Set), Color FERET]  ...   \n",
       "968                      [Replay Mobile, Replay-Mobile]  ...   \n",
       "975                                        [CASIA-FASD]  ...   \n",
       "995                                      [Partial-REID]  ...   \n",
       "1235                                        [iQIYI-VID]  ...   \n",
       "1237                                          [KANFace]  ...   \n",
       "1537                                       [CASIA-SURF]  ...   \n",
       "1550                                     [CelebA-Spoof]  ...   \n",
       "1672                                      [Curated AFD]  ...   \n",
       "1714  [Disguised Faces in the Wild, Disguised Faces ...  ...   \n",
       "1725                                         [DiveFace]  ...   \n",
       "1813                                         [FairFace]  ...   \n",
       "1957                                     [iCartoonFace]  ...   \n",
       "1977                                        [IMDb-Face]  ...   \n",
       "2095                                             [LSLF]  ...   \n",
       "2124                                            [mEBAL]  ...   \n",
       "2139                                          [MeGlass]  ...   \n",
       "2414                                    [QMUL-SurvFace]  ...   \n",
       "2457                                              [RFW]  ...   \n",
       "2467                                             [RMFD]  ...   \n",
       "2622                                             [SWAX]  ...   \n",
       "2732                                         [UMDFaces]  ...   \n",
       "2786                            [WebCaricature Dataset]  ...   \n",
       "3015                                     [WildestFaces]  ...   \n",
       "3016                                              [FAD]  ...   \n",
       "3999                                [CASIA-Face-Africa]  ...   \n",
       "4231                                             [IMFW]  ...   \n",
       "4285                   [Extended YouTube Faces (E-YTF)]  ...   \n",
       "4298                                         [TinyFace]  ...   \n",
       "\n",
       "                                           data_loaders  \\\n",
       "8     [{'url': 'https://www.tensorflow.org/datasets/...   \n",
       "468                                                  []   \n",
       "601                                                  []   \n",
       "788                                                  []   \n",
       "790                                                  []   \n",
       "792                                                  []   \n",
       "815                                                  []   \n",
       "955                                                  []   \n",
       "968                                                  []   \n",
       "975                                                  []   \n",
       "995   [{'url': 'https://github.com/JDAI-CV/Partial-P...   \n",
       "1235                                                 []   \n",
       "1237                                                 []   \n",
       "1537                                                 []   \n",
       "1550  [{'url': 'https://github.com/Davidzhangyuanhan...   \n",
       "1672  [{'url': 'https://github.com/vitoralbiero/afd_...   \n",
       "1714                                                 []   \n",
       "1725  [{'url': 'https://github.com/BiDAlab/DiveFace'...   \n",
       "1813  [{'url': 'https://huggingface.co/datasets/nate...   \n",
       "1957  [{'url': 'https://github.com/luxiangju-PersonA...   \n",
       "1977  [{'url': 'https://github.com/fwang91/IMDb-Face...   \n",
       "2095                                                 []   \n",
       "2124  [{'url': 'https://github.com/BiDAlab/mEBAL', '...   \n",
       "2139  [{'url': 'https://github.com/cleardusk/MeGlass...   \n",
       "2414                                                 []   \n",
       "2457                                                 []   \n",
       "2467  [{'url': 'https://github.com/X-zhangyang/Real-...   \n",
       "2622                                                 []   \n",
       "2732                                                 []   \n",
       "2786                                                 []   \n",
       "3015                                                 []   \n",
       "3016                                                 []   \n",
       "3999                                                 []   \n",
       "4231                                                 []   \n",
       "4285                                                 []   \n",
       "4298                                                 []   \n",
       "\n",
       "                                                  title  \\\n",
       "8     Labeled faces in the wild: A database for stud...   \n",
       "468       Age and Gender Estimation of Unfiltered Faces   \n",
       "601                                           Multi-PIE   \n",
       "788                               Deep Face Recognition   \n",
       "790           Learning Face Representation from Scratch   \n",
       "792   MS-Celeb-1M: A Dataset and Benchmark for Large...   \n",
       "815   From Few to Many: Illumination Cone Models for...   \n",
       "955   The FERET Evaluation Methodology for Face-Reco...   \n",
       "968   The Replay-Mobile Face Presentation-Attack Dat...   \n",
       "975   A face antispoofing database with diverse attacks   \n",
       "995                    Partial Person Re-Identification   \n",
       "1235  iQIYI-VID: A Large Dataset for Multi-modal Per...   \n",
       "1237  Investigating Bias in Deep Face Analysis: The ...   \n",
       "1537  CASIA-SURF: A Large-scale Multi-modal Benchmar...   \n",
       "1550  CelebA-Spoof: Large-Scale Face Anti-Spoofing D...   \n",
       "1672  A Method for Curation of Web-Scraped Face Imag...   \n",
       "1714            Recognizing Disguised Faces in the Wild   \n",
       "1725  SensitiveNets: Learning Agnostic Representatio...   \n",
       "1813  FairFace: Face Attribute Dataset for Balanced ...   \n",
       "1957      Cartoon Face Recognition: A Benchmark Dataset   \n",
       "1977      The Devil of Face Recognition is in the Noise   \n",
       "2095  Large-scale Datasets: Faces with Partial Occlu...   \n",
       "2124  mEBAL: A Multimodal Database for Eye Blink Det...   \n",
       "2139  Face Synthesis for Eyeglass-Robust Face Recogn...   \n",
       "2414            Surveillance Face Recognition Challenge   \n",
       "2457  Racial Faces in-the-Wild: Reducing Racial Bias...   \n",
       "2467    Masked Face Recognition Dataset and Application   \n",
       "2622  The SWAX Benchmark: Attacking Biometric System...   \n",
       "2732  UMDFaces: An Annotated Face Dataset for Traini...   \n",
       "2786  WebCaricature: a benchmark for caricature reco...   \n",
       "3015  Red Carpet to Fight Club: Partially-supervised...   \n",
       "3016  Predicting Personal Traits from Facial Images ...   \n",
       "3999  CASIA-Face-Africa: A Large-scale African Face ...   \n",
       "4231            Indian Masked Faces in the Wild Dataset   \n",
       "4285  Additional Baseline Metrics for the paper \"Ext...   \n",
       "4298                    Low-Resolution Face Recognition   \n",
       "\n",
       "                                              paper_url  Texts  Images  \\\n",
       "8               http://vis-www.cs.umass.edu/lfw/lfw.pdf  False    True   \n",
       "468           https://doi.org/10.1109/TIFS.2014.2359646  False    True   \n",
       "601           https://doi.org/10.1109/AFGR.2008.4813399  False    True   \n",
       "788                     https://doi.org/10.5244/C.29.41  False    True   \n",
       "790   https://paperswithcode.com/paper/learning-face...  False    True   \n",
       "792   https://paperswithcode.com/paper/ms-celeb-1m-a...  False    True   \n",
       "815                   https://doi.org/10.1109/34.927464  False    True   \n",
       "955            https://doi.org/10.1109/CVPR.1997.609311  False    True   \n",
       "968         https://doi.org/10.1109/BIOSIG.2016.7736936  False    True   \n",
       "975            https://doi.org/10.1109/ICB.2012.6199754  False    True   \n",
       "995   https://paperswithcode.com/paper/partial-perso...  False    True   \n",
       "1235  https://paperswithcode.com/paper/iqiyi-vid-a-l...  False   False   \n",
       "1237  https://paperswithcode.com/paper/investigating...  False    True   \n",
       "1537  https://paperswithcode.com/paper/casia-surf-a-...  False   False   \n",
       "1550  https://paperswithcode.com/paper/celeba-spoof-...  False    True   \n",
       "1672  https://paperswithcode.com/paper/a-method-for-...  False    True   \n",
       "1714  https://paperswithcode.com/paper/recognizing-d...  False    True   \n",
       "1725  https://paperswithcode.com/paper/sensitivenets...  False   False   \n",
       "1813  https://paperswithcode.com/paper/fairface-face...  False    True   \n",
       "1957  https://paperswithcode.com/paper/icartoonface-...  False    True   \n",
       "1977  https://paperswithcode.com/paper/the-devil-of-...  False    True   \n",
       "2095  https://paperswithcode.com/paper/large-scale-d...  False    True   \n",
       "2124  https://paperswithcode.com/paper/mebal-a-multi...  False   False   \n",
       "2139  https://paperswithcode.com/paper/face-synthesi...  False    True   \n",
       "2414  https://paperswithcode.com/paper/surveillance-...  False   False   \n",
       "2457  https://paperswithcode.com/paper/racial-faces-...  False   False   \n",
       "2467  https://paperswithcode.com/paper/masked-face-r...  False    True   \n",
       "2622  https://paperswithcode.com/paper/the-swax-benc...  False    True   \n",
       "2732  https://paperswithcode.com/paper/umdfaces-an-a...  False    True   \n",
       "2786  https://paperswithcode.com/paper/webcaricature...  False   False   \n",
       "3015  https://paperswithcode.com/paper/red-carpet-to...  False    True   \n",
       "3016  https://paperswithcode.com/paper/predicting-pe...  False    True   \n",
       "3999  https://paperswithcode.com/paper/casia-face-af...  False    True   \n",
       "4231  https://paperswithcode.com/paper/indian-masked...  False    True   \n",
       "4285  https://paperswithcode.com/paper/additional-ba...  False    True   \n",
       "4298  https://paperswithcode.com/paper/low-resolutio...  False    True   \n",
       "\n",
       "                                          dataset_tasks  \\\n",
       "8     [3D FACE MODELING, Face Verification, Face Rec...   \n",
       "468   [Face Recognition, Age And Gender Classificati...   \n",
       "601   [Single-Image Portrait Relighting, Face Recogn...   \n",
       "788   [Domain Adaptation, Face Verification, Face Re...   \n",
       "790   [Image Super-Resolution, Face Verification, Fa...   \n",
       "792   [Face Verification, Face Recognition, Face Ide...   \n",
       "815   [Image Classification, Image Clustering, Face ...   \n",
       "955                                  [Face Recognition]   \n",
       "968   [Face Recognition, Face Anti-Spoofing, Face Pr...   \n",
       "975   [Anomaly Detection, Face Recognition, Face Ant...   \n",
       "995   [Person Re-Identification, Face Recognition, D...   \n",
       "1235  [Person Re-Identification, Face Recognition, P...   \n",
       "1237       [Face Recognition, Age Estimation, Fairness]   \n",
       "1537  [Face Recognition, Face Anti-Spoofing, Face Pr...   \n",
       "1550             [Face Recognition, Face Anti-Spoofing]   \n",
       "1672                                 [Face Recognition]   \n",
       "1714  [Face Recognition, Heterogeneous Face Recognit...   \n",
       "1725                       [Face Recognition, Fairness]   \n",
       "1813  [Face Recognition, Facial Attribute Classifica...   \n",
       "1957  [Image Classification, Face Recognition, Perso...   \n",
       "1977            [Face Recognition, Curriculum Learning]   \n",
       "2095                 [Face Recognition, Face Detection]   \n",
       "2124        [Face Recognition, EEG, Face Anti-Spoofing]   \n",
       "2139  [Face Recognition, Robust Face Recognition, Fa...   \n",
       "2414   [Super-Resolution, Face Recognition, Deblurring]   \n",
       "2457    [Face Verification, Face Recognition, Fairness]   \n",
       "2467                 [Face Recognition, Face Detection]   \n",
       "2622  [Face Recognition, Face Anti-Spoofing, Face Pr...   \n",
       "2732  [Face Verification, Face Recognition, Face Det...   \n",
       "2786     [Face Recognition, Style Transfer, Caricature]   \n",
       "3015                                 [Face Recognition]   \n",
       "3016  [Face Recognition, Face Detection, Physical At...   \n",
       "3999  [Face Recognition, Facial Landmark Detection, ...   \n",
       "4231                                 [Face Recognition]   \n",
       "4285              [Face Verification, Face Recognition]   \n",
       "4298                                 [Face Recognition]   \n",
       "\n",
       "                                  dataset_tasks_parents  \\\n",
       "8     [3D, Facial Recognition and Modelling, 3D, Fac...   \n",
       "468   [Facial Recognition and Modelling, Facial Reco...   \n",
       "601                  [Facial Recognition and Modelling]   \n",
       "788   [Facial Recognition and Modelling, 3D, Facial ...   \n",
       "790   [Super-Resolution, Facial Recognition and Mode...   \n",
       "792   [Facial Recognition and Modelling, 3D, Facial ...   \n",
       "815                  [Facial Recognition and Modelling]   \n",
       "955                  [Facial Recognition and Modelling]   \n",
       "968   [Facial Recognition and Modelling, Facial Reco...   \n",
       "975   [Facial Recognition and Modelling, Facial Reco...   \n",
       "995                  [Facial Recognition and Modelling]   \n",
       "1235                 [Facial Recognition and Modelling]   \n",
       "1237  [Facial Recognition and Modelling, Facial Reco...   \n",
       "1537  [Facial Recognition and Modelling, Facial Reco...   \n",
       "1550  [Facial Recognition and Modelling, Facial Reco...   \n",
       "1672                 [Facial Recognition and Modelling]   \n",
       "1714  [Facial Recognition and Modelling, Facial Reco...   \n",
       "1725                 [Facial Recognition and Modelling]   \n",
       "1813  [Facial Recognition and Modelling, Facial Reco...   \n",
       "1957                 [Facial Recognition and Modelling]   \n",
       "1977  [Facial Recognition and Modelling, General Rei...   \n",
       "2095  [Facial Recognition and Modelling, Facial Reco...   \n",
       "2124  [Facial Recognition and Modelling, Facial Reco...   \n",
       "2139  [Facial Recognition and Modelling, Facial Reco...   \n",
       "2414                 [Facial Recognition and Modelling]   \n",
       "2457  [Facial Recognition and Modelling, 3D, Facial ...   \n",
       "2467  [Facial Recognition and Modelling, Facial Reco...   \n",
       "2622  [Facial Recognition and Modelling, Facial Reco...   \n",
       "2732  [Facial Recognition and Modelling, 3D, Facial ...   \n",
       "2786                 [Facial Recognition and Modelling]   \n",
       "3015                 [Facial Recognition and Modelling]   \n",
       "3016  [Facial Recognition and Modelling, Facial Reco...   \n",
       "3999  [Facial Recognition and Modelling, Facial Reco...   \n",
       "4231                 [Facial Recognition and Modelling]   \n",
       "4285  [Facial Recognition and Modelling, 3D, Facial ...   \n",
       "4298                 [Facial Recognition and Modelling]   \n",
       "\n",
       "                               dataset_tasks_categories  \\\n",
       "8     [Computer Vision, Computer Vision, Computer Vi...   \n",
       "468                                   [Computer Vision]   \n",
       "601                    [Computer Code, Computer Vision]   \n",
       "788   [Computer Vision, Methodology, Computer Vision...   \n",
       "790   [Audio, Computer Vision, Computer Vision, Comp...   \n",
       "792                  [Computer Vision, Computer Vision]   \n",
       "815   [Computer Vision, Methodology, Computer Vision...   \n",
       "955                                   [Computer Vision]   \n",
       "968                                   [Computer Vision]   \n",
       "975   [Miscellaneous, Computer Vision, Speech, Metho...   \n",
       "995     [Computer Vision, Computer Vision, Methodology]   \n",
       "1235  [Computer Vision, Computer Vision, Computer Vi...   \n",
       "1237  [Computer Vision, Computer Vision, Miscellaneous]   \n",
       "1537                                  [Computer Vision]   \n",
       "1550                                  [Computer Vision]   \n",
       "1672                                  [Computer Vision]   \n",
       "1714                                  [Computer Vision]   \n",
       "1725  [Computer Vision, Computer Vision, Miscellaneous]   \n",
       "1813  [Computer Vision, Reasoning, Computer Vision, ...   \n",
       "1957  [Computer Vision, Methodology, Computer Vision...   \n",
       "1977                                  [Computer Vision]   \n",
       "2095                 [Computer Vision, Computer Vision]   \n",
       "2124        [Computer Vision, Time Series, Methodology]   \n",
       "2139                 [Computer Vision, Computer Vision]   \n",
       "2414  [Graphs, Computer Vision, Computer Vision, Com...   \n",
       "2457  [Computer Vision, Computer Vision, Computer Vi...   \n",
       "2467                 [Computer Vision, Computer Vision]   \n",
       "2622                                  [Computer Vision]   \n",
       "2732  [Computer Vision, Computer Vision, Computer Vi...   \n",
       "2786  [Computer Vision, Computer Vision, Computer Vi...   \n",
       "3015                                  [Computer Vision]   \n",
       "3016  [Computer Vision, Computer Vision, Computer Vi...   \n",
       "3999  [Computer Vision, Computer Vision, Computer Vi...   \n",
       "4231                                  [Computer Vision]   \n",
       "4285                 [Computer Vision, Computer Vision]   \n",
       "4298                                  [Computer Vision]   \n",
       "\n",
       "                                 dataset_tasks_children  \\\n",
       "8     [Facial Recognition and Modelling, Disguised F...   \n",
       "468   [Age-Invariant Face Recognition, Face Quality ...   \n",
       "601   [Age-Invariant Face Recognition, Face Quality ...   \n",
       "788   [Unsupervised Domain Adaptation, Domain Genera...   \n",
       "790   [Multi-Frame Super-Resolution, Audio Super-Res...   \n",
       "792   [Disguised Face Verification, Age-Invariant Fa...   \n",
       "815   [Few-Shot Image Classification, Fine-Grained I...   \n",
       "955   [Age-Invariant Face Recognition, Face Quality ...   \n",
       "968   [Age-Invariant Face Recognition, Face Quality ...   \n",
       "975   [Unsupervised Anomaly Detection, Anomaly Detec...   \n",
       "995   [Unsupervised Person Re-Identification, Video-...   \n",
       "1235  [Unsupervised Person Re-Identification, Video-...   \n",
       "1237  [Age-Invariant Face Recognition, Face Quality ...   \n",
       "1537  [Age-Invariant Face Recognition, Face Quality ...   \n",
       "1550  [Age-Invariant Face Recognition, Face Quality ...   \n",
       "1672  [Age-Invariant Face Recognition, Face Quality ...   \n",
       "1714  [Age-Invariant Face Recognition, Face Quality ...   \n",
       "1725  [Age-Invariant Face Recognition, Face Quality ...   \n",
       "1813  [Age-Invariant Face Recognition, Face Quality ...   \n",
       "1957  [Few-Shot Image Classification, Fine-Grained I...   \n",
       "1977  [Age-Invariant Face Recognition, Face Quality ...   \n",
       "2095  [Age-Invariant Face Recognition, Face Quality ...   \n",
       "2124  [Age-Invariant Face Recognition, Face Quality ...   \n",
       "2139  [Age-Invariant Face Recognition, Face Quality ...   \n",
       "2414  [Image Super-Resolution, Video Super-Resolutio...   \n",
       "2457  [Disguised Face Verification, Age-Invariant Fa...   \n",
       "2467  [Age-Invariant Face Recognition, Face Quality ...   \n",
       "2622  [Age-Invariant Face Recognition, Face Quality ...   \n",
       "2732  [Disguised Face Verification, Age-Invariant Fa...   \n",
       "2786  [Age-Invariant Face Recognition, Face Quality ...   \n",
       "3015  [Age-Invariant Face Recognition, Face Quality ...   \n",
       "3016  [Age-Invariant Face Recognition, Face Quality ...   \n",
       "3999  [Age-Invariant Face Recognition, Face Quality ...   \n",
       "4231  [Age-Invariant Face Recognition, Face Quality ...   \n",
       "4285  [Disguised Face Verification, Age-Invariant Fa...   \n",
       "4298  [Age-Invariant Face Recognition, Face Quality ...   \n",
       "\n",
       "                                 dataset_tasks_siblings  \n",
       "8     [Video Reconstruction, 3D Shape Generation, 3D...  \n",
       "468   [Facial Inpainting, Action Unit Detection, Fac...  \n",
       "601   [Facial Inpainting, Action Unit Detection, Fac...  \n",
       "788   [Facial Inpainting, Video Reconstruction, Acti...  \n",
       "790   [Depth Map Super-Resolution, Image Super-Resol...  \n",
       "792   [Facial Inpainting, Video Reconstruction, Acti...  \n",
       "815   [Facial Inpainting, Action Unit Detection, Fac...  \n",
       "955   [Facial Inpainting, Action Unit Detection, Fac...  \n",
       "968   [Facial Inpainting, Action Unit Detection, Fac...  \n",
       "975   [Facial Inpainting, Action Unit Detection, Fac...  \n",
       "995   [Facial Inpainting, Action Unit Detection, Fac...  \n",
       "1235  [Facial Inpainting, Action Unit Detection, Fac...  \n",
       "1237  [Facial Inpainting, Action Unit Detection, Fac...  \n",
       "1537  [Facial Inpainting, Action Unit Detection, Fac...  \n",
       "1550  [Facial Inpainting, Action Unit Detection, Fac...  \n",
       "1672  [Facial Inpainting, Action Unit Detection, Fac...  \n",
       "1714  [Facial Inpainting, Action Unit Detection, Fac...  \n",
       "1725  [Facial Inpainting, Action Unit Detection, Fac...  \n",
       "1813  [Facial Inpainting, Action Unit Detection, Fac...  \n",
       "1957  [Facial Inpainting, Action Unit Detection, Fac...  \n",
       "1977  [Facial Inpainting, Action Unit Detection, Fac...  \n",
       "2095  [Facial Inpainting, Action Unit Detection, Fac...  \n",
       "2124  [Facial Inpainting, Action Unit Detection, Fac...  \n",
       "2139  [Facial Inpainting, Action Unit Detection, Fac...  \n",
       "2414  [Facial Inpainting, Action Unit Detection, Fac...  \n",
       "2457  [Facial Inpainting, Video Reconstruction, Acti...  \n",
       "2467  [Facial Inpainting, Action Unit Detection, Fac...  \n",
       "2622  [Facial Inpainting, Action Unit Detection, Fac...  \n",
       "2732  [Facial Inpainting, Video Reconstruction, Acti...  \n",
       "2786  [Facial Inpainting, Action Unit Detection, Fac...  \n",
       "3015  [Facial Inpainting, Action Unit Detection, Fac...  \n",
       "3016  [Facial Inpainting, Action Unit Detection, Fac...  \n",
       "3999  [Facial Inpainting, Action Unit Detection, Fac...  \n",
       "4231  [Facial Inpainting, Action Unit Detection, Fac...  \n",
       "4285  [Facial Inpainting, Video Reconstruction, Acti...  \n",
       "4298  [Facial Inpainting, Action Unit Detection, Fac...  \n",
       "\n",
       "[36 rows x 21 columns]"
      ]
     },
     "execution_count": 63,
     "metadata": {},
     "output_type": "execute_result"
    }
   ],
   "source": [
    "datasets[datasets.dataset_tasks.apply(lambda x: \"Face Recognition\" in x)]"
   ]
  },
  {
   "cell_type": "code",
   "execution_count": 169,
   "id": "34a6bc94-cdbf-4220-8b81-75d8d66ac263",
   "metadata": {},
   "outputs": [
    {
     "data": {
      "text/plain": [
       "0     [Object Recognition, Image Classification, Obj...\n",
       "1            [Object Recognition, Image Classification]\n",
       "2     [Handwriting Recognition, Optical Character Re...\n",
       "3            [Object Recognition, Image Classification]\n",
       "4     [Stereo Matching, Optical Flow Estimation, Vis...\n",
       "5     [Optical Character Recognition, Image Classifi...\n",
       "6     [Face Detection, Facial Attribute Classification]\n",
       "7     [Image Classification, Fine-Grained Image Clas...\n",
       "8                              [Part-Of-Speech Tagging]\n",
       "9            [Object Recognition, Image Classification]\n",
       "10                                 [Speech Recognition]\n",
       "11                                 [Sentiment Analysis]\n",
       "12                                  [Face Verification]\n",
       "13                             [Reinforcement Learning]\n",
       "14                                 [Action Recognition]\n",
       "15                                 [Continuous Control]\n",
       "16                                [Node Classification]\n",
       "17                             [Recommendation Systems]\n",
       "18             [Image Segmentation, Boundary Detection]\n",
       "19                                  [Scene Recognition]\n",
       "20        [Instance Segmentation, Image Classification]\n",
       "21    [Image Recognition, Semi-supervised Image Clas...\n",
       "22                      [Few-Shot Image Classification]\n",
       "23                                  [Domain Adaptation]\n",
       "24                                    [Object Tracking]\n",
       "25                                            [Medical]\n",
       "28    [Scene Understanding, Scene Classification, Ob...\n",
       "29                             [Image Super-Resolution]\n",
       "30                                   [Semantic parsing]\n",
       "31                                 [Object Recognition]\n",
       "33                                   [Face Recognition]\n",
       "34                             [Visual Object Tracking]\n",
       "35    [Optical Character Recognition, Handwriting Re...\n",
       "36                                 [Object Recognition]\n",
       "37                                [Node Classification]\n",
       "38                  [Fine-Grained Image Classification]\n",
       "39    [Emotion Recognition, Multimodal Emotion Recog...\n",
       "40                             [Speaker Identification]\n",
       "41    [Paraphrase Identification, Paraphrase Generat...\n",
       "42             [Object Recognition, Zero-Shot Learning]\n",
       "43      [Action Recognition, Temporal Action Detection]\n",
       "44                             [Image Super-Resolution]\n",
       "46                 [Sentiment Analysis, Opinion Mining]\n",
       "47              [Image Classification, Image Retrieval]\n",
       "48                                [Text Categorization]\n",
       "Name: Proposed Tasks, dtype: object"
      ]
     },
     "execution_count": 169,
     "metadata": {},
     "output_type": "execute_result"
    }
   ],
   "source": [
    "manual_dict=manual_task_labels[['name','Proposed Tasks']]\n",
    "#manual_dict=manual_dict.set_index('name').to_dict()['Proposed Tasks']\n",
    "manual_dict['Proposed Tasks'].apply(lambda x: [j.strip() for j in x.split(',')])"
   ]
  },
  {
   "cell_type": "code",
   "execution_count": 93,
   "id": "18f6206a-940f-4636-8e55-e3f874614016",
   "metadata": {},
   "outputs": [],
   "source": [
    "res=datasets.loc[datasets['name']==row['name'],'dataset_tasks'].iloc[0]"
   ]
  },
  {
   "cell_type": "code",
   "execution_count": 95,
   "id": "9df68619-7488-403c-8916-7cbc0c415bad",
   "metadata": {},
   "outputs": [
    {
     "data": {
      "text/plain": [
       "5    SHIT\n",
       "Name: dataset_tasks, dtype: object"
      ]
     },
     "execution_count": 95,
     "metadata": {},
     "output_type": "execute_result"
    }
   ],
   "source": [
    "datasets.loc[datasets['name']==row['name'],'dataset_tasks']=\"SHIT\"\n",
    "datasets.loc[datasets['name']==row['name'],'dataset_tasks']"
   ]
  },
  {
   "cell_type": "code",
   "execution_count": 26,
   "id": "c121aebb-56d0-406b-aae9-d18a6f43b9d3",
   "metadata": {},
   "outputs": [
    {
     "data": {
      "text/plain": [
       "<matplotlib.axes._subplots.AxesSubplot at 0x7f1d7e5a9970>"
      ]
     },
     "execution_count": 26,
     "metadata": {},
     "output_type": "execute_result"
    },
    {
     "data": {
      "image/png": "[encoded data removed]",
      "text/plain": [
       "<Figure size 432x288 with 1 Axes>"
      ]
     },
     "metadata": {
      "needs_background": "light"
     },
     "output_type": "display_data"
    }
   ],
   "source": [
    "%matplotlib inline\n",
    "dataset_citing_papers_pwc=dataset_citing_papers_pwc[dataset_citing_papers_pwc['all_parents'].apply(lambda x: len(x)<=1)]\n",
    "\n",
    "(dataset_citing_papers_pwc['parents'].apply(lambda x: len(x))).hist()"
   ]
  },
  {
   "cell_type": "code",
   "execution_count": 53,
   "id": "afbebcb6-56b7-408a-8f2e-12a956012628",
   "metadata": {},
   "outputs": [
    {
     "data": {
      "text/html": [
       "<div>\n",
       "<style scoped>\n",
       "    .dataframe tbody tr th:only-of-type {\n",
       "        vertical-align: middle;\n",
       "    }\n",
       "\n",
       "    .dataframe tbody tr th {\n",
       "        vertical-align: top;\n",
       "    }\n",
       "\n",
       "    .dataframe thead th {\n",
       "        text-align: right;\n",
       "    }\n",
       "</style>\n",
       "<table border=\"1\" class=\"dataframe\">\n",
       "  <thead>\n",
       "    <tr style=\"text-align: right;\">\n",
       "      <th></th>\n",
       "      <th>name</th>\n",
       "      <th>pwc_dataset_id</th>\n",
       "      <th>title</th>\n",
       "      <th>date</th>\n",
       "      <th>is_problematic</th>\n",
       "      <th>paper_count</th>\n",
       "      <th>task</th>\n",
       "      <th>categories</th>\n",
       "      <th>parents</th>\n",
       "      <th>children</th>\n",
       "      <th>siblings</th>\n",
       "      <th>pdf_url</th>\n",
       "      <th>paper_url</th>\n",
       "      <th>all_tasks</th>\n",
       "      <th>all_parents</th>\n",
       "      <th>all_children</th>\n",
       "      <th>all_siblings</th>\n",
       "      <th>all_categories</th>\n",
       "    </tr>\n",
       "  </thead>\n",
       "  <tbody>\n",
       "    <tr>\n",
       "      <th>2052</th>\n",
       "      <td>MNIST</td>\n",
       "      <td>1</td>\n",
       "      <td>InfoGAN: Interpretable Representation Learning...</td>\n",
       "      <td>2016-06-12</td>\n",
       "      <td>False</td>\n",
       "      <td>4159</td>\n",
       "      <td>Image Generation</td>\n",
       "      <td>[Computer Vision]</td>\n",
       "      <td>[3D Face Animation]</td>\n",
       "      <td>[Image-to-Image Translation, Image Inpainting,...</td>\n",
       "      <td>[Image Generation, Image Animation, Dialogue G...</td>\n",
       "      <td>http://arxiv.org/pdf/1606.03657v1.pdf</td>\n",
       "      <td>https://paperswithcode.com/paper/infogan-inter...</td>\n",
       "      <td>[Image Generation, Representation Learning, Un...</td>\n",
       "      <td>[Image Classification, 3D Face Animation, Unsu...</td>\n",
       "      <td>[Graph Representation Learning, Learning Repre...</td>\n",
       "      <td>[Hyperspectral Image Classification, Artist cl...</td>\n",
       "      <td>[Computer Vision, Methodology]</td>\n",
       "    </tr>\n",
       "    <tr>\n",
       "      <th>2053</th>\n",
       "      <td>MNIST</td>\n",
       "      <td>1</td>\n",
       "      <td>InfoGAN: Interpretable Representation Learning...</td>\n",
       "      <td>2016-06-12</td>\n",
       "      <td>False</td>\n",
       "      <td>4159</td>\n",
       "      <td>Representation Learning</td>\n",
       "      <td>[Methodology]</td>\n",
       "      <td>[]</td>\n",
       "      <td>[Word Embeddings, Graph Embedding, Graph Repre...</td>\n",
       "      <td>[]</td>\n",
       "      <td>http://arxiv.org/pdf/1606.03657v1.pdf</td>\n",
       "      <td>https://paperswithcode.com/paper/infogan-inter...</td>\n",
       "      <td>[Image Generation, Representation Learning, Un...</td>\n",
       "      <td>[Image Classification, 3D Face Animation, Unsu...</td>\n",
       "      <td>[Graph Representation Learning, Learning Repre...</td>\n",
       "      <td>[Hyperspectral Image Classification, Artist cl...</td>\n",
       "      <td>[Computer Vision, Methodology]</td>\n",
       "    </tr>\n",
       "    <tr>\n",
       "      <th>2054</th>\n",
       "      <td>MNIST</td>\n",
       "      <td>1</td>\n",
       "      <td>InfoGAN: Interpretable Representation Learning...</td>\n",
       "      <td>2016-06-12</td>\n",
       "      <td>False</td>\n",
       "      <td>4159</td>\n",
       "      <td>Unsupervised Image Classification</td>\n",
       "      <td>[]</td>\n",
       "      <td>[Image Classification]</td>\n",
       "      <td>[]</td>\n",
       "      <td>[Hyperspectral Image Classification, Artist cl...</td>\n",
       "      <td>http://arxiv.org/pdf/1606.03657v1.pdf</td>\n",
       "      <td>https://paperswithcode.com/paper/infogan-inter...</td>\n",
       "      <td>[Image Generation, Representation Learning, Un...</td>\n",
       "      <td>[Image Classification, 3D Face Animation, Unsu...</td>\n",
       "      <td>[Graph Representation Learning, Learning Repre...</td>\n",
       "      <td>[Hyperspectral Image Classification, Artist cl...</td>\n",
       "      <td>[Computer Vision, Methodology]</td>\n",
       "    </tr>\n",
       "    <tr>\n",
       "      <th>2055</th>\n",
       "      <td>MNIST</td>\n",
       "      <td>1</td>\n",
       "      <td>InfoGAN: Interpretable Representation Learning...</td>\n",
       "      <td>2016-06-12</td>\n",
       "      <td>False</td>\n",
       "      <td>4159</td>\n",
       "      <td>Unsupervised MNIST</td>\n",
       "      <td>[]</td>\n",
       "      <td>[Unsupervised Representation Learning]</td>\n",
       "      <td>[]</td>\n",
       "      <td>[Acoustic Unit Discovery, Unsupervised MNIST]</td>\n",
       "      <td>http://arxiv.org/pdf/1606.03657v1.pdf</td>\n",
       "      <td>https://paperswithcode.com/paper/infogan-inter...</td>\n",
       "      <td>[Image Generation, Representation Learning, Un...</td>\n",
       "      <td>[Image Classification, 3D Face Animation, Unsu...</td>\n",
       "      <td>[Graph Representation Learning, Learning Repre...</td>\n",
       "      <td>[Hyperspectral Image Classification, Artist cl...</td>\n",
       "      <td>[Computer Vision, Methodology]</td>\n",
       "    </tr>\n",
       "    <tr>\n",
       "      <th>2056</th>\n",
       "      <td>CUB-200-2011</td>\n",
       "      <td>109</td>\n",
       "      <td>InfoGAN: Interpretable Representation Learning...</td>\n",
       "      <td>2016-06-12</td>\n",
       "      <td>False</td>\n",
       "      <td>920</td>\n",
       "      <td>Image Generation</td>\n",
       "      <td>[Computer Vision]</td>\n",
       "      <td>[3D Face Animation]</td>\n",
       "      <td>[Image-to-Image Translation, Image Inpainting,...</td>\n",
       "      <td>[Image Generation, Image Animation, Dialogue G...</td>\n",
       "      <td>http://arxiv.org/pdf/1606.03657v1.pdf</td>\n",
       "      <td>https://paperswithcode.com/paper/infogan-inter...</td>\n",
       "      <td>[Image Generation, Representation Learning, Un...</td>\n",
       "      <td>[Image Classification, 3D Face Animation, Unsu...</td>\n",
       "      <td>[Graph Representation Learning, Learning Repre...</td>\n",
       "      <td>[Hyperspectral Image Classification, Artist cl...</td>\n",
       "      <td>[Computer Vision, Methodology]</td>\n",
       "    </tr>\n",
       "    <tr>\n",
       "      <th>2057</th>\n",
       "      <td>CUB-200-2011</td>\n",
       "      <td>109</td>\n",
       "      <td>InfoGAN: Interpretable Representation Learning...</td>\n",
       "      <td>2016-06-12</td>\n",
       "      <td>False</td>\n",
       "      <td>920</td>\n",
       "      <td>Representation Learning</td>\n",
       "      <td>[Methodology]</td>\n",
       "      <td>[]</td>\n",
       "      <td>[Word Embeddings, Graph Embedding, Graph Repre...</td>\n",
       "      <td>[]</td>\n",
       "      <td>http://arxiv.org/pdf/1606.03657v1.pdf</td>\n",
       "      <td>https://paperswithcode.com/paper/infogan-inter...</td>\n",
       "      <td>[Image Generation, Representation Learning, Un...</td>\n",
       "      <td>[Image Classification, 3D Face Animation, Unsu...</td>\n",
       "      <td>[Graph Representation Learning, Learning Repre...</td>\n",
       "      <td>[Hyperspectral Image Classification, Artist cl...</td>\n",
       "      <td>[Computer Vision, Methodology]</td>\n",
       "    </tr>\n",
       "    <tr>\n",
       "      <th>2058</th>\n",
       "      <td>CUB-200-2011</td>\n",
       "      <td>109</td>\n",
       "      <td>InfoGAN: Interpretable Representation Learning...</td>\n",
       "      <td>2016-06-12</td>\n",
       "      <td>False</td>\n",
       "      <td>920</td>\n",
       "      <td>Unsupervised Image Classification</td>\n",
       "      <td>[]</td>\n",
       "      <td>[Image Classification]</td>\n",
       "      <td>[]</td>\n",
       "      <td>[Hyperspectral Image Classification, Artist cl...</td>\n",
       "      <td>http://arxiv.org/pdf/1606.03657v1.pdf</td>\n",
       "      <td>https://paperswithcode.com/paper/infogan-inter...</td>\n",
       "      <td>[Image Generation, Representation Learning, Un...</td>\n",
       "      <td>[Image Classification, 3D Face Animation, Unsu...</td>\n",
       "      <td>[Graph Representation Learning, Learning Repre...</td>\n",
       "      <td>[Hyperspectral Image Classification, Artist cl...</td>\n",
       "      <td>[Computer Vision, Methodology]</td>\n",
       "    </tr>\n",
       "    <tr>\n",
       "      <th>2059</th>\n",
       "      <td>CUB-200-2011</td>\n",
       "      <td>109</td>\n",
       "      <td>InfoGAN: Interpretable Representation Learning...</td>\n",
       "      <td>2016-06-12</td>\n",
       "      <td>False</td>\n",
       "      <td>920</td>\n",
       "      <td>Unsupervised MNIST</td>\n",
       "      <td>[]</td>\n",
       "      <td>[Unsupervised Representation Learning]</td>\n",
       "      <td>[]</td>\n",
       "      <td>[Acoustic Unit Discovery, Unsupervised MNIST]</td>\n",
       "      <td>http://arxiv.org/pdf/1606.03657v1.pdf</td>\n",
       "      <td>https://paperswithcode.com/paper/infogan-inter...</td>\n",
       "      <td>[Image Generation, Representation Learning, Un...</td>\n",
       "      <td>[Image Classification, 3D Face Animation, Unsu...</td>\n",
       "      <td>[Graph Representation Learning, Learning Repre...</td>\n",
       "      <td>[Hyperspectral Image Classification, Artist cl...</td>\n",
       "      <td>[Computer Vision, Methodology]</td>\n",
       "    </tr>\n",
       "    <tr>\n",
       "      <th>2060</th>\n",
       "      <td>Stanford Cars</td>\n",
       "      <td>573</td>\n",
       "      <td>InfoGAN: Interpretable Representation Learning...</td>\n",
       "      <td>2016-06-12</td>\n",
       "      <td>False</td>\n",
       "      <td>198</td>\n",
       "      <td>Image Generation</td>\n",
       "      <td>[Computer Vision]</td>\n",
       "      <td>[3D Face Animation]</td>\n",
       "      <td>[Image-to-Image Translation, Image Inpainting,...</td>\n",
       "      <td>[Image Generation, Image Animation, Dialogue G...</td>\n",
       "      <td>http://arxiv.org/pdf/1606.03657v1.pdf</td>\n",
       "      <td>https://paperswithcode.com/paper/infogan-inter...</td>\n",
       "      <td>[Image Generation, Representation Learning, Un...</td>\n",
       "      <td>[Image Classification, 3D Face Animation, Unsu...</td>\n",
       "      <td>[Graph Representation Learning, Learning Repre...</td>\n",
       "      <td>[Hyperspectral Image Classification, Artist cl...</td>\n",
       "      <td>[Computer Vision, Methodology]</td>\n",
       "    </tr>\n",
       "    <tr>\n",
       "      <th>2061</th>\n",
       "      <td>Stanford Cars</td>\n",
       "      <td>573</td>\n",
       "      <td>InfoGAN: Interpretable Representation Learning...</td>\n",
       "      <td>2016-06-12</td>\n",
       "      <td>False</td>\n",
       "      <td>198</td>\n",
       "      <td>Representation Learning</td>\n",
       "      <td>[Methodology]</td>\n",
       "      <td>[]</td>\n",
       "      <td>[Word Embeddings, Graph Embedding, Graph Repre...</td>\n",
       "      <td>[]</td>\n",
       "      <td>http://arxiv.org/pdf/1606.03657v1.pdf</td>\n",
       "      <td>https://paperswithcode.com/paper/infogan-inter...</td>\n",
       "      <td>[Image Generation, Representation Learning, Un...</td>\n",
       "      <td>[Image Classification, 3D Face Animation, Unsu...</td>\n",
       "      <td>[Graph Representation Learning, Learning Repre...</td>\n",
       "      <td>[Hyperspectral Image Classification, Artist cl...</td>\n",
       "      <td>[Computer Vision, Methodology]</td>\n",
       "    </tr>\n",
       "    <tr>\n",
       "      <th>2062</th>\n",
       "      <td>Stanford Cars</td>\n",
       "      <td>573</td>\n",
       "      <td>InfoGAN: Interpretable Representation Learning...</td>\n",
       "      <td>2016-06-12</td>\n",
       "      <td>False</td>\n",
       "      <td>198</td>\n",
       "      <td>Unsupervised Image Classification</td>\n",
       "      <td>[]</td>\n",
       "      <td>[Image Classification]</td>\n",
       "      <td>[]</td>\n",
       "      <td>[Hyperspectral Image Classification, Artist cl...</td>\n",
       "      <td>http://arxiv.org/pdf/1606.03657v1.pdf</td>\n",
       "      <td>https://paperswithcode.com/paper/infogan-inter...</td>\n",
       "      <td>[Image Generation, Representation Learning, Un...</td>\n",
       "      <td>[Image Classification, 3D Face Animation, Unsu...</td>\n",
       "      <td>[Graph Representation Learning, Learning Repre...</td>\n",
       "      <td>[Hyperspectral Image Classification, Artist cl...</td>\n",
       "      <td>[Computer Vision, Methodology]</td>\n",
       "    </tr>\n",
       "    <tr>\n",
       "      <th>2063</th>\n",
       "      <td>Stanford Cars</td>\n",
       "      <td>573</td>\n",
       "      <td>InfoGAN: Interpretable Representation Learning...</td>\n",
       "      <td>2016-06-12</td>\n",
       "      <td>False</td>\n",
       "      <td>198</td>\n",
       "      <td>Unsupervised MNIST</td>\n",
       "      <td>[]</td>\n",
       "      <td>[Unsupervised Representation Learning]</td>\n",
       "      <td>[]</td>\n",
       "      <td>[Acoustic Unit Discovery, Unsupervised MNIST]</td>\n",
       "      <td>http://arxiv.org/pdf/1606.03657v1.pdf</td>\n",
       "      <td>https://paperswithcode.com/paper/infogan-inter...</td>\n",
       "      <td>[Image Generation, Representation Learning, Un...</td>\n",
       "      <td>[Image Classification, 3D Face Animation, Unsu...</td>\n",
       "      <td>[Graph Representation Learning, Learning Repre...</td>\n",
       "      <td>[Hyperspectral Image Classification, Artist cl...</td>\n",
       "      <td>[Computer Vision, Methodology]</td>\n",
       "    </tr>\n",
       "    <tr>\n",
       "      <th>2064</th>\n",
       "      <td>Stanford Dogs</td>\n",
       "      <td>577</td>\n",
       "      <td>InfoGAN: Interpretable Representation Learning...</td>\n",
       "      <td>2016-06-12</td>\n",
       "      <td>False</td>\n",
       "      <td>19</td>\n",
       "      <td>Image Generation</td>\n",
       "      <td>[Computer Vision]</td>\n",
       "      <td>[3D Face Animation]</td>\n",
       "      <td>[Image-to-Image Translation, Image Inpainting,...</td>\n",
       "      <td>[Image Generation, Image Animation, Dialogue G...</td>\n",
       "      <td>http://arxiv.org/pdf/1606.03657v1.pdf</td>\n",
       "      <td>https://paperswithcode.com/paper/infogan-inter...</td>\n",
       "      <td>[Image Generation, Representation Learning, Un...</td>\n",
       "      <td>[Image Classification, 3D Face Animation, Unsu...</td>\n",
       "      <td>[Graph Representation Learning, Learning Repre...</td>\n",
       "      <td>[Hyperspectral Image Classification, Artist cl...</td>\n",
       "      <td>[Computer Vision, Methodology]</td>\n",
       "    </tr>\n",
       "    <tr>\n",
       "      <th>2065</th>\n",
       "      <td>Stanford Dogs</td>\n",
       "      <td>577</td>\n",
       "      <td>InfoGAN: Interpretable Representation Learning...</td>\n",
       "      <td>2016-06-12</td>\n",
       "      <td>False</td>\n",
       "      <td>19</td>\n",
       "      <td>Representation Learning</td>\n",
       "      <td>[Methodology]</td>\n",
       "      <td>[]</td>\n",
       "      <td>[Word Embeddings, Graph Embedding, Graph Repre...</td>\n",
       "      <td>[]</td>\n",
       "      <td>http://arxiv.org/pdf/1606.03657v1.pdf</td>\n",
       "      <td>https://paperswithcode.com/paper/infogan-inter...</td>\n",
       "      <td>[Image Generation, Representation Learning, Un...</td>\n",
       "      <td>[Image Classification, 3D Face Animation, Unsu...</td>\n",
       "      <td>[Graph Representation Learning, Learning Repre...</td>\n",
       "      <td>[Hyperspectral Image Classification, Artist cl...</td>\n",
       "      <td>[Computer Vision, Methodology]</td>\n",
       "    </tr>\n",
       "    <tr>\n",
       "      <th>2066</th>\n",
       "      <td>Stanford Dogs</td>\n",
       "      <td>577</td>\n",
       "      <td>InfoGAN: Interpretable Representation Learning...</td>\n",
       "      <td>2016-06-12</td>\n",
       "      <td>False</td>\n",
       "      <td>19</td>\n",
       "      <td>Unsupervised Image Classification</td>\n",
       "      <td>[]</td>\n",
       "      <td>[Image Classification]</td>\n",
       "      <td>[]</td>\n",
       "      <td>[Hyperspectral Image Classification, Artist cl...</td>\n",
       "      <td>http://arxiv.org/pdf/1606.03657v1.pdf</td>\n",
       "      <td>https://paperswithcode.com/paper/infogan-inter...</td>\n",
       "      <td>[Image Generation, Representation Learning, Un...</td>\n",
       "      <td>[Image Classification, 3D Face Animation, Unsu...</td>\n",
       "      <td>[Graph Representation Learning, Learning Repre...</td>\n",
       "      <td>[Hyperspectral Image Classification, Artist cl...</td>\n",
       "      <td>[Computer Vision, Methodology]</td>\n",
       "    </tr>\n",
       "    <tr>\n",
       "      <th>2067</th>\n",
       "      <td>Stanford Dogs</td>\n",
       "      <td>577</td>\n",
       "      <td>InfoGAN: Interpretable Representation Learning...</td>\n",
       "      <td>2016-06-12</td>\n",
       "      <td>False</td>\n",
       "      <td>19</td>\n",
       "      <td>Unsupervised MNIST</td>\n",
       "      <td>[]</td>\n",
       "      <td>[Unsupervised Representation Learning]</td>\n",
       "      <td>[]</td>\n",
       "      <td>[Acoustic Unit Discovery, Unsupervised MNIST]</td>\n",
       "      <td>http://arxiv.org/pdf/1606.03657v1.pdf</td>\n",
       "      <td>https://paperswithcode.com/paper/infogan-inter...</td>\n",
       "      <td>[Image Generation, Representation Learning, Un...</td>\n",
       "      <td>[Image Classification, 3D Face Animation, Unsu...</td>\n",
       "      <td>[Graph Representation Learning, Learning Repre...</td>\n",
       "      <td>[Hyperspectral Image Classification, Artist cl...</td>\n",
       "      <td>[Computer Vision, Methodology]</td>\n",
       "    </tr>\n",
       "  </tbody>\n",
       "</table>\n",
       "</div>"
      ],
      "text/plain": [
       "               name  pwc_dataset_id  \\\n",
       "2052          MNIST               1   \n",
       "2053          MNIST               1   \n",
       "2054          MNIST               1   \n",
       "2055          MNIST               1   \n",
       "2056   CUB-200-2011             109   \n",
       "2057   CUB-200-2011             109   \n",
       "2058   CUB-200-2011             109   \n",
       "2059   CUB-200-2011             109   \n",
       "2060  Stanford Cars             573   \n",
       "2061  Stanford Cars             573   \n",
       "2062  Stanford Cars             573   \n",
       "2063  Stanford Cars             573   \n",
       "2064  Stanford Dogs             577   \n",
       "2065  Stanford Dogs             577   \n",
       "2066  Stanford Dogs             577   \n",
       "2067  Stanford Dogs             577   \n",
       "\n",
       "                                                  title       date  \\\n",
       "2052  InfoGAN: Interpretable Representation Learning... 2016-06-12   \n",
       "2053  InfoGAN: Interpretable Representation Learning... 2016-06-12   \n",
       "2054  InfoGAN: Interpretable Representation Learning... 2016-06-12   \n",
       "2055  InfoGAN: Interpretable Representation Learning... 2016-06-12   \n",
       "2056  InfoGAN: Interpretable Representation Learning... 2016-06-12   \n",
       "2057  InfoGAN: Interpretable Representation Learning... 2016-06-12   \n",
       "2058  InfoGAN: Interpretable Representation Learning... 2016-06-12   \n",
       "2059  InfoGAN: Interpretable Representation Learning... 2016-06-12   \n",
       "2060  InfoGAN: Interpretable Representation Learning... 2016-06-12   \n",
       "2061  InfoGAN: Interpretable Representation Learning... 2016-06-12   \n",
       "2062  InfoGAN: Interpretable Representation Learning... 2016-06-12   \n",
       "2063  InfoGAN: Interpretable Representation Learning... 2016-06-12   \n",
       "2064  InfoGAN: Interpretable Representation Learning... 2016-06-12   \n",
       "2065  InfoGAN: Interpretable Representation Learning... 2016-06-12   \n",
       "2066  InfoGAN: Interpretable Representation Learning... 2016-06-12   \n",
       "2067  InfoGAN: Interpretable Representation Learning... 2016-06-12   \n",
       "\n",
       "      is_problematic  paper_count                               task  \\\n",
       "2052           False         4159                   Image Generation   \n",
       "2053           False         4159            Representation Learning   \n",
       "2054           False         4159  Unsupervised Image Classification   \n",
       "2055           False         4159                 Unsupervised MNIST   \n",
       "2056           False          920                   Image Generation   \n",
       "2057           False          920            Representation Learning   \n",
       "2058           False          920  Unsupervised Image Classification   \n",
       "2059           False          920                 Unsupervised MNIST   \n",
       "2060           False          198                   Image Generation   \n",
       "2061           False          198            Representation Learning   \n",
       "2062           False          198  Unsupervised Image Classification   \n",
       "2063           False          198                 Unsupervised MNIST   \n",
       "2064           False           19                   Image Generation   \n",
       "2065           False           19            Representation Learning   \n",
       "2066           False           19  Unsupervised Image Classification   \n",
       "2067           False           19                 Unsupervised MNIST   \n",
       "\n",
       "             categories                                 parents  \\\n",
       "2052  [Computer Vision]                     [3D Face Animation]   \n",
       "2053      [Methodology]                                      []   \n",
       "2054                 []                  [Image Classification]   \n",
       "2055                 []  [Unsupervised Representation Learning]   \n",
       "2056  [Computer Vision]                     [3D Face Animation]   \n",
       "2057      [Methodology]                                      []   \n",
       "2058                 []                  [Image Classification]   \n",
       "2059                 []  [Unsupervised Representation Learning]   \n",
       "2060  [Computer Vision]                     [3D Face Animation]   \n",
       "2061      [Methodology]                                      []   \n",
       "2062                 []                  [Image Classification]   \n",
       "2063                 []  [Unsupervised Representation Learning]   \n",
       "2064  [Computer Vision]                     [3D Face Animation]   \n",
       "2065      [Methodology]                                      []   \n",
       "2066                 []                  [Image Classification]   \n",
       "2067                 []  [Unsupervised Representation Learning]   \n",
       "\n",
       "                                               children  \\\n",
       "2052  [Image-to-Image Translation, Image Inpainting,...   \n",
       "2053  [Word Embeddings, Graph Embedding, Graph Repre...   \n",
       "2054                                                 []   \n",
       "2055                                                 []   \n",
       "2056  [Image-to-Image Translation, Image Inpainting,...   \n",
       "2057  [Word Embeddings, Graph Embedding, Graph Repre...   \n",
       "2058                                                 []   \n",
       "2059                                                 []   \n",
       "2060  [Image-to-Image Translation, Image Inpainting,...   \n",
       "2061  [Word Embeddings, Graph Embedding, Graph Repre...   \n",
       "2062                                                 []   \n",
       "2063                                                 []   \n",
       "2064  [Image-to-Image Translation, Image Inpainting,...   \n",
       "2065  [Word Embeddings, Graph Embedding, Graph Repre...   \n",
       "2066                                                 []   \n",
       "2067                                                 []   \n",
       "\n",
       "                                               siblings  \\\n",
       "2052  [Image Generation, Image Animation, Dialogue G...   \n",
       "2053                                                 []   \n",
       "2054  [Hyperspectral Image Classification, Artist cl...   \n",
       "2055      [Acoustic Unit Discovery, Unsupervised MNIST]   \n",
       "2056  [Image Generation, Image Animation, Dialogue G...   \n",
       "2057                                                 []   \n",
       "2058  [Hyperspectral Image Classification, Artist cl...   \n",
       "2059      [Acoustic Unit Discovery, Unsupervised MNIST]   \n",
       "2060  [Image Generation, Image Animation, Dialogue G...   \n",
       "2061                                                 []   \n",
       "2062  [Hyperspectral Image Classification, Artist cl...   \n",
       "2063      [Acoustic Unit Discovery, Unsupervised MNIST]   \n",
       "2064  [Image Generation, Image Animation, Dialogue G...   \n",
       "2065                                                 []   \n",
       "2066  [Hyperspectral Image Classification, Artist cl...   \n",
       "2067      [Acoustic Unit Discovery, Unsupervised MNIST]   \n",
       "\n",
       "                                    pdf_url  \\\n",
       "2052  http://arxiv.org/pdf/1606.03657v1.pdf   \n",
       "2053  http://arxiv.org/pdf/1606.03657v1.pdf   \n",
       "2054  http://arxiv.org/pdf/1606.03657v1.pdf   \n",
       "2055  http://arxiv.org/pdf/1606.03657v1.pdf   \n",
       "2056  http://arxiv.org/pdf/1606.03657v1.pdf   \n",
       "2057  http://arxiv.org/pdf/1606.03657v1.pdf   \n",
       "2058  http://arxiv.org/pdf/1606.03657v1.pdf   \n",
       "2059  http://arxiv.org/pdf/1606.03657v1.pdf   \n",
       "2060  http://arxiv.org/pdf/1606.03657v1.pdf   \n",
       "2061  http://arxiv.org/pdf/1606.03657v1.pdf   \n",
       "2062  http://arxiv.org/pdf/1606.03657v1.pdf   \n",
       "2063  http://arxiv.org/pdf/1606.03657v1.pdf   \n",
       "2064  http://arxiv.org/pdf/1606.03657v1.pdf   \n",
       "2065  http://arxiv.org/pdf/1606.03657v1.pdf   \n",
       "2066  http://arxiv.org/pdf/1606.03657v1.pdf   \n",
       "2067  http://arxiv.org/pdf/1606.03657v1.pdf   \n",
       "\n",
       "                                              paper_url  \\\n",
       "2052  https://paperswithcode.com/paper/infogan-inter...   \n",
       "2053  https://paperswithcode.com/paper/infogan-inter...   \n",
       "2054  https://paperswithcode.com/paper/infogan-inter...   \n",
       "2055  https://paperswithcode.com/paper/infogan-inter...   \n",
       "2056  https://paperswithcode.com/paper/infogan-inter...   \n",
       "2057  https://paperswithcode.com/paper/infogan-inter...   \n",
       "2058  https://paperswithcode.com/paper/infogan-inter...   \n",
       "2059  https://paperswithcode.com/paper/infogan-inter...   \n",
       "2060  https://paperswithcode.com/paper/infogan-inter...   \n",
       "2061  https://paperswithcode.com/paper/infogan-inter...   \n",
       "2062  https://paperswithcode.com/paper/infogan-inter...   \n",
       "2063  https://paperswithcode.com/paper/infogan-inter...   \n",
       "2064  https://paperswithcode.com/paper/infogan-inter...   \n",
       "2065  https://paperswithcode.com/paper/infogan-inter...   \n",
       "2066  https://paperswithcode.com/paper/infogan-inter...   \n",
       "2067  https://paperswithcode.com/paper/infogan-inter...   \n",
       "\n",
       "                                              all_tasks  \\\n",
       "2052  [Image Generation, Representation Learning, Un...   \n",
       "2053  [Image Generation, Representation Learning, Un...   \n",
       "2054  [Image Generation, Representation Learning, Un...   \n",
       "2055  [Image Generation, Representation Learning, Un...   \n",
       "2056  [Image Generation, Representation Learning, Un...   \n",
       "2057  [Image Generation, Representation Learning, Un...   \n",
       "2058  [Image Generation, Representation Learning, Un...   \n",
       "2059  [Image Generation, Representation Learning, Un...   \n",
       "2060  [Image Generation, Representation Learning, Un...   \n",
       "2061  [Image Generation, Representation Learning, Un...   \n",
       "2062  [Image Generation, Representation Learning, Un...   \n",
       "2063  [Image Generation, Representation Learning, Un...   \n",
       "2064  [Image Generation, Representation Learning, Un...   \n",
       "2065  [Image Generation, Representation Learning, Un...   \n",
       "2066  [Image Generation, Representation Learning, Un...   \n",
       "2067  [Image Generation, Representation Learning, Un...   \n",
       "\n",
       "                                            all_parents  \\\n",
       "2052  [Image Classification, 3D Face Animation, Unsu...   \n",
       "2053  [Image Classification, 3D Face Animation, Unsu...   \n",
       "2054  [Image Classification, 3D Face Animation, Unsu...   \n",
       "2055  [Image Classification, 3D Face Animation, Unsu...   \n",
       "2056  [Image Classification, 3D Face Animation, Unsu...   \n",
       "2057  [Image Classification, 3D Face Animation, Unsu...   \n",
       "2058  [Image Classification, 3D Face Animation, Unsu...   \n",
       "2059  [Image Classification, 3D Face Animation, Unsu...   \n",
       "2060  [Image Classification, 3D Face Animation, Unsu...   \n",
       "2061  [Image Classification, 3D Face Animation, Unsu...   \n",
       "2062  [Image Classification, 3D Face Animation, Unsu...   \n",
       "2063  [Image Classification, 3D Face Animation, Unsu...   \n",
       "2064  [Image Classification, 3D Face Animation, Unsu...   \n",
       "2065  [Image Classification, 3D Face Animation, Unsu...   \n",
       "2066  [Image Classification, 3D Face Animation, Unsu...   \n",
       "2067  [Image Classification, 3D Face Animation, Unsu...   \n",
       "\n",
       "                                           all_children  \\\n",
       "2052  [Graph Representation Learning, Learning Repre...   \n",
       "2053  [Graph Representation Learning, Learning Repre...   \n",
       "2054  [Graph Representation Learning, Learning Repre...   \n",
       "2055  [Graph Representation Learning, Learning Repre...   \n",
       "2056  [Graph Representation Learning, Learning Repre...   \n",
       "2057  [Graph Representation Learning, Learning Repre...   \n",
       "2058  [Graph Representation Learning, Learning Repre...   \n",
       "2059  [Graph Representation Learning, Learning Repre...   \n",
       "2060  [Graph Representation Learning, Learning Repre...   \n",
       "2061  [Graph Representation Learning, Learning Repre...   \n",
       "2062  [Graph Representation Learning, Learning Repre...   \n",
       "2063  [Graph Representation Learning, Learning Repre...   \n",
       "2064  [Graph Representation Learning, Learning Repre...   \n",
       "2065  [Graph Representation Learning, Learning Repre...   \n",
       "2066  [Graph Representation Learning, Learning Repre...   \n",
       "2067  [Graph Representation Learning, Learning Repre...   \n",
       "\n",
       "                                           all_siblings  \\\n",
       "2052  [Hyperspectral Image Classification, Artist cl...   \n",
       "2053  [Hyperspectral Image Classification, Artist cl...   \n",
       "2054  [Hyperspectral Image Classification, Artist cl...   \n",
       "2055  [Hyperspectral Image Classification, Artist cl...   \n",
       "2056  [Hyperspectral Image Classification, Artist cl...   \n",
       "2057  [Hyperspectral Image Classification, Artist cl...   \n",
       "2058  [Hyperspectral Image Classification, Artist cl...   \n",
       "2059  [Hyperspectral Image Classification, Artist cl...   \n",
       "2060  [Hyperspectral Image Classification, Artist cl...   \n",
       "2061  [Hyperspectral Image Classification, Artist cl...   \n",
       "2062  [Hyperspectral Image Classification, Artist cl...   \n",
       "2063  [Hyperspectral Image Classification, Artist cl...   \n",
       "2064  [Hyperspectral Image Classification, Artist cl...   \n",
       "2065  [Hyperspectral Image Classification, Artist cl...   \n",
       "2066  [Hyperspectral Image Classification, Artist cl...   \n",
       "2067  [Hyperspectral Image Classification, Artist cl...   \n",
       "\n",
       "                      all_categories  \n",
       "2052  [Computer Vision, Methodology]  \n",
       "2053  [Computer Vision, Methodology]  \n",
       "2054  [Computer Vision, Methodology]  \n",
       "2055  [Computer Vision, Methodology]  \n",
       "2056  [Computer Vision, Methodology]  \n",
       "2057  [Computer Vision, Methodology]  \n",
       "2058  [Computer Vision, Methodology]  \n",
       "2059  [Computer Vision, Methodology]  \n",
       "2060  [Computer Vision, Methodology]  \n",
       "2061  [Computer Vision, Methodology]  \n",
       "2062  [Computer Vision, Methodology]  \n",
       "2063  [Computer Vision, Methodology]  \n",
       "2064  [Computer Vision, Methodology]  \n",
       "2065  [Computer Vision, Methodology]  \n",
       "2066  [Computer Vision, Methodology]  \n",
       "2067  [Computer Vision, Methodology]  "
      ]
     },
     "execution_count": 53,
     "metadata": {},
     "output_type": "execute_result"
    }
   ],
   "source": [
    "dataset_citing_papers_pwc[dataset_citing_papers_pwc.title=='InfoGAN: Interpretable Representation Learning by Information Maximizing Generative Adversarial Nets']"
   ]
  },
  {
   "cell_type": "code",
   "execution_count": 256,
   "id": "6f8a195a-cb21-4131-89ce-408cf99590e9",
   "metadata": {},
   "outputs": [
    {
     "data": {
      "text/plain": [
       "0               ImageNet\n",
       "1               CIFAR-10\n",
       "2                  MNIST\n",
       "3              CIFAR-100\n",
       "4                  KITTI\n",
       "5                   SVHN\n",
       "6                 CelebA\n",
       "7           CUB-200-2011\n",
       "9          Fashion-MNIST\n",
       "10           LibriSpeech\n",
       "11    IMDb Movie Reviews\n",
       "12                   LFW\n",
       "13            OpenAI Gym\n",
       "14                HMDB51\n",
       "15                MuJoCo\n",
       "16                Pubmed\n",
       "17             MovieLens\n",
       "18                   BSD\n",
       "19                Places\n",
       "20                 NYUv2\n",
       "21                STL-10\n",
       "22              Omniglot\n",
       "23             Office-31\n",
       "24                   OTB\n",
       "25             MIMIC-III\n",
       "Name: name, dtype: object"
      ]
     },
     "execution_count": 256,
     "metadata": {},
     "output_type": "execute_result"
    }
   ],
   "source": [
    "used_datasets=datasets_pwc['name'].unique()\n",
    "missing_citers=dataset_citing_papers[dataset_citing_papers.name.isin(used_datasets)].drop_duplicates('title')\n",
    "manual_names=manual_task_labels[~manual_task_labels.Justification.isnull()].name\n",
    "manual_names"
   ]
  },
  {
   "cell_type": "code",
   "execution_count": 257,
   "id": "97837863",
   "metadata": {},
   "outputs": [],
   "source": [
    "untasked_datasets=datasets_pwc_total[(datasets_pwc_total.task.isnull()) & (~datasets_pwc_total.title.isnull())].name.drop_duplicates()\n",
    "untasked_citing_papers=dataset_citing_papers_pwc[dataset_citing_papers_pwc.name.isin(untasked_datasets)].drop_duplicates(['name','title'])\n",
    "temp=untasked_citing_papers.groupby('name').size().sort_values(ascending=False).cumsum()/untasked_citing_papers.shape[0]\n",
    "temp.name='percent_missing'\n",
    "untasked_dataset_papers=datasets[datasets.name.isin(untasked_datasets)]\n",
    "untasked_dataset_papers=pd.merge(untasked_dataset_papers,temp,on='name').to_csv(\"untasked_datasets.tsv\",sep='\\t')"
   ]
  },
  {
   "cell_type": "code",
   "execution_count": 274,
   "id": "94e7fe42-ed6c-49ca-b028-26b2b046aec0",
   "metadata": {},
   "outputs": [
    {
     "data": {
      "text/plain": [
       "0.5567496359980587"
      ]
     },
     "execution_count": 274,
     "metadata": {},
     "output_type": "execute_result"
    }
   ],
   "source": [
    "temp2=untasked_citing_papers.groupby('name').size().sort_values(ascending=False)\n",
    "temp2[temp2.index.isin(manual_names)].sum()/temp2.sum()\n"
   ]
  },
  {
   "cell_type": "code",
   "execution_count": 238,
   "id": "f990978e-da19-46e4-ae5f-b56be9300d63",
   "metadata": {},
   "outputs": [
    {
     "data": {
      "text/html": [
       "<div>\n",
       "<style scoped>\n",
       "    .dataframe tbody tr th:only-of-type {\n",
       "        vertical-align: middle;\n",
       "    }\n",
       "\n",
       "    .dataframe tbody tr th {\n",
       "        vertical-align: top;\n",
       "    }\n",
       "\n",
       "    .dataframe thead th {\n",
       "        text-align: right;\n",
       "    }\n",
       "</style>\n",
       "<table border=\"1\" class=\"dataframe\">\n",
       "  <thead>\n",
       "    <tr style=\"text-align: right;\">\n",
       "      <th></th>\n",
       "      <th>name</th>\n",
       "      <th>pwc_dataset_id</th>\n",
       "      <th>title</th>\n",
       "      <th>date</th>\n",
       "      <th>is_problematic</th>\n",
       "      <th>paper_count</th>\n",
       "      <th>task</th>\n",
       "      <th>categories</th>\n",
       "      <th>parents</th>\n",
       "      <th>children</th>\n",
       "      <th>siblings</th>\n",
       "      <th>pdf_url</th>\n",
       "      <th>paper_url</th>\n",
       "      <th>all_tasks</th>\n",
       "      <th>all_parents</th>\n",
       "      <th>all_children</th>\n",
       "      <th>all_siblings</th>\n",
       "      <th>all_categories</th>\n",
       "      <th>year</th>\n",
       "    </tr>\n",
       "  </thead>\n",
       "  <tbody>\n",
       "    <tr>\n",
       "      <th>0</th>\n",
       "      <td>MNIST</td>\n",
       "      <td>1</td>\n",
       "      <td>Modularity Matters: Learning Invariant Relatio...</td>\n",
       "      <td>2018-06-18</td>\n",
       "      <td>False</td>\n",
       "      <td>4159</td>\n",
       "      <td>Relational Reasoning</td>\n",
       "      <td>[Natural Language Processing]</td>\n",
       "      <td>[]</td>\n",
       "      <td>[]</td>\n",
       "      <td>[]</td>\n",
       "      <td>http://arxiv.org/pdf/1806.06765v1.pdf</td>\n",
       "      <td>https://paperswithcode.com/paper/modularity-ma...</td>\n",
       "      <td>[Relational Reasoning, Visual Reasoning]</td>\n",
       "      <td>[]</td>\n",
       "      <td>[Visual Commonsense Reasoning]</td>\n",
       "      <td>[]</td>\n",
       "      <td>[Natural Language Processing, Reasoning, Compu...</td>\n",
       "      <td>2018</td>\n",
       "    </tr>\n",
       "    <tr>\n",
       "      <th>4</th>\n",
       "      <td>MNIST</td>\n",
       "      <td>1</td>\n",
       "      <td>HitNet: a neural network with capsules embedde...</td>\n",
       "      <td>2018-06-18</td>\n",
       "      <td>False</td>\n",
       "      <td>4159</td>\n",
       "      <td>Data Augmentation</td>\n",
       "      <td>[Computer Vision, Natural Language Processing,...</td>\n",
       "      <td>[]</td>\n",
       "      <td>[Image Augmentation, Text Augmentation]</td>\n",
       "      <td>[]</td>\n",
       "      <td>http://arxiv.org/pdf/1806.06519v1.pdf</td>\n",
       "      <td>https://paperswithcode.com/paper/hitnet-a-neur...</td>\n",
       "      <td>[Data Augmentation]</td>\n",
       "      <td>[]</td>\n",
       "      <td>[Image Augmentation, Text Augmentation]</td>\n",
       "      <td>[]</td>\n",
       "      <td>[Natural Language Processing, Computer Vision,...</td>\n",
       "      <td>2018</td>\n",
       "    </tr>\n",
       "    <tr>\n",
       "      <th>7</th>\n",
       "      <td>MNIST</td>\n",
       "      <td>1</td>\n",
       "      <td>Fast Convex Pruning of Deep Neural Networks</td>\n",
       "      <td>2018-06-17</td>\n",
       "      <td>False</td>\n",
       "      <td>4159</td>\n",
       "      <td>Network Pruning</td>\n",
       "      <td>[Methodology]</td>\n",
       "      <td>[]</td>\n",
       "      <td>[]</td>\n",
       "      <td>[]</td>\n",
       "      <td>http://arxiv.org/pdf/1806.06457v2.pdf</td>\n",
       "      <td>https://paperswithcode.com/paper/fast-convex-p...</td>\n",
       "      <td>[Network Pruning]</td>\n",
       "      <td>[]</td>\n",
       "      <td>[]</td>\n",
       "      <td>[]</td>\n",
       "      <td>[Methodology]</td>\n",
       "      <td>2018</td>\n",
       "    </tr>\n",
       "    <tr>\n",
       "      <th>8</th>\n",
       "      <td>MNIST</td>\n",
       "      <td>1</td>\n",
       "      <td>Learning Factorized Multimodal Representations</td>\n",
       "      <td>2018-06-16</td>\n",
       "      <td>False</td>\n",
       "      <td>4159</td>\n",
       "      <td>Representation Learning</td>\n",
       "      <td>[Methodology]</td>\n",
       "      <td>[]</td>\n",
       "      <td>[Word Embeddings, Graph Embedding, Graph Repre...</td>\n",
       "      <td>[]</td>\n",
       "      <td>https://arxiv.org/pdf/1806.06176v3.pdf</td>\n",
       "      <td>https://paperswithcode.com/paper/learning-fact...</td>\n",
       "      <td>[Representation Learning]</td>\n",
       "      <td>[]</td>\n",
       "      <td>[Learning Representation Of Multi-View Data, G...</td>\n",
       "      <td>[]</td>\n",
       "      <td>[Methodology]</td>\n",
       "      <td>2018</td>\n",
       "    </tr>\n",
       "    <tr>\n",
       "      <th>11</th>\n",
       "      <td>MNIST</td>\n",
       "      <td>1</td>\n",
       "      <td>Uncertainty Estimations by Softplus normalizat...</td>\n",
       "      <td>2018-06-15</td>\n",
       "      <td>False</td>\n",
       "      <td>4159</td>\n",
       "      <td>General Classification</td>\n",
       "      <td>[Natural Language Processing, Methodology]</td>\n",
       "      <td>[]</td>\n",
       "      <td>[Constructive Comment Classification]</td>\n",
       "      <td>[]</td>\n",
       "      <td>https://arxiv.org/pdf/1806.05978v6.pdf</td>\n",
       "      <td>https://paperswithcode.com/paper/bayesian-conv...</td>\n",
       "      <td>[Bayesian Inference, General Classification, V...</td>\n",
       "      <td>[]</td>\n",
       "      <td>[Probabilistic Programming, Constructive Comme...</td>\n",
       "      <td>[]</td>\n",
       "      <td>[Natural Language Processing, Methodology]</td>\n",
       "      <td>2018</td>\n",
       "    </tr>\n",
       "    <tr>\n",
       "      <th>...</th>\n",
       "      <td>...</td>\n",
       "      <td>...</td>\n",
       "      <td>...</td>\n",
       "      <td>...</td>\n",
       "      <td>...</td>\n",
       "      <td>...</td>\n",
       "      <td>...</td>\n",
       "      <td>...</td>\n",
       "      <td>...</td>\n",
       "      <td>...</td>\n",
       "      <td>...</td>\n",
       "      <td>...</td>\n",
       "      <td>...</td>\n",
       "      <td>...</td>\n",
       "      <td>...</td>\n",
       "      <td>...</td>\n",
       "      <td>...</td>\n",
       "      <td>...</td>\n",
       "      <td>...</td>\n",
       "    </tr>\n",
       "    <tr>\n",
       "      <th>216899</th>\n",
       "      <td>Colored MNIST</td>\n",
       "      <td>7627</td>\n",
       "      <td>Invariant Causal Representation Learning</td>\n",
       "      <td>2021-01-01</td>\n",
       "      <td>False</td>\n",
       "      <td>51</td>\n",
       "      <td>Representation Learning</td>\n",
       "      <td>[Methodology]</td>\n",
       "      <td>[]</td>\n",
       "      <td>[Word Embeddings, Graph Embedding, Graph Repre...</td>\n",
       "      <td>[]</td>\n",
       "      <td>https://openreview.net/pdf?id=K4wkUp5xNK</td>\n",
       "      <td>https://paperswithcode.com/paper/invariant-cau...</td>\n",
       "      <td>[Representation Learning]</td>\n",
       "      <td>[]</td>\n",
       "      <td>[Learning Representation Of Multi-View Data, G...</td>\n",
       "      <td>[]</td>\n",
       "      <td>[Methodology]</td>\n",
       "      <td>2021</td>\n",
       "    </tr>\n",
       "    <tr>\n",
       "      <th>216900</th>\n",
       "      <td>Colored MNIST</td>\n",
       "      <td>7627</td>\n",
       "      <td>Nonlinear Invariant Risk Minimization: A Causa...</td>\n",
       "      <td>2021-02-24</td>\n",
       "      <td>False</td>\n",
       "      <td>51</td>\n",
       "      <td>Representation Learning</td>\n",
       "      <td>[Methodology]</td>\n",
       "      <td>[]</td>\n",
       "      <td>[Word Embeddings, Graph Embedding, Graph Repre...</td>\n",
       "      <td>[]</td>\n",
       "      <td>https://arxiv.org/pdf/2102.12353v2.pdf</td>\n",
       "      <td>https://paperswithcode.com/paper/nonlinear-inv...</td>\n",
       "      <td>[Representation Learning]</td>\n",
       "      <td>[]</td>\n",
       "      <td>[Learning Representation Of Multi-View Data, G...</td>\n",
       "      <td>[]</td>\n",
       "      <td>[Methodology]</td>\n",
       "      <td>2021</td>\n",
       "    </tr>\n",
       "    <tr>\n",
       "      <th>216901</th>\n",
       "      <td>Colored MNIST</td>\n",
       "      <td>7627</td>\n",
       "      <td>Meta-Learned Invariant Risk Minimization</td>\n",
       "      <td>2021-03-24</td>\n",
       "      <td>False</td>\n",
       "      <td>51</td>\n",
       "      <td>Meta-Learning</td>\n",
       "      <td>[Methodology]</td>\n",
       "      <td>[]</td>\n",
       "      <td>[Few-Shot Learning, Few-shot Regression]</td>\n",
       "      <td>[]</td>\n",
       "      <td>https://arxiv.org/pdf/2103.12947v1.pdf</td>\n",
       "      <td>https://paperswithcode.com/paper/meta-learned-...</td>\n",
       "      <td>[Meta-Learning]</td>\n",
       "      <td>[]</td>\n",
       "      <td>[Few-shot Regression, Few-Shot Learning]</td>\n",
       "      <td>[]</td>\n",
       "      <td>[Methodology]</td>\n",
       "      <td>2021</td>\n",
       "    </tr>\n",
       "    <tr>\n",
       "      <th>216902</th>\n",
       "      <td>Colored MNIST</td>\n",
       "      <td>7627</td>\n",
       "      <td>Towards Causal Federated Learning For Enhanced...</td>\n",
       "      <td>2021-04-14</td>\n",
       "      <td>False</td>\n",
       "      <td>51</td>\n",
       "      <td>Federated Learning</td>\n",
       "      <td>[Methodology]</td>\n",
       "      <td>[]</td>\n",
       "      <td>[Personalized Federated Learning]</td>\n",
       "      <td>[]</td>\n",
       "      <td>https://arxiv.org/pdf/2104.06557v1.pdf</td>\n",
       "      <td>https://paperswithcode.com/paper/towards-causa...</td>\n",
       "      <td>[Federated Learning]</td>\n",
       "      <td>[]</td>\n",
       "      <td>[Personalized Federated Learning]</td>\n",
       "      <td>[]</td>\n",
       "      <td>[Methodology]</td>\n",
       "      <td>2021</td>\n",
       "    </tr>\n",
       "    <tr>\n",
       "      <th>216979</th>\n",
       "      <td>AGENT</td>\n",
       "      <td>7709</td>\n",
       "      <td>Baby Intuitions Benchmark (BIB): Discerning th...</td>\n",
       "      <td>2021-02-23</td>\n",
       "      <td>False</td>\n",
       "      <td>2</td>\n",
       "      <td>Common Sense Reasoning</td>\n",
       "      <td>[Reasoning]</td>\n",
       "      <td>[]</td>\n",
       "      <td>[]</td>\n",
       "      <td>[]</td>\n",
       "      <td>https://arxiv.org/pdf/2102.11938v1.pdf</td>\n",
       "      <td>https://paperswithcode.com/paper/baby-intuitio...</td>\n",
       "      <td>[Common Sense Reasoning]</td>\n",
       "      <td>[]</td>\n",
       "      <td>[]</td>\n",
       "      <td>[]</td>\n",
       "      <td>[Reasoning]</td>\n",
       "      <td>2021</td>\n",
       "    </tr>\n",
       "  </tbody>\n",
       "</table>\n",
       "<p>28876 rows × 19 columns</p>\n",
       "</div>"
      ],
      "text/plain": [
       "                 name  pwc_dataset_id  \\\n",
       "0               MNIST               1   \n",
       "4               MNIST               1   \n",
       "7               MNIST               1   \n",
       "8               MNIST               1   \n",
       "11              MNIST               1   \n",
       "...               ...             ...   \n",
       "216899  Colored MNIST            7627   \n",
       "216900  Colored MNIST            7627   \n",
       "216901  Colored MNIST            7627   \n",
       "216902  Colored MNIST            7627   \n",
       "216979          AGENT            7709   \n",
       "\n",
       "                                                    title       date  \\\n",
       "0       Modularity Matters: Learning Invariant Relatio... 2018-06-18   \n",
       "4       HitNet: a neural network with capsules embedde... 2018-06-18   \n",
       "7             Fast Convex Pruning of Deep Neural Networks 2018-06-17   \n",
       "8          Learning Factorized Multimodal Representations 2018-06-16   \n",
       "11      Uncertainty Estimations by Softplus normalizat... 2018-06-15   \n",
       "...                                                   ...        ...   \n",
       "216899           Invariant Causal Representation Learning 2021-01-01   \n",
       "216900  Nonlinear Invariant Risk Minimization: A Causa... 2021-02-24   \n",
       "216901           Meta-Learned Invariant Risk Minimization 2021-03-24   \n",
       "216902  Towards Causal Federated Learning For Enhanced... 2021-04-14   \n",
       "216979  Baby Intuitions Benchmark (BIB): Discerning th... 2021-02-23   \n",
       "\n",
       "        is_problematic  paper_count                     task  \\\n",
       "0                False         4159     Relational Reasoning   \n",
       "4                False         4159        Data Augmentation   \n",
       "7                False         4159          Network Pruning   \n",
       "8                False         4159  Representation Learning   \n",
       "11               False         4159   General Classification   \n",
       "...                ...          ...                      ...   \n",
       "216899           False           51  Representation Learning   \n",
       "216900           False           51  Representation Learning   \n",
       "216901           False           51            Meta-Learning   \n",
       "216902           False           51       Federated Learning   \n",
       "216979           False            2   Common Sense Reasoning   \n",
       "\n",
       "                                               categories parents  \\\n",
       "0                           [Natural Language Processing]      []   \n",
       "4       [Computer Vision, Natural Language Processing,...      []   \n",
       "7                                           [Methodology]      []   \n",
       "8                                           [Methodology]      []   \n",
       "11             [Natural Language Processing, Methodology]      []   \n",
       "...                                                   ...     ...   \n",
       "216899                                      [Methodology]      []   \n",
       "216900                                      [Methodology]      []   \n",
       "216901                                      [Methodology]      []   \n",
       "216902                                      [Methodology]      []   \n",
       "216979                                        [Reasoning]      []   \n",
       "\n",
       "                                                 children siblings  \\\n",
       "0                                                      []       []   \n",
       "4                 [Image Augmentation, Text Augmentation]       []   \n",
       "7                                                      []       []   \n",
       "8       [Word Embeddings, Graph Embedding, Graph Repre...       []   \n",
       "11                  [Constructive Comment Classification]       []   \n",
       "...                                                   ...      ...   \n",
       "216899  [Word Embeddings, Graph Embedding, Graph Repre...       []   \n",
       "216900  [Word Embeddings, Graph Embedding, Graph Repre...       []   \n",
       "216901           [Few-Shot Learning, Few-shot Regression]       []   \n",
       "216902                  [Personalized Federated Learning]       []   \n",
       "216979                                                 []       []   \n",
       "\n",
       "                                         pdf_url  \\\n",
       "0          http://arxiv.org/pdf/1806.06765v1.pdf   \n",
       "4          http://arxiv.org/pdf/1806.06519v1.pdf   \n",
       "7          http://arxiv.org/pdf/1806.06457v2.pdf   \n",
       "8         https://arxiv.org/pdf/1806.06176v3.pdf   \n",
       "11        https://arxiv.org/pdf/1806.05978v6.pdf   \n",
       "...                                          ...   \n",
       "216899  https://openreview.net/pdf?id=K4wkUp5xNK   \n",
       "216900    https://arxiv.org/pdf/2102.12353v2.pdf   \n",
       "216901    https://arxiv.org/pdf/2103.12947v1.pdf   \n",
       "216902    https://arxiv.org/pdf/2104.06557v1.pdf   \n",
       "216979    https://arxiv.org/pdf/2102.11938v1.pdf   \n",
       "\n",
       "                                                paper_url  \\\n",
       "0       https://paperswithcode.com/paper/modularity-ma...   \n",
       "4       https://paperswithcode.com/paper/hitnet-a-neur...   \n",
       "7       https://paperswithcode.com/paper/fast-convex-p...   \n",
       "8       https://paperswithcode.com/paper/learning-fact...   \n",
       "11      https://paperswithcode.com/paper/bayesian-conv...   \n",
       "...                                                   ...   \n",
       "216899  https://paperswithcode.com/paper/invariant-cau...   \n",
       "216900  https://paperswithcode.com/paper/nonlinear-inv...   \n",
       "216901  https://paperswithcode.com/paper/meta-learned-...   \n",
       "216902  https://paperswithcode.com/paper/towards-causa...   \n",
       "216979  https://paperswithcode.com/paper/baby-intuitio...   \n",
       "\n",
       "                                                all_tasks all_parents  \\\n",
       "0                [Relational Reasoning, Visual Reasoning]          []   \n",
       "4                                     [Data Augmentation]          []   \n",
       "7                                       [Network Pruning]          []   \n",
       "8                               [Representation Learning]          []   \n",
       "11      [Bayesian Inference, General Classification, V...          []   \n",
       "...                                                   ...         ...   \n",
       "216899                          [Representation Learning]          []   \n",
       "216900                          [Representation Learning]          []   \n",
       "216901                                    [Meta-Learning]          []   \n",
       "216902                               [Federated Learning]          []   \n",
       "216979                           [Common Sense Reasoning]          []   \n",
       "\n",
       "                                             all_children all_siblings  \\\n",
       "0                          [Visual Commonsense Reasoning]           []   \n",
       "4                 [Image Augmentation, Text Augmentation]           []   \n",
       "7                                                      []           []   \n",
       "8       [Learning Representation Of Multi-View Data, G...           []   \n",
       "11      [Probabilistic Programming, Constructive Comme...           []   \n",
       "...                                                   ...          ...   \n",
       "216899  [Learning Representation Of Multi-View Data, G...           []   \n",
       "216900  [Learning Representation Of Multi-View Data, G...           []   \n",
       "216901           [Few-shot Regression, Few-Shot Learning]           []   \n",
       "216902                  [Personalized Federated Learning]           []   \n",
       "216979                                                 []           []   \n",
       "\n",
       "                                           all_categories  year  \n",
       "0       [Natural Language Processing, Reasoning, Compu...  2018  \n",
       "4       [Natural Language Processing, Computer Vision,...  2018  \n",
       "7                                           [Methodology]  2018  \n",
       "8                                           [Methodology]  2018  \n",
       "11             [Natural Language Processing, Methodology]  2018  \n",
       "...                                                   ...   ...  \n",
       "216899                                      [Methodology]  2021  \n",
       "216900                                      [Methodology]  2021  \n",
       "216901                                      [Methodology]  2021  \n",
       "216902                                      [Methodology]  2021  \n",
       "216979                                        [Reasoning]  2021  \n",
       "\n",
       "[28876 rows x 19 columns]"
      ]
     },
     "execution_count": 238,
     "metadata": {},
     "output_type": "execute_result"
    }
   ],
   "source": [
    "dataset_citing_papers_pwc[dataset_citing_papers_pwc.name.isin(temp.index)].drop_duplicates('title')"
   ]
  },
  {
   "cell_type": "code",
   "execution_count": 140,
   "id": "812f6993-3022-4d69-b654-0946cd2f4b44",
   "metadata": {},
   "outputs": [
    {
     "data": {
      "text/html": [
       "<div>\n",
       "<style scoped>\n",
       "    .dataframe tbody tr th:only-of-type {\n",
       "        vertical-align: middle;\n",
       "    }\n",
       "\n",
       "    .dataframe tbody tr th {\n",
       "        vertical-align: top;\n",
       "    }\n",
       "\n",
       "    .dataframe thead th {\n",
       "        text-align: right;\n",
       "    }\n",
       "</style>\n",
       "<table border=\"1\" class=\"dataframe\">\n",
       "  <thead>\n",
       "    <tr style=\"text-align: right;\">\n",
       "      <th></th>\n",
       "      <th>url</th>\n",
       "      <th>name</th>\n",
       "      <th>full_name</th>\n",
       "      <th>homepage</th>\n",
       "      <th>description</th>\n",
       "      <th>introduced_date</th>\n",
       "      <th>warning</th>\n",
       "      <th>modalities</th>\n",
       "      <th>languages</th>\n",
       "      <th>variants</th>\n",
       "      <th>num_papers</th>\n",
       "      <th>data_loaders</th>\n",
       "      <th>title</th>\n",
       "      <th>paper_url</th>\n",
       "      <th>Texts</th>\n",
       "      <th>Images</th>\n",
       "      <th>percent_missing</th>\n",
       "    </tr>\n",
       "  </thead>\n",
       "  <tbody>\n",
       "    <tr>\n",
       "      <th>0</th>\n",
       "      <td>https://paperswithcode.com/dataset/mnist</td>\n",
       "      <td>MNIST</td>\n",
       "      <td></td>\n",
       "      <td>http://yann.lecun.com/exdb/mnist/</td>\n",
       "      <td>The **MNIST** database (**Modified National In...</td>\n",
       "      <td>NaT</td>\n",
       "      <td>None</td>\n",
       "      <td>[Images]</td>\n",
       "      <td>[]</td>\n",
       "      <td>[75 Superpixel MNIST, MNIST, MNIST-full, MNIST...</td>\n",
       "      <td>4159</td>\n",
       "      <td>[{'url': 'https://pytorch.org/vision/stable/da...</td>\n",
       "      <td>Gradient-based learning applied to document re...</td>\n",
       "      <td>http://arxiv.org/pdf/1102.0183.pdf</td>\n",
       "      <td>False</td>\n",
       "      <td>True</td>\n",
       "      <td>0.255564</td>\n",
       "    </tr>\n",
       "    <tr>\n",
       "      <th>1</th>\n",
       "      <td>https://paperswithcode.com/dataset/celeba</td>\n",
       "      <td>CelebA</td>\n",
       "      <td>CelebFaces Attributes Dataset</td>\n",
       "      <td>http://mmlab.ie.cuhk.edu.hk/projects/CelebA.html</td>\n",
       "      <td>CelebFaces Attributes dataset contains 202,599...</td>\n",
       "      <td>2015-01-01</td>\n",
       "      <td>None</td>\n",
       "      <td>[Images]</td>\n",
       "      <td>[]</td>\n",
       "      <td>[CelebA Aligned, CelebA 64x64, CelebA 256x256,...</td>\n",
       "      <td>1539</td>\n",
       "      <td>[{'url': 'https://pytorch.org/vision/stable/da...</td>\n",
       "      <td>Deep Learning Face Attributes in the Wild</td>\n",
       "      <td>https://paperswithcode.com/paper/deep-learning...</td>\n",
       "      <td>False</td>\n",
       "      <td>True</td>\n",
       "      <td>0.382329</td>\n",
       "    </tr>\n",
       "    <tr>\n",
       "      <th>2</th>\n",
       "      <td>https://paperswithcode.com/dataset/imagenet</td>\n",
       "      <td>ImageNet</td>\n",
       "      <td></td>\n",
       "      <td>http://image-net.org/challenges/LSVRC/</td>\n",
       "      <td>The **ImageNet** dataset contains 14,197,122 a...</td>\n",
       "      <td>2009-01-01</td>\n",
       "      <td>None</td>\n",
       "      <td>[Images]</td>\n",
       "      <td>[English]</td>\n",
       "      <td>[ILSVRC 2015, ILSVRC 2016, ImageNet, ImageNet ...</td>\n",
       "      <td>6081</td>\n",
       "      <td>[{'url': 'https://pytorch.org/vision/stable/da...</td>\n",
       "      <td>ImageNet: A large-scale hierarchical image dat...</td>\n",
       "      <td>https://doi.org/10.1109/CVPR.2009.5206848</td>\n",
       "      <td>False</td>\n",
       "      <td>True</td>\n",
       "      <td>0.107213</td>\n",
       "    </tr>\n",
       "    <tr>\n",
       "      <th>3</th>\n",
       "      <td>https://paperswithcode.com/dataset/penn-treebank</td>\n",
       "      <td>Penn Treebank</td>\n",
       "      <td></td>\n",
       "      <td>https://catalog.ldc.upenn.edu/docs/LDC95T7/cl9...</td>\n",
       "      <td>The English **Penn Treebank** (**PTB**) corpus...</td>\n",
       "      <td>1993-01-01</td>\n",
       "      <td>None</td>\n",
       "      <td>[Texts]</td>\n",
       "      <td>[]</td>\n",
       "      <td>[PTB dataset, ECG lead II, PTB, Penn Treebank ...</td>\n",
       "      <td>1056</td>\n",
       "      <td>[{'url': 'https://pytorch.org/text/stable/data...</td>\n",
       "      <td>Building a Large Annotated Corpus of English: ...</td>\n",
       "      <td>http://dl.acm.org/citation.cfm?id=972470.972475</td>\n",
       "      <td>True</td>\n",
       "      <td>False</td>\n",
       "      <td>0.418960</td>\n",
       "    </tr>\n",
       "    <tr>\n",
       "      <th>4</th>\n",
       "      <td>https://paperswithcode.com/dataset/lfw</td>\n",
       "      <td>LFW</td>\n",
       "      <td>Labeled Faces in the Wild</td>\n",
       "      <td>http://vis-www.cs.umass.edu/lfw/</td>\n",
       "      <td>The **LFW** dataset contains 13,233 images of ...</td>\n",
       "      <td>NaT</td>\n",
       "      <td>None</td>\n",
       "      <td>[Images]</td>\n",
       "      <td>[]</td>\n",
       "      <td>[LFW, Labeled Faces in the Wild, LFW (Online O...</td>\n",
       "      <td>576</td>\n",
       "      <td>[{'url': 'https://www.tensorflow.org/datasets/...</td>\n",
       "      <td>Labeled faces in the wild: A database for stud...</td>\n",
       "      <td>http://vis-www.cs.umass.edu/lfw/lfw.pdf</td>\n",
       "      <td>False</td>\n",
       "      <td>True</td>\n",
       "      <td>0.472139</td>\n",
       "    </tr>\n",
       "    <tr>\n",
       "      <th>...</th>\n",
       "      <td>...</td>\n",
       "      <td>...</td>\n",
       "      <td>...</td>\n",
       "      <td>...</td>\n",
       "      <td>...</td>\n",
       "      <td>...</td>\n",
       "      <td>...</td>\n",
       "      <td>...</td>\n",
       "      <td>...</td>\n",
       "      <td>...</td>\n",
       "      <td>...</td>\n",
       "      <td>...</td>\n",
       "      <td>...</td>\n",
       "      <td>...</td>\n",
       "      <td>...</td>\n",
       "      <td>...</td>\n",
       "      <td>...</td>\n",
       "    </tr>\n",
       "    <tr>\n",
       "      <th>635</th>\n",
       "      <td>https://paperswithcode.com/dataset/bdd-x</td>\n",
       "      <td>BDD-X</td>\n",
       "      <td>Berkeley Deep Drive-X (eXplanation)</td>\n",
       "      <td>https://github.com/JinkyuKimUCB/BDD-X-dataset</td>\n",
       "      <td>**Berkeley Deep Drive-X (eXplanation)** is a d...</td>\n",
       "      <td>NaT</td>\n",
       "      <td>None</td>\n",
       "      <td>[]</td>\n",
       "      <td>[English]</td>\n",
       "      <td>[BDD-X]</td>\n",
       "      <td>8</td>\n",
       "      <td>[]</td>\n",
       "      <td>Textual Explanations for Self-Driving Vehicles</td>\n",
       "      <td>https://paperswithcode.com/paper/textual-expla...</td>\n",
       "      <td>False</td>\n",
       "      <td>False</td>\n",
       "      <td>0.988491</td>\n",
       "    </tr>\n",
       "    <tr>\n",
       "      <th>636</th>\n",
       "      <td>https://paperswithcode.com/dataset/data-collec...</td>\n",
       "      <td>Data Collected with Package Delivery Quadcopte...</td>\n",
       "      <td></td>\n",
       "      <td>https://doi.org/10.1184/R1/12683453.v1</td>\n",
       "      <td>This experiment was performed in order to empi...</td>\n",
       "      <td>2020-07-27</td>\n",
       "      <td>None</td>\n",
       "      <td>[Tabular, Time series]</td>\n",
       "      <td>[English]</td>\n",
       "      <td>[Data Collected with Package Delivery Quadcopt...</td>\n",
       "      <td>2</td>\n",
       "      <td>[]</td>\n",
       "      <td>In-flight positional and energy use data set o...</td>\n",
       "      <td>https://paperswithcode.com/paper/in-flight-pos...</td>\n",
       "      <td>False</td>\n",
       "      <td>False</td>\n",
       "      <td>0.998660</td>\n",
       "    </tr>\n",
       "    <tr>\n",
       "      <th>637</th>\n",
       "      <td>https://paperswithcode.com/dataset/pde-dataset</td>\n",
       "      <td>PDE dataset</td>\n",
       "      <td>Parametric Partial Differential Equation dataset</td>\n",
       "      <td>https://github.com/zongyi-li/graph-pde</td>\n",
       "      <td>Contains data of parametric PDEs\\n\\n- Burgers'...</td>\n",
       "      <td>NaT</td>\n",
       "      <td>None</td>\n",
       "      <td>[Physics]</td>\n",
       "      <td>[English]</td>\n",
       "      <td>[PDE dataset]</td>\n",
       "      <td>2</td>\n",
       "      <td>[]</td>\n",
       "      <td>Multipole Graph Neural Operator for Parametric...</td>\n",
       "      <td>https://paperswithcode.com/paper/multipole-gra...</td>\n",
       "      <td>False</td>\n",
       "      <td>False</td>\n",
       "      <td>0.998613</td>\n",
       "    </tr>\n",
       "    <tr>\n",
       "      <th>638</th>\n",
       "      <td>https://paperswithcode.com/dataset/colored-mnist</td>\n",
       "      <td>Colored MNIST</td>\n",
       "      <td></td>\n",
       "      <td></td>\n",
       "      <td>Click to add a brief description of the datase...</td>\n",
       "      <td>NaT</td>\n",
       "      <td>None</td>\n",
       "      <td>[]</td>\n",
       "      <td>[]</td>\n",
       "      <td>[Colored MNIST]</td>\n",
       "      <td>51</td>\n",
       "      <td>[]</td>\n",
       "      <td>Invariant Risk Minimization</td>\n",
       "      <td>https://paperswithcode.com/paper/invariant-ris...</td>\n",
       "      <td>False</td>\n",
       "      <td>False</td>\n",
       "      <td>0.931152</td>\n",
       "    </tr>\n",
       "    <tr>\n",
       "      <th>639</th>\n",
       "      <td>https://paperswithcode.com/dataset/agent</td>\n",
       "      <td>AGENT</td>\n",
       "      <td></td>\n",
       "      <td>https://www.tshu.io/AGENT/</td>\n",
       "      <td>Inspired by cognitive development studies on i...</td>\n",
       "      <td>2021-02-24</td>\n",
       "      <td>None</td>\n",
       "      <td>[]</td>\n",
       "      <td>[]</td>\n",
       "      <td>[AGENT]</td>\n",
       "      <td>2</td>\n",
       "      <td>[]</td>\n",
       "      <td>AGENT: A Benchmark for Core Psychological Reas...</td>\n",
       "      <td>https://paperswithcode.com/paper/agent-a-bench...</td>\n",
       "      <td>False</td>\n",
       "      <td>False</td>\n",
       "      <td>0.997458</td>\n",
       "    </tr>\n",
       "  </tbody>\n",
       "</table>\n",
       "<p>640 rows × 17 columns</p>\n",
       "</div>"
      ],
      "text/plain": [
       "                                                   url  \\\n",
       "0             https://paperswithcode.com/dataset/mnist   \n",
       "1            https://paperswithcode.com/dataset/celeba   \n",
       "2          https://paperswithcode.com/dataset/imagenet   \n",
       "3     https://paperswithcode.com/dataset/penn-treebank   \n",
       "4               https://paperswithcode.com/dataset/lfw   \n",
       "..                                                 ...   \n",
       "635           https://paperswithcode.com/dataset/bdd-x   \n",
       "636  https://paperswithcode.com/dataset/data-collec...   \n",
       "637     https://paperswithcode.com/dataset/pde-dataset   \n",
       "638   https://paperswithcode.com/dataset/colored-mnist   \n",
       "639           https://paperswithcode.com/dataset/agent   \n",
       "\n",
       "                                                  name  \\\n",
       "0                                                MNIST   \n",
       "1                                               CelebA   \n",
       "2                                             ImageNet   \n",
       "3                                        Penn Treebank   \n",
       "4                                                  LFW   \n",
       "..                                                 ...   \n",
       "635                                              BDD-X   \n",
       "636  Data Collected with Package Delivery Quadcopte...   \n",
       "637                                        PDE dataset   \n",
       "638                                      Colored MNIST   \n",
       "639                                              AGENT   \n",
       "\n",
       "                                            full_name  \\\n",
       "0                                                       \n",
       "1                       CelebFaces Attributes Dataset   \n",
       "2                                                       \n",
       "3                                                       \n",
       "4                           Labeled Faces in the Wild   \n",
       "..                                                ...   \n",
       "635               Berkeley Deep Drive-X (eXplanation)   \n",
       "636                                                     \n",
       "637  Parametric Partial Differential Equation dataset   \n",
       "638                                                     \n",
       "639                                                     \n",
       "\n",
       "                                              homepage  \\\n",
       "0                    http://yann.lecun.com/exdb/mnist/   \n",
       "1     http://mmlab.ie.cuhk.edu.hk/projects/CelebA.html   \n",
       "2               http://image-net.org/challenges/LSVRC/   \n",
       "3    https://catalog.ldc.upenn.edu/docs/LDC95T7/cl9...   \n",
       "4                     http://vis-www.cs.umass.edu/lfw/   \n",
       "..                                                 ...   \n",
       "635      https://github.com/JinkyuKimUCB/BDD-X-dataset   \n",
       "636             https://doi.org/10.1184/R1/12683453.v1   \n",
       "637             https://github.com/zongyi-li/graph-pde   \n",
       "638                                                      \n",
       "639                         https://www.tshu.io/AGENT/   \n",
       "\n",
       "                                           description introduced_date  \\\n",
       "0    The **MNIST** database (**Modified National In...             NaT   \n",
       "1    CelebFaces Attributes dataset contains 202,599...      2015-01-01   \n",
       "2    The **ImageNet** dataset contains 14,197,122 a...      2009-01-01   \n",
       "3    The English **Penn Treebank** (**PTB**) corpus...      1993-01-01   \n",
       "4    The **LFW** dataset contains 13,233 images of ...             NaT   \n",
       "..                                                 ...             ...   \n",
       "635  **Berkeley Deep Drive-X (eXplanation)** is a d...             NaT   \n",
       "636  This experiment was performed in order to empi...      2020-07-27   \n",
       "637  Contains data of parametric PDEs\\n\\n- Burgers'...             NaT   \n",
       "638  Click to add a brief description of the datase...             NaT   \n",
       "639  Inspired by cognitive development studies on i...      2021-02-24   \n",
       "\n",
       "    warning              modalities  languages  \\\n",
       "0      None                [Images]         []   \n",
       "1      None                [Images]         []   \n",
       "2      None                [Images]  [English]   \n",
       "3      None                 [Texts]         []   \n",
       "4      None                [Images]         []   \n",
       "..      ...                     ...        ...   \n",
       "635    None                      []  [English]   \n",
       "636    None  [Tabular, Time series]  [English]   \n",
       "637    None               [Physics]  [English]   \n",
       "638    None                      []         []   \n",
       "639    None                      []         []   \n",
       "\n",
       "                                              variants  num_papers  \\\n",
       "0    [75 Superpixel MNIST, MNIST, MNIST-full, MNIST...        4159   \n",
       "1    [CelebA Aligned, CelebA 64x64, CelebA 256x256,...        1539   \n",
       "2    [ILSVRC 2015, ILSVRC 2016, ImageNet, ImageNet ...        6081   \n",
       "3    [PTB dataset, ECG lead II, PTB, Penn Treebank ...        1056   \n",
       "4    [LFW, Labeled Faces in the Wild, LFW (Online O...         576   \n",
       "..                                                 ...         ...   \n",
       "635                                            [BDD-X]           8   \n",
       "636  [Data Collected with Package Delivery Quadcopt...           2   \n",
       "637                                      [PDE dataset]           2   \n",
       "638                                    [Colored MNIST]          51   \n",
       "639                                            [AGENT]           2   \n",
       "\n",
       "                                          data_loaders  \\\n",
       "0    [{'url': 'https://pytorch.org/vision/stable/da...   \n",
       "1    [{'url': 'https://pytorch.org/vision/stable/da...   \n",
       "2    [{'url': 'https://pytorch.org/vision/stable/da...   \n",
       "3    [{'url': 'https://pytorch.org/text/stable/data...   \n",
       "4    [{'url': 'https://www.tensorflow.org/datasets/...   \n",
       "..                                                 ...   \n",
       "635                                                 []   \n",
       "636                                                 []   \n",
       "637                                                 []   \n",
       "638                                                 []   \n",
       "639                                                 []   \n",
       "\n",
       "                                                 title  \\\n",
       "0    Gradient-based learning applied to document re...   \n",
       "1            Deep Learning Face Attributes in the Wild   \n",
       "2    ImageNet: A large-scale hierarchical image dat...   \n",
       "3    Building a Large Annotated Corpus of English: ...   \n",
       "4    Labeled faces in the wild: A database for stud...   \n",
       "..                                                 ...   \n",
       "635     Textual Explanations for Self-Driving Vehicles   \n",
       "636  In-flight positional and energy use data set o...   \n",
       "637  Multipole Graph Neural Operator for Parametric...   \n",
       "638                        Invariant Risk Minimization   \n",
       "639  AGENT: A Benchmark for Core Psychological Reas...   \n",
       "\n",
       "                                             paper_url  Texts  Images  \\\n",
       "0                   http://arxiv.org/pdf/1102.0183.pdf  False    True   \n",
       "1    https://paperswithcode.com/paper/deep-learning...  False    True   \n",
       "2            https://doi.org/10.1109/CVPR.2009.5206848  False    True   \n",
       "3      http://dl.acm.org/citation.cfm?id=972470.972475   True   False   \n",
       "4              http://vis-www.cs.umass.edu/lfw/lfw.pdf  False    True   \n",
       "..                                                 ...    ...     ...   \n",
       "635  https://paperswithcode.com/paper/textual-expla...  False   False   \n",
       "636  https://paperswithcode.com/paper/in-flight-pos...  False   False   \n",
       "637  https://paperswithcode.com/paper/multipole-gra...  False   False   \n",
       "638  https://paperswithcode.com/paper/invariant-ris...  False   False   \n",
       "639  https://paperswithcode.com/paper/agent-a-bench...  False   False   \n",
       "\n",
       "     percent_missing  \n",
       "0           0.255564  \n",
       "1           0.382329  \n",
       "2           0.107213  \n",
       "3           0.418960  \n",
       "4           0.472139  \n",
       "..               ...  \n",
       "635         0.988491  \n",
       "636         0.998660  \n",
       "637         0.998613  \n",
       "638         0.931152  \n",
       "639         0.997458  \n",
       "\n",
       "[640 rows x 17 columns]"
      ]
     },
     "execution_count": 140,
     "metadata": {},
     "output_type": "execute_result"
    }
   ],
   "source": [
    "untasked_datasets=datasets_pwc_total[(datasets_pwc_total.task.isnull()) & (~datasets_pwc_total.title.isnull())].name.drop_duplicates()\n",
    "untasked_citing_papers=dataset_citing_papers_pwc[dataset_citing_papers_pwc.name.isin(untasked_datasets)].drop_duplicates(['name','title'])\n",
    "temp=untasked_citing_papers.groupby('name').size().sort_values(ascending=False).cumsum()/untasked_citing_papers.shape[0]\n",
    "temp.name='percent_missing'\n",
    "untasked_dataset_papers=datasets[datasets.name.isin(untasked_datasets)]\n",
    "pd.merge(untasked_dataset_papers,temp,on='name')"
   ]
  },
  {
   "cell_type": "code",
   "execution_count": 56,
   "id": "386461e8-ce90-4eb1-91d4-870d8b2bc2b7",
   "metadata": {},
   "outputs": [
    {
     "data": {
      "text/html": [
       "<div>\n",
       "<style scoped>\n",
       "    .dataframe tbody tr th:only-of-type {\n",
       "        vertical-align: middle;\n",
       "    }\n",
       "\n",
       "    .dataframe tbody tr th {\n",
       "        vertical-align: top;\n",
       "    }\n",
       "\n",
       "    .dataframe thead th {\n",
       "        text-align: right;\n",
       "    }\n",
       "</style>\n",
       "<table border=\"1\" class=\"dataframe\">\n",
       "  <thead>\n",
       "    <tr style=\"text-align: right;\">\n",
       "      <th></th>\n",
       "      <th>url</th>\n",
       "      <th>name</th>\n",
       "      <th>full_name</th>\n",
       "      <th>homepage</th>\n",
       "      <th>description</th>\n",
       "      <th>introduced_date</th>\n",
       "      <th>warning</th>\n",
       "      <th>modalities</th>\n",
       "      <th>languages</th>\n",
       "      <th>variants</th>\n",
       "      <th>...</th>\n",
       "      <th>data_loaders</th>\n",
       "      <th>title</th>\n",
       "      <th>paper_url</th>\n",
       "      <th>Texts</th>\n",
       "      <th>Images</th>\n",
       "      <th>dataset_tasks</th>\n",
       "      <th>dataset_tasks_parents</th>\n",
       "      <th>dataset_tasks_categories</th>\n",
       "      <th>dataset_tasks_children</th>\n",
       "      <th>dataset_tasks_siblings</th>\n",
       "    </tr>\n",
       "  </thead>\n",
       "  <tbody>\n",
       "    <tr>\n",
       "      <th>0</th>\n",
       "      <td>https://paperswithcode.com/dataset/mnist</td>\n",
       "      <td>MNIST</td>\n",
       "      <td></td>\n",
       "      <td>http://yann.lecun.com/exdb/mnist/</td>\n",
       "      <td>The **MNIST** database (**Modified National In...</td>\n",
       "      <td>NaT</td>\n",
       "      <td>None</td>\n",
       "      <td>[Images]</td>\n",
       "      <td>[]</td>\n",
       "      <td>[75 Superpixel MNIST, MNIST, MNIST-full, MNIST...</td>\n",
       "      <td>...</td>\n",
       "      <td>[{'url': 'https://pytorch.org/vision/stable/da...</td>\n",
       "      <td>Gradient-based learning applied to document re...</td>\n",
       "      <td>http://arxiv.org/pdf/1102.0183.pdf</td>\n",
       "      <td>False</td>\n",
       "      <td>True</td>\n",
       "      <td>[Image Classification, Image Generation, Speec...</td>\n",
       "      <td>[3D Face Animation, Image Classification, Auto...</td>\n",
       "      <td>[Computer Vision, Methodology, Computer Vision...</td>\n",
       "      <td>[Few-Shot Image Classification, Fine-Grained I...</td>\n",
       "      <td>[Dialogue Generation, Image Animation, Image G...</td>\n",
       "    </tr>\n",
       "    <tr>\n",
       "      <th>1</th>\n",
       "      <td>https://paperswithcode.com/dataset/celeba</td>\n",
       "      <td>CelebA</td>\n",
       "      <td>CelebFaces Attributes Dataset</td>\n",
       "      <td>http://mmlab.ie.cuhk.edu.hk/projects/CelebA.html</td>\n",
       "      <td>CelebFaces Attributes dataset contains 202,599...</td>\n",
       "      <td>2015-01-01</td>\n",
       "      <td>None</td>\n",
       "      <td>[Images]</td>\n",
       "      <td>[]</td>\n",
       "      <td>[CelebA Aligned, CelebA 64x64, CelebA 256x256,...</td>\n",
       "      <td>...</td>\n",
       "      <td>[{'url': 'https://pytorch.org/vision/stable/da...</td>\n",
       "      <td>Deep Learning Face Attributes in the Wild</td>\n",
       "      <td>https://paperswithcode.com/paper/deep-learning...</td>\n",
       "      <td>False</td>\n",
       "      <td>True</td>\n",
       "      <td>[Image Classification, Image Generation, Face ...</td>\n",
       "      <td>[3D Face Animation, Facial Recognition and Mod...</td>\n",
       "      <td>[Computer Vision, Methodology, Computer Vision...</td>\n",
       "      <td>[Few-Shot Image Classification, Fine-Grained I...</td>\n",
       "      <td>[Dialogue Generation, Image Animation, Image G...</td>\n",
       "    </tr>\n",
       "    <tr>\n",
       "      <th>2</th>\n",
       "      <td>https://paperswithcode.com/dataset/jft-300m</td>\n",
       "      <td>JFT-300M</td>\n",
       "      <td>JFT-300M</td>\n",
       "      <td></td>\n",
       "      <td>**JFT-300M** is an internal Google dataset use...</td>\n",
       "      <td>2017-07-10</td>\n",
       "      <td>None</td>\n",
       "      <td>[Images]</td>\n",
       "      <td>[]</td>\n",
       "      <td>[JFT-300M]</td>\n",
       "      <td>...</td>\n",
       "      <td>[]</td>\n",
       "      <td>Revisiting Unreasonable Effectiveness of Data ...</td>\n",
       "      <td>https://paperswithcode.com/paper/revisiting-un...</td>\n",
       "      <td>False</td>\n",
       "      <td>True</td>\n",
       "      <td>[Image Classification]</td>\n",
       "      <td>[]</td>\n",
       "      <td>[Computer Vision, Methodology]</td>\n",
       "      <td>[Few-Shot Image Classification, Fine-Grained I...</td>\n",
       "      <td>[]</td>\n",
       "    </tr>\n",
       "    <tr>\n",
       "      <th>3</th>\n",
       "      <td>https://paperswithcode.com/dataset/glue</td>\n",
       "      <td>GLUE</td>\n",
       "      <td>General Language Understanding Evaluation benc...</td>\n",
       "      <td>https://gluebenchmark.com/</td>\n",
       "      <td>General Language Understanding Evaluation (**G...</td>\n",
       "      <td>2019-01-01</td>\n",
       "      <td>None</td>\n",
       "      <td>[Texts]</td>\n",
       "      <td>[English]</td>\n",
       "      <td>[GLUE, RTE, WNLI, QNLI, MultiNLI, Quora Questi...</td>\n",
       "      <td>...</td>\n",
       "      <td>[{'url': 'https://huggingface.co/datasets/glue...</td>\n",
       "      <td>GLUE: A Multi-Task Benchmark and Analysis Plat...</td>\n",
       "      <td>https://paperswithcode.com/paper/glue-a-multi-...</td>\n",
       "      <td>True</td>\n",
       "      <td>False</td>\n",
       "      <td>[Question Answering, Sentiment Analysis, Natur...</td>\n",
       "      <td>[Semantic Textual Similarity, Text Generation]</td>\n",
       "      <td>[Natural Language Processing, Natural Language...</td>\n",
       "      <td>[Open-Domain Question Answering, Answer Select...</td>\n",
       "      <td>[Paraphrase Identification, Cross-Lingual Sema...</td>\n",
       "    </tr>\n",
       "    <tr>\n",
       "      <th>4</th>\n",
       "      <td>https://paperswithcode.com/dataset/multinli</td>\n",
       "      <td>MultiNLI</td>\n",
       "      <td>Multi-Genre Natural Language Inference</td>\n",
       "      <td>https://cims.nyu.edu/~sbowman/multinli/</td>\n",
       "      <td>The **Multi-Genre Natural Language Inference**...</td>\n",
       "      <td>2018-01-01</td>\n",
       "      <td>None</td>\n",
       "      <td>[Texts]</td>\n",
       "      <td>[English]</td>\n",
       "      <td>[MultiNLI, MultiNLI Dev]</td>\n",
       "      <td>...</td>\n",
       "      <td>[{'url': 'https://huggingface.co/datasets/mult...</td>\n",
       "      <td>A Broad-Coverage Challenge Corpus for Sentence...</td>\n",
       "      <td>https://paperswithcode.com/paper/a-broad-cover...</td>\n",
       "      <td>True</td>\n",
       "      <td>False</td>\n",
       "      <td>[Natural Language Inference]</td>\n",
       "      <td>[]</td>\n",
       "      <td>[Natural Language Processing]</td>\n",
       "      <td>[Cross-Lingual Natural Language Inference]</td>\n",
       "      <td>[]</td>\n",
       "    </tr>\n",
       "    <tr>\n",
       "      <th>...</th>\n",
       "      <td>...</td>\n",
       "      <td>...</td>\n",
       "      <td>...</td>\n",
       "      <td>...</td>\n",
       "      <td>...</td>\n",
       "      <td>...</td>\n",
       "      <td>...</td>\n",
       "      <td>...</td>\n",
       "      <td>...</td>\n",
       "      <td>...</td>\n",
       "      <td>...</td>\n",
       "      <td>...</td>\n",
       "      <td>...</td>\n",
       "      <td>...</td>\n",
       "      <td>...</td>\n",
       "      <td>...</td>\n",
       "      <td>...</td>\n",
       "      <td>...</td>\n",
       "      <td>...</td>\n",
       "      <td>...</td>\n",
       "      <td>...</td>\n",
       "    </tr>\n",
       "    <tr>\n",
       "      <th>4379</th>\n",
       "      <td>https://paperswithcode.com/dataset/openea-benc...</td>\n",
       "      <td>OpenEA Benchmark</td>\n",
       "      <td></td>\n",
       "      <td>https://github.com/nju-websoft/OpenEA#dataset-...</td>\n",
       "      <td>1.0 Version of OpenEA benchmark datasets. Plea...</td>\n",
       "      <td>NaT</td>\n",
       "      <td>None</td>\n",
       "      <td>[Graphs]</td>\n",
       "      <td>[]</td>\n",
       "      <td>[OpenEA Benchmark]</td>\n",
       "      <td>...</td>\n",
       "      <td>[{'url': 'https://github.com/nju-websoft/OpenE...</td>\n",
       "      <td>None</td>\n",
       "      <td>None</td>\n",
       "      <td>False</td>\n",
       "      <td>False</td>\n",
       "      <td>[]</td>\n",
       "      <td>[]</td>\n",
       "      <td>[]</td>\n",
       "      <td>[]</td>\n",
       "      <td>[]</td>\n",
       "    </tr>\n",
       "    <tr>\n",
       "      <th>4380</th>\n",
       "      <td>https://paperswithcode.com/dataset/fewclue</td>\n",
       "      <td>FewCLUE</td>\n",
       "      <td></td>\n",
       "      <td>https://github.com/CLUEbenchmark/FewCLUE</td>\n",
       "      <td>Chinese Few-shot Learning Evaluation Benchmark...</td>\n",
       "      <td>2021-07-15</td>\n",
       "      <td>None</td>\n",
       "      <td>[Texts]</td>\n",
       "      <td>[Chinese]</td>\n",
       "      <td>[FewCLUE]</td>\n",
       "      <td>...</td>\n",
       "      <td>[]</td>\n",
       "      <td>FewCLUE: A Chinese Few-shot Learning Evaluatio...</td>\n",
       "      <td>https://paperswithcode.com/paper/fewclue-a-chi...</td>\n",
       "      <td>True</td>\n",
       "      <td>False</td>\n",
       "      <td>[]</td>\n",
       "      <td>[]</td>\n",
       "      <td>[]</td>\n",
       "      <td>[]</td>\n",
       "      <td>[]</td>\n",
       "    </tr>\n",
       "    <tr>\n",
       "      <th>4381</th>\n",
       "      <td>https://paperswithcode.com/dataset/zs-f-vqa</td>\n",
       "      <td>ZS-F-VQA</td>\n",
       "      <td></td>\n",
       "      <td>https://github.com/China-UK-ZSL/ZS-F-VQA</td>\n",
       "      <td>The ZS-F-VQA dataset  is a new split of the F-...</td>\n",
       "      <td>2021-07-12</td>\n",
       "      <td>None</td>\n",
       "      <td>[Images, Texts, Graphs]</td>\n",
       "      <td>[English]</td>\n",
       "      <td>[ZS-F-VQA]</td>\n",
       "      <td>...</td>\n",
       "      <td>[]</td>\n",
       "      <td>Zero-shot Visual Question Answering using Know...</td>\n",
       "      <td>https://paperswithcode.com/paper/zero-shot-vis...</td>\n",
       "      <td>True</td>\n",
       "      <td>True</td>\n",
       "      <td>[Visual Question Answering, Factual Visual Que...</td>\n",
       "      <td>[Visual Question Answering]</td>\n",
       "      <td>[Computer Vision, Natural Language Processing]</td>\n",
       "      <td>[Machine Reading Comprehension, Embodied Quest...</td>\n",
       "      <td>[Embodied Question Answering, Factual Visual Q...</td>\n",
       "    </tr>\n",
       "    <tr>\n",
       "      <th>4382</th>\n",
       "      <td>https://paperswithcode.com/dataset/imc-phototo...</td>\n",
       "      <td>IMC PhotoTourism</td>\n",
       "      <td>Image Matching Challenge Phototourism</td>\n",
       "      <td>https://www.cs.ubc.ca/research/image-matching-...</td>\n",
       "      <td>Dataset provided by the Image Matching Worksho...</td>\n",
       "      <td>NaT</td>\n",
       "      <td>None</td>\n",
       "      <td>[Images]</td>\n",
       "      <td>[]</td>\n",
       "      <td>[IMC PhotoTourism]</td>\n",
       "      <td>...</td>\n",
       "      <td>[]</td>\n",
       "      <td>None</td>\n",
       "      <td>None</td>\n",
       "      <td>False</td>\n",
       "      <td>True</td>\n",
       "      <td>[Stereo Matching, Structure from Motion, Local...</td>\n",
       "      <td>[]</td>\n",
       "      <td>[Computer Vision, Computer Vision, Computer Vi...</td>\n",
       "      <td>[]</td>\n",
       "      <td>[]</td>\n",
       "    </tr>\n",
       "    <tr>\n",
       "      <th>4383</th>\n",
       "      <td>https://paperswithcode.com/dataset/https-githu...</td>\n",
       "      <td>https://github.com/jcorrean/psychologyofcorrup...</td>\n",
       "      <td></td>\n",
       "      <td>https://github.com/jcorrean/psychologyofcorrup...</td>\n",
       "      <td>Click to add a brief description of the datase...</td>\n",
       "      <td>2021-07-16</td>\n",
       "      <td>None</td>\n",
       "      <td>[]</td>\n",
       "      <td>[English]</td>\n",
       "      <td>[https://github.com/jcorrean/psychologyofcorru...</td>\n",
       "      <td>...</td>\n",
       "      <td>[]</td>\n",
       "      <td>None</td>\n",
       "      <td>None</td>\n",
       "      <td>False</td>\n",
       "      <td>False</td>\n",
       "      <td>[]</td>\n",
       "      <td>[]</td>\n",
       "      <td>[]</td>\n",
       "      <td>[]</td>\n",
       "      <td>[]</td>\n",
       "    </tr>\n",
       "  </tbody>\n",
       "</table>\n",
       "<p>4383 rows × 21 columns</p>\n",
       "</div>"
      ],
      "text/plain": [
       "                                                    url  \\\n",
       "0              https://paperswithcode.com/dataset/mnist   \n",
       "1             https://paperswithcode.com/dataset/celeba   \n",
       "2           https://paperswithcode.com/dataset/jft-300m   \n",
       "3               https://paperswithcode.com/dataset/glue   \n",
       "4           https://paperswithcode.com/dataset/multinli   \n",
       "...                                                 ...   \n",
       "4379  https://paperswithcode.com/dataset/openea-benc...   \n",
       "4380         https://paperswithcode.com/dataset/fewclue   \n",
       "4381        https://paperswithcode.com/dataset/zs-f-vqa   \n",
       "4382  https://paperswithcode.com/dataset/imc-phototo...   \n",
       "4383  https://paperswithcode.com/dataset/https-githu...   \n",
       "\n",
       "                                                   name  \\\n",
       "0                                                 MNIST   \n",
       "1                                                CelebA   \n",
       "2                                              JFT-300M   \n",
       "3                                                  GLUE   \n",
       "4                                              MultiNLI   \n",
       "...                                                 ...   \n",
       "4379                                   OpenEA Benchmark   \n",
       "4380                                            FewCLUE   \n",
       "4381                                           ZS-F-VQA   \n",
       "4382                                   IMC PhotoTourism   \n",
       "4383  https://github.com/jcorrean/psychologyofcorrup...   \n",
       "\n",
       "                                              full_name  \\\n",
       "0                                                         \n",
       "1                         CelebFaces Attributes Dataset   \n",
       "2                                              JFT-300M   \n",
       "3     General Language Understanding Evaluation benc...   \n",
       "4                Multi-Genre Natural Language Inference   \n",
       "...                                                 ...   \n",
       "4379                                                      \n",
       "4380                                                      \n",
       "4381                                                      \n",
       "4382              Image Matching Challenge Phototourism   \n",
       "4383                                                      \n",
       "\n",
       "                                               homepage  \\\n",
       "0                     http://yann.lecun.com/exdb/mnist/   \n",
       "1      http://mmlab.ie.cuhk.edu.hk/projects/CelebA.html   \n",
       "2                                                         \n",
       "3                            https://gluebenchmark.com/   \n",
       "4               https://cims.nyu.edu/~sbowman/multinli/   \n",
       "...                                                 ...   \n",
       "4379  https://github.com/nju-websoft/OpenEA#dataset-...   \n",
       "4380           https://github.com/CLUEbenchmark/FewCLUE   \n",
       "4381           https://github.com/China-UK-ZSL/ZS-F-VQA   \n",
       "4382  https://www.cs.ubc.ca/research/image-matching-...   \n",
       "4383  https://github.com/jcorrean/psychologyofcorrup...   \n",
       "\n",
       "                                            description introduced_date  \\\n",
       "0     The **MNIST** database (**Modified National In...             NaT   \n",
       "1     CelebFaces Attributes dataset contains 202,599...      2015-01-01   \n",
       "2     **JFT-300M** is an internal Google dataset use...      2017-07-10   \n",
       "3     General Language Understanding Evaluation (**G...      2019-01-01   \n",
       "4     The **Multi-Genre Natural Language Inference**...      2018-01-01   \n",
       "...                                                 ...             ...   \n",
       "4379  1.0 Version of OpenEA benchmark datasets. Plea...             NaT   \n",
       "4380  Chinese Few-shot Learning Evaluation Benchmark...      2021-07-15   \n",
       "4381  The ZS-F-VQA dataset  is a new split of the F-...      2021-07-12   \n",
       "4382  Dataset provided by the Image Matching Worksho...             NaT   \n",
       "4383  Click to add a brief description of the datase...      2021-07-16   \n",
       "\n",
       "     warning               modalities  languages  \\\n",
       "0       None                 [Images]         []   \n",
       "1       None                 [Images]         []   \n",
       "2       None                 [Images]         []   \n",
       "3       None                  [Texts]  [English]   \n",
       "4       None                  [Texts]  [English]   \n",
       "...      ...                      ...        ...   \n",
       "4379    None                 [Graphs]         []   \n",
       "4380    None                  [Texts]  [Chinese]   \n",
       "4381    None  [Images, Texts, Graphs]  [English]   \n",
       "4382    None                 [Images]         []   \n",
       "4383    None                       []  [English]   \n",
       "\n",
       "                                               variants  ...  \\\n",
       "0     [75 Superpixel MNIST, MNIST, MNIST-full, MNIST...  ...   \n",
       "1     [CelebA Aligned, CelebA 64x64, CelebA 256x256,...  ...   \n",
       "2                                            [JFT-300M]  ...   \n",
       "3     [GLUE, RTE, WNLI, QNLI, MultiNLI, Quora Questi...  ...   \n",
       "4                              [MultiNLI, MultiNLI Dev]  ...   \n",
       "...                                                 ...  ...   \n",
       "4379                                 [OpenEA Benchmark]  ...   \n",
       "4380                                          [FewCLUE]  ...   \n",
       "4381                                         [ZS-F-VQA]  ...   \n",
       "4382                                 [IMC PhotoTourism]  ...   \n",
       "4383  [https://github.com/jcorrean/psychologyofcorru...  ...   \n",
       "\n",
       "                                           data_loaders  \\\n",
       "0     [{'url': 'https://pytorch.org/vision/stable/da...   \n",
       "1     [{'url': 'https://pytorch.org/vision/stable/da...   \n",
       "2                                                    []   \n",
       "3     [{'url': 'https://huggingface.co/datasets/glue...   \n",
       "4     [{'url': 'https://huggingface.co/datasets/mult...   \n",
       "...                                                 ...   \n",
       "4379  [{'url': 'https://github.com/nju-websoft/OpenE...   \n",
       "4380                                                 []   \n",
       "4381                                                 []   \n",
       "4382                                                 []   \n",
       "4383                                                 []   \n",
       "\n",
       "                                                  title  \\\n",
       "0     Gradient-based learning applied to document re...   \n",
       "1             Deep Learning Face Attributes in the Wild   \n",
       "2     Revisiting Unreasonable Effectiveness of Data ...   \n",
       "3     GLUE: A Multi-Task Benchmark and Analysis Plat...   \n",
       "4     A Broad-Coverage Challenge Corpus for Sentence...   \n",
       "...                                                 ...   \n",
       "4379                                               None   \n",
       "4380  FewCLUE: A Chinese Few-shot Learning Evaluatio...   \n",
       "4381  Zero-shot Visual Question Answering using Know...   \n",
       "4382                                               None   \n",
       "4383                                               None   \n",
       "\n",
       "                                              paper_url  Texts  Images  \\\n",
       "0                    http://arxiv.org/pdf/1102.0183.pdf  False    True   \n",
       "1     https://paperswithcode.com/paper/deep-learning...  False    True   \n",
       "2     https://paperswithcode.com/paper/revisiting-un...  False    True   \n",
       "3     https://paperswithcode.com/paper/glue-a-multi-...   True   False   \n",
       "4     https://paperswithcode.com/paper/a-broad-cover...   True   False   \n",
       "...                                                 ...    ...     ...   \n",
       "4379                                               None  False   False   \n",
       "4380  https://paperswithcode.com/paper/fewclue-a-chi...   True   False   \n",
       "4381  https://paperswithcode.com/paper/zero-shot-vis...   True    True   \n",
       "4382                                               None  False    True   \n",
       "4383                                               None  False   False   \n",
       "\n",
       "                                          dataset_tasks  \\\n",
       "0     [Image Classification, Image Generation, Speec...   \n",
       "1     [Image Classification, Image Generation, Face ...   \n",
       "2                                [Image Classification]   \n",
       "3     [Question Answering, Sentiment Analysis, Natur...   \n",
       "4                          [Natural Language Inference]   \n",
       "...                                                 ...   \n",
       "4379                                                 []   \n",
       "4380                                                 []   \n",
       "4381  [Visual Question Answering, Factual Visual Que...   \n",
       "4382  [Stereo Matching, Structure from Motion, Local...   \n",
       "4383                                                 []   \n",
       "\n",
       "                                  dataset_tasks_parents  \\\n",
       "0     [3D Face Animation, Image Classification, Auto...   \n",
       "1     [3D Face Animation, Facial Recognition and Mod...   \n",
       "2                                                    []   \n",
       "3        [Semantic Textual Similarity, Text Generation]   \n",
       "4                                                    []   \n",
       "...                                                 ...   \n",
       "4379                                                 []   \n",
       "4380                                                 []   \n",
       "4381                        [Visual Question Answering]   \n",
       "4382                                                 []   \n",
       "4383                                                 []   \n",
       "\n",
       "                               dataset_tasks_categories  \\\n",
       "0     [Computer Vision, Methodology, Computer Vision...   \n",
       "1     [Computer Vision, Methodology, Computer Vision...   \n",
       "2                        [Computer Vision, Methodology]   \n",
       "3     [Natural Language Processing, Natural Language...   \n",
       "4                         [Natural Language Processing]   \n",
       "...                                                 ...   \n",
       "4379                                                 []   \n",
       "4380                                                 []   \n",
       "4381     [Computer Vision, Natural Language Processing]   \n",
       "4382  [Computer Vision, Computer Vision, Computer Vi...   \n",
       "4383                                                 []   \n",
       "\n",
       "                                 dataset_tasks_children  \\\n",
       "0     [Few-Shot Image Classification, Fine-Grained I...   \n",
       "1     [Few-Shot Image Classification, Fine-Grained I...   \n",
       "2     [Few-Shot Image Classification, Fine-Grained I...   \n",
       "3     [Open-Domain Question Answering, Answer Select...   \n",
       "4            [Cross-Lingual Natural Language Inference]   \n",
       "...                                                 ...   \n",
       "4379                                                 []   \n",
       "4380                                                 []   \n",
       "4381  [Machine Reading Comprehension, Embodied Quest...   \n",
       "4382                                                 []   \n",
       "4383                                                 []   \n",
       "\n",
       "                                 dataset_tasks_siblings  \n",
       "0     [Dialogue Generation, Image Animation, Image G...  \n",
       "1     [Dialogue Generation, Image Animation, Image G...  \n",
       "2                                                    []  \n",
       "3     [Paraphrase Identification, Cross-Lingual Sema...  \n",
       "4                                                    []  \n",
       "...                                                 ...  \n",
       "4379                                                 []  \n",
       "4380                                                 []  \n",
       "4381  [Embodied Question Answering, Factual Visual Q...  \n",
       "4382                                                 []  \n",
       "4383                                                 []  \n",
       "\n",
       "[4383 rows x 21 columns]"
      ]
     },
     "execution_count": 56,
     "metadata": {},
     "output_type": "execute_result"
    }
   ],
   "source": []
  },
  {
   "cell_type": "code",
   "execution_count": 217,
   "id": "b203d3a0-f0dc-4e51-8885-e5b00e2af6e0",
   "metadata": {},
   "outputs": [],
   "source": [
    "temp=untasked_citing_papers.groupby('name').size().sort_values(ascending=False).cumsum()/untasked_citing_papers.shape[0]\n",
    "temp.name='percent_missing'"
   ]
  },
  {
   "cell_type": "code",
   "execution_count": 42,
   "id": "16dc7cb6-85cd-4f5f-8026-58eca864e6aa",
   "metadata": {},
   "outputs": [
    {
     "data": {
      "text/plain": [
       "General Classification                                 9162\n",
       "Semantic Segmentation                                  6974\n",
       "Image Classification                                   6933\n",
       "Question Answering                                     6032\n",
       "Object Detection                                       5701\n",
       "                                                       ... \n",
       "Polyphone disambiguation                                  1\n",
       "Reverse Style Transfer                                    1\n",
       "ROI-based image generation                                1\n",
       "Multilingual Machine Comprehension in English Hindi       1\n",
       "Detecting Shadows                                         1\n",
       "Name: task, Length: 1653, dtype: int64"
      ]
     },
     "execution_count": 42,
     "metadata": {},
     "output_type": "execute_result"
    }
   ],
   "source": [
    "dataset_citing_papers_pwc['task'].value_counts()"
   ]
  },
  {
   "cell_type": "code",
   "execution_count": 211,
   "id": "446fcec7-e05a-4501-9804-b5ec16388de4",
   "metadata": {},
   "outputs": [
    {
     "data": {
      "text/html": [
       "<div>\n",
       "<style scoped>\n",
       "    .dataframe tbody tr th:only-of-type {\n",
       "        vertical-align: middle;\n",
       "    }\n",
       "\n",
       "    .dataframe tbody tr th {\n",
       "        vertical-align: top;\n",
       "    }\n",
       "\n",
       "    .dataframe thead th {\n",
       "        text-align: right;\n",
       "    }\n",
       "</style>\n",
       "<table border=\"1\" class=\"dataframe\">\n",
       "  <thead>\n",
       "    <tr style=\"text-align: right;\">\n",
       "      <th></th>\n",
       "      <th>url</th>\n",
       "      <th>name</th>\n",
       "      <th>full_name</th>\n",
       "      <th>homepage</th>\n",
       "      <th>description</th>\n",
       "      <th>introduced_date</th>\n",
       "      <th>warning</th>\n",
       "      <th>modalities</th>\n",
       "      <th>languages</th>\n",
       "      <th>variants</th>\n",
       "      <th>num_papers</th>\n",
       "      <th>data_loaders</th>\n",
       "      <th>title</th>\n",
       "      <th>paper_url</th>\n",
       "      <th>Texts</th>\n",
       "      <th>Images</th>\n",
       "    </tr>\n",
       "  </thead>\n",
       "  <tbody>\n",
       "    <tr>\n",
       "      <th>0</th>\n",
       "      <td>https://paperswithcode.com/dataset/mnist</td>\n",
       "      <td>MNIST</td>\n",
       "      <td></td>\n",
       "      <td>http://yann.lecun.com/exdb/mnist/</td>\n",
       "      <td>The **MNIST** database (**Modified National In...</td>\n",
       "      <td>NaT</td>\n",
       "      <td>None</td>\n",
       "      <td>[Images]</td>\n",
       "      <td>[]</td>\n",
       "      <td>[75 Superpixel MNIST, MNIST, MNIST-full, MNIST...</td>\n",
       "      <td>4159</td>\n",
       "      <td>[{'url': 'https://pytorch.org/vision/stable/da...</td>\n",
       "      <td>Gradient-based learning applied to document re...</td>\n",
       "      <td>http://arxiv.org/pdf/1102.0183.pdf</td>\n",
       "      <td>False</td>\n",
       "      <td>True</td>\n",
       "    </tr>\n",
       "    <tr>\n",
       "      <th>1</th>\n",
       "      <td>https://paperswithcode.com/dataset/celeba</td>\n",
       "      <td>CelebA</td>\n",
       "      <td>CelebFaces Attributes Dataset</td>\n",
       "      <td>http://mmlab.ie.cuhk.edu.hk/projects/CelebA.html</td>\n",
       "      <td>CelebFaces Attributes dataset contains 202,599...</td>\n",
       "      <td>2015-01-01</td>\n",
       "      <td>None</td>\n",
       "      <td>[Images]</td>\n",
       "      <td>[]</td>\n",
       "      <td>[CelebA Aligned, CelebA 64x64, CelebA 256x256,...</td>\n",
       "      <td>1539</td>\n",
       "      <td>[{'url': 'https://pytorch.org/vision/stable/da...</td>\n",
       "      <td>Deep Learning Face Attributes in the Wild</td>\n",
       "      <td>https://paperswithcode.com/paper/deep-learning...</td>\n",
       "      <td>False</td>\n",
       "      <td>True</td>\n",
       "    </tr>\n",
       "    <tr>\n",
       "      <th>5</th>\n",
       "      <td>https://paperswithcode.com/dataset/imagenet</td>\n",
       "      <td>ImageNet</td>\n",
       "      <td></td>\n",
       "      <td>http://image-net.org/challenges/LSVRC/</td>\n",
       "      <td>The **ImageNet** dataset contains 14,197,122 a...</td>\n",
       "      <td>2009-01-01</td>\n",
       "      <td>None</td>\n",
       "      <td>[Images]</td>\n",
       "      <td>[English]</td>\n",
       "      <td>[ILSVRC 2015, ILSVRC 2016, ImageNet, ImageNet ...</td>\n",
       "      <td>6081</td>\n",
       "      <td>[{'url': 'https://pytorch.org/vision/stable/da...</td>\n",
       "      <td>ImageNet: A large-scale hierarchical image dat...</td>\n",
       "      <td>https://doi.org/10.1109/CVPR.2009.5206848</td>\n",
       "      <td>False</td>\n",
       "      <td>True</td>\n",
       "    </tr>\n",
       "    <tr>\n",
       "      <th>6</th>\n",
       "      <td>https://paperswithcode.com/dataset/penn-treebank</td>\n",
       "      <td>Penn Treebank</td>\n",
       "      <td></td>\n",
       "      <td>https://catalog.ldc.upenn.edu/docs/LDC95T7/cl9...</td>\n",
       "      <td>The English **Penn Treebank** (**PTB**) corpus...</td>\n",
       "      <td>1993-01-01</td>\n",
       "      <td>None</td>\n",
       "      <td>[Texts]</td>\n",
       "      <td>[]</td>\n",
       "      <td>[PTB dataset, ECG lead II, PTB, Penn Treebank ...</td>\n",
       "      <td>1056</td>\n",
       "      <td>[{'url': 'https://pytorch.org/text/stable/data...</td>\n",
       "      <td>Building a Large Annotated Corpus of English: ...</td>\n",
       "      <td>http://dl.acm.org/citation.cfm?id=972470.972475</td>\n",
       "      <td>True</td>\n",
       "      <td>False</td>\n",
       "    </tr>\n",
       "    <tr>\n",
       "      <th>8</th>\n",
       "      <td>https://paperswithcode.com/dataset/lfw</td>\n",
       "      <td>LFW</td>\n",
       "      <td>Labeled Faces in the Wild</td>\n",
       "      <td>http://vis-www.cs.umass.edu/lfw/</td>\n",
       "      <td>The **LFW** dataset contains 13,233 images of ...</td>\n",
       "      <td>NaT</td>\n",
       "      <td>None</td>\n",
       "      <td>[Images]</td>\n",
       "      <td>[]</td>\n",
       "      <td>[LFW, Labeled Faces in the Wild, LFW (Online O...</td>\n",
       "      <td>576</td>\n",
       "      <td>[{'url': 'https://www.tensorflow.org/datasets/...</td>\n",
       "      <td>Labeled faces in the wild: A database for stud...</td>\n",
       "      <td>http://vis-www.cs.umass.edu/lfw/lfw.pdf</td>\n",
       "      <td>False</td>\n",
       "      <td>True</td>\n",
       "    </tr>\n",
       "    <tr>\n",
       "      <th>...</th>\n",
       "      <td>...</td>\n",
       "      <td>...</td>\n",
       "      <td>...</td>\n",
       "      <td>...</td>\n",
       "      <td>...</td>\n",
       "      <td>...</td>\n",
       "      <td>...</td>\n",
       "      <td>...</td>\n",
       "      <td>...</td>\n",
       "      <td>...</td>\n",
       "      <td>...</td>\n",
       "      <td>...</td>\n",
       "      <td>...</td>\n",
       "      <td>...</td>\n",
       "      <td>...</td>\n",
       "      <td>...</td>\n",
       "    </tr>\n",
       "    <tr>\n",
       "      <th>4347</th>\n",
       "      <td>https://paperswithcode.com/dataset/vindr-ribcxr</td>\n",
       "      <td>VinDr-RibCXR</td>\n",
       "      <td></td>\n",
       "      <td>https://github.com/vinbigdata-medical/MIDL2021...</td>\n",
       "      <td>**VinDr-RibCXR** is a benchmark dataset for au...</td>\n",
       "      <td>2021-07-03</td>\n",
       "      <td>None</td>\n",
       "      <td>[Images, Medical]</td>\n",
       "      <td>[]</td>\n",
       "      <td>[VinDr-RibCXR]</td>\n",
       "      <td>1</td>\n",
       "      <td>[]</td>\n",
       "      <td>VinDr-RibCXR: A Benchmark Dataset for Automati...</td>\n",
       "      <td>https://paperswithcode.com/paper/vindr-ribcxr-...</td>\n",
       "      <td>False</td>\n",
       "      <td>True</td>\n",
       "    </tr>\n",
       "    <tr>\n",
       "      <th>4348</th>\n",
       "      <td>https://paperswithcode.com/dataset/disaster</td>\n",
       "      <td>Disaster</td>\n",
       "      <td></td>\n",
       "      <td>https://niloy193.github.io/Disaster-Dataset/</td>\n",
       "      <td>**Disaster** is a dataset that contains images...</td>\n",
       "      <td>2021-07-02</td>\n",
       "      <td>None</td>\n",
       "      <td>[Images]</td>\n",
       "      <td>[]</td>\n",
       "      <td>[Disaster]</td>\n",
       "      <td>1</td>\n",
       "      <td>[]</td>\n",
       "      <td>A Novel Disaster Image Dataset and Characteris...</td>\n",
       "      <td>https://paperswithcode.com/paper/a-novel-disas...</td>\n",
       "      <td>False</td>\n",
       "      <td>True</td>\n",
       "    </tr>\n",
       "    <tr>\n",
       "      <th>4354</th>\n",
       "      <td>https://paperswithcode.com/dataset/mcmd</td>\n",
       "      <td>MCMD</td>\n",
       "      <td>Multi-programming-language Commit Message Dataset</td>\n",
       "      <td>http://doi.org/10.5281/zenodo.5025758</td>\n",
       "      <td>A large-scale dataset in multi-programming lan...</td>\n",
       "      <td>2021-07-12</td>\n",
       "      <td>None</td>\n",
       "      <td>[]</td>\n",
       "      <td>[]</td>\n",
       "      <td>[MCMD]</td>\n",
       "      <td>1</td>\n",
       "      <td>[]</td>\n",
       "      <td>On the Evaluation of Commit Message Generation...</td>\n",
       "      <td>https://paperswithcode.com/paper/on-the-evalua...</td>\n",
       "      <td>False</td>\n",
       "      <td>False</td>\n",
       "    </tr>\n",
       "    <tr>\n",
       "      <th>4362</th>\n",
       "      <td>https://paperswithcode.com/dataset/cadsketchnet</td>\n",
       "      <td>CADSketchNet</td>\n",
       "      <td></td>\n",
       "      <td>https://bharadwaj-manda.github.io/CADSketchNet/</td>\n",
       "      <td>CADSketchNet is an annotated collection of ske...</td>\n",
       "      <td>2021-07-13</td>\n",
       "      <td>None</td>\n",
       "      <td>[]</td>\n",
       "      <td>[]</td>\n",
       "      <td>[CADSketchNet]</td>\n",
       "      <td>1</td>\n",
       "      <td>[]</td>\n",
       "      <td>'CADSketchNet' -- An Annotated Sketch dataset ...</td>\n",
       "      <td>https://paperswithcode.com/paper/cadsketchnet-...</td>\n",
       "      <td>False</td>\n",
       "      <td>False</td>\n",
       "    </tr>\n",
       "    <tr>\n",
       "      <th>4376</th>\n",
       "      <td>https://paperswithcode.com/dataset/cylinder-in...</td>\n",
       "      <td>Cylinder in Crossflow</td>\n",
       "      <td></td>\n",
       "      <td>https://doi.org/10.7910/DVN/G5MNYF</td>\n",
       "      <td>Click to add a brief description of the datase...</td>\n",
       "      <td>2020-06-11</td>\n",
       "      <td>None</td>\n",
       "      <td>[]</td>\n",
       "      <td>[]</td>\n",
       "      <td>[Cylinder in Crossflow]</td>\n",
       "      <td>1</td>\n",
       "      <td>[]</td>\n",
       "      <td>A Tailored Convolutional Neural Network for No...</td>\n",
       "      <td>https://paperswithcode.com/paper/enabling-nonl...</td>\n",
       "      <td>False</td>\n",
       "      <td>False</td>\n",
       "    </tr>\n",
       "  </tbody>\n",
       "</table>\n",
       "<p>1180 rows × 16 columns</p>\n",
       "</div>"
      ],
      "text/plain": [
       "                                                    url  \\\n",
       "0              https://paperswithcode.com/dataset/mnist   \n",
       "1             https://paperswithcode.com/dataset/celeba   \n",
       "5           https://paperswithcode.com/dataset/imagenet   \n",
       "6      https://paperswithcode.com/dataset/penn-treebank   \n",
       "8                https://paperswithcode.com/dataset/lfw   \n",
       "...                                                 ...   \n",
       "4347    https://paperswithcode.com/dataset/vindr-ribcxr   \n",
       "4348        https://paperswithcode.com/dataset/disaster   \n",
       "4354            https://paperswithcode.com/dataset/mcmd   \n",
       "4362    https://paperswithcode.com/dataset/cadsketchnet   \n",
       "4376  https://paperswithcode.com/dataset/cylinder-in...   \n",
       "\n",
       "                       name  \\\n",
       "0                     MNIST   \n",
       "1                    CelebA   \n",
       "5                  ImageNet   \n",
       "6             Penn Treebank   \n",
       "8                       LFW   \n",
       "...                     ...   \n",
       "4347           VinDr-RibCXR   \n",
       "4348               Disaster   \n",
       "4354                   MCMD   \n",
       "4362           CADSketchNet   \n",
       "4376  Cylinder in Crossflow   \n",
       "\n",
       "                                              full_name  \\\n",
       "0                                                         \n",
       "1                         CelebFaces Attributes Dataset   \n",
       "5                                                         \n",
       "6                                                         \n",
       "8                             Labeled Faces in the Wild   \n",
       "...                                                 ...   \n",
       "4347                                                      \n",
       "4348                                                      \n",
       "4354  Multi-programming-language Commit Message Dataset   \n",
       "4362                                                      \n",
       "4376                                                      \n",
       "\n",
       "                                               homepage  \\\n",
       "0                     http://yann.lecun.com/exdb/mnist/   \n",
       "1      http://mmlab.ie.cuhk.edu.hk/projects/CelebA.html   \n",
       "5                http://image-net.org/challenges/LSVRC/   \n",
       "6     https://catalog.ldc.upenn.edu/docs/LDC95T7/cl9...   \n",
       "8                      http://vis-www.cs.umass.edu/lfw/   \n",
       "...                                                 ...   \n",
       "4347  https://github.com/vinbigdata-medical/MIDL2021...   \n",
       "4348       https://niloy193.github.io/Disaster-Dataset/   \n",
       "4354              http://doi.org/10.5281/zenodo.5025758   \n",
       "4362    https://bharadwaj-manda.github.io/CADSketchNet/   \n",
       "4376                 https://doi.org/10.7910/DVN/G5MNYF   \n",
       "\n",
       "                                            description introduced_date  \\\n",
       "0     The **MNIST** database (**Modified National In...             NaT   \n",
       "1     CelebFaces Attributes dataset contains 202,599...      2015-01-01   \n",
       "5     The **ImageNet** dataset contains 14,197,122 a...      2009-01-01   \n",
       "6     The English **Penn Treebank** (**PTB**) corpus...      1993-01-01   \n",
       "8     The **LFW** dataset contains 13,233 images of ...             NaT   \n",
       "...                                                 ...             ...   \n",
       "4347  **VinDr-RibCXR** is a benchmark dataset for au...      2021-07-03   \n",
       "4348  **Disaster** is a dataset that contains images...      2021-07-02   \n",
       "4354  A large-scale dataset in multi-programming lan...      2021-07-12   \n",
       "4362  CADSketchNet is an annotated collection of ske...      2021-07-13   \n",
       "4376  Click to add a brief description of the datase...      2020-06-11   \n",
       "\n",
       "     warning         modalities  languages  \\\n",
       "0       None           [Images]         []   \n",
       "1       None           [Images]         []   \n",
       "5       None           [Images]  [English]   \n",
       "6       None            [Texts]         []   \n",
       "8       None           [Images]         []   \n",
       "...      ...                ...        ...   \n",
       "4347    None  [Images, Medical]         []   \n",
       "4348    None           [Images]         []   \n",
       "4354    None                 []         []   \n",
       "4362    None                 []         []   \n",
       "4376    None                 []         []   \n",
       "\n",
       "                                               variants  num_papers  \\\n",
       "0     [75 Superpixel MNIST, MNIST, MNIST-full, MNIST...        4159   \n",
       "1     [CelebA Aligned, CelebA 64x64, CelebA 256x256,...        1539   \n",
       "5     [ILSVRC 2015, ILSVRC 2016, ImageNet, ImageNet ...        6081   \n",
       "6     [PTB dataset, ECG lead II, PTB, Penn Treebank ...        1056   \n",
       "8     [LFW, Labeled Faces in the Wild, LFW (Online O...         576   \n",
       "...                                                 ...         ...   \n",
       "4347                                     [VinDr-RibCXR]           1   \n",
       "4348                                         [Disaster]           1   \n",
       "4354                                             [MCMD]           1   \n",
       "4362                                     [CADSketchNet]           1   \n",
       "4376                            [Cylinder in Crossflow]           1   \n",
       "\n",
       "                                           data_loaders  \\\n",
       "0     [{'url': 'https://pytorch.org/vision/stable/da...   \n",
       "1     [{'url': 'https://pytorch.org/vision/stable/da...   \n",
       "5     [{'url': 'https://pytorch.org/vision/stable/da...   \n",
       "6     [{'url': 'https://pytorch.org/text/stable/data...   \n",
       "8     [{'url': 'https://www.tensorflow.org/datasets/...   \n",
       "...                                                 ...   \n",
       "4347                                                 []   \n",
       "4348                                                 []   \n",
       "4354                                                 []   \n",
       "4362                                                 []   \n",
       "4376                                                 []   \n",
       "\n",
       "                                                  title  \\\n",
       "0     Gradient-based learning applied to document re...   \n",
       "1             Deep Learning Face Attributes in the Wild   \n",
       "5     ImageNet: A large-scale hierarchical image dat...   \n",
       "6     Building a Large Annotated Corpus of English: ...   \n",
       "8     Labeled faces in the wild: A database for stud...   \n",
       "...                                                 ...   \n",
       "4347  VinDr-RibCXR: A Benchmark Dataset for Automati...   \n",
       "4348  A Novel Disaster Image Dataset and Characteris...   \n",
       "4354  On the Evaluation of Commit Message Generation...   \n",
       "4362  'CADSketchNet' -- An Annotated Sketch dataset ...   \n",
       "4376  A Tailored Convolutional Neural Network for No...   \n",
       "\n",
       "                                              paper_url  Texts  Images  \n",
       "0                    http://arxiv.org/pdf/1102.0183.pdf  False    True  \n",
       "1     https://paperswithcode.com/paper/deep-learning...  False    True  \n",
       "5             https://doi.org/10.1109/CVPR.2009.5206848  False    True  \n",
       "6       http://dl.acm.org/citation.cfm?id=972470.972475   True   False  \n",
       "8               http://vis-www.cs.umass.edu/lfw/lfw.pdf  False    True  \n",
       "...                                                 ...    ...     ...  \n",
       "4347  https://paperswithcode.com/paper/vindr-ribcxr-...  False    True  \n",
       "4348  https://paperswithcode.com/paper/a-novel-disas...  False    True  \n",
       "4354  https://paperswithcode.com/paper/on-the-evalua...  False   False  \n",
       "4362  https://paperswithcode.com/paper/cadsketchnet-...  False   False  \n",
       "4376  https://paperswithcode.com/paper/enabling-nonl...  False   False  \n",
       "\n",
       "[1180 rows x 16 columns]"
      ]
     },
     "execution_count": 211,
     "metadata": {},
     "output_type": "execute_result"
    }
   ],
   "source": [
    "#temp=datasets[~datasets.title.isnull()]\n",
    "#datasets[datasets.name.isin(untasked_datasets) & (~datasets.title.isnull())]\n",
    "untasked_dataset_papers"
   ]
  },
  {
   "cell_type": "code",
   "execution_count": 12,
   "id": "16eb5ab6",
   "metadata": {},
   "outputs": [
    {
     "data": {
      "text/html": [
       "<div>\n",
       "<style scoped>\n",
       "    .dataframe tbody tr th:only-of-type {\n",
       "        vertical-align: middle;\n",
       "    }\n",
       "\n",
       "    .dataframe tbody tr th {\n",
       "        vertical-align: top;\n",
       "    }\n",
       "\n",
       "    .dataframe thead th {\n",
       "        text-align: right;\n",
       "    }\n",
       "</style>\n",
       "<table border=\"1\" class=\"dataframe\">\n",
       "  <thead>\n",
       "    <tr style=\"text-align: right;\">\n",
       "      <th></th>\n",
       "      <th>name</th>\n",
       "      <th>pwc_dataset_id</th>\n",
       "      <th>title</th>\n",
       "      <th>date</th>\n",
       "      <th>is_problematic</th>\n",
       "      <th>paper_count</th>\n",
       "      <th>task</th>\n",
       "      <th>categories</th>\n",
       "      <th>parents</th>\n",
       "      <th>children</th>\n",
       "      <th>siblings</th>\n",
       "      <th>pdf_url</th>\n",
       "      <th>paper_url</th>\n",
       "      <th>all_tasks</th>\n",
       "      <th>all_parents</th>\n",
       "      <th>all_children</th>\n",
       "      <th>all_siblings</th>\n",
       "      <th>all_categories</th>\n",
       "    </tr>\n",
       "  </thead>\n",
       "  <tbody>\n",
       "    <tr>\n",
       "      <th>13020</th>\n",
       "      <td>CelebA</td>\n",
       "      <td>2</td>\n",
       "      <td>Leveraging Mid-Level Deep Representations For ...</td>\n",
       "      <td>2016-02-04</td>\n",
       "      <td>False</td>\n",
       "      <td>1539</td>\n",
       "      <td>Face Recognition</td>\n",
       "      <td>[Computer Vision]</td>\n",
       "      <td>[Facial Recognition and Modelling]</td>\n",
       "      <td>[Age-Invariant Face Recognition, Face Quality ...</td>\n",
       "      <td>[Robust Face Alignment, Robust Face Recognitio...</td>\n",
       "      <td>http://arxiv.org/pdf/1602.01827v3.pdf</td>\n",
       "      <td>https://paperswithcode.com/paper/leveraging-mi...</td>\n",
       "      <td>[Face Recognition, Image Classification]</td>\n",
       "      <td>[Facial Recognition and Modelling]</td>\n",
       "      <td>[Learning with noisy labels, Artist classifica...</td>\n",
       "      <td>[Robust Face Alignment, Robust Face Recognitio...</td>\n",
       "      <td>[Computer Vision, Methodology]</td>\n",
       "    </tr>\n",
       "    <tr>\n",
       "      <th>13021</th>\n",
       "      <td>CelebA</td>\n",
       "      <td>2</td>\n",
       "      <td>Leveraging Mid-Level Deep Representations For ...</td>\n",
       "      <td>2016-02-04</td>\n",
       "      <td>False</td>\n",
       "      <td>1539</td>\n",
       "      <td>Image Classification</td>\n",
       "      <td>[Computer Vision, Methodology]</td>\n",
       "      <td>[]</td>\n",
       "      <td>[Few-Shot Image Classification, Fine-Grained I...</td>\n",
       "      <td>[]</td>\n",
       "      <td>http://arxiv.org/pdf/1602.01827v3.pdf</td>\n",
       "      <td>https://paperswithcode.com/paper/leveraging-mi...</td>\n",
       "      <td>[Face Recognition, Image Classification]</td>\n",
       "      <td>[Facial Recognition and Modelling]</td>\n",
       "      <td>[Learning with noisy labels, Artist classifica...</td>\n",
       "      <td>[Robust Face Alignment, Robust Face Recognitio...</td>\n",
       "      <td>[Computer Vision, Methodology]</td>\n",
       "    </tr>\n",
       "    <tr>\n",
       "      <th>13024</th>\n",
       "      <td>CelebA</td>\n",
       "      <td>2</td>\n",
       "      <td>Face Attribute Prediction Using Off-the-Shelf ...</td>\n",
       "      <td>2016-02-12</td>\n",
       "      <td>False</td>\n",
       "      <td>1539</td>\n",
       "      <td>Face Recognition</td>\n",
       "      <td>[Computer Vision]</td>\n",
       "      <td>[Facial Recognition and Modelling]</td>\n",
       "      <td>[Age-Invariant Face Recognition, Face Quality ...</td>\n",
       "      <td>[Robust Face Alignment, Robust Face Recognitio...</td>\n",
       "      <td>http://arxiv.org/pdf/1602.03935v2.pdf</td>\n",
       "      <td>https://paperswithcode.com/paper/face-attribut...</td>\n",
       "      <td>[Face Recognition, General Classification]</td>\n",
       "      <td>[Facial Recognition and Modelling]</td>\n",
       "      <td>[Constructive Comment Classification, Face Qua...</td>\n",
       "      <td>[Robust Face Alignment, Robust Face Recognitio...</td>\n",
       "      <td>[Computer Vision, Methodology, Natural Languag...</td>\n",
       "    </tr>\n",
       "    <tr>\n",
       "      <th>13025</th>\n",
       "      <td>CelebA</td>\n",
       "      <td>2</td>\n",
       "      <td>Face Attribute Prediction Using Off-the-Shelf ...</td>\n",
       "      <td>2016-02-12</td>\n",
       "      <td>False</td>\n",
       "      <td>1539</td>\n",
       "      <td>General Classification</td>\n",
       "      <td>[Natural Language Processing, Methodology]</td>\n",
       "      <td>[]</td>\n",
       "      <td>[Constructive Comment Classification]</td>\n",
       "      <td>[]</td>\n",
       "      <td>http://arxiv.org/pdf/1602.03935v2.pdf</td>\n",
       "      <td>https://paperswithcode.com/paper/face-attribut...</td>\n",
       "      <td>[Face Recognition, General Classification]</td>\n",
       "      <td>[Facial Recognition and Modelling]</td>\n",
       "      <td>[Constructive Comment Classification, Face Qua...</td>\n",
       "      <td>[Robust Face Alignment, Robust Face Recognitio...</td>\n",
       "      <td>[Computer Vision, Methodology, Natural Languag...</td>\n",
       "    </tr>\n",
       "    <tr>\n",
       "      <th>12633</th>\n",
       "      <td>CelebA</td>\n",
       "      <td>2</td>\n",
       "      <td>HyperFace: A Deep Multi-task Learning Framewor...</td>\n",
       "      <td>2016-03-03</td>\n",
       "      <td>False</td>\n",
       "      <td>1539</td>\n",
       "      <td>Multi-Task Learning</td>\n",
       "      <td>[]</td>\n",
       "      <td>[Transfer Learning]</td>\n",
       "      <td>[]</td>\n",
       "      <td>[Unsupervised Domain Expansion, Auxiliary Lear...</td>\n",
       "      <td>http://arxiv.org/pdf/1603.01249v3.pdf</td>\n",
       "      <td>https://paperswithcode.com/paper/hyperface-a-d...</td>\n",
       "      <td>[Face Detection, Multi-Task Learning, Pose Est...</td>\n",
       "      <td>[2D Human Pose Estimation, Transfer Learning, ...</td>\n",
       "      <td>[6D Pose Estimation using RGBD, 3D Pose Estima...</td>\n",
       "      <td>[Robust Face Alignment, Robust Face Recognitio...</td>\n",
       "      <td>[Computer Vision]</td>\n",
       "    </tr>\n",
       "    <tr>\n",
       "      <th>12632</th>\n",
       "      <td>CelebA</td>\n",
       "      <td>2</td>\n",
       "      <td>HyperFace: A Deep Multi-task Learning Framewor...</td>\n",
       "      <td>2016-03-03</td>\n",
       "      <td>False</td>\n",
       "      <td>1539</td>\n",
       "      <td>Face Detection</td>\n",
       "      <td>[Computer Vision]</td>\n",
       "      <td>[Facial Recognition and Modelling]</td>\n",
       "      <td>[Occluded Face Detection]</td>\n",
       "      <td>[Robust Face Alignment, Robust Face Recognitio...</td>\n",
       "      <td>http://arxiv.org/pdf/1603.01249v3.pdf</td>\n",
       "      <td>https://paperswithcode.com/paper/hyperface-a-d...</td>\n",
       "      <td>[Face Detection, Multi-Task Learning, Pose Est...</td>\n",
       "      <td>[2D Human Pose Estimation, Transfer Learning, ...</td>\n",
       "      <td>[6D Pose Estimation using RGBD, 3D Pose Estima...</td>\n",
       "      <td>[Robust Face Alignment, Robust Face Recognitio...</td>\n",
       "      <td>[Computer Vision]</td>\n",
       "    </tr>\n",
       "    <tr>\n",
       "      <th>12634</th>\n",
       "      <td>CelebA</td>\n",
       "      <td>2</td>\n",
       "      <td>HyperFace: A Deep Multi-task Learning Framewor...</td>\n",
       "      <td>2016-03-03</td>\n",
       "      <td>False</td>\n",
       "      <td>1539</td>\n",
       "      <td>Pose Estimation</td>\n",
       "      <td>[Computer Vision]</td>\n",
       "      <td>[2D Human Pose Estimation]</td>\n",
       "      <td>[3D Human Pose Estimation, Keypoint Detection,...</td>\n",
       "      <td>[Pose Estimation, 3D Face Animation]</td>\n",
       "      <td>http://arxiv.org/pdf/1603.01249v3.pdf</td>\n",
       "      <td>https://paperswithcode.com/paper/hyperface-a-d...</td>\n",
       "      <td>[Face Detection, Multi-Task Learning, Pose Est...</td>\n",
       "      <td>[2D Human Pose Estimation, Transfer Learning, ...</td>\n",
       "      <td>[6D Pose Estimation using RGBD, 3D Pose Estima...</td>\n",
       "      <td>[Robust Face Alignment, Robust Face Recognitio...</td>\n",
       "      <td>[Computer Vision]</td>\n",
       "    </tr>\n",
       "    <tr>\n",
       "      <th>13003</th>\n",
       "      <td>CelebA</td>\n",
       "      <td>2</td>\n",
       "      <td>MOON: A Mixed Objective Optimization Network f...</td>\n",
       "      <td>2016-03-22</td>\n",
       "      <td>False</td>\n",
       "      <td>1539</td>\n",
       "      <td>Face Recognition</td>\n",
       "      <td>[Computer Vision]</td>\n",
       "      <td>[Facial Recognition and Modelling]</td>\n",
       "      <td>[Age-Invariant Face Recognition, Face Quality ...</td>\n",
       "      <td>[Robust Face Alignment, Robust Face Recognitio...</td>\n",
       "      <td>http://arxiv.org/pdf/1603.07027v2.pdf</td>\n",
       "      <td>https://paperswithcode.com/paper/moon-a-mixed-...</td>\n",
       "      <td>[Face Recognition]</td>\n",
       "      <td>[Facial Recognition and Modelling]</td>\n",
       "      <td>[Face Quality Assessement, Age-Invariant Face ...</td>\n",
       "      <td>[Robust Face Alignment, Robust Face Recognitio...</td>\n",
       "      <td>[Computer Vision]</td>\n",
       "    </tr>\n",
       "    <tr>\n",
       "      <th>13033</th>\n",
       "      <td>CelebA</td>\n",
       "      <td>2</td>\n",
       "      <td>Joint Face Detection and Alignment using Multi...</td>\n",
       "      <td>2016-04-11</td>\n",
       "      <td>False</td>\n",
       "      <td>1539</td>\n",
       "      <td>Face Alignment</td>\n",
       "      <td>[]</td>\n",
       "      <td>[Facial Recognition and Modelling]</td>\n",
       "      <td>[]</td>\n",
       "      <td>[Robust Face Alignment, Robust Face Recognitio...</td>\n",
       "      <td>http://arxiv.org/pdf/1604.02878v1.pdf</td>\n",
       "      <td>https://paperswithcode.com/paper/joint-face-de...</td>\n",
       "      <td>[Face Alignment, Face Detection]</td>\n",
       "      <td>[Facial Recognition and Modelling]</td>\n",
       "      <td>[Occluded Face Detection]</td>\n",
       "      <td>[Robust Face Alignment, Robust Face Recognitio...</td>\n",
       "      <td>[Computer Vision]</td>\n",
       "    </tr>\n",
       "    <tr>\n",
       "      <th>13032</th>\n",
       "      <td>CelebA</td>\n",
       "      <td>2</td>\n",
       "      <td>Joint Face Detection and Alignment using Multi...</td>\n",
       "      <td>2016-04-11</td>\n",
       "      <td>False</td>\n",
       "      <td>1539</td>\n",
       "      <td>Face Detection</td>\n",
       "      <td>[Computer Vision]</td>\n",
       "      <td>[Facial Recognition and Modelling]</td>\n",
       "      <td>[Occluded Face Detection]</td>\n",
       "      <td>[Robust Face Alignment, Robust Face Recognitio...</td>\n",
       "      <td>http://arxiv.org/pdf/1604.02878v1.pdf</td>\n",
       "      <td>https://paperswithcode.com/paper/joint-face-de...</td>\n",
       "      <td>[Face Alignment, Face Detection]</td>\n",
       "      <td>[Facial Recognition and Modelling]</td>\n",
       "      <td>[Occluded Face Detection]</td>\n",
       "      <td>[Robust Face Alignment, Robust Face Recognitio...</td>\n",
       "      <td>[Computer Vision]</td>\n",
       "    </tr>\n",
       "    <tr>\n",
       "      <th>13018</th>\n",
       "      <td>CelebA</td>\n",
       "      <td>2</td>\n",
       "      <td>Walk and Learn: Facial Attribute Representatio...</td>\n",
       "      <td>2016-04-21</td>\n",
       "      <td>False</td>\n",
       "      <td>1539</td>\n",
       "      <td>Facial Attribute Classification</td>\n",
       "      <td>[]</td>\n",
       "      <td>[Facial Recognition and Modelling]</td>\n",
       "      <td>[]</td>\n",
       "      <td>[Robust Face Alignment, Robust Face Recognitio...</td>\n",
       "      <td>http://arxiv.org/pdf/1604.06433v3.pdf</td>\n",
       "      <td>https://paperswithcode.com/paper/walk-and-lear...</td>\n",
       "      <td>[Facial Attribute Classification, Representati...</td>\n",
       "      <td>[Facial Recognition and Modelling]</td>\n",
       "      <td>[Learning Representation Of Multi-View Data, S...</td>\n",
       "      <td>[Robust Face Alignment, Robust Face Recognitio...</td>\n",
       "      <td>[Methodology]</td>\n",
       "    </tr>\n",
       "    <tr>\n",
       "      <th>13019</th>\n",
       "      <td>CelebA</td>\n",
       "      <td>2</td>\n",
       "      <td>Walk and Learn: Facial Attribute Representatio...</td>\n",
       "      <td>2016-04-21</td>\n",
       "      <td>False</td>\n",
       "      <td>1539</td>\n",
       "      <td>Representation Learning</td>\n",
       "      <td>[Methodology]</td>\n",
       "      <td>[]</td>\n",
       "      <td>[Word Embeddings, Graph Embedding, Graph Repre...</td>\n",
       "      <td>[]</td>\n",
       "      <td>http://arxiv.org/pdf/1604.06433v3.pdf</td>\n",
       "      <td>https://paperswithcode.com/paper/walk-and-lear...</td>\n",
       "      <td>[Facial Attribute Classification, Representati...</td>\n",
       "      <td>[Facial Recognition and Modelling]</td>\n",
       "      <td>[Learning Representation Of Multi-View Data, S...</td>\n",
       "      <td>[Robust Face Alignment, Robust Face Recognitio...</td>\n",
       "      <td>[Methodology]</td>\n",
       "    </tr>\n",
       "    <tr>\n",
       "      <th>13031</th>\n",
       "      <td>CelebA</td>\n",
       "      <td>2</td>\n",
       "      <td>Attributes for Improved Attributes: A Multi-Ta...</td>\n",
       "      <td>2016-04-25</td>\n",
       "      <td>False</td>\n",
       "      <td>1539</td>\n",
       "      <td>General Classification</td>\n",
       "      <td>[Natural Language Processing, Methodology]</td>\n",
       "      <td>[]</td>\n",
       "      <td>[Constructive Comment Classification]</td>\n",
       "      <td>[]</td>\n",
       "      <td>http://arxiv.org/pdf/1604.07360v1.pdf</td>\n",
       "      <td>https://paperswithcode.com/paper/attributes-fo...</td>\n",
       "      <td>[Activity Recognition, Face Verification, Gene...</td>\n",
       "      <td>[3D, Facial Recognition and Modelling]</td>\n",
       "      <td>[Multimodal Activity Recognition, Group Activi...</td>\n",
       "      <td>[Robust Face Alignment, Robust Face Recognitio...</td>\n",
       "      <td>[Computer Vision, Methodology, Natural Languag...</td>\n",
       "    </tr>\n",
       "    <tr>\n",
       "      <th>13030</th>\n",
       "      <td>CelebA</td>\n",
       "      <td>2</td>\n",
       "      <td>Attributes for Improved Attributes: A Multi-Ta...</td>\n",
       "      <td>2016-04-25</td>\n",
       "      <td>False</td>\n",
       "      <td>1539</td>\n",
       "      <td>Activity Recognition</td>\n",
       "      <td>[Computer Vision]</td>\n",
       "      <td>[]</td>\n",
       "      <td>[Action Recognition, Multimodal Activity Recog...</td>\n",
       "      <td>[]</td>\n",
       "      <td>http://arxiv.org/pdf/1604.07360v1.pdf</td>\n",
       "      <td>https://paperswithcode.com/paper/attributes-fo...</td>\n",
       "      <td>[Activity Recognition, Face Verification, Gene...</td>\n",
       "      <td>[3D, Facial Recognition and Modelling]</td>\n",
       "      <td>[Multimodal Activity Recognition, Group Activi...</td>\n",
       "      <td>[Robust Face Alignment, Robust Face Recognitio...</td>\n",
       "      <td>[Computer Vision, Methodology, Natural Languag...</td>\n",
       "    </tr>\n",
       "    <tr>\n",
       "      <th>13029</th>\n",
       "      <td>CelebA</td>\n",
       "      <td>2</td>\n",
       "      <td>Attributes for Improved Attributes: A Multi-Ta...</td>\n",
       "      <td>2016-04-25</td>\n",
       "      <td>False</td>\n",
       "      <td>1539</td>\n",
       "      <td>Face Verification</td>\n",
       "      <td>[Computer Vision]</td>\n",
       "      <td>[Facial Recognition and Modelling, 3D]</td>\n",
       "      <td>[Disguised Face Verification]</td>\n",
       "      <td>[Robust Face Alignment, Robust Face Recognitio...</td>\n",
       "      <td>http://arxiv.org/pdf/1604.07360v1.pdf</td>\n",
       "      <td>https://paperswithcode.com/paper/attributes-fo...</td>\n",
       "      <td>[Activity Recognition, Face Verification, Gene...</td>\n",
       "      <td>[3D, Facial Recognition and Modelling]</td>\n",
       "      <td>[Multimodal Activity Recognition, Group Activi...</td>\n",
       "      <td>[Robust Face Alignment, Robust Face Recognitio...</td>\n",
       "      <td>[Computer Vision, Methodology, Natural Languag...</td>\n",
       "    </tr>\n",
       "    <tr>\n",
       "      <th>13011</th>\n",
       "      <td>CelebA</td>\n",
       "      <td>2</td>\n",
       "      <td>Are Facial Attributes Adversarially Robust?</td>\n",
       "      <td>2016-05-18</td>\n",
       "      <td>False</td>\n",
       "      <td>1539</td>\n",
       "      <td>Facial Attribute Classification</td>\n",
       "      <td>[]</td>\n",
       "      <td>[Facial Recognition and Modelling]</td>\n",
       "      <td>[]</td>\n",
       "      <td>[Robust Face Alignment, Robust Face Recognitio...</td>\n",
       "      <td>http://arxiv.org/pdf/1605.05411v3.pdf</td>\n",
       "      <td>https://paperswithcode.com/paper/are-facial-at...</td>\n",
       "      <td>[Facial Attribute Classification, General Clas...</td>\n",
       "      <td>[Facial Recognition and Modelling]</td>\n",
       "      <td>[Constructive Comment Classification]</td>\n",
       "      <td>[Robust Face Alignment, Robust Face Recognitio...</td>\n",
       "      <td>[Natural Language Processing, Methodology]</td>\n",
       "    </tr>\n",
       "    <tr>\n",
       "      <th>13012</th>\n",
       "      <td>CelebA</td>\n",
       "      <td>2</td>\n",
       "      <td>Are Facial Attributes Adversarially Robust?</td>\n",
       "      <td>2016-05-18</td>\n",
       "      <td>False</td>\n",
       "      <td>1539</td>\n",
       "      <td>General Classification</td>\n",
       "      <td>[Natural Language Processing, Methodology]</td>\n",
       "      <td>[]</td>\n",
       "      <td>[Constructive Comment Classification]</td>\n",
       "      <td>[]</td>\n",
       "      <td>http://arxiv.org/pdf/1605.05411v3.pdf</td>\n",
       "      <td>https://paperswithcode.com/paper/are-facial-at...</td>\n",
       "      <td>[Facial Attribute Classification, General Clas...</td>\n",
       "      <td>[Facial Recognition and Modelling]</td>\n",
       "      <td>[Constructive Comment Classification]</td>\n",
       "      <td>[Robust Face Alignment, Robust Face Recognitio...</td>\n",
       "      <td>[Natural Language Processing, Methodology]</td>\n",
       "    </tr>\n",
       "    <tr>\n",
       "      <th>12925</th>\n",
       "      <td>CelebA</td>\n",
       "      <td>2</td>\n",
       "      <td>Density estimation using Real NVP</td>\n",
       "      <td>2016-05-27</td>\n",
       "      <td>False</td>\n",
       "      <td>1539</td>\n",
       "      <td>Image Generation</td>\n",
       "      <td>[Computer Vision]</td>\n",
       "      <td>[3D Face Animation]</td>\n",
       "      <td>[Image-to-Image Translation, Image Inpainting,...</td>\n",
       "      <td>[Dialogue Generation, Image Generation, Image ...</td>\n",
       "      <td>http://arxiv.org/pdf/1605.08803v3.pdf</td>\n",
       "      <td>https://paperswithcode.com/paper/density-estim...</td>\n",
       "      <td>[Density Estimation, Image Generation]</td>\n",
       "      <td>[3D Face Animation]</td>\n",
       "      <td>[User Constrained Thumbnail Generation, Layout...</td>\n",
       "      <td>[Dialogue Generation, Image Generation, Image ...</td>\n",
       "      <td>[Computer Vision, Methodology]</td>\n",
       "    </tr>\n",
       "    <tr>\n",
       "      <th>12926</th>\n",
       "      <td>CelebA</td>\n",
       "      <td>2</td>\n",
       "      <td>Density estimation using Real NVP</td>\n",
       "      <td>2016-05-27</td>\n",
       "      <td>False</td>\n",
       "      <td>1539</td>\n",
       "      <td>Density Estimation</td>\n",
       "      <td>[Methodology]</td>\n",
       "      <td>[]</td>\n",
       "      <td>[Arbitrary Conditional Density Estimation]</td>\n",
       "      <td>[]</td>\n",
       "      <td>http://arxiv.org/pdf/1605.08803v3.pdf</td>\n",
       "      <td>https://paperswithcode.com/paper/density-estim...</td>\n",
       "      <td>[Density Estimation, Image Generation]</td>\n",
       "      <td>[3D Face Animation]</td>\n",
       "      <td>[User Constrained Thumbnail Generation, Layout...</td>\n",
       "      <td>[Dialogue Generation, Image Generation, Image ...</td>\n",
       "      <td>[Computer Vision, Methodology]</td>\n",
       "    </tr>\n",
       "    <tr>\n",
       "      <th>13585</th>\n",
       "      <td>CelebA</td>\n",
       "      <td>2</td>\n",
       "      <td>Learning Deep Representation for Imbalanced Cl...</td>\n",
       "      <td>2016-06-01</td>\n",
       "      <td>False</td>\n",
       "      <td>1539</td>\n",
       "      <td>Representation Learning</td>\n",
       "      <td>[Methodology]</td>\n",
       "      <td>[]</td>\n",
       "      <td>[Word Embeddings, Graph Embedding, Graph Repre...</td>\n",
       "      <td>[]</td>\n",
       "      <td>http://openaccess.thecvf.com/content_cvpr_2016...</td>\n",
       "      <td>https://paperswithcode.com/paper/learning-deep...</td>\n",
       "      <td>[General Classification, imbalanced classifica...</td>\n",
       "      <td>[]</td>\n",
       "      <td>[Learning Representation Of Multi-View Data, S...</td>\n",
       "      <td>[]</td>\n",
       "      <td>[Natural Language Processing, Miscellaneous, M...</td>\n",
       "    </tr>\n",
       "  </tbody>\n",
       "</table>\n",
       "</div>"
      ],
      "text/plain": [
       "         name  pwc_dataset_id  \\\n",
       "13020  CelebA               2   \n",
       "13021  CelebA               2   \n",
       "13024  CelebA               2   \n",
       "13025  CelebA               2   \n",
       "12633  CelebA               2   \n",
       "12632  CelebA               2   \n",
       "12634  CelebA               2   \n",
       "13003  CelebA               2   \n",
       "13033  CelebA               2   \n",
       "13032  CelebA               2   \n",
       "13018  CelebA               2   \n",
       "13019  CelebA               2   \n",
       "13031  CelebA               2   \n",
       "13030  CelebA               2   \n",
       "13029  CelebA               2   \n",
       "13011  CelebA               2   \n",
       "13012  CelebA               2   \n",
       "12925  CelebA               2   \n",
       "12926  CelebA               2   \n",
       "13585  CelebA               2   \n",
       "\n",
       "                                                   title       date  \\\n",
       "13020  Leveraging Mid-Level Deep Representations For ... 2016-02-04   \n",
       "13021  Leveraging Mid-Level Deep Representations For ... 2016-02-04   \n",
       "13024  Face Attribute Prediction Using Off-the-Shelf ... 2016-02-12   \n",
       "13025  Face Attribute Prediction Using Off-the-Shelf ... 2016-02-12   \n",
       "12633  HyperFace: A Deep Multi-task Learning Framewor... 2016-03-03   \n",
       "12632  HyperFace: A Deep Multi-task Learning Framewor... 2016-03-03   \n",
       "12634  HyperFace: A Deep Multi-task Learning Framewor... 2016-03-03   \n",
       "13003  MOON: A Mixed Objective Optimization Network f... 2016-03-22   \n",
       "13033  Joint Face Detection and Alignment using Multi... 2016-04-11   \n",
       "13032  Joint Face Detection and Alignment using Multi... 2016-04-11   \n",
       "13018  Walk and Learn: Facial Attribute Representatio... 2016-04-21   \n",
       "13019  Walk and Learn: Facial Attribute Representatio... 2016-04-21   \n",
       "13031  Attributes for Improved Attributes: A Multi-Ta... 2016-04-25   \n",
       "13030  Attributes for Improved Attributes: A Multi-Ta... 2016-04-25   \n",
       "13029  Attributes for Improved Attributes: A Multi-Ta... 2016-04-25   \n",
       "13011        Are Facial Attributes Adversarially Robust? 2016-05-18   \n",
       "13012        Are Facial Attributes Adversarially Robust? 2016-05-18   \n",
       "12925                  Density estimation using Real NVP 2016-05-27   \n",
       "12926                  Density estimation using Real NVP 2016-05-27   \n",
       "13585  Learning Deep Representation for Imbalanced Cl... 2016-06-01   \n",
       "\n",
       "       is_problematic  paper_count                             task  \\\n",
       "13020           False         1539                 Face Recognition   \n",
       "13021           False         1539             Image Classification   \n",
       "13024           False         1539                 Face Recognition   \n",
       "13025           False         1539           General Classification   \n",
       "12633           False         1539              Multi-Task Learning   \n",
       "12632           False         1539                   Face Detection   \n",
       "12634           False         1539                  Pose Estimation   \n",
       "13003           False         1539                 Face Recognition   \n",
       "13033           False         1539                   Face Alignment   \n",
       "13032           False         1539                   Face Detection   \n",
       "13018           False         1539  Facial Attribute Classification   \n",
       "13019           False         1539          Representation Learning   \n",
       "13031           False         1539           General Classification   \n",
       "13030           False         1539             Activity Recognition   \n",
       "13029           False         1539                Face Verification   \n",
       "13011           False         1539  Facial Attribute Classification   \n",
       "13012           False         1539           General Classification   \n",
       "12925           False         1539                 Image Generation   \n",
       "12926           False         1539               Density Estimation   \n",
       "13585           False         1539          Representation Learning   \n",
       "\n",
       "                                       categories  \\\n",
       "13020                           [Computer Vision]   \n",
       "13021              [Computer Vision, Methodology]   \n",
       "13024                           [Computer Vision]   \n",
       "13025  [Natural Language Processing, Methodology]   \n",
       "12633                                          []   \n",
       "12632                           [Computer Vision]   \n",
       "12634                           [Computer Vision]   \n",
       "13003                           [Computer Vision]   \n",
       "13033                                          []   \n",
       "13032                           [Computer Vision]   \n",
       "13018                                          []   \n",
       "13019                               [Methodology]   \n",
       "13031  [Natural Language Processing, Methodology]   \n",
       "13030                           [Computer Vision]   \n",
       "13029                           [Computer Vision]   \n",
       "13011                                          []   \n",
       "13012  [Natural Language Processing, Methodology]   \n",
       "12925                           [Computer Vision]   \n",
       "12926                               [Methodology]   \n",
       "13585                               [Methodology]   \n",
       "\n",
       "                                      parents  \\\n",
       "13020      [Facial Recognition and Modelling]   \n",
       "13021                                      []   \n",
       "13024      [Facial Recognition and Modelling]   \n",
       "13025                                      []   \n",
       "12633                     [Transfer Learning]   \n",
       "12632      [Facial Recognition and Modelling]   \n",
       "12634              [2D Human Pose Estimation]   \n",
       "13003      [Facial Recognition and Modelling]   \n",
       "13033      [Facial Recognition and Modelling]   \n",
       "13032      [Facial Recognition and Modelling]   \n",
       "13018      [Facial Recognition and Modelling]   \n",
       "13019                                      []   \n",
       "13031                                      []   \n",
       "13030                                      []   \n",
       "13029  [Facial Recognition and Modelling, 3D]   \n",
       "13011      [Facial Recognition and Modelling]   \n",
       "13012                                      []   \n",
       "12925                     [3D Face Animation]   \n",
       "12926                                      []   \n",
       "13585                                      []   \n",
       "\n",
       "                                                children  \\\n",
       "13020  [Age-Invariant Face Recognition, Face Quality ...   \n",
       "13021  [Few-Shot Image Classification, Fine-Grained I...   \n",
       "13024  [Age-Invariant Face Recognition, Face Quality ...   \n",
       "13025              [Constructive Comment Classification]   \n",
       "12633                                                 []   \n",
       "12632                          [Occluded Face Detection]   \n",
       "12634  [3D Human Pose Estimation, Keypoint Detection,...   \n",
       "13003  [Age-Invariant Face Recognition, Face Quality ...   \n",
       "13033                                                 []   \n",
       "13032                          [Occluded Face Detection]   \n",
       "13018                                                 []   \n",
       "13019  [Word Embeddings, Graph Embedding, Graph Repre...   \n",
       "13031              [Constructive Comment Classification]   \n",
       "13030  [Action Recognition, Multimodal Activity Recog...   \n",
       "13029                      [Disguised Face Verification]   \n",
       "13011                                                 []   \n",
       "13012              [Constructive Comment Classification]   \n",
       "12925  [Image-to-Image Translation, Image Inpainting,...   \n",
       "12926         [Arbitrary Conditional Density Estimation]   \n",
       "13585  [Word Embeddings, Graph Embedding, Graph Repre...   \n",
       "\n",
       "                                                siblings  \\\n",
       "13020  [Robust Face Alignment, Robust Face Recognitio...   \n",
       "13021                                                 []   \n",
       "13024  [Robust Face Alignment, Robust Face Recognitio...   \n",
       "13025                                                 []   \n",
       "12633  [Unsupervised Domain Expansion, Auxiliary Lear...   \n",
       "12632  [Robust Face Alignment, Robust Face Recognitio...   \n",
       "12634               [Pose Estimation, 3D Face Animation]   \n",
       "13003  [Robust Face Alignment, Robust Face Recognitio...   \n",
       "13033  [Robust Face Alignment, Robust Face Recognitio...   \n",
       "13032  [Robust Face Alignment, Robust Face Recognitio...   \n",
       "13018  [Robust Face Alignment, Robust Face Recognitio...   \n",
       "13019                                                 []   \n",
       "13031                                                 []   \n",
       "13030                                                 []   \n",
       "13029  [Robust Face Alignment, Robust Face Recognitio...   \n",
       "13011  [Robust Face Alignment, Robust Face Recognitio...   \n",
       "13012                                                 []   \n",
       "12925  [Dialogue Generation, Image Generation, Image ...   \n",
       "12926                                                 []   \n",
       "13585                                                 []   \n",
       "\n",
       "                                                 pdf_url  \\\n",
       "13020              http://arxiv.org/pdf/1602.01827v3.pdf   \n",
       "13021              http://arxiv.org/pdf/1602.01827v3.pdf   \n",
       "13024              http://arxiv.org/pdf/1602.03935v2.pdf   \n",
       "13025              http://arxiv.org/pdf/1602.03935v2.pdf   \n",
       "12633              http://arxiv.org/pdf/1603.01249v3.pdf   \n",
       "12632              http://arxiv.org/pdf/1603.01249v3.pdf   \n",
       "12634              http://arxiv.org/pdf/1603.01249v3.pdf   \n",
       "13003              http://arxiv.org/pdf/1603.07027v2.pdf   \n",
       "13033              http://arxiv.org/pdf/1604.02878v1.pdf   \n",
       "13032              http://arxiv.org/pdf/1604.02878v1.pdf   \n",
       "13018              http://arxiv.org/pdf/1604.06433v3.pdf   \n",
       "13019              http://arxiv.org/pdf/1604.06433v3.pdf   \n",
       "13031              http://arxiv.org/pdf/1604.07360v1.pdf   \n",
       "13030              http://arxiv.org/pdf/1604.07360v1.pdf   \n",
       "13029              http://arxiv.org/pdf/1604.07360v1.pdf   \n",
       "13011              http://arxiv.org/pdf/1605.05411v3.pdf   \n",
       "13012              http://arxiv.org/pdf/1605.05411v3.pdf   \n",
       "12925              http://arxiv.org/pdf/1605.08803v3.pdf   \n",
       "12926              http://arxiv.org/pdf/1605.08803v3.pdf   \n",
       "13585  http://openaccess.thecvf.com/content_cvpr_2016...   \n",
       "\n",
       "                                               paper_url  \\\n",
       "13020  https://paperswithcode.com/paper/leveraging-mi...   \n",
       "13021  https://paperswithcode.com/paper/leveraging-mi...   \n",
       "13024  https://paperswithcode.com/paper/face-attribut...   \n",
       "13025  https://paperswithcode.com/paper/face-attribut...   \n",
       "12633  https://paperswithcode.com/paper/hyperface-a-d...   \n",
       "12632  https://paperswithcode.com/paper/hyperface-a-d...   \n",
       "12634  https://paperswithcode.com/paper/hyperface-a-d...   \n",
       "13003  https://paperswithcode.com/paper/moon-a-mixed-...   \n",
       "13033  https://paperswithcode.com/paper/joint-face-de...   \n",
       "13032  https://paperswithcode.com/paper/joint-face-de...   \n",
       "13018  https://paperswithcode.com/paper/walk-and-lear...   \n",
       "13019  https://paperswithcode.com/paper/walk-and-lear...   \n",
       "13031  https://paperswithcode.com/paper/attributes-fo...   \n",
       "13030  https://paperswithcode.com/paper/attributes-fo...   \n",
       "13029  https://paperswithcode.com/paper/attributes-fo...   \n",
       "13011  https://paperswithcode.com/paper/are-facial-at...   \n",
       "13012  https://paperswithcode.com/paper/are-facial-at...   \n",
       "12925  https://paperswithcode.com/paper/density-estim...   \n",
       "12926  https://paperswithcode.com/paper/density-estim...   \n",
       "13585  https://paperswithcode.com/paper/learning-deep...   \n",
       "\n",
       "                                               all_tasks  \\\n",
       "13020           [Face Recognition, Image Classification]   \n",
       "13021           [Face Recognition, Image Classification]   \n",
       "13024         [Face Recognition, General Classification]   \n",
       "13025         [Face Recognition, General Classification]   \n",
       "12633  [Face Detection, Multi-Task Learning, Pose Est...   \n",
       "12632  [Face Detection, Multi-Task Learning, Pose Est...   \n",
       "12634  [Face Detection, Multi-Task Learning, Pose Est...   \n",
       "13003                                 [Face Recognition]   \n",
       "13033                   [Face Alignment, Face Detection]   \n",
       "13032                   [Face Alignment, Face Detection]   \n",
       "13018  [Facial Attribute Classification, Representati...   \n",
       "13019  [Facial Attribute Classification, Representati...   \n",
       "13031  [Activity Recognition, Face Verification, Gene...   \n",
       "13030  [Activity Recognition, Face Verification, Gene...   \n",
       "13029  [Activity Recognition, Face Verification, Gene...   \n",
       "13011  [Facial Attribute Classification, General Clas...   \n",
       "13012  [Facial Attribute Classification, General Clas...   \n",
       "12925             [Density Estimation, Image Generation]   \n",
       "12926             [Density Estimation, Image Generation]   \n",
       "13585  [General Classification, imbalanced classifica...   \n",
       "\n",
       "                                             all_parents  \\\n",
       "13020                 [Facial Recognition and Modelling]   \n",
       "13021                 [Facial Recognition and Modelling]   \n",
       "13024                 [Facial Recognition and Modelling]   \n",
       "13025                 [Facial Recognition and Modelling]   \n",
       "12633  [2D Human Pose Estimation, Transfer Learning, ...   \n",
       "12632  [2D Human Pose Estimation, Transfer Learning, ...   \n",
       "12634  [2D Human Pose Estimation, Transfer Learning, ...   \n",
       "13003                 [Facial Recognition and Modelling]   \n",
       "13033                 [Facial Recognition and Modelling]   \n",
       "13032                 [Facial Recognition and Modelling]   \n",
       "13018                 [Facial Recognition and Modelling]   \n",
       "13019                 [Facial Recognition and Modelling]   \n",
       "13031             [3D, Facial Recognition and Modelling]   \n",
       "13030             [3D, Facial Recognition and Modelling]   \n",
       "13029             [3D, Facial Recognition and Modelling]   \n",
       "13011                 [Facial Recognition and Modelling]   \n",
       "13012                 [Facial Recognition and Modelling]   \n",
       "12925                                [3D Face Animation]   \n",
       "12926                                [3D Face Animation]   \n",
       "13585                                                 []   \n",
       "\n",
       "                                            all_children  \\\n",
       "13020  [Learning with noisy labels, Artist classifica...   \n",
       "13021  [Learning with noisy labels, Artist classifica...   \n",
       "13024  [Constructive Comment Classification, Face Qua...   \n",
       "13025  [Constructive Comment Classification, Face Qua...   \n",
       "12633  [6D Pose Estimation using RGBD, 3D Pose Estima...   \n",
       "12632  [6D Pose Estimation using RGBD, 3D Pose Estima...   \n",
       "12634  [6D Pose Estimation using RGBD, 3D Pose Estima...   \n",
       "13003  [Face Quality Assessement, Age-Invariant Face ...   \n",
       "13033                          [Occluded Face Detection]   \n",
       "13032                          [Occluded Face Detection]   \n",
       "13018  [Learning Representation Of Multi-View Data, S...   \n",
       "13019  [Learning Representation Of Multi-View Data, S...   \n",
       "13031  [Multimodal Activity Recognition, Group Activi...   \n",
       "13030  [Multimodal Activity Recognition, Group Activi...   \n",
       "13029  [Multimodal Activity Recognition, Group Activi...   \n",
       "13011              [Constructive Comment Classification]   \n",
       "13012              [Constructive Comment Classification]   \n",
       "12925  [User Constrained Thumbnail Generation, Layout...   \n",
       "12926  [User Constrained Thumbnail Generation, Layout...   \n",
       "13585  [Learning Representation Of Multi-View Data, S...   \n",
       "\n",
       "                                            all_siblings  \\\n",
       "13020  [Robust Face Alignment, Robust Face Recognitio...   \n",
       "13021  [Robust Face Alignment, Robust Face Recognitio...   \n",
       "13024  [Robust Face Alignment, Robust Face Recognitio...   \n",
       "13025  [Robust Face Alignment, Robust Face Recognitio...   \n",
       "12633  [Robust Face Alignment, Robust Face Recognitio...   \n",
       "12632  [Robust Face Alignment, Robust Face Recognitio...   \n",
       "12634  [Robust Face Alignment, Robust Face Recognitio...   \n",
       "13003  [Robust Face Alignment, Robust Face Recognitio...   \n",
       "13033  [Robust Face Alignment, Robust Face Recognitio...   \n",
       "13032  [Robust Face Alignment, Robust Face Recognitio...   \n",
       "13018  [Robust Face Alignment, Robust Face Recognitio...   \n",
       "13019  [Robust Face Alignment, Robust Face Recognitio...   \n",
       "13031  [Robust Face Alignment, Robust Face Recognitio...   \n",
       "13030  [Robust Face Alignment, Robust Face Recognitio...   \n",
       "13029  [Robust Face Alignment, Robust Face Recognitio...   \n",
       "13011  [Robust Face Alignment, Robust Face Recognitio...   \n",
       "13012  [Robust Face Alignment, Robust Face Recognitio...   \n",
       "12925  [Dialogue Generation, Image Generation, Image ...   \n",
       "12926  [Dialogue Generation, Image Generation, Image ...   \n",
       "13585                                                 []   \n",
       "\n",
       "                                          all_categories  \n",
       "13020                     [Computer Vision, Methodology]  \n",
       "13021                     [Computer Vision, Methodology]  \n",
       "13024  [Computer Vision, Methodology, Natural Languag...  \n",
       "13025  [Computer Vision, Methodology, Natural Languag...  \n",
       "12633                                  [Computer Vision]  \n",
       "12632                                  [Computer Vision]  \n",
       "12634                                  [Computer Vision]  \n",
       "13003                                  [Computer Vision]  \n",
       "13033                                  [Computer Vision]  \n",
       "13032                                  [Computer Vision]  \n",
       "13018                                      [Methodology]  \n",
       "13019                                      [Methodology]  \n",
       "13031  [Computer Vision, Methodology, Natural Languag...  \n",
       "13030  [Computer Vision, Methodology, Natural Languag...  \n",
       "13029  [Computer Vision, Methodology, Natural Languag...  \n",
       "13011         [Natural Language Processing, Methodology]  \n",
       "13012         [Natural Language Processing, Methodology]  \n",
       "12925                     [Computer Vision, Methodology]  \n",
       "12926                     [Computer Vision, Methodology]  \n",
       "13585  [Natural Language Processing, Miscellaneous, M...  "
      ]
     },
     "execution_count": 12,
     "metadata": {},
     "output_type": "execute_result"
    }
   ],
   "source": [
    "dataset_citing_papers_pwc[dataset_citing_papers_pwc.name==\"CelebA\"].sort_values('date').head(20)"
   ]
  },
  {
   "cell_type": "code",
   "execution_count": 56,
   "id": "132c0915-692b-439a-885d-058076d93f52",
   "metadata": {},
   "outputs": [],
   "source": [
    "# Now create infomap inputs\n",
    "dataset_citing_papers_origins=pd.merge(datasets_pwc,dataset_citing_papers_pwc,on='name')\n",
    "dataset_citing_papers_origins.columns\n",
    "dataset_citing_papers_origins.rename({'title_x':'origin_title',\n",
    "                                     'all_tasks_x':'origin_tasks',\n",
    "                                     'all_parents_x':'origin_parents',\n",
    "                                     'all_siblings_x':'origin_siblings',\n",
    "                                     'all_siblings_x':'origin_siblings'},axis=1,inplace=True)\n",
    "dataset_citing_papers_origins.columns=[i.replace('_y','') for i in dataset_citing_papers_origins.columns]\n",
    "#dataset_citing_papers_origins=dataset_citing_papers_origins[dataset_citing_papers_origins.date>dataset_citing_papers_origins.introduced_date]\n",
    "dataset_citing_papers_origins=dataset_citing_papers_origins[dataset_citing_papers_origins.title!=dataset_citing_papers_origins.origin_title]\n"
   ]
  },
  {
   "cell_type": "code",
   "execution_count": 57,
   "id": "2c6ab62b-ff22-4b03-befc-c1ce1edc624a",
   "metadata": {},
   "outputs": [
    {
     "name": "stdout",
     "output_type": "stream",
     "text": [
      "['Image Recognition', 'Semi-Supervised Image Classification']\n",
      "True\n"
     ]
    }
   ],
   "source": [
    "valid_tasks= set(datasets[datasets.name=='STL-10']['dataset_tasks'].iloc[0]+\\\n",
    "                     datasets[datasets.name=='STL-10']['dataset_tasks_children'].iloc[0]+\\\n",
    "                    datasets[datasets.name=='STL-10']['dataset_tasks_siblings'].iloc[0])\n",
    "print(dataset_citing_papers_origins[dataset_citing_papers_origins.name=='STL-10']['origin_tasks'].iloc[0])\n",
    "print('Semi-Supervised Image Classification' in valid_tasks)"
   ]
  },
  {
   "cell_type": "code",
   "execution_count": 5,
   "id": "19f02df6-00c7-4622-b72d-7dfe3e5b4871",
   "metadata": {},
   "outputs": [
    {
     "name": "stdout",
     "output_type": "stream",
     "text": [
      "WORKING\n"
     ]
    }
   ],
   "source": [
    "# Now create infomap inputs\n",
    "'''\n",
    "origins=datasets_pwc.copy()\n",
    "origins=datasets_pwc[['name','title','introduced_date','Images','Texts','all_tasks','all_parents','all_siblings','all_children']]\n",
    "origins.columns=['name','origin_title','introduced_date','Images','Texts','origin_tasks','origin_parents','origin_siblings','origin_children']\n",
    "dataset_citing_papers_origins=pd.merge(dataset_citing_papers_pwc,origins,on='name')\n",
    "dataset_citing_papers_origins=dataset_citing_papers_origins[dataset_citing_papers_origins.date>dataset_citing_papers_origins.introduced_date]\n",
    "dataset_citing_papers_origins=dataset_citing_papers_origins[dataset_citing_papers_origins.title!=dataset_citing_papers_origins.origin_title]\n",
    "dataset_citing_papers_origins=dataset_citing_papers_origins.drop_duplicates(['name','title'])\n",
    "'''\n",
    "# Now create infomap inputs\n",
    "dataset_citing_papers_origins=pd.merge(datasets_pwc,dataset_citing_papers_pwc,on='name')\n",
    "dataset_citing_papers_origins.columns\n",
    "dataset_citing_papers_origins.rename({'title_x':'origin_title',\n",
    "                                     'all_tasks_x':'origin_tasks',\n",
    "                                     'all_parents_x':'origin_parents',\n",
    "                                     'all_siblings_x':'origin_siblings',\n",
    "                                     'all_children_x':'origin_children'},axis=1,inplace=True)\n",
    "dataset_citing_papers_origins.columns=[i.replace('_y','') for i in dataset_citing_papers_origins.columns]\n",
    "dataset_citing_papers_origins=dataset_citing_papers_origins[dataset_citing_papers_origins.title!=dataset_citing_papers_origins.origin_title]\n",
    "#since it is cyclic, we will skip lowest level tasks and focus on others\n",
    "'''\n",
    "parentless_tasks=task_relations[task_relations['parents'].astype(str)=='[]'].task\n",
    "parentless_tasks=parentless_tasks.to_list()\n",
    "parent_tasks=pd.Series(parent_child_dict).astype(str)\n",
    "parent_tasks=parent_tasks[parent_tasks!='[]'].index.to_list()\n",
    "focal_tasks=set(parentless_tasks+parent_tasks)\n",
    "'''\n",
    "methods_tasks=pd.read_csv(\"MethodTasksfromEmily.txt\",header=None).squeeze().tolist()\n",
    "#focal_tasks=task_hist.index\n",
    "#parent_tasks=[i for i in parent_child_dict.keys() if len(parent_child_dict[i])!=0]\n",
    "#focal_tasks=parent_tasks\n",
    "task_contains_images={}\n",
    "task_contains_texts={}\n",
    "#tasks<-list(parent_child_dict().keys()\n",
    "\n",
    "#external adoptions to siblings and parents\n",
    "sources=[]\n",
    "destinations=[]\n",
    "ds_names=[]\n",
    "paper_titles=[]\n",
    "ds_texts=[]\n",
    "ds_images=[]\n",
    "dest_dates=[]\n",
    "parent_transfer=[]\n",
    "\n",
    "\n",
    "#adoption of homegrown datasets\n",
    "home_tasks=[]\n",
    "home_names=[]\n",
    "home_titles=[]\n",
    "home_dates=[]\n",
    "home_texts=[]\n",
    "home_images=[]\n",
    "home_parent=[]\n",
    "home_introduced=[]\n",
    "\n",
    "introduced_names=[]\n",
    "introduced_dates=[]\n",
    "introduced_tasks=[]\n",
    "introduced_texts=[]\n",
    "introduced_images=[]\n",
    "introduced_parent=[]\n",
    "introduced_title=[]\n",
    "#There are four scenarios\n",
    "#1:Dest is sources's parent: continue\n",
    "#2 Dest is source's child:\n",
    "    #For now we just continue on this\n",
    "    #(Theoretically source can transfer to a child if it is older than child)\n",
    "#3 Dest is source:\n",
    "    #Homegrown for source\n",
    "    #Homegrown for parents\n",
    "#4 Dest is source's sibling: Do sibling transfer\n",
    "\n",
    "#5 Dest is unrelated:\n",
    "    # Do source to dest transfer\n",
    "    # If source has no parents and dest has no parents: continue\n",
    "    # Elif source has parents and dest has no parents: Do parent source to dest transfer\n",
    "    # Elif source has no parents and dest has parents: Do source to parent dest transfer\n",
    "    # Else: Do parent to parent transfer\n",
    "print(\"WORKING\")\n",
    "big_break=False\n",
    "for i,row in dataset_citing_papers_origins.iterrows():\n",
    "    valid_tasks= set(datasets[datasets.name==row['name']]['dataset_tasks'].iloc[0]+\\\n",
    "                     datasets[datasets.name==row['name']]['dataset_tasks_children'].iloc[0]+\\\n",
    "                    datasets[datasets.name==row['name']]['dataset_tasks_siblings'].iloc[0])\n",
    "    for t in row['origin_tasks']:\n",
    "        #print(t)\n",
    "        if t not in valid_tasks: continue\n",
    "        introduced_names.append(row['name'])\n",
    "        introduced_dates.append(row['introduced_date'])\n",
    "        introduced_tasks.append(t)\n",
    "        introduced_images.append(row['Images'])\n",
    "        introduced_texts.append(row['Texts'])\n",
    "        introduced_title.append(row['origin_title'])\n",
    "        introduced_parent.append(False)\n",
    "        if t not in task_contains_images: task_contains_images[t]=0\n",
    "        if t not in task_contains_texts: task_contains_texts[t]=0\n",
    "        task_contains_texts[t]+=row['Images']; task_contains_images[t]+=row['Texts']\n",
    "        #Your parent gets credit for introducing dataset as well!\n",
    "        for d in row['origin_parents']:\n",
    "            if d not in valid_tasks: continue\n",
    "            #if d not in focal_tasks:continue\n",
    "            introduced_names.append(row['name'])\n",
    "            introduced_dates.append(row['introduced_date'])\n",
    "            introduced_tasks.append(d)\n",
    "            introduced_images.append(row['Images'])\n",
    "            introduced_texts.append(row['Texts'])\n",
    "            introduced_parent.append(True)\n",
    "            introduced_title.append(row['origin_title'])\n",
    "\n",
    "            if d not in task_contains_images: task_contains_images[d]=0\n",
    "            if d not in task_contains_texts: task_contains_texts[d]=0\n",
    "            task_contains_texts[d]+=row['Images']; task_contains_images[d]+=row['Texts']\n",
    "            \n",
    "\n",
    "        #who are you passing it to?\n",
    "        for d in row['all_tasks']:\n",
    "            if d not in valid_tasks: continue\n",
    "            #if d not in focal_tasks: continue\n",
    "            #Scenario 1: Dest is sources parent\n",
    "            if d in row['origin_parents']: continue\n",
    "            #Scenario 2: Dest is sources child or another origins child:\n",
    "            if d in row['origin_children']: continue\n",
    "            #Scenario 3: Dest is source. (First confirm its not another origin)\n",
    "            if d in row['origin_tasks'] and t!=d: continue\n",
    "            #you've found yourself. Add to home task\n",
    "            if t==d: \n",
    "                home_tasks.append(t)\n",
    "                home_names.append(row['name'])\n",
    "                home_titles.append(row['title'])\n",
    "                home_dates.append(row['date'])\n",
    "                home_images.append(row['Images'])\n",
    "                home_texts.append(row['Texts'])\n",
    "                home_parent.append(False)\n",
    "                home_introduced.append(row['introduced_date'])\n",
    "                if t not in task_contains_images: task_contains_images[t]=0\n",
    "                if t not in task_contains_texts: task_contains_texts[t]=0\n",
    "                task_contains_texts[t]+=row['Images']; task_contains_images[t]+=row['Texts']\n",
    "                #your parents have also homgrown a task\n",
    "                for parent in row['origin_parents']:\n",
    "                    if parent not in valid_tasks: continue\n",
    "                    home_tasks.append(parent)\n",
    "                    home_names.append(row['name'])\n",
    "                    home_titles.append(row['title'])\n",
    "                    home_dates.append(row['date'])\n",
    "                    home_images.append(row['Images'])\n",
    "                    home_texts.append(row['Texts'])\n",
    "                    home_parent.append(True)\n",
    "                    home_introduced.append(row['introduced_date'])\n",
    "                    if parent not in task_contains_images: task_contains_images[parent]=0\n",
    "                    if parent not in task_contains_texts: task_contains_texts[parent]=0\n",
    "                    task_contains_texts[parent]+=row['Images']; task_contains_images[parent]+=row['Texts']\n",
    "            else:\n",
    "                #A. pass directly to this tasks\n",
    "                if t not in valid_tasks or d not in valid_tasks: continue\n",
    "                sources.append(t)\n",
    "                destinations.append(d)\n",
    "                ds_names.append(row['name'])\n",
    "                paper_titles.append(row['title'])\n",
    "                dest_dates.append(row['date'])\n",
    "                ds_texts.append(row['Texts'])\n",
    "                ds_images.append(row['Images'])\n",
    "                parent_transfer.append(False)\n",
    "                if t not in task_contains_images: task_contains_images[t]=0\n",
    "                if t not in task_contains_texts: task_contains_texts[t]=0\n",
    "                task_contains_texts[t]+=row['Images']; task_contains_images[t]+=row['Texts']\n",
    "                if d not in task_contains_images: task_contains_images[d]=0\n",
    "                if d not in task_contains_texts: task_contains_texts[d]=0\n",
    "                task_contains_texts[d]+=row['Images']; task_contains_images[d]+=row['Texts'] \n",
    "                #B1. Source has no parents but dest does\n",
    "                for pt in row['origin_parents']:\n",
    "                    if t not in valid_tasks or pt not in valid_tasks: continue\n",
    "                    #if pt not in focal_tasks: continue                    \n",
    "                    if t==pt: continue #cant transfer to yourself                        \n",
    "                    for pdest in row['all_parents']:\n",
    "                        if t not in valid_tasks or pdest not in valid_tasks: continue\n",
    "                        #cant transfer to yourself to your own parent or children\n",
    "                        #if pdest not in focal_tasks: continue\n",
    "                        if t==pdest or pdest in row['origin_parents'] or pdest in row['origin_children']: continue\n",
    "                        sources.append(pt)\n",
    "                        destinations.append(pdest)\n",
    "                        ds_names.append(row['name'])\n",
    "                        paper_titles.append(row['title'])\n",
    "                        dest_dates.append(row['date'])\n",
    "                        ds_texts.append(row['Texts'])\n",
    "                        ds_images.append(row['Images'])\n",
    "                        parent_transfer.append(True)\n",
    "                        if pt not in task_contains_images: task_contains_images[pt]=0\n",
    "                        if pt not in task_contains_texts: task_contains_texts[pt]=0\n",
    "                        task_contains_texts[pt]+=row['Images']; task_contains_images[pt]+=row['Texts']\n",
    "                        if pdest not in task_contains_images: task_contains_images[pdest]=0\n",
    "                        if pdest not in task_contains_texts: task_contains_texts[pdest]=0\n",
    "                        task_contains_texts[pdest]+=row['Images']; task_contains_images[pdest]+=row['Texts']\n",
    "\n",
    "source_dest_edgelist=pd.DataFrame({'source_task':sources,'dest_task':destinations,'name':ds_names,'title':paper_titles,'date':dest_dates,'Images':ds_images,'Texts':ds_texts,'Parent_Transfer':parent_transfer}).drop_duplicates()\n",
    "homegrown_edgelist=pd.DataFrame({'task':home_tasks,'name':home_names,'title':home_titles,'date':home_dates,'Images':home_images,'Texts':home_texts,'Parent':home_parent,'introduced_date':home_introduced}).drop_duplicates()\n",
    "birth_edgelist=pd.DataFrame({'task':introduced_tasks,'name':introduced_names,'title':introduced_title,'date':introduced_dates,'Images':introduced_images,'Texts':introduced_texts,'Parent':introduced_parent}).drop_duplicates()\n",
    "task_contains_images=pd.Series(task_contains_images)\n",
    "task_contains_images[task_contains_images>0]=1\n",
    "task_contains_texts=pd.Series(task_contains_texts)\n",
    "task_contains_texts[task_contains_texts>0]=1\n",
    "task_contains_images=task_contains_images.reset_index()\n",
    "task_contains_images.columns=['task','Images']\n",
    "task_contains_texts=task_contains_texts.reset_index()\n",
    "task_contains_texts.columns=['task','Texts']\n",
    "source_dest_edgelist.to_csv('source_dest_edgelist.csv',quoting=1)\n",
    "homegrown_edgelist.to_csv('homegrown_edgelist',quoting=1)\n",
    "birth_edgelist.to_csv('birth_edgelist.csv',quoting=1)"
   ]
  },
  {
   "cell_type": "code",
   "execution_count": 1,
   "id": "61f8d5f4-d5ef-44cb-819e-8ede4e6df88d",
   "metadata": {},
   "outputs": [
    {
     "ename": "NameError",
     "evalue": "name 'pd' is not defined",
     "output_type": "error",
     "traceback": [
      "\u001b[0;31m---------------------------------------------------------------------------\u001b[0m",
      "\u001b[0;31mNameError\u001b[0m                                 Traceback (most recent call last)",
      "\u001b[0;32m<ipython-input-1-c2105022dea8>\u001b[0m in \u001b[0;36m<module>\u001b[0;34m\u001b[0m\n\u001b[0;32m----> 1\u001b[0;31m \u001b[0msource_dest_edgelist\u001b[0m\u001b[0;34m=\u001b[0m\u001b[0mpd\u001b[0m\u001b[0;34m.\u001b[0m\u001b[0mread_csv\u001b[0m\u001b[0;34m(\u001b[0m\u001b[0;34m'source_dest_edgelist.csv'\u001b[0m\u001b[0;34m)\u001b[0m\u001b[0;34m\u001b[0m\u001b[0;34m\u001b[0m\u001b[0m\n\u001b[0m\u001b[1;32m      2\u001b[0m \u001b[0mhomegrown_edgelist\u001b[0m\u001b[0;34m=\u001b[0m\u001b[0mpd\u001b[0m\u001b[0;34m.\u001b[0m\u001b[0mread_csv\u001b[0m\u001b[0;34m(\u001b[0m\u001b[0;34m'source_dest_edgelist.csv'\u001b[0m\u001b[0;34m)\u001b[0m\u001b[0;34m\u001b[0m\u001b[0;34m\u001b[0m\u001b[0m\n\u001b[1;32m      3\u001b[0m \u001b[0mbirth_edgelist\u001b[0m\u001b[0;34m=\u001b[0m\u001b[0mpd\u001b[0m\u001b[0;34m.\u001b[0m\u001b[0mread_csv\u001b[0m\u001b[0;34m(\u001b[0m\u001b[0;34m'birth_edgelist.csv'\u001b[0m\u001b[0;34m)\u001b[0m\u001b[0;34m\u001b[0m\u001b[0;34m\u001b[0m\u001b[0m\n",
      "\u001b[0;31mNameError\u001b[0m: name 'pd' is not defined"
     ]
    }
   ],
   "source": []
  },
  {
   "cell_type": "code",
   "execution_count": 8,
   "id": "1d2fa44f-979b-46ec-9221-b6966e822ebb",
   "metadata": {},
   "outputs": [
    {
     "data": {
      "text/html": [
       "<div>\n",
       "<style scoped>\n",
       "    .dataframe tbody tr th:only-of-type {\n",
       "        vertical-align: middle;\n",
       "    }\n",
       "\n",
       "    .dataframe tbody tr th {\n",
       "        vertical-align: top;\n",
       "    }\n",
       "\n",
       "    .dataframe thead th {\n",
       "        text-align: right;\n",
       "    }\n",
       "</style>\n",
       "<table border=\"1\" class=\"dataframe\">\n",
       "  <thead>\n",
       "    <tr style=\"text-align: right;\">\n",
       "      <th></th>\n",
       "      <th>source_task</th>\n",
       "      <th>dest_task</th>\n",
       "      <th>name</th>\n",
       "      <th>title</th>\n",
       "      <th>date</th>\n",
       "      <th>Images</th>\n",
       "      <th>Texts</th>\n",
       "      <th>Parent_Transfer</th>\n",
       "    </tr>\n",
       "  </thead>\n",
       "  <tbody>\n",
       "    <tr>\n",
       "      <th>0</th>\n",
       "      <td>Handwriting Recognition</td>\n",
       "      <td>Network Pruning</td>\n",
       "      <td>MNIST</td>\n",
       "      <td>Fast Convex Pruning of Deep Neural Networks</td>\n",
       "      <td>2018-06-17</td>\n",
       "      <td>True</td>\n",
       "      <td>False</td>\n",
       "      <td>False</td>\n",
       "    </tr>\n",
       "    <tr>\n",
       "      <th>1</th>\n",
       "      <td>Optical Character Recognition</td>\n",
       "      <td>Network Pruning</td>\n",
       "      <td>MNIST</td>\n",
       "      <td>Fast Convex Pruning of Deep Neural Networks</td>\n",
       "      <td>2018-06-17</td>\n",
       "      <td>True</td>\n",
       "      <td>False</td>\n",
       "      <td>False</td>\n",
       "    </tr>\n",
       "    <tr>\n",
       "      <th>2</th>\n",
       "      <td>Image Classification</td>\n",
       "      <td>Network Pruning</td>\n",
       "      <td>MNIST</td>\n",
       "      <td>Fast Convex Pruning of Deep Neural Networks</td>\n",
       "      <td>2018-06-17</td>\n",
       "      <td>True</td>\n",
       "      <td>False</td>\n",
       "      <td>False</td>\n",
       "    </tr>\n",
       "    <tr>\n",
       "      <th>3</th>\n",
       "      <td>Handwriting Recognition</td>\n",
       "      <td>Domain Adaptation</td>\n",
       "      <td>MNIST</td>\n",
       "      <td>Best sources forward: domain generalization th...</td>\n",
       "      <td>2018-06-15</td>\n",
       "      <td>True</td>\n",
       "      <td>False</td>\n",
       "      <td>False</td>\n",
       "    </tr>\n",
       "    <tr>\n",
       "      <th>4</th>\n",
       "      <td>Optical Character Recognition</td>\n",
       "      <td>Domain Adaptation</td>\n",
       "      <td>MNIST</td>\n",
       "      <td>Best sources forward: domain generalization th...</td>\n",
       "      <td>2018-06-15</td>\n",
       "      <td>True</td>\n",
       "      <td>False</td>\n",
       "      <td>True</td>\n",
       "    </tr>\n",
       "    <tr>\n",
       "      <th>...</th>\n",
       "      <td>...</td>\n",
       "      <td>...</td>\n",
       "      <td>...</td>\n",
       "      <td>...</td>\n",
       "      <td>...</td>\n",
       "      <td>...</td>\n",
       "      <td>...</td>\n",
       "      <td>...</td>\n",
       "    </tr>\n",
       "    <tr>\n",
       "      <th>447432</th>\n",
       "      <td>Video Retrieval</td>\n",
       "      <td>Video Understanding</td>\n",
       "      <td>WebVid</td>\n",
       "      <td>CLIP4Clip: An Empirical Study of CLIP for End ...</td>\n",
       "      <td>2021-04-18</td>\n",
       "      <td>False</td>\n",
       "      <td>True</td>\n",
       "      <td>False</td>\n",
       "    </tr>\n",
       "    <tr>\n",
       "      <th>447433</th>\n",
       "      <td>Video-Text Retrieval</td>\n",
       "      <td>Video Understanding</td>\n",
       "      <td>WebVid</td>\n",
       "      <td>CLIP4Clip: An Empirical Study of CLIP for End ...</td>\n",
       "      <td>2021-04-18</td>\n",
       "      <td>False</td>\n",
       "      <td>True</td>\n",
       "      <td>False</td>\n",
       "    </tr>\n",
       "    <tr>\n",
       "      <th>447467</th>\n",
       "      <td>Word Sense Induction</td>\n",
       "      <td>Reading Comprehension</td>\n",
       "      <td>RUSSE</td>\n",
       "      <td>RussianSuperGLUE: A Russian Language Understan...</td>\n",
       "      <td>2020-10-29</td>\n",
       "      <td>False</td>\n",
       "      <td>True</td>\n",
       "      <td>False</td>\n",
       "    </tr>\n",
       "    <tr>\n",
       "      <th>447474</th>\n",
       "      <td>Word Sense Induction</td>\n",
       "      <td>Reading Comprehension</td>\n",
       "      <td>RUSSE</td>\n",
       "      <td>Unreasonable Effectiveness of Rule-Based Heuri...</td>\n",
       "      <td>2021-05-03</td>\n",
       "      <td>False</td>\n",
       "      <td>True</td>\n",
       "      <td>False</td>\n",
       "    </tr>\n",
       "    <tr>\n",
       "      <th>447480</th>\n",
       "      <td>Face Recognition</td>\n",
       "      <td>Face Hallucination</td>\n",
       "      <td>TinyFace</td>\n",
       "      <td>Face Hallucination with Finishing Touches</td>\n",
       "      <td>2020-02-09</td>\n",
       "      <td>True</td>\n",
       "      <td>False</td>\n",
       "      <td>False</td>\n",
       "    </tr>\n",
       "  </tbody>\n",
       "</table>\n",
       "<p>42022 rows × 8 columns</p>\n",
       "</div>"
      ],
      "text/plain": [
       "                          source_task              dest_task      name  \\\n",
       "0             Handwriting Recognition        Network Pruning     MNIST   \n",
       "1       Optical Character Recognition        Network Pruning     MNIST   \n",
       "2                Image Classification        Network Pruning     MNIST   \n",
       "3             Handwriting Recognition      Domain Adaptation     MNIST   \n",
       "4       Optical Character Recognition      Domain Adaptation     MNIST   \n",
       "...                               ...                    ...       ...   \n",
       "447432                Video Retrieval    Video Understanding    WebVid   \n",
       "447433           Video-Text Retrieval    Video Understanding    WebVid   \n",
       "447467           Word Sense Induction  Reading Comprehension     RUSSE   \n",
       "447474           Word Sense Induction  Reading Comprehension     RUSSE   \n",
       "447480               Face Recognition     Face Hallucination  TinyFace   \n",
       "\n",
       "                                                    title       date  Images  \\\n",
       "0             Fast Convex Pruning of Deep Neural Networks 2018-06-17    True   \n",
       "1             Fast Convex Pruning of Deep Neural Networks 2018-06-17    True   \n",
       "2             Fast Convex Pruning of Deep Neural Networks 2018-06-17    True   \n",
       "3       Best sources forward: domain generalization th... 2018-06-15    True   \n",
       "4       Best sources forward: domain generalization th... 2018-06-15    True   \n",
       "...                                                   ...        ...     ...   \n",
       "447432  CLIP4Clip: An Empirical Study of CLIP for End ... 2021-04-18   False   \n",
       "447433  CLIP4Clip: An Empirical Study of CLIP for End ... 2021-04-18   False   \n",
       "447467  RussianSuperGLUE: A Russian Language Understan... 2020-10-29   False   \n",
       "447474  Unreasonable Effectiveness of Rule-Based Heuri... 2021-05-03   False   \n",
       "447480          Face Hallucination with Finishing Touches 2020-02-09    True   \n",
       "\n",
       "        Texts  Parent_Transfer  \n",
       "0       False            False  \n",
       "1       False            False  \n",
       "2       False            False  \n",
       "3       False            False  \n",
       "4       False             True  \n",
       "...       ...              ...  \n",
       "447432   True            False  \n",
       "447433   True            False  \n",
       "447467   True            False  \n",
       "447474   True            False  \n",
       "447480  False            False  \n",
       "\n",
       "[42022 rows x 8 columns]"
      ]
     },
     "execution_count": 8,
     "metadata": {},
     "output_type": "execute_result"
    }
   ],
   "source": [
    "source_dest_edgelist"
   ]
  },
  {
   "cell_type": "code",
   "execution_count": 11,
   "id": "119553c4-40da-4620-929e-58ac41ea24ba",
   "metadata": {},
   "outputs": [
    {
     "name": "stderr",
     "output_type": "stream",
     "text": [
      "<ipython-input-11-109ee7da6897>:5: SettingWithCopyWarning: \n",
      "A value is trying to be set on a copy of a slice from a DataFrame.\n",
      "Try using .loc[row_indexer,col_indexer] = value instead\n",
      "\n",
      "See the caveats in the documentation: https://pandas.pydata.org/pandas-docs/stable/user_guide/indexing.html#returning-a-view-versus-a-copy\n",
      "  dataset_papers['date']=None\n"
     ]
    },
    {
     "data": {
      "text/plain": [
       "\"\\ndest_papers=source_dest_edgelist[['title','dest_task']]\\ndest_papers.columns=['title','task']\\nbirth_papers=birth_edgelist[['title','task']]\\nhomegrown_papers=homegrown_edgelist[['title','task']]\\nfull_dataset=pd.concat([dataset_papers,dest_papers,birth_papers,homegrown_papers]).drop_duplicates()\\ntask_sizes=full_dataset.groupby('task').size()\\n\\nparent_tasks=[i for i in parent_child_dict.keys() if len(parent_child_dict[i])!=0]\\nparent_task_sizes=task_sizes[task_sizes.index.isin(parent_tasks)]\\nparent_task_sizes_median=parent_task_sizes[parent_task_sizes>parent_task_sizes.median()]\\nparent_task_sizes_median.sort_values()\\n\""
      ]
     },
     "execution_count": 11,
     "metadata": {},
     "output_type": "execute_result"
    }
   ],
   "source": [
    "source_dest_edgelist=pd.read_csv('source_dest_edgelist.csv')\n",
    "homegrown_edgelist=pd.read_csv('source_dest_edgelist.csv')\n",
    "birth_edgelist=pd.read_csv('birth_edgelist.csv')\n",
    "dataset_papers=datasets[['name','title']]\n",
    "dataset_papers['date']=None\n",
    "dest_papers=source_dest_edgelist[['name','title','date']]\n",
    "dest_papers.columns=['name','title','date']\n",
    "birth_papers=birth_edgelist[['name','title','date']]\n",
    "homegrown_papers=homegrown_edgelist[['name','title','date']]\n",
    "full_dataset=pd.concat([dataset_papers,dest_papers,birth_papers,homegrown_papers]).drop_duplicates()\n",
    "full_dataset.to_csv('ValidPaperDataset-Titles.txt')\n",
    "'''\n",
    "dest_papers=source_dest_edgelist[['title','dest_task']]\n",
    "dest_papers.columns=['title','task']\n",
    "birth_papers=birth_edgelist[['title','task']]\n",
    "homegrown_papers=homegrown_edgelist[['title','task']]\n",
    "full_dataset=pd.concat([dataset_papers,dest_papers,birth_papers,homegrown_papers]).drop_duplicates()\n",
    "task_sizes=full_dataset.groupby('task').size()\n",
    "\n",
    "parent_tasks=[i for i in parent_child_dict.keys() if len(parent_child_dict[i])!=0]\n",
    "parent_task_sizes=task_sizes[task_sizes.index.isin(parent_tasks)]\n",
    "parent_task_sizes_median=parent_task_sizes[parent_task_sizes>parent_task_sizes.median()]\n",
    "parent_task_sizes_median.sort_values()\n",
    "'''"
   ]
  },
  {
   "cell_type": "code",
   "execution_count": 15,
   "id": "17c8d888-b242-4670-991c-f9123c9b47ee",
   "metadata": {},
   "outputs": [
    {
     "data": {
      "text/plain": [
       "Index(['Unnamed: 0', 'task', 'name', 'title', 'date', 'Images', 'Texts',\n",
       "       'Parent'],\n",
       "      dtype='object')"
      ]
     },
     "execution_count": 15,
     "metadata": {},
     "output_type": "execute_result"
    }
   ],
   "source": []
  },
  {
   "cell_type": "code",
   "execution_count": 6,
   "id": "84ac8276-1822-49eb-ba77-5c5c56a6926c",
   "metadata": {},
   "outputs": [
    {
     "ename": "NameError",
     "evalue": "name 'datasets_pwc' is not defined",
     "output_type": "error",
     "traceback": [
      "\u001b[0;31m---------------------------------------------------------------------------\u001b[0m",
      "\u001b[0;31mNameError\u001b[0m                                 Traceback (most recent call last)",
      "\u001b[0;32m<ipython-input-6-471053042086>\u001b[0m in \u001b[0;36m<module>\u001b[0;34m\u001b[0m\n\u001b[1;32m      1\u001b[0m \u001b[0mMAGIDs\u001b[0m\u001b[0;34m=\u001b[0m\u001b[0mpd\u001b[0m\u001b[0;34m.\u001b[0m\u001b[0mread_json\u001b[0m\u001b[0;34m(\u001b[0m\u001b[0;34m'MAG_Linking_IDs.json'\u001b[0m\u001b[0;34m)\u001b[0m\u001b[0;34m\u001b[0m\u001b[0;34m\u001b[0m\u001b[0m\n\u001b[1;32m      2\u001b[0m \u001b[0;31m#MAGIDs=MAGIDs[['MAGID','PWC_Clean_Title','PWC_Title']]\u001b[0m\u001b[0;34m\u001b[0m\u001b[0;34m\u001b[0m\u001b[0;34m\u001b[0m\u001b[0m\n\u001b[0;32m----> 3\u001b[0;31m \u001b[0mdataset_papers_MAG\u001b[0m\u001b[0;34m=\u001b[0m\u001b[0mpd\u001b[0m\u001b[0;34m.\u001b[0m\u001b[0mmerge\u001b[0m\u001b[0;34m(\u001b[0m\u001b[0mMAGIDs\u001b[0m\u001b[0;34m,\u001b[0m\u001b[0mdatasets_pwc\u001b[0m\u001b[0;34m,\u001b[0m\u001b[0mleft_on\u001b[0m\u001b[0;34m=\u001b[0m\u001b[0;34m'PWC_Title'\u001b[0m\u001b[0;34m,\u001b[0m\u001b[0mright_on\u001b[0m\u001b[0;34m=\u001b[0m\u001b[0;34m'title'\u001b[0m\u001b[0;34m)\u001b[0m\u001b[0;34m.\u001b[0m\u001b[0mdrop\u001b[0m\u001b[0;34m(\u001b[0m\u001b[0;34m'title'\u001b[0m\u001b[0;34m,\u001b[0m\u001b[0maxis\u001b[0m\u001b[0;34m=\u001b[0m\u001b[0;36m1\u001b[0m\u001b[0;34m)\u001b[0m\u001b[0;34m\u001b[0m\u001b[0;34m\u001b[0m\u001b[0m\n\u001b[0m",
      "\u001b[0;31mNameError\u001b[0m: name 'datasets_pwc' is not defined"
     ]
    }
   ],
   "source": [
    "MAGIDs=pd.read_json('MAG_Linking_IDs.json')\n",
    "#MAGIDs=MAGIDs[['MAGID','PWC_Clean_Title','PWC_Title']]\n",
    "dataset_papers_MAG=pd.merge(MAGIDs,datasets_pwc,left_on='PWC_Title',right_on='title').drop('title',axis=1)\n"
   ]
  },
  {
   "cell_type": "code",
   "execution_count": 5,
   "id": "737ed5d1-b6c1-4e89-8795-7f7156469e50",
   "metadata": {},
   "outputs": [
    {
     "ename": "NameError",
     "evalue": "name 'MAGIDs' is not defined",
     "output_type": "error",
     "traceback": [
      "\u001b[0;31m---------------------------------------------------------------------------\u001b[0m",
      "\u001b[0;31mNameError\u001b[0m                                 Traceback (most recent call last)",
      "\u001b[0;32m<ipython-input-5-677ffca94c25>\u001b[0m in \u001b[0;36m<module>\u001b[0;34m\u001b[0m\n\u001b[0;32m----> 1\u001b[0;31m \u001b[0mMAGIDs\u001b[0m\u001b[0;34m\u001b[0m\u001b[0;34m\u001b[0m\u001b[0m\n\u001b[0m",
      "\u001b[0;31mNameError\u001b[0m: name 'MAGIDs' is not defined"
     ]
    }
   ],
   "source": [
    "MAGIDs"
   ]
  },
  {
   "cell_type": "code",
   "execution_count": 192,
   "id": "607fd6ce-d221-4d5e-b3fb-0f961a710773",
   "metadata": {},
   "outputs": [
    {
     "data": {
      "image/png": "[encoded data removed]",
      "text/plain": [
       "<Figure size 576x288 with 1 Axes>"
      ]
     },
     "metadata": {
      "needs_background": "light"
     },
     "output_type": "display_data"
    }
   ],
   "source": [
    "%matplotlib inline\n",
    "temp=full_dataset.groupby('name').size().sort_values()\n",
    "dataset_usage_dist=temp[(temp>5)&(temp<500)].plot(kind='hist',bins=500,figsize=[8,4],title='Truncated Distribution of Dataset Usages')\n",
    "fig = dataset_usage_dist.get_figure()\n",
    "fig.savefig('truncated_dist.png')\n",
    "a"
   ]
  },
  {
   "cell_type": "code",
   "execution_count": 201,
   "id": "c722a301-107e-4f5c-b226-d5fe9757b973",
   "metadata": {},
   "outputs": [
    {
     "data": {
      "text/plain": [
       "(137510,)"
      ]
     },
     "execution_count": 201,
     "metadata": {},
     "output_type": "execute_result"
    },
    {
     "data": {
      "image/png": "[encoded data removed]",
      "text/plain": [
       "<Figure size 576x288 with 1 Axes>"
      ]
     },
     "metadata": {
      "needs_background": "light"
     },
     "output_type": "display_data"
    }
   ],
   "source": [
    "annual_size=pwc_papers.groupby('year').size().reset_index()\n",
    "temp=annual_size.plot(figsize=[8,4],x='year',y=0,title='PWC Corpus papers per year',xlim=[2009,2020],legend=False)\n",
    "fig = temp.get_figure()\n",
    "pwc_papers.title.drop_duplicates().shape"
   ]
  },
  {
   "cell_type": "code",
   "execution_count": 135,
   "id": "f3682d94-cc31-4cc7-8623-f1e9ad214490",
   "metadata": {},
   "outputs": [
    {
     "data": {
      "text/plain": [
       "924"
      ]
     },
     "execution_count": 135,
     "metadata": {},
     "output_type": "execute_result"
    }
   ],
   "source": [
    "len(set(list(source_dest_edgelist_parents['name'])+list(homegrown_edgelist_parents['name'])+list(birth_edgelist_parents['name'])))"
   ]
  },
  {
   "cell_type": "code",
   "execution_count": 7,
   "id": "5189814e-9ff1-4d58-b54f-d2957696c652",
   "metadata": {},
   "outputs": [],
   "source": [
    "Methodologies_to_Drop=[\n",
    "'Word Embeddings',\n",
    "'Anomaly Detection',\n",
    "'Multivariate Time Series Forecasting',\n",
    "'EEG',\n",
    "'Chatbot',\n",
    "'Computed Tomography (CT)',\n",
    "'Electrocardiography (ECG)',\n",
    "'Electrocardiography (ECG)',\n",
    "'Multi-Label Text Classification'    \n",
    "]"
   ]
  },
  {
   "cell_type": "code",
   "execution_count": 88,
   "id": "57c3389c-e91a-4502-81a2-0c8af615c04b",
   "metadata": {},
   "outputs": [
    {
     "data": {
      "text/plain": [
       "['Word Embeddings',\n",
       " 'Anomaly Detection',\n",
       " 'Multivariate Time Series Forecasting',\n",
       " 'EEG',\n",
       " 'Chatbot',\n",
       " 'Computed Tomography (CT)',\n",
       " 'Electrocardiography (ECG)',\n",
       " 'Electrocardiography (ECG)',\n",
       " 'Multi-Label Text Classification']"
      ]
     },
     "execution_count": 88,
     "metadata": {},
     "output_type": "execute_result"
    }
   ],
   "source": [
    "Methodologies_to_Drop"
   ]
  },
  {
   "cell_type": "code",
   "execution_count": 10,
   "id": "dc9b6992-dc7e-4b92-88ef-e511661bc493",
   "metadata": {},
   "outputs": [
    {
     "ename": "OSError",
     "evalue": "[Errno 22] Invalid argument: '/mnt/c/Users/berna/Documents/GoogleDataProject/RatioInputs/FullDatasetforR.ParentsOnly.AllYears.txt'",
     "output_type": "error",
     "traceback": [
      "\u001b[0;31m---------------------------------------------------------------------------\u001b[0m",
      "\u001b[0;31mOSError\u001b[0m                                   Traceback (most recent call last)",
      "\u001b[0;32m<ipython-input-10-64c4fd0e5ad9>\u001b[0m in \u001b[0;36m<module>\u001b[0;34m\u001b[0m\n\u001b[1;32m     63\u001b[0m \u001b[0;34m\u001b[0m\u001b[0m\n\u001b[1;32m     64\u001b[0m \u001b[0;31m#THESE ARE ERRONEOUS NEED TO CHECK EACH ERROR\u001b[0m\u001b[0;34m\u001b[0m\u001b[0;34m\u001b[0m\u001b[0;34m\u001b[0m\u001b[0m\n\u001b[0;32m---> 65\u001b[0;31m \u001b[0mfull_data\u001b[0m\u001b[0;34m.\u001b[0m\u001b[0mto_csv\u001b[0m\u001b[0;34m(\u001b[0m\u001b[0;34m\"/mnt/c/Users/berna/Documents/GoogleDataProject/RatioInputs/FullDatasetforR.ParentsOnly.AllYears.txt\"\u001b[0m\u001b[0;34m,\u001b[0m\u001b[0msep\u001b[0m\u001b[0;34m=\u001b[0m\u001b[0;34m'\\t'\u001b[0m\u001b[0;34m,\u001b[0m\u001b[0mquoting\u001b[0m\u001b[0;34m=\u001b[0m\u001b[0;36m1\u001b[0m\u001b[0;34m)\u001b[0m\u001b[0;34m\u001b[0m\u001b[0;34m\u001b[0m\u001b[0m\n\u001b[0m",
      "\u001b[0;32m~/miniconda3/envs/data/lib/python3.8/site-packages/pandas/core/generic.py\u001b[0m in \u001b[0;36mto_csv\u001b[0;34m(self, path_or_buf, sep, na_rep, float_format, columns, header, index, index_label, mode, encoding, compression, quoting, quotechar, line_terminator, chunksize, date_format, doublequote, escapechar, decimal)\u001b[0m\n\u001b[1;32m   3202\u001b[0m             \u001b[0mdecimal\u001b[0m\u001b[0;34m=\u001b[0m\u001b[0mdecimal\u001b[0m\u001b[0;34m,\u001b[0m\u001b[0;34m\u001b[0m\u001b[0;34m\u001b[0m\u001b[0m\n\u001b[1;32m   3203\u001b[0m         )\n\u001b[0;32m-> 3204\u001b[0;31m         \u001b[0mformatter\u001b[0m\u001b[0;34m.\u001b[0m\u001b[0msave\u001b[0m\u001b[0;34m(\u001b[0m\u001b[0;34m)\u001b[0m\u001b[0;34m\u001b[0m\u001b[0;34m\u001b[0m\u001b[0m\n\u001b[0m\u001b[1;32m   3205\u001b[0m \u001b[0;34m\u001b[0m\u001b[0m\n\u001b[1;32m   3206\u001b[0m         \u001b[0;32mif\u001b[0m \u001b[0mpath_or_buf\u001b[0m \u001b[0;32mis\u001b[0m \u001b[0;32mNone\u001b[0m\u001b[0;34m:\u001b[0m\u001b[0;34m\u001b[0m\u001b[0;34m\u001b[0m\u001b[0m\n",
      "\u001b[0;32m~/miniconda3/envs/data/lib/python3.8/site-packages/pandas/io/formats/csvs.py\u001b[0m in \u001b[0;36msave\u001b[0;34m(self)\u001b[0m\n\u001b[1;32m    182\u001b[0m             \u001b[0mclose\u001b[0m \u001b[0;34m=\u001b[0m \u001b[0;32mFalse\u001b[0m\u001b[0;34m\u001b[0m\u001b[0;34m\u001b[0m\u001b[0m\n\u001b[1;32m    183\u001b[0m         \u001b[0;32melse\u001b[0m\u001b[0;34m:\u001b[0m\u001b[0;34m\u001b[0m\u001b[0;34m\u001b[0m\u001b[0m\n\u001b[0;32m--> 184\u001b[0;31m             f, handles = get_handle(\n\u001b[0m\u001b[1;32m    185\u001b[0m                 \u001b[0mself\u001b[0m\u001b[0;34m.\u001b[0m\u001b[0mpath_or_buf\u001b[0m\u001b[0;34m,\u001b[0m\u001b[0;34m\u001b[0m\u001b[0;34m\u001b[0m\u001b[0m\n\u001b[1;32m    186\u001b[0m                 \u001b[0mself\u001b[0m\u001b[0;34m.\u001b[0m\u001b[0mmode\u001b[0m\u001b[0;34m,\u001b[0m\u001b[0;34m\u001b[0m\u001b[0;34m\u001b[0m\u001b[0m\n",
      "\u001b[0;32m~/miniconda3/envs/data/lib/python3.8/site-packages/pandas/io/common.py\u001b[0m in \u001b[0;36mget_handle\u001b[0;34m(path_or_buf, mode, encoding, compression, memory_map, is_text)\u001b[0m\n\u001b[1;32m    426\u001b[0m         \u001b[0;32mif\u001b[0m \u001b[0mencoding\u001b[0m\u001b[0;34m:\u001b[0m\u001b[0;34m\u001b[0m\u001b[0;34m\u001b[0m\u001b[0m\n\u001b[1;32m    427\u001b[0m             \u001b[0;31m# Encoding\u001b[0m\u001b[0;34m\u001b[0m\u001b[0;34m\u001b[0m\u001b[0;34m\u001b[0m\u001b[0m\n\u001b[0;32m--> 428\u001b[0;31m             \u001b[0mf\u001b[0m \u001b[0;34m=\u001b[0m \u001b[0mopen\u001b[0m\u001b[0;34m(\u001b[0m\u001b[0mpath_or_buf\u001b[0m\u001b[0;34m,\u001b[0m \u001b[0mmode\u001b[0m\u001b[0;34m,\u001b[0m \u001b[0mencoding\u001b[0m\u001b[0;34m=\u001b[0m\u001b[0mencoding\u001b[0m\u001b[0;34m,\u001b[0m \u001b[0mnewline\u001b[0m\u001b[0;34m=\u001b[0m\u001b[0;34m\"\"\u001b[0m\u001b[0;34m)\u001b[0m\u001b[0;34m\u001b[0m\u001b[0;34m\u001b[0m\u001b[0m\n\u001b[0m\u001b[1;32m    429\u001b[0m         \u001b[0;32melif\u001b[0m \u001b[0mis_text\u001b[0m\u001b[0;34m:\u001b[0m\u001b[0;34m\u001b[0m\u001b[0;34m\u001b[0m\u001b[0m\n\u001b[1;32m    430\u001b[0m             \u001b[0;31m# No explicit encoding\u001b[0m\u001b[0;34m\u001b[0m\u001b[0;34m\u001b[0m\u001b[0;34m\u001b[0m\u001b[0m\n",
      "\u001b[0;31mOSError\u001b[0m: [Errno 22] Invalid argument: '/mnt/c/Users/berna/Documents/GoogleDataProject/RatioInputs/FullDatasetforR.ParentsOnly.AllYears.txt'"
     ]
    }
   ],
   "source": [
    "parent_tasks=[i for i in parent_child_dict if len(parent_child_dict[i])!=0]\n",
    "\n",
    "source_dest_edgelist_parents= source_dest_edgelist[(source_dest_edgelist.source_task.isin(parent_tasks)) &\\\n",
    "                                                  (source_dest_edgelist.dest_task.isin(parent_tasks))]\n",
    "homegrown_edgelist_parents= homegrown_edgelist[homegrown_edgelist.task.isin(parent_tasks)]\n",
    "birth_edgelist_parents= birth_edgelist[birth_edgelist.task.isin(parent_tasks)]\n",
    "num_papers_adopting=source_dest_edgelist_parents.groupby(['dest_task']).size()\n",
    "num_papers_adopting.index.names=['task']\n",
    "num_papers_growing=homegrown_edgelist_parents.groupby(['task']).size()\n",
    "num_dataset_births=birth_edgelist_parents.groupby(['task']).size()\n",
    "num_homegrown_datasets=num_dataset_births.shift(1).cumsum()\n",
    "temp=source_dest_edgelist_parents.groupby(['dest_task','name']).size().reset_index().drop(0,axis=1)\n",
    "num_dataset_imports=temp.groupby(['dest_task']).size()\n",
    "#num_converted_growing=homegrown_edgelist_parents[(homegrown_edgelist_parents.introduced_date.dt.year==homegrown_edgelist_parents.date.dt.year)|\\\n",
    "#                                         (homegrown_edgelist_parents.introduced_date.dt.year==homegrown_edgelist_parents.date.dt.year-1)|\\\n",
    "#                                        (homegrown_edgelist_parents.introduced_date.dt.year==homegrown_edgelist_parents.date.dt.year-2)]\n",
    "#num_converted_growing_year=num_converted_growing.groupby(['task',num_converted_growing.date.dt.year]).size()\n",
    "#num_papers_growing_year=homegrown_edgelist_parents.groupby(['task',homegrown_edgelist_parents.date.dt.year]).size()\n",
    "#conversion_pct\n",
    "num_dataset_imports.columns=['imported_datasets']\n",
    "num_dataset_imports.index.names=['task']\n",
    "num_dataset_births.name='num_dataset_births'\n",
    "num_papers_adopting.name='num_papers_adopting'\n",
    "num_dataset_imports.name='num_dataset_imports'\n",
    "num_papers_growing.name='num_papers_growing'\n",
    "num_homegrown_datasets.name='num_dataset_homegrown'\n",
    "#num_converted_growing.name='num_converted_growing'\n",
    "\n",
    "full_data=pd.merge(num_dataset_births.reset_index(),num_papers_adopting.reset_index(),how='outer')\n",
    "full_data=pd.merge(full_data,num_homegrown_datasets.reset_index(),how='outer')\n",
    "full_data=pd.merge(full_data,num_dataset_imports.reset_index(),how='outer')\n",
    "full_data=pd.merge(full_data,num_papers_growing.reset_index(),how='outer')\n",
    "#full_data=pd.merge(full_data,num_converted_growing.reset_index(),how='outer')\n",
    "full_data=full_data.fillna(0)\n",
    "full_data['size']=full_data.num_papers_adopting+full_data.num_papers_growing+full_data.num_dataset_births\n",
    "task_age_df=task_age.reset_index()\n",
    "task_age_df.columns=['task','task_age']\n",
    "full_data=pd.merge(full_data,task_age_df,on='task',how='left')\n",
    "full_data['adoption_ratio']=full_data.num_papers_adopting.divide(full_data.num_papers_growing)\n",
    "full_data['creation_ratio']=full_data.num_dataset_births.divide(full_data.num_dataset_imports)\n",
    "#full_data['conversion_ratio']=full_data.num_dataset_homegrown.divide(full_data.num_papers_growing)\n",
    "full_data['adoption_pct']=full_data.num_papers_adopting.divide(full_data.num_papers_adopting+full_data.num_papers_growing)\n",
    "full_data['creation_pct']=full_data.num_dataset_births.divide(full_data.num_dataset_births+full_data.num_dataset_imports)\n",
    "#full_data['conversion_pct']=full_data.num_converted_growing.divide(full_data.num_papers_growing)\n",
    "#full_data['cvmethods']=full_data.task.isin(methods_tasks).astype(int)\n",
    "#full_data=pd.merge(full_data,task_contains_images,on='task',how='left')\n",
    "#full_data=pd.merge(full_data,task_contains_texts,on='task',how='left')\n",
    "\n",
    "def in_category(x,cat):\n",
    "    if x in task_category_dict and cat in task_category_dict[x]:\n",
    "        return 1\n",
    "    if x in parent_child_dict and any([cat in task_category_dict[p] for p in child_parent_dict[x]]):\n",
    "        return 1\n",
    "    return 0\n",
    "full_data['CV']=full_data['task'].apply(lambda x: in_category(x,'Computer Vision'))\n",
    "full_data['NLP']=full_data['task'].apply(lambda x: in_category(x,'Natural Language Processing'))\n",
    "full_data['Methodology']=full_data['task'].apply(lambda x: in_category(x,'Methodology'))\n",
    "full_data['Methodology']=full_data['Methodology'].apply(lambda x: 0 if x in Methodologies_to_Drop else x)\n",
    "median_parent_task_size=full_data['size'].median()\n",
    "full_data=full_data[full_data['size']>median_parent_task_size]\n",
    "median_parent_tasks=full_data.task\n",
    "median_parent_tasks.to_csv('median_parent_tasks')\n",
    "\n",
    "#THESE ARE ERRONEOUS NEED TO CHECK EACH ERROR\n",
    "full_data.to_csv(\"/mnt/c/Users/berna/Documents/GoogleDataProject/RatioInputs/FullDatasetforR.ParentsOnly.AllYears.txt\",sep='\\t',quoting=1)"
   ]
  },
  {
   "cell_type": "code",
   "execution_count": 126,
   "id": "11fe2077-add4-424e-a418-47e411419321",
   "metadata": {},
   "outputs": [],
   "source": []
  },
  {
   "cell_type": "code",
   "execution_count": 11,
   "id": "de8e7e65",
   "metadata": {},
   "outputs": [],
   "source": [
    "num_papers_adopting=source_dest_edgelist.groupby(['dest_task',source_dest_edgelist.date.dt.year]).size()\n",
    "num_papers_adopting.index.names=['task','date']\n",
    "num_papers_growing=homegrown_edgelist.groupby(['task',homegrown_edgelist.date.dt.year]).size()\n",
    "num_dataset_births=birth_edgelist.groupby(['task', birth_edgelist.date.dt.year]).size()\n",
    "num_homegrown_datasets=num_dataset_births.shift(1).cumsum()\n",
    "temp=source_dest_edgelist.groupby(['dest_task','name',source_dest_edgelist.date.dt.year]).size().reset_index().drop(0,axis=1)\n",
    "num_dataset_imports=temp.groupby(['dest_task',source_dest_edgelist.date.dt.year]).size()\n",
    "num_converted_growing=homegrown_edgelist[(homegrown_edgelist.introduced_date.dt.year==homegrown_edgelist.date.dt.year)|\\\n",
    "                                         (homegrown_edgelist.introduced_date.dt.year==homegrown_edgelist.date.dt.year-1)]\n",
    "num_converted_growing=num_converted_growing.groupby(['task',num_converted_growing.date.dt.year]).size()\n",
    "\n",
    "num_dataset_imports.columns=['imported_datasets']\n",
    "num_dataset_imports.index.names=['task','date']\n",
    "num_dataset_births.name='num_dataset_births'\n",
    "num_papers_adopting.name='num_papers_adopting'\n",
    "num_dataset_imports.name='num_dataset_imports'\n",
    "num_papers_growing.name='num_papers_growing'\n",
    "num_homegrown_datasets.name='num_dataset_homegrown'\n",
    "num_converted_growing.name='num_converted_growing'\n",
    "annual_data=pd.merge(num_dataset_births.reset_index(),num_papers_adopting.reset_index(),how='outer')\n",
    "annual_data=pd.merge(annual_data,num_homegrown_datasets.reset_index(),how='outer')\n",
    "annual_data=pd.merge(annual_data,num_dataset_imports.reset_index(),how='outer')\n",
    "annual_data=pd.merge(annual_data,num_papers_growing.reset_index(),how='outer')\n",
    "annual_data=pd.merge(annual_data,num_converted_growing.reset_index(),how='outer')\n",
    "annual_data=annual_data.fillna(0)\n",
    "annual_data['size']=annual_data.num_papers_adopting+annual_data.num_papers_growing+annual_data.num_dataset_births\n",
    "task_age_df=task_age.reset_index()\n",
    "task_age_df.columns=['task','task_age']\n",
    "annual_data=pd.merge(annual_data,task_age_df,on='task',how='left')\n",
    "annual_data['adoption_ratio']=annual_data.num_papers_adopting.divide(annual_data.num_papers_growing)\n",
    "annual_data['creation_ratio']=annual_data.num_dataset_births.divide(annual_data.num_dataset_imports)\n",
    "#annual_data['conversion_ratio']=annual_data.num_dataset_homegrown.divide(annual_data.num_papers_growing)\n",
    "annual_data['adoption_pct']=annual_data.num_papers_adopting.divide(annual_data.num_papers_adopting+annual_data.num_papers_growing)\n",
    "annual_data['creation_pct']=annual_data.num_dataset_births.divide(annual_data.num_dataset_births+annual_data.num_dataset_imports)\n",
    "annual_data['conversion_pct']=annual_data.num_converted_growing.divide(annual_data.num_papers_growing)\n",
    "annual_data['cvmethods']=annual_data.task.isin(methods_tasks)\n",
    "annual_data=pd.merge(annual_data,task_contains_images,on='task',how='left')\n",
    "annual_data=pd.merge(annual_data,task_contains_texts,on='task',how='left')\n",
    "pwc_papers['year']=pd.to_datetime(pwc_papers['date']).dt.year\n",
    "annual_size=pwc_papers.groupby('year').size().reset_index()\n",
    "annual_data=pd.merge(annual_data,annual_size,left_on='date',right_on='year',how='left')\n",
    "annual_data=annual_data.drop('year',axis=1).rename({0:'pwc_size'},axis=1)\n",
    "annual_data.rename({'date':'year'},axis=1,inplace=True)\n",
    "\n",
    "def in_category(x,cat):\n",
    "    if x in task_category_dict and cat in task_category_dict[x]:\n",
    "        return 1\n",
    "    if x in parent_child_dict and any([cat in task_category_dict[p] for p in child_parent_dict[x]]):\n",
    "        return 1\n",
    "    return 0\n",
    "annual_data['CV']=annual_data['task'].apply(lambda x: in_category(x,'Computer Vision'))\n",
    "annual_data['NLP']=annual_data['task'].apply(lambda x: in_category(x,'Natural Language Processing'))\n",
    "annual_data['Methodology']=annual_data['task'].apply(lambda x: in_category(x,'Methodology'))\n",
    "annual_data['Methodology']=annual_data['Methodology'].apply(lambda x: 0 if x in Methodologies_to_Drop else x)\n",
    "annual_data=annual_data[annual_data.year>=annual_data.task_age]\n",
    "annual_data.to_csv(\"/mnt/c/Users/berna/Documents/GoogleDataProject/RatioInputs/FullDatasetforR.txt\",sep='\\t',quoting=1)"
   ]
  },
  {
   "cell_type": "code",
   "execution_count": null,
   "id": "4a455b73-f6b4-4e25-aa2c-69c1b96c17d5",
   "metadata": {},
   "outputs": [],
   "source": [
    "#ANNUAL"
   ]
  },
  {
   "cell_type": "code",
   "execution_count": 12,
   "id": "3da0b6fa-991e-4b8c-bba4-d8bd08e46df0",
   "metadata": {},
   "outputs": [],
   "source": [
    "source_dest_edgelist_parents= source_dest_edgelist[(source_dest_edgelist.source_task.isin(parent_tasks)) &\\\n",
    "                                                  (source_dest_edgelist.dest_task.isin(parent_tasks))]\n",
    "homegrown_edgelist_parents= homegrown_edgelist[homegrown_edgelist.task.isin(parent_tasks)]\n",
    "birth_edgelist_parents= birth_edgelist[birth_edgelist.task.isin(parent_tasks)]\n",
    "#homegrown_edgelist_parents= homegrown_edgelist[(homegrown_edgelist.task.isin(source_dest_edgelist_parents.source_task)) |(homegrown_edgelist.task.isin(source_dest_edgelist_parents.dest_task))]\n",
    "\n",
    "num_papers_adopting=source_dest_edgelist_parents.groupby(['dest_task',source_dest_edgelist_parents.date.dt.year]).size()\n",
    "num_papers_adopting.index.names=['task','date']\n",
    "num_papers_growing=homegrown_edgelist_parents.groupby(['task',homegrown_edgelist_parents.date.dt.year]).size()\n",
    "num_dataset_births=birth_edgelist_parents.groupby(['task', birth_edgelist_parents.date.dt.year]).size()\n",
    "num_homegrown_datasets=num_dataset_births.shift(1).cumsum()\n",
    "temp=source_dest_edgelist_parents.groupby(['dest_task','name',source_dest_edgelist_parents.date.dt.year]).size().reset_index().drop(0,axis=1)\n",
    "num_dataset_imports=temp.groupby(['dest_task',source_dest_edgelist_parents.date.dt.year]).size()\n",
    "num_converted_growing=homegrown_edgelist_parents[(homegrown_edgelist_parents.introduced_date.dt.year==homegrown_edgelist_parents.date.dt.year)|\\\n",
    "                                         (homegrown_edgelist_parents.introduced_date.dt.year==homegrown_edgelist_parents.date.dt.year-1)|\\\n",
    "                                        (homegrown_edgelist_parents.introduced_date.dt.year==homegrown_edgelist_parents.date.dt.year-2)]\n",
    "num_converted_growing=num_converted_growing.groupby(['task',num_converted_growing.date.dt.year]).size()\n",
    "\n",
    "num_dataset_imports.columns=['imported_datasets']\n",
    "num_dataset_imports.index.names=['task','date']\n",
    "num_dataset_births.name='num_dataset_births'\n",
    "num_papers_adopting.name='num_papers_adopting'\n",
    "num_dataset_imports.name='num_dataset_imports'\n",
    "num_papers_growing.name='num_papers_growing'\n",
    "num_homegrown_datasets.name='num_dataset_homegrown'\n",
    "num_converted_growing.name='num_converted_growing'\n",
    "annual_data=pd.merge(num_dataset_births.reset_index(),num_papers_adopting.reset_index(),how='outer')\n",
    "annual_data=pd.merge(annual_data,num_homegrown_datasets.reset_index(),how='outer')\n",
    "annual_data=pd.merge(annual_data,num_dataset_imports.reset_index(),how='outer')\n",
    "annual_data=pd.merge(annual_data,num_papers_growing.reset_index(),how='outer')\n",
    "annual_data=pd.merge(annual_data,num_converted_growing.reset_index(),how='outer')\n",
    "annual_data=annual_data.fillna(0)\n",
    "annual_data['size']=annual_data.num_papers_adopting+annual_data.num_papers_growing+annual_data.num_dataset_births\n",
    "task_age_df=task_age.reset_index()\n",
    "task_age_df.columns=['task','task_age']\n",
    "annual_data=pd.merge(annual_data,task_age_df,on='task',how='left')\n",
    "annual_data['adoption_ratio']=annual_data.num_papers_adopting.divide(annual_data.num_papers_growing)\n",
    "annual_data['creation_ratio']=annual_data.num_dataset_births.divide(annual_data.num_dataset_imports)\n",
    "#annual_data['conversion_ratio']=annual_data.num_dataset_homegrown.divide(annual_data.num_papers_growing)\n",
    "annual_data['adoption_pct']=annual_data.num_papers_adopting.divide(annual_data.num_papers_adopting+annual_data.num_papers_growing)\n",
    "annual_data['creation_pct']=annual_data.num_dataset_births.divide(annual_data.num_dataset_births+annual_data.num_dataset_imports)\n",
    "annual_data['conversion_pct']=annual_data.num_converted_growing.divide(annual_data.num_papers_growing)\n",
    "annual_data['cvmethods']=annual_data.task.isin(methods_tasks)\n",
    "annual_data=pd.merge(annual_data,task_contains_images,on='task',how='left')\n",
    "annual_data=pd.merge(annual_data,task_contains_texts,on='task',how='left')\n",
    "pwc_papers['year']=pd.to_datetime(pwc_papers['date']).dt.year\n",
    "annual_size=pwc_papers.groupby('year').size().reset_index()\n",
    "annual_data=pd.merge(annual_data,annual_size,left_on='date',right_on='year',how='left')\n",
    "annual_data=annual_data.drop('year',axis=1).rename({0:'pwc_size'},axis=1)\n",
    "annual_data.rename({'date':'year'},axis=1,inplace=True)\n",
    "\n",
    "def in_category(x,cat):\n",
    "    if x in task_category_dict and cat in task_category_dict[x]:\n",
    "        return 1\n",
    "    if x in parent_child_dict and any([cat in task_category_dict[p] for p in child_parent_dict[x]]):\n",
    "        return 1\n",
    "    return 0\n",
    "annual_data['CV']=annual_data['task'].apply(lambda x: in_category(x,'Computer Vision'))\n",
    "annual_data['NLP']=annual_data['task'].apply(lambda x: in_category(x,'Natural Language Processing'))\n",
    "annual_data['Methodology']=annual_data['task'].apply(lambda x: in_category(x,'Methodology'))\n",
    "annual_data['Methodology']=annual_data['Methodology'].apply(lambda x: 0 if x in Methodologies_to_Drop else x)\n",
    "#THESE ARE ERRONEOUS NEED TO CHECK EACH ERROR\n",
    "annual_data=annual_data[annual_data.year>=annual_data.task_age]\n",
    "annual_data=annual_data[annual_data.task.isin(median_parent_tasks)]\n",
    "annual_data.to_csv(\"/mnt/c/Users/berna/Documents/GoogleDataProject/RatioInputs/FullDatasetforR.ParentsOnly.txt\",sep='\\t',quoting=1)"
   ]
  },
  {
   "cell_type": "code",
   "execution_count": 97,
   "id": "b27baf80-0e7f-4129-93ad-0a96a993f14b",
   "metadata": {},
   "outputs": [
    {
     "data": {
      "text/plain": [
       "(36, 8)"
      ]
     },
     "execution_count": 97,
     "metadata": {},
     "output_type": "execute_result"
    }
   ],
   "source": [
    "source_dest_edgelist_parents[source_dest_edgelist_parents.dest_task=='Facial Landmark Detection'].shape"
   ]
  },
  {
   "cell_type": "code",
   "execution_count": 10,
   "id": "5f219810-697a-4dd5-b6e5-5f269ef1385b",
   "metadata": {},
   "outputs": [
    {
     "data": {
      "text/html": [
       "<div>\n",
       "<style scoped>\n",
       "    .dataframe tbody tr th:only-of-type {\n",
       "        vertical-align: middle;\n",
       "    }\n",
       "\n",
       "    .dataframe tbody tr th {\n",
       "        vertical-align: top;\n",
       "    }\n",
       "\n",
       "    .dataframe thead th {\n",
       "        text-align: right;\n",
       "    }\n",
       "</style>\n",
       "<table border=\"1\" class=\"dataframe\">\n",
       "  <thead>\n",
       "    <tr style=\"text-align: right;\">\n",
       "      <th></th>\n",
       "      <th>Unnamed: 0</th>\n",
       "      <th>task</th>\n",
       "    </tr>\n",
       "  </thead>\n",
       "  <tbody>\n",
       "    <tr>\n",
       "      <th>0</th>\n",
       "      <td>1</td>\n",
       "      <td>2D Object Detection</td>\n",
       "    </tr>\n",
       "    <tr>\n",
       "      <th>1</th>\n",
       "      <td>5</td>\n",
       "      <td>3D Face Reconstruction</td>\n",
       "    </tr>\n",
       "    <tr>\n",
       "      <th>2</th>\n",
       "      <td>7</td>\n",
       "      <td>3D Human Pose Estimation</td>\n",
       "    </tr>\n",
       "    <tr>\n",
       "      <th>3</th>\n",
       "      <td>9</td>\n",
       "      <td>3D Object Detection</td>\n",
       "    </tr>\n",
       "    <tr>\n",
       "      <th>4</th>\n",
       "      <td>10</td>\n",
       "      <td>3D Reconstruction</td>\n",
       "    </tr>\n",
       "    <tr>\n",
       "      <th>...</th>\n",
       "      <td>...</td>\n",
       "      <td>...</td>\n",
       "    </tr>\n",
       "    <tr>\n",
       "      <th>128</th>\n",
       "      <td>249</td>\n",
       "      <td>Image Compression</td>\n",
       "    </tr>\n",
       "    <tr>\n",
       "      <th>129</th>\n",
       "      <td>250</td>\n",
       "      <td>Image Inpainting</td>\n",
       "    </tr>\n",
       "    <tr>\n",
       "      <th>130</th>\n",
       "      <td>260</td>\n",
       "      <td>Small Object Detection</td>\n",
       "    </tr>\n",
       "    <tr>\n",
       "      <th>131</th>\n",
       "      <td>266</td>\n",
       "      <td>Video Generation</td>\n",
       "    </tr>\n",
       "    <tr>\n",
       "      <th>132</th>\n",
       "      <td>268</td>\n",
       "      <td>Visual Place Recognition</td>\n",
       "    </tr>\n",
       "  </tbody>\n",
       "</table>\n",
       "<p>133 rows × 2 columns</p>\n",
       "</div>"
      ],
      "text/plain": [
       "     Unnamed: 0                      task\n",
       "0             1       2D Object Detection\n",
       "1             5    3D Face Reconstruction\n",
       "2             7  3D Human Pose Estimation\n",
       "3             9       3D Object Detection\n",
       "4            10         3D Reconstruction\n",
       "..          ...                       ...\n",
       "128         249         Image Compression\n",
       "129         250          Image Inpainting\n",
       "130         260    Small Object Detection\n",
       "131         266          Video Generation\n",
       "132         268  Visual Place Recognition\n",
       "\n",
       "[133 rows x 2 columns]"
      ]
     },
     "execution_count": 10,
     "metadata": {},
     "output_type": "execute_result"
    }
   ],
   "source": [
    "median_parent_tasks=pd.read_csv('median_parent_tasks')\n",
    "median_parent_tasks"
   ]
  },
  {
   "cell_type": "code",
   "execution_count": 62,
   "id": "aaf6f09d-c9b1-4269-aee0-5ecf509eebe7",
   "metadata": {
    "tags": []
   },
   "outputs": [],
   "source": [
    "#tasks with parent transfers\n",
    "parent_tasks=set(source_dest_edgelist[source_dest_edgelist.Parent_Transfer==True].source_task)\n",
    "parent_tasks=parent_tasks.union(set(source_dest_edgelist[source_dest_edgelist.Parent_Transfer==True].dest_task))\n",
    "parent_tasks=parent_tasks.union(set(homegrown_edgelist[homegrown_edgelist.Parent==True].task))\n",
    "parent_tasks=parent_tasks.union(set(birth_edgelist[birth_edgelist.Parent==True].task))\n",
    "source_dest_edgelist_parents= source_dest_edgelist[(source_dest_edgelist.source_task.isin(parent_tasks)) &\\\n",
    "                                                  (source_dest_edgelist.dest_task.isin(parent_tasks))]\n",
    "homegrown_edgelist_parents= homegrown_edgelist[homegrown_edgelist.task.isin(parent_tasks)]\n",
    "birth_edgelist_parents= birth_edgelist[birth_edgelist.task.isin(parent_tasks)]\n",
    "#homegrown_edgelist_parents= homegrown_edgelist[(homegrown_edgelist.task.isin(source_dest_edgelist_parents.source_task)) |(homegrown_edgelist.task.isin(source_dest_edgelist_parents.dest_task))]\n",
    "\n",
    "num_papers_adopting=source_dest_edgelist_parents.groupby(['dest_task',source_dest_edgelist_parents.date.dt.year]).size()\n",
    "num_papers_adopting.index.names=['task','date']\n",
    "num_papers_growing=homegrown_edgelist_parents.groupby(['task',homegrown_edgelist_parents.date.dt.year]).size()\n",
    "num_dataset_births=birth_edgelist_parents.groupby(['task', birth_edgelist_parents.date.dt.year]).size()\n",
    "num_homegrown_datasets=num_dataset_births.shift(1).cumsum()\n",
    "temp=source_dest_edgelist_parents.groupby(['dest_task','name',source_dest_edgelist_parents.date.dt.year]).size().reset_index().drop(0,axis=1)\n",
    "num_dataset_imports=temp.groupby(['dest_task',source_dest_edgelist_parents.date.dt.year]).size()\n",
    "num_converted_growing=homegrown_edgelist_parents[(homegrown_edgelist_parents.introduced_date.dt.year==homegrown_edgelist_parents.date.dt.year)|\\\n",
    "                                         (homegrown_edgelist_parents.introduced_date.dt.year==homegrown_edgelist_parents.date.dt.year-1)|\\\n",
    "                                        (homegrown_edgelist_parents.introduced_date.dt.year==homegrown_edgelist_parents.date.dt.year-2)]\n",
    "num_converted_growing=num_converted_growing.groupby(['task',num_converted_growing.date.dt.year]).size()\n",
    "\n",
    "num_dataset_imports.columns=['imported_datasets']\n",
    "num_dataset_imports.index.names=['task','date']\n",
    "num_dataset_births.name='num_dataset_births'\n",
    "num_papers_adopting.name='num_papers_adopting'\n",
    "num_dataset_imports.name='num_dataset_imports'\n",
    "num_papers_growing.name='num_papers_growing'\n",
    "num_homegrown_datasets.name='num_dataset_homegrown'\n",
    "num_converted_growing.name='num_converted_growing'\n",
    "annual_data=pd.merge(num_dataset_births.reset_index(),num_papers_adopting.reset_index(),how='outer')\n",
    "annual_data=pd.merge(annual_data,num_homegrown_datasets.reset_index(),how='outer')\n",
    "annual_data=pd.merge(annual_data,num_dataset_imports.reset_index(),how='outer')\n",
    "annual_data=pd.merge(annual_data,num_papers_growing.reset_index(),how='outer')\n",
    "annual_data=pd.merge(annual_data,num_converted_growing.reset_index(),how='outer')\n",
    "annual_data=annual_data.fillna(0)\n",
    "annual_data['size']=annual_data.num_papers_adopting+annual_data.num_papers_growing\n",
    "task_age_df=task_age.reset_index()\n",
    "task_age_df.columns=['task','task_age']\n",
    "annual_data=pd.merge(annual_data,task_age_df,on='task',how='left')\n",
    "annual_data['adoption_ratio']=annual_data.num_papers_adopting.divide(annual_data.num_papers_growing)\n",
    "annual_data['creation_ratio']=annual_data.num_dataset_births.divide(annual_data.num_dataset_imports)\n",
    "#annual_data['conversion_ratio']=annual_data.num_dataset_homegrown.divide(annual_data.num_papers_growing)\n",
    "annual_data['adoption_pct']=annual_data.num_papers_adopting.divide(annual_data.num_papers_adopting+annual_data.num_papers_growing)\n",
    "annual_data['creation_pct']=annual_data.num_dataset_births.divide(annual_data.num_dataset_births+annual_data.num_dataset_imports)\n",
    "annual_data['conversion_pct']=annual_data.num_converted_growing.divide(annual_data.num_papers_growing)\n",
    "annual_data['cvmethods']=annual_data.task.isin(methods_tasks).astype(int)\n",
    "annual_data=pd.merge(annual_data,task_contains_images,on='task',how='left')\n",
    "annual_data=pd.merge(annual_data,task_contains_texts,on='task',how='left')\n",
    "pwc_papers['year']=pd.to_datetime(pwc_papers['date']).dt.year\n",
    "annual_size=pwc_papers.groupby('year').size().reset_index()\n",
    "annual_data=pd.merge(annual_data,annual_size,left_on='date',right_on='year',how='left')\n",
    "annual_data=annual_data.drop('year',axis=1).rename({0:'pwc_size'},axis=1)\n",
    "annual_data.rename({'date':'year'},axis=1,inplace=True)\n",
    "\n",
    "def in_category(x,cat):\n",
    "    if x in task_category_dict and cat in task_category_dict[x]:\n",
    "        return 1\n",
    "    if x in parent_child_dict and any([cat in task_category_dict[p] for p in child_parent_dict[x]]):\n",
    "        return 1\n",
    "    return 0\n",
    "annual_data['CV']=annual_data['task'].apply(lambda x: in_category(x,'Computer Vision'))\n",
    "annual_data['NLP']=annual_data['task'].apply(lambda x: in_category(x,'Natural Language Processing'))\n",
    "annual_data['Methodology']=annual_data['task'].apply(lambda x: in_category(x,'Methodology'))\n",
    "#THESE ARE ERRONEOUS NEED TO CHECK EACH ERROR\n",
    "annual_data=annual_data[annual_data.year>=annual_data.task_age]\n",
    "annual_data.to_csv(\"/mnt/c/Users/berna/Documents/GoogleDataProject/RatioInputs/FullDatasetforR.Parents.Temp.txt\",sep='\\t',quoting=1)"
   ]
  },
  {
   "cell_type": "code",
   "execution_count": 25,
   "id": "24d3080c-37a9-491c-9c77-91180aef920c",
   "metadata": {},
   "outputs": [],
   "source": []
  },
  {
   "cell_type": "code",
   "execution_count": 27,
   "id": "ebf1a435-307a-43fa-99c4-9822a1ff3f9b",
   "metadata": {},
   "outputs": [
    {
     "data": {
      "text/plain": [
       "222"
      ]
     },
     "execution_count": 27,
     "metadata": {},
     "output_type": "execute_result"
    }
   ],
   "source": [
    "len(parent_tasks)"
   ]
  },
  {
   "cell_type": "code",
   "execution_count": 51,
   "id": "7b51e8a8-d91b-48f6-add1-eecc72eff785",
   "metadata": {},
   "outputs": [
    {
     "ename": "AttributeError",
     "evalue": "'DataFrame' object has no attribute 'all_tasks'",
     "output_type": "error",
     "traceback": [
      "\u001b[0;31m---------------------------------------------------------------------------\u001b[0m",
      "\u001b[0;31mAttributeError\u001b[0m                            Traceback (most recent call last)",
      "\u001b[0;32m<ipython-input-51-85124011e0ae>\u001b[0m in \u001b[0;36m<module>\u001b[0;34m\u001b[0m\n\u001b[1;32m      1\u001b[0m \u001b[0mpd\u001b[0m\u001b[0;34m.\u001b[0m\u001b[0mto_datetime\u001b[0m\u001b[0;34m(\u001b[0m\u001b[0mpwc_papers_task\u001b[0m\u001b[0;34m[\u001b[0m\u001b[0mpwc_papers_task\u001b[0m\u001b[0;34m.\u001b[0m\u001b[0mtask\u001b[0m\u001b[0;34m==\u001b[0m\u001b[0;34m'2D Human Pose Estimation'\u001b[0m\u001b[0;34m]\u001b[0m\u001b[0;34m.\u001b[0m\u001b[0mdate\u001b[0m\u001b[0;34m)\u001b[0m\u001b[0;34m.\u001b[0m\u001b[0mdt\u001b[0m\u001b[0;34m.\u001b[0m\u001b[0myear\u001b[0m\u001b[0;34m.\u001b[0m\u001b[0mmin\u001b[0m\u001b[0;34m(\u001b[0m\u001b[0;34m)\u001b[0m\u001b[0;34m\u001b[0m\u001b[0;34m\u001b[0m\u001b[0m\n\u001b[0;32m----> 2\u001b[0;31m \u001b[0mdatasets\u001b[0m\u001b[0;34m[\u001b[0m\u001b[0mdatasets\u001b[0m\u001b[0;34m.\u001b[0m\u001b[0mall_tasks\u001b[0m\u001b[0;34m.\u001b[0m\u001b[0mapply\u001b[0m\u001b[0;34m(\u001b[0m\u001b[0;32mlambda\u001b[0m \u001b[0mx\u001b[0m\u001b[0;34m:\u001b[0m \u001b[0;34m'2D Human Pose Estimation'\u001b[0m \u001b[0;32min\u001b[0m \u001b[0mx\u001b[0m\u001b[0;34m)\u001b[0m\u001b[0;34m]\u001b[0m\u001b[0;34m.\u001b[0m\u001b[0mintroduced_date\u001b[0m\u001b[0;34m.\u001b[0m\u001b[0mmin\u001b[0m\u001b[0;34m(\u001b[0m\u001b[0;34m)\u001b[0m\u001b[0;34m\u001b[0m\u001b[0;34m\u001b[0m\u001b[0m\n\u001b[0m",
      "\u001b[0;32m~/miniconda3/envs/data/lib/python3.8/site-packages/pandas/core/generic.py\u001b[0m in \u001b[0;36m__getattr__\u001b[0;34m(self, name)\u001b[0m\n\u001b[1;32m   5272\u001b[0m             \u001b[0;32mif\u001b[0m \u001b[0mself\u001b[0m\u001b[0;34m.\u001b[0m\u001b[0m_info_axis\u001b[0m\u001b[0;34m.\u001b[0m\u001b[0m_can_hold_identifiers_and_holds_name\u001b[0m\u001b[0;34m(\u001b[0m\u001b[0mname\u001b[0m\u001b[0;34m)\u001b[0m\u001b[0;34m:\u001b[0m\u001b[0;34m\u001b[0m\u001b[0;34m\u001b[0m\u001b[0m\n\u001b[1;32m   5273\u001b[0m                 \u001b[0;32mreturn\u001b[0m \u001b[0mself\u001b[0m\u001b[0;34m[\u001b[0m\u001b[0mname\u001b[0m\u001b[0;34m]\u001b[0m\u001b[0;34m\u001b[0m\u001b[0;34m\u001b[0m\u001b[0m\n\u001b[0;32m-> 5274\u001b[0;31m             \u001b[0;32mreturn\u001b[0m \u001b[0mobject\u001b[0m\u001b[0;34m.\u001b[0m\u001b[0m__getattribute__\u001b[0m\u001b[0;34m(\u001b[0m\u001b[0mself\u001b[0m\u001b[0;34m,\u001b[0m \u001b[0mname\u001b[0m\u001b[0;34m)\u001b[0m\u001b[0;34m\u001b[0m\u001b[0;34m\u001b[0m\u001b[0m\n\u001b[0m\u001b[1;32m   5275\u001b[0m \u001b[0;34m\u001b[0m\u001b[0m\n\u001b[1;32m   5276\u001b[0m     \u001b[0;32mdef\u001b[0m \u001b[0m__setattr__\u001b[0m\u001b[0;34m(\u001b[0m\u001b[0mself\u001b[0m\u001b[0;34m,\u001b[0m \u001b[0mname\u001b[0m\u001b[0;34m:\u001b[0m \u001b[0mstr\u001b[0m\u001b[0;34m,\u001b[0m \u001b[0mvalue\u001b[0m\u001b[0;34m)\u001b[0m \u001b[0;34m->\u001b[0m \u001b[0;32mNone\u001b[0m\u001b[0;34m:\u001b[0m\u001b[0;34m\u001b[0m\u001b[0;34m\u001b[0m\u001b[0m\n",
      "\u001b[0;31mAttributeError\u001b[0m: 'DataFrame' object has no attribute 'all_tasks'"
     ]
    }
   ],
   "source": [
    "pd.to_datetime(pwc_papers_task[pwc_papers_task.task=='2D Human Pose Estimation'].date).dt.year.min()\n",
    "datasets[datasets.all_tasks.apply(lambda x: '2D Human Pose Estimation' in x)].introduced_date.min()"
   ]
  },
  {
   "cell_type": "code",
   "execution_count": 300,
   "id": "ffc64111-8a86-4b3f-95c8-205e6f8f5424",
   "metadata": {},
   "outputs": [
    {
     "name": "stdout",
     "output_type": "stream",
     "text": [
      "                          task  name  \\\n",
      "6939  2D Human Pose Estimation  FLIC   \n",
      "\n",
      "                                                  title       date  Images  \\\n",
      "6939  DeepPose: Human Pose Estimation via Deep Neura... 2013-12-17    True   \n",
      "\n",
      "      Texts  Parent  \n",
      "6939  False    True  \n",
      "Empty DataFrame\n",
      "Columns: [url, name, full_name, homepage, description, introduced_date, warning, modalities, languages, variants, num_papers, data_loaders, title, paper_url, Texts, Images, task, categories, parents, children, siblings, pdf_url, date, all_tasks, all_parents, all_children, all_siblings, all_categories]\n",
      "Index: []\n",
      "\n",
      "[0 rows x 28 columns]\n"
     ]
    },
    {
     "ename": "AttributeError",
     "evalue": "'DataFrame' object has no attribute 'dt'",
     "output_type": "error",
     "traceback": [
      "\u001b[0;31m---------------------------------------------------------------------------\u001b[0m",
      "\u001b[0;31mAttributeError\u001b[0m                            Traceback (most recent call last)",
      "\u001b[0;32m<ipython-input-300-87a8076d7c0c>\u001b[0m in \u001b[0;36m<module>\u001b[0;34m\u001b[0m\n\u001b[1;32m      6\u001b[0m     \u001b[0;32mreturn\u001b[0m \u001b[0mtemp\u001b[0m\u001b[0;34m.\u001b[0m\u001b[0msize\u001b[0m\u001b[0;34m(\u001b[0m\u001b[0;34m)\u001b[0m\u001b[0;34m\u001b[0m\u001b[0;34m\u001b[0m\u001b[0m\n\u001b[1;32m      7\u001b[0m \u001b[0;34m\u001b[0m\u001b[0m\n\u001b[0;32m----> 8\u001b[0;31m \u001b[0mhomegrown_edgelist\u001b[0m\u001b[0;34m.\u001b[0m\u001b[0mgroupby\u001b[0m\u001b[0;34m(\u001b[0m\u001b[0;34m[\u001b[0m\u001b[0;34m'task'\u001b[0m\u001b[0;34m,\u001b[0m\u001b[0mhomegrown_edgelist\u001b[0m\u001b[0;34m.\u001b[0m\u001b[0mdate\u001b[0m\u001b[0;34m.\u001b[0m\u001b[0mdt\u001b[0m\u001b[0;34m.\u001b[0m\u001b[0myear\u001b[0m\u001b[0;34m]\u001b[0m\u001b[0;34m)\u001b[0m\u001b[0;34m.\u001b[0m\u001b[0mfilter\u001b[0m\u001b[0;34m(\u001b[0m\u001b[0;32mlambda\u001b[0m \u001b[0mx\u001b[0m\u001b[0;34m:\u001b[0m \u001b[0mpapers_from_last_years_ds\u001b[0m\u001b[0;34m(\u001b[0m\u001b[0mx\u001b[0m\u001b[0;34m)\u001b[0m\u001b[0;34m)\u001b[0m\u001b[0;34m\u001b[0m\u001b[0;34m\u001b[0m\u001b[0m\n\u001b[0m",
      "\u001b[0;32m~/miniconda3/envs/data/lib/python3.8/site-packages/pandas/core/groupby/generic.py\u001b[0m in \u001b[0;36mfilter\u001b[0;34m(self, func, dropna, *args, **kwargs)\u001b[0m\n\u001b[1;32m   1570\u001b[0m             \u001b[0mobject\u001b[0m\u001b[0;34m.\u001b[0m\u001b[0m__setattr__\u001b[0m\u001b[0;34m(\u001b[0m\u001b[0mgroup\u001b[0m\u001b[0;34m,\u001b[0m \u001b[0;34m\"name\"\u001b[0m\u001b[0;34m,\u001b[0m \u001b[0mname\u001b[0m\u001b[0;34m)\u001b[0m\u001b[0;34m\u001b[0m\u001b[0;34m\u001b[0m\u001b[0m\n\u001b[1;32m   1571\u001b[0m \u001b[0;34m\u001b[0m\u001b[0m\n\u001b[0;32m-> 1572\u001b[0;31m             \u001b[0mres\u001b[0m \u001b[0;34m=\u001b[0m \u001b[0mfunc\u001b[0m\u001b[0;34m(\u001b[0m\u001b[0mgroup\u001b[0m\u001b[0;34m,\u001b[0m \u001b[0;34m*\u001b[0m\u001b[0margs\u001b[0m\u001b[0;34m,\u001b[0m \u001b[0;34m**\u001b[0m\u001b[0mkwargs\u001b[0m\u001b[0;34m)\u001b[0m\u001b[0;34m\u001b[0m\u001b[0;34m\u001b[0m\u001b[0m\n\u001b[0m\u001b[1;32m   1573\u001b[0m \u001b[0;34m\u001b[0m\u001b[0m\n\u001b[1;32m   1574\u001b[0m             \u001b[0;32mtry\u001b[0m\u001b[0;34m:\u001b[0m\u001b[0;34m\u001b[0m\u001b[0;34m\u001b[0m\u001b[0m\n",
      "\u001b[0;32m<ipython-input-300-87a8076d7c0c>\u001b[0m in \u001b[0;36m<lambda>\u001b[0;34m(x)\u001b[0m\n\u001b[1;32m      6\u001b[0m     \u001b[0;32mreturn\u001b[0m \u001b[0mtemp\u001b[0m\u001b[0;34m.\u001b[0m\u001b[0msize\u001b[0m\u001b[0;34m(\u001b[0m\u001b[0;34m)\u001b[0m\u001b[0;34m\u001b[0m\u001b[0;34m\u001b[0m\u001b[0m\n\u001b[1;32m      7\u001b[0m \u001b[0;34m\u001b[0m\u001b[0m\n\u001b[0;32m----> 8\u001b[0;31m \u001b[0mhomegrown_edgelist\u001b[0m\u001b[0;34m.\u001b[0m\u001b[0mgroupby\u001b[0m\u001b[0;34m(\u001b[0m\u001b[0;34m[\u001b[0m\u001b[0;34m'task'\u001b[0m\u001b[0;34m,\u001b[0m\u001b[0mhomegrown_edgelist\u001b[0m\u001b[0;34m.\u001b[0m\u001b[0mdate\u001b[0m\u001b[0;34m.\u001b[0m\u001b[0mdt\u001b[0m\u001b[0;34m.\u001b[0m\u001b[0myear\u001b[0m\u001b[0;34m]\u001b[0m\u001b[0;34m)\u001b[0m\u001b[0;34m.\u001b[0m\u001b[0mfilter\u001b[0m\u001b[0;34m(\u001b[0m\u001b[0;32mlambda\u001b[0m \u001b[0mx\u001b[0m\u001b[0;34m:\u001b[0m \u001b[0mpapers_from_last_years_ds\u001b[0m\u001b[0;34m(\u001b[0m\u001b[0mx\u001b[0m\u001b[0;34m)\u001b[0m\u001b[0;34m)\u001b[0m\u001b[0;34m\u001b[0m\u001b[0;34m\u001b[0m\u001b[0m\n\u001b[0m",
      "\u001b[0;32m<ipython-input-300-87a8076d7c0c>\u001b[0m in \u001b[0;36mpapers_from_last_years_ds\u001b[0;34m(df_gb)\u001b[0m\n\u001b[1;32m      3\u001b[0m     \u001b[0mtemp\u001b[0m\u001b[0;34m=\u001b[0m\u001b[0mdatasets_pwc\u001b[0m\u001b[0;34m[\u001b[0m\u001b[0mdatasets_pwc\u001b[0m\u001b[0;34m.\u001b[0m\u001b[0mname\u001b[0m\u001b[0;34m.\u001b[0m\u001b[0misin\u001b[0m\u001b[0;34m(\u001b[0m\u001b[0mdf_gb\u001b[0m\u001b[0;34m.\u001b[0m\u001b[0mname\u001b[0m\u001b[0;34m)\u001b[0m\u001b[0;34m]\u001b[0m\u001b[0;34m\u001b[0m\u001b[0;34m\u001b[0m\u001b[0m\n\u001b[1;32m      4\u001b[0m     \u001b[0mprint\u001b[0m\u001b[0;34m(\u001b[0m\u001b[0mtemp\u001b[0m\u001b[0;34m)\u001b[0m\u001b[0;34m\u001b[0m\u001b[0;34m\u001b[0m\u001b[0m\n\u001b[0;32m----> 5\u001b[0;31m     \u001b[0mtemp\u001b[0m\u001b[0;34m=\u001b[0m\u001b[0mtemp\u001b[0m\u001b[0;34m[\u001b[0m\u001b[0mtemp\u001b[0m\u001b[0;34m.\u001b[0m\u001b[0mintroduced_date\u001b[0m\u001b[0;34m.\u001b[0m\u001b[0mdt\u001b[0m\u001b[0;34m.\u001b[0m\u001b[0myear\u001b[0m\u001b[0;34m==\u001b[0m\u001b[0mdf_gb\u001b[0m\u001b[0;34m.\u001b[0m\u001b[0mdt\u001b[0m\u001b[0;34m.\u001b[0m\u001b[0myear\u001b[0m\u001b[0;34m-\u001b[0m\u001b[0;36m1\u001b[0m\u001b[0;34m]\u001b[0m\u001b[0;34m.\u001b[0m\u001b[0mname\u001b[0m\u001b[0;34m\u001b[0m\u001b[0;34m\u001b[0m\u001b[0m\n\u001b[0m\u001b[1;32m      6\u001b[0m     \u001b[0;32mreturn\u001b[0m \u001b[0mtemp\u001b[0m\u001b[0;34m.\u001b[0m\u001b[0msize\u001b[0m\u001b[0;34m(\u001b[0m\u001b[0;34m)\u001b[0m\u001b[0;34m\u001b[0m\u001b[0;34m\u001b[0m\u001b[0m\n\u001b[1;32m      7\u001b[0m \u001b[0;34m\u001b[0m\u001b[0m\n",
      "\u001b[0;32m~/miniconda3/envs/data/lib/python3.8/site-packages/pandas/core/generic.py\u001b[0m in \u001b[0;36m__getattr__\u001b[0;34m(self, name)\u001b[0m\n\u001b[1;32m   5272\u001b[0m             \u001b[0;32mif\u001b[0m \u001b[0mself\u001b[0m\u001b[0;34m.\u001b[0m\u001b[0m_info_axis\u001b[0m\u001b[0;34m.\u001b[0m\u001b[0m_can_hold_identifiers_and_holds_name\u001b[0m\u001b[0;34m(\u001b[0m\u001b[0mname\u001b[0m\u001b[0;34m)\u001b[0m\u001b[0;34m:\u001b[0m\u001b[0;34m\u001b[0m\u001b[0;34m\u001b[0m\u001b[0m\n\u001b[1;32m   5273\u001b[0m                 \u001b[0;32mreturn\u001b[0m \u001b[0mself\u001b[0m\u001b[0;34m[\u001b[0m\u001b[0mname\u001b[0m\u001b[0;34m]\u001b[0m\u001b[0;34m\u001b[0m\u001b[0;34m\u001b[0m\u001b[0m\n\u001b[0;32m-> 5274\u001b[0;31m             \u001b[0;32mreturn\u001b[0m \u001b[0mobject\u001b[0m\u001b[0;34m.\u001b[0m\u001b[0m__getattribute__\u001b[0m\u001b[0;34m(\u001b[0m\u001b[0mself\u001b[0m\u001b[0;34m,\u001b[0m \u001b[0mname\u001b[0m\u001b[0;34m)\u001b[0m\u001b[0;34m\u001b[0m\u001b[0;34m\u001b[0m\u001b[0m\n\u001b[0m\u001b[1;32m   5275\u001b[0m \u001b[0;34m\u001b[0m\u001b[0m\n\u001b[1;32m   5276\u001b[0m     \u001b[0;32mdef\u001b[0m \u001b[0m__setattr__\u001b[0m\u001b[0;34m(\u001b[0m\u001b[0mself\u001b[0m\u001b[0;34m,\u001b[0m \u001b[0mname\u001b[0m\u001b[0;34m:\u001b[0m \u001b[0mstr\u001b[0m\u001b[0;34m,\u001b[0m \u001b[0mvalue\u001b[0m\u001b[0;34m)\u001b[0m \u001b[0;34m->\u001b[0m \u001b[0;32mNone\u001b[0m\u001b[0;34m:\u001b[0m\u001b[0;34m\u001b[0m\u001b[0;34m\u001b[0m\u001b[0m\n",
      "\u001b[0;31mAttributeError\u001b[0m: 'DataFrame' object has no attribute 'dt'"
     ]
    }
   ],
   "source": [
    "def papers_from_last_years_ds(df_gb):\n",
    "    print(df_gb)\n",
    "    temp=datasets_pwc[datasets_pwc.name.isin(df_gb.name)]\n",
    "    print(temp)\n",
    "    temp=temp[temp.introduced_date.dt.year==df_gb.dt.year-1].name\n",
    "    return temp.size()\n",
    "    \n",
    "homegrown_edgelist.groupby(['task',homegrown_edgelist.date.dt.year]).filter(lambda x: papers_from_last_years_ds(x))"
   ]
  },
  {
   "cell_type": "code",
   "execution_count": 302,
   "id": "403a8108-9ff7-4e29-a581-f1fe08618980",
   "metadata": {},
   "outputs": [
    {
     "data": {
      "text/html": [
       "<div>\n",
       "<style scoped>\n",
       "    .dataframe tbody tr th:only-of-type {\n",
       "        vertical-align: middle;\n",
       "    }\n",
       "\n",
       "    .dataframe tbody tr th {\n",
       "        vertical-align: top;\n",
       "    }\n",
       "\n",
       "    .dataframe thead th {\n",
       "        text-align: right;\n",
       "    }\n",
       "</style>\n",
       "<table border=\"1\" class=\"dataframe\">\n",
       "  <thead>\n",
       "    <tr style=\"text-align: right;\">\n",
       "      <th></th>\n",
       "      <th>url</th>\n",
       "      <th>name</th>\n",
       "      <th>full_name</th>\n",
       "      <th>homepage</th>\n",
       "      <th>description</th>\n",
       "      <th>introduced_date</th>\n",
       "      <th>warning</th>\n",
       "      <th>modalities</th>\n",
       "      <th>languages</th>\n",
       "      <th>variants</th>\n",
       "      <th>...</th>\n",
       "      <th>parents</th>\n",
       "      <th>children</th>\n",
       "      <th>siblings</th>\n",
       "      <th>pdf_url</th>\n",
       "      <th>date</th>\n",
       "      <th>all_tasks</th>\n",
       "      <th>all_parents</th>\n",
       "      <th>all_children</th>\n",
       "      <th>all_siblings</th>\n",
       "      <th>all_categories</th>\n",
       "    </tr>\n",
       "  </thead>\n",
       "  <tbody>\n",
       "    <tr>\n",
       "      <th>892</th>\n",
       "      <td>https://paperswithcode.com/dataset/flic</td>\n",
       "      <td>FLIC</td>\n",
       "      <td>Frames Labelled in Cinema</td>\n",
       "      <td>https://bensapp.github.io/flic-dataset.html</td>\n",
       "      <td>The **FLIC** dataset contains 5003 images from...</td>\n",
       "      <td>2013-01-01</td>\n",
       "      <td>None</td>\n",
       "      <td>[Images, Videos]</td>\n",
       "      <td>[]</td>\n",
       "      <td>[FLIC Elbows, FLIC Wrists, FLIC]</td>\n",
       "      <td>...</td>\n",
       "      <td>[2D Human Pose Estimation]</td>\n",
       "      <td>[3D Human Pose Estimation, Keypoint Detection,...</td>\n",
       "      <td>[Pose Estimation, 3D Face Animation]</td>\n",
       "      <td>http://openaccess.thecvf.com/content_cvpr_2013...</td>\n",
       "      <td>2013-06-01</td>\n",
       "      <td>[Pose Estimation]</td>\n",
       "      <td>[2D Human Pose Estimation]</td>\n",
       "      <td>[Keypoint Detection, 6D Pose Estimation using ...</td>\n",
       "      <td>[Pose Estimation, 3D Face Animation]</td>\n",
       "      <td>[Computer Vision]</td>\n",
       "    </tr>\n",
       "  </tbody>\n",
       "</table>\n",
       "<p>1 rows × 28 columns</p>\n",
       "</div>"
      ],
      "text/plain": [
       "                                         url  name                  full_name  \\\n",
       "892  https://paperswithcode.com/dataset/flic  FLIC  Frames Labelled in Cinema   \n",
       "\n",
       "                                        homepage  \\\n",
       "892  https://bensapp.github.io/flic-dataset.html   \n",
       "\n",
       "                                           description introduced_date  \\\n",
       "892  The **FLIC** dataset contains 5003 images from...      2013-01-01   \n",
       "\n",
       "    warning        modalities languages                          variants  \\\n",
       "892    None  [Images, Videos]        []  [FLIC Elbows, FLIC Wrists, FLIC]   \n",
       "\n",
       "     ...                     parents  \\\n",
       "892  ...  [2D Human Pose Estimation]   \n",
       "\n",
       "                                              children  \\\n",
       "892  [3D Human Pose Estimation, Keypoint Detection,...   \n",
       "\n",
       "                                 siblings  \\\n",
       "892  [Pose Estimation, 3D Face Animation]   \n",
       "\n",
       "                                               pdf_url        date  \\\n",
       "892  http://openaccess.thecvf.com/content_cvpr_2013...  2013-06-01   \n",
       "\n",
       "             all_tasks                 all_parents  \\\n",
       "892  [Pose Estimation]  [2D Human Pose Estimation]   \n",
       "\n",
       "                                          all_children  \\\n",
       "892  [Keypoint Detection, 6D Pose Estimation using ...   \n",
       "\n",
       "                             all_siblings     all_categories  \n",
       "892  [Pose Estimation, 3D Face Animation]  [Computer Vision]  \n",
       "\n",
       "[1 rows x 28 columns]"
      ]
     },
     "execution_count": 302,
     "metadata": {},
     "output_type": "execute_result"
    }
   ],
   "source": [
    "datasets_pwc[datasets_pwc.name=='FLIC']"
   ]
  },
  {
   "cell_type": "code",
   "execution_count": 295,
   "id": "3932559a-5026-4ab6-98ff-d68cb989252b",
   "metadata": {},
   "outputs": [
    {
     "data": {
      "text/html": [
       "<div>\n",
       "<style scoped>\n",
       "    .dataframe tbody tr th:only-of-type {\n",
       "        vertical-align: middle;\n",
       "    }\n",
       "\n",
       "    .dataframe tbody tr th {\n",
       "        vertical-align: top;\n",
       "    }\n",
       "\n",
       "    .dataframe thead th {\n",
       "        text-align: right;\n",
       "    }\n",
       "</style>\n",
       "<table border=\"1\" class=\"dataframe\">\n",
       "  <thead>\n",
       "    <tr style=\"text-align: right;\">\n",
       "      <th></th>\n",
       "      <th>task</th>\n",
       "      <th>name</th>\n",
       "      <th>date</th>\n",
       "      <th>Images</th>\n",
       "      <th>Texts</th>\n",
       "      <th>Parent</th>\n",
       "    </tr>\n",
       "  </thead>\n",
       "  <tbody>\n",
       "    <tr>\n",
       "      <th>0</th>\n",
       "      <td>Visual Question Answering</td>\n",
       "      <td>SHAPES</td>\n",
       "      <td>2016-01-01</td>\n",
       "      <td>True</td>\n",
       "      <td>True</td>\n",
       "      <td>False</td>\n",
       "    </tr>\n",
       "    <tr>\n",
       "      <th>49</th>\n",
       "      <td>Domain Generalization</td>\n",
       "      <td>PACS</td>\n",
       "      <td>2017-01-01</td>\n",
       "      <td>True</td>\n",
       "      <td>False</td>\n",
       "      <td>False</td>\n",
       "    </tr>\n",
       "    <tr>\n",
       "      <th>50</th>\n",
       "      <td>Domain Adaptation</td>\n",
       "      <td>PACS</td>\n",
       "      <td>2017-01-01</td>\n",
       "      <td>True</td>\n",
       "      <td>False</td>\n",
       "      <td>True</td>\n",
       "    </tr>\n",
       "    <tr>\n",
       "      <th>317</th>\n",
       "      <td>General Classification</td>\n",
       "      <td>Oxford 102 Flower</td>\n",
       "      <td>2008-12-01</td>\n",
       "      <td>True</td>\n",
       "      <td>False</td>\n",
       "      <td>False</td>\n",
       "    </tr>\n",
       "    <tr>\n",
       "      <th>612</th>\n",
       "      <td>Accuracy Metrics</td>\n",
       "      <td>Speech Commands</td>\n",
       "      <td>2018-04-09</td>\n",
       "      <td>False</td>\n",
       "      <td>False</td>\n",
       "      <td>False</td>\n",
       "    </tr>\n",
       "    <tr>\n",
       "      <th>...</th>\n",
       "      <td>...</td>\n",
       "      <td>...</td>\n",
       "      <td>...</td>\n",
       "      <td>...</td>\n",
       "      <td>...</td>\n",
       "      <td>...</td>\n",
       "    </tr>\n",
       "    <tr>\n",
       "      <th>250247</th>\n",
       "      <td>Relation Extraction</td>\n",
       "      <td>WNUT-2020 Task 1</td>\n",
       "      <td>2020-10-27</td>\n",
       "      <td>False</td>\n",
       "      <td>False</td>\n",
       "      <td>False</td>\n",
       "    </tr>\n",
       "    <tr>\n",
       "      <th>250251</th>\n",
       "      <td>Image Reconstruction</td>\n",
       "      <td>UDIS-D</td>\n",
       "      <td>2021-06-24</td>\n",
       "      <td>True</td>\n",
       "      <td>False</td>\n",
       "      <td>False</td>\n",
       "    </tr>\n",
       "    <tr>\n",
       "      <th>250252</th>\n",
       "      <td>Image Stitching</td>\n",
       "      <td>UDIS-D</td>\n",
       "      <td>2021-06-24</td>\n",
       "      <td>True</td>\n",
       "      <td>False</td>\n",
       "      <td>False</td>\n",
       "    </tr>\n",
       "    <tr>\n",
       "      <th>250253</th>\n",
       "      <td>Handwriting Recognition</td>\n",
       "      <td>HKR</td>\n",
       "      <td>2020-07-07</td>\n",
       "      <td>True</td>\n",
       "      <td>True</td>\n",
       "      <td>False</td>\n",
       "    </tr>\n",
       "    <tr>\n",
       "      <th>250254</th>\n",
       "      <td>Optical Character Recognition</td>\n",
       "      <td>HKR</td>\n",
       "      <td>2020-07-07</td>\n",
       "      <td>True</td>\n",
       "      <td>True</td>\n",
       "      <td>True</td>\n",
       "    </tr>\n",
       "  </tbody>\n",
       "</table>\n",
       "<p>2583 rows × 6 columns</p>\n",
       "</div>"
      ],
      "text/plain": [
       "                                 task               name       date  Images  \\\n",
       "0           Visual Question Answering             SHAPES 2016-01-01    True   \n",
       "49              Domain Generalization               PACS 2017-01-01    True   \n",
       "50                  Domain Adaptation               PACS 2017-01-01    True   \n",
       "317            General Classification  Oxford 102 Flower 2008-12-01    True   \n",
       "612                  Accuracy Metrics    Speech Commands 2018-04-09   False   \n",
       "...                               ...                ...        ...     ...   \n",
       "250247            Relation Extraction   WNUT-2020 Task 1 2020-10-27   False   \n",
       "250251           Image Reconstruction             UDIS-D 2021-06-24    True   \n",
       "250252                Image Stitching             UDIS-D 2021-06-24    True   \n",
       "250253        Handwriting Recognition                HKR 2020-07-07    True   \n",
       "250254  Optical Character Recognition                HKR 2020-07-07    True   \n",
       "\n",
       "        Texts  Parent  \n",
       "0        True   False  \n",
       "49      False   False  \n",
       "50      False    True  \n",
       "317     False   False  \n",
       "612     False   False  \n",
       "...       ...     ...  \n",
       "250247  False   False  \n",
       "250251  False   False  \n",
       "250252  False   False  \n",
       "250253   True   False  \n",
       "250254   True    True  \n",
       "\n",
       "[2583 rows x 6 columns]"
      ]
     },
     "execution_count": 295,
     "metadata": {},
     "output_type": "execute_result"
    }
   ],
   "source": [
    "birth_edgelist"
   ]
  },
  {
   "cell_type": "code",
   "execution_count": 263,
   "id": "40b6fabf-f71b-4033-895e-c06c15bb60d7",
   "metadata": {},
   "outputs": [],
   "source": [
    "source_dest_edgelist2=source_dest_edgelist.copy()\n",
    "source_dest_edgelist2['date']=source_dest_edgelist2['date'].apply(lambda x: x if x.year % 2==0 else x-pd.offsets.DateOffset(years=1))\n",
    "homegrown_edgelist2=homegrown_edgelist.copy()\n",
    "homegrown_edgelist2['date']=homegrown_edgelist2['date'].apply(lambda x: x if x.year % 2==0 else x-pd.offsets.DateOffset(years=1))\n",
    "birth_edgelist2=birth_edgelist.copy()\n",
    "birth_edgelist2['date']=birth_edgelist2['date'].apply(lambda x: x if x.year % 2==0 else x-pd.offsets.DateOffset(years=1))\n",
    "pwc_papers2=pwc_papers.copy()\n",
    "pwc_papers2['year']=pd.to_datetime(pwc_papers2['date']).dt.year\n",
    "pwc_papers2['year']=pwc_papers2['year'].apply(lambda x: x if x % 2==0 else x-1)\n",
    "\n",
    "num_papers_adopting=source_dest_edgelist2.groupby(['dest_task',source_dest_edgelist2.date.dt.year]).size()\n",
    "num_papers_adopting.index.names=['task','date']\n",
    "num_papers_growing=homegrown_edgelist2.groupby(['task',homegrown_edgelist2.date.dt.year]).size()\n",
    "num_dataset_births=birth_edgelist2.groupby(['task', birth_edgelist2.date.dt.year]).size()\n",
    "temp=source_dest_edgelist2.groupby(['dest_task','name',source_dest_edgelist2.date.dt.year]).size().reset_index().drop(0,axis=1)\n",
    "num_dataset_imports=temp.groupby(['dest_task',source_dest_edgelist2.date.dt.year]).size()\n",
    "num_dataset_imports.columns=['imported_datasets']\n",
    "num_dataset_imports.index.names=['task','date']\n",
    "num_dataset_births.name='num_dataset_births'\n",
    "num_papers_adopting.name='num_papers_adopting'\n",
    "num_dataset_imports.name='num_dataset_imports'\n",
    "num_papers_growing.name='num_papers_growing'\n",
    "annual_data2=pd.merge(num_dataset_births.reset_index(),num_papers_adopting.reset_index(),how='outer')\n",
    "annual_data2=pd.merge(annual_data2,num_dataset_imports.reset_index(),how='outer')\n",
    "annual_data2=pd.merge(annual_data2,num_papers_growing.reset_index(),how='outer')\n",
    "annual_data2=annual_data2.fillna(0)\n",
    "annual_data2['size']=annual_data2.num_papers_adopting+annual_data2.num_papers_growing\n",
    "task_age_df=task_age.reset_index()\n",
    "task_age_df.columns=['task','task_age']\n",
    "annual_data2=pd.merge(annual_data2,task_age_df,on='task',how='left')\n",
    "annual_data2['adoption_ratio']=annual_data2.num_papers_adopting.divide(annual_data2.num_papers_growing)\n",
    "annual_data2['creation_ratio']=annual_data2.num_dataset_births.divide(annual_data2.num_dataset_imports)\n",
    "annual_data2['conversion_ratio']=annual_data2.num_dataset_births.divide(annual_data2.num_papers_growing)\n",
    "annual_data2['adoption_pct']=annual_data2.num_papers_adopting.divide(annual_data2.num_papers_adopting+annual_data2.num_papers_growing)\n",
    "annual_data2['creation_pct']=annual_data2.num_dataset_births.divide(annual_data2.num_dataset_births+annual_data2.num_dataset_imports)\n",
    "annual_data2['conversion_pct']=annual_data2.num_dataset_births.divide(annual_data2.num_dataset_births+annual_data2.num_papers_growing)\n",
    "annual_data2['cvmethods']=annual_data2.task.isin(methods_tasks)\n",
    "annual_data2=pd.merge(annual_data2,task_contains_images,on='task',how='left')\n",
    "annual_data2=pd.merge(annual_data2,task_contains_texts,on='task',how='left')\n",
    "annual_size2=pwc_papers2.groupby('year').size().reset_index()\n",
    "annual_data2=pd.merge(annual_data2,annual_size2,left_on='date',right_on='year',how='left')\n",
    "annual_data2=annual_data2.drop('year',axis=1).rename({0:'pwc_size'},axis=1)\n",
    "annual_data2.rename({'date':'year'},axis=1,inplace=True)\n",
    "\n",
    "def in_category(x,cat):\n",
    "    if x in task_category_dict and cat in task_category_dict[x]:\n",
    "        return 1\n",
    "    if x in parent_child_dict and any([cat in task_category_dict[p] for p in child_parent_dict[x]]):\n",
    "        return 1\n",
    "    return 0\n",
    "annual_data2['CV']=annual_data2['task'].apply(lambda x: in_category(x,'Computer Vision'))\n",
    "annual_data2['NLP']=annual_data2['task'].apply(lambda x: in_category(x,'Natural Language Processing'))\n",
    "annual_data2['Methodology']=annual_data2['task'].apply(lambda x: in_category(x,'Methodology'))\n",
    "\n",
    "annual_data2.to_csv(\"/mnt/c/Users/berna/Documents/GoogleDataProject/RatioInputs/FullDatasetforR2Years.txt\",sep='\\t',quoting=1)"
   ]
  },
  {
   "cell_type": "code",
   "execution_count": 296,
   "id": "d3372eb3-4060-4e32-944f-cd09cd2e8cde",
   "metadata": {},
   "outputs": [
    {
     "data": {
      "text/html": [
       "<div>\n",
       "<style scoped>\n",
       "    .dataframe tbody tr th:only-of-type {\n",
       "        vertical-align: middle;\n",
       "    }\n",
       "\n",
       "    .dataframe tbody tr th {\n",
       "        vertical-align: top;\n",
       "    }\n",
       "\n",
       "    .dataframe thead th {\n",
       "        text-align: right;\n",
       "    }\n",
       "</style>\n",
       "<table border=\"1\" class=\"dataframe\">\n",
       "  <thead>\n",
       "    <tr style=\"text-align: right;\">\n",
       "      <th></th>\n",
       "      <th>name</th>\n",
       "      <th>pwc_dataset_id</th>\n",
       "      <th>title</th>\n",
       "      <th>date</th>\n",
       "      <th>is_problematic</th>\n",
       "      <th>paper_count</th>\n",
       "      <th>task</th>\n",
       "      <th>categories</th>\n",
       "      <th>parents</th>\n",
       "      <th>children</th>\n",
       "      <th>siblings</th>\n",
       "      <th>pdf_url</th>\n",
       "      <th>paper_url</th>\n",
       "      <th>all_tasks</th>\n",
       "      <th>all_parents</th>\n",
       "      <th>all_children</th>\n",
       "      <th>all_siblings</th>\n",
       "      <th>all_categories</th>\n",
       "      <th>year</th>\n",
       "    </tr>\n",
       "  </thead>\n",
       "  <tbody>\n",
       "    <tr>\n",
       "      <th>176</th>\n",
       "      <td>MNIST</td>\n",
       "      <td>1</td>\n",
       "      <td>On GANs and GMMs</td>\n",
       "      <td>2018-05-31</td>\n",
       "      <td>False</td>\n",
       "      <td>4159</td>\n",
       "      <td>Image Generation</td>\n",
       "      <td>[Computer Vision]</td>\n",
       "      <td>[3D Face Animation]</td>\n",
       "      <td>[Image-to-Image Translation, Image Inpainting,...</td>\n",
       "      <td>[Image Generation]</td>\n",
       "      <td>http://arxiv.org/pdf/1805.12462v2.pdf</td>\n",
       "      <td>https://paperswithcode.com/paper/on-gans-and-gmms</td>\n",
       "      <td>[Image Generation]</td>\n",
       "      <td>[3D Face Animation]</td>\n",
       "      <td>[User Constrained Thumbnail Generation, Image ...</td>\n",
       "      <td>[Image Generation, Dialogue Generation, Image ...</td>\n",
       "      <td>[Computer Vision]</td>\n",
       "      <td>2018.0</td>\n",
       "    </tr>\n",
       "    <tr>\n",
       "      <th>177</th>\n",
       "      <td>CelebA</td>\n",
       "      <td>2</td>\n",
       "      <td>On GANs and GMMs</td>\n",
       "      <td>2018-05-31</td>\n",
       "      <td>False</td>\n",
       "      <td>1539</td>\n",
       "      <td>Image Generation</td>\n",
       "      <td>[Computer Vision]</td>\n",
       "      <td>[3D Face Animation]</td>\n",
       "      <td>[Image-to-Image Translation, Image Inpainting,...</td>\n",
       "      <td>[Image Generation]</td>\n",
       "      <td>http://arxiv.org/pdf/1805.12462v2.pdf</td>\n",
       "      <td>https://paperswithcode.com/paper/on-gans-and-gmms</td>\n",
       "      <td>[Image Generation]</td>\n",
       "      <td>[3D Face Animation]</td>\n",
       "      <td>[User Constrained Thumbnail Generation, Image ...</td>\n",
       "      <td>[Image Generation, Dialogue Generation, Image ...</td>\n",
       "      <td>[Computer Vision]</td>\n",
       "      <td>2018.0</td>\n",
       "    </tr>\n",
       "    <tr>\n",
       "      <th>178</th>\n",
       "      <td>SVHN</td>\n",
       "      <td>424</td>\n",
       "      <td>On GANs and GMMs</td>\n",
       "      <td>2018-05-31</td>\n",
       "      <td>False</td>\n",
       "      <td>1606</td>\n",
       "      <td>Image Generation</td>\n",
       "      <td>[Computer Vision]</td>\n",
       "      <td>[3D Face Animation]</td>\n",
       "      <td>[Image-to-Image Translation, Image Inpainting,...</td>\n",
       "      <td>[Image Generation]</td>\n",
       "      <td>http://arxiv.org/pdf/1805.12462v2.pdf</td>\n",
       "      <td>https://paperswithcode.com/paper/on-gans-and-gmms</td>\n",
       "      <td>[Image Generation]</td>\n",
       "      <td>[3D Face Animation]</td>\n",
       "      <td>[User Constrained Thumbnail Generation, Image ...</td>\n",
       "      <td>[Image Generation, Dialogue Generation, Image ...</td>\n",
       "      <td>[Computer Vision]</td>\n",
       "      <td>2018.0</td>\n",
       "    </tr>\n",
       "    <tr>\n",
       "      <th>179</th>\n",
       "      <td>CIFAR-10</td>\n",
       "      <td>431</td>\n",
       "      <td>On GANs and GMMs</td>\n",
       "      <td>2018-05-31</td>\n",
       "      <td>False</td>\n",
       "      <td>6230</td>\n",
       "      <td>Image Generation</td>\n",
       "      <td>[Computer Vision]</td>\n",
       "      <td>[3D Face Animation]</td>\n",
       "      <td>[Image-to-Image Translation, Image Inpainting,...</td>\n",
       "      <td>[Image Generation]</td>\n",
       "      <td>http://arxiv.org/pdf/1805.12462v2.pdf</td>\n",
       "      <td>https://paperswithcode.com/paper/on-gans-and-gmms</td>\n",
       "      <td>[Image Generation]</td>\n",
       "      <td>[3D Face Animation]</td>\n",
       "      <td>[User Constrained Thumbnail Generation, Image ...</td>\n",
       "      <td>[Image Generation, Dialogue Generation, Image ...</td>\n",
       "      <td>[Computer Vision]</td>\n",
       "      <td>2018.0</td>\n",
       "    </tr>\n",
       "    <tr>\n",
       "      <th>212</th>\n",
       "      <td>MNIST</td>\n",
       "      <td>1</td>\n",
       "      <td>DVAE++: Discrete Variational Autoencoders with...</td>\n",
       "      <td>2018-02-14</td>\n",
       "      <td>False</td>\n",
       "      <td>4159</td>\n",
       "      <td>Image Generation</td>\n",
       "      <td>[Computer Vision]</td>\n",
       "      <td>[3D Face Animation]</td>\n",
       "      <td>[Image-to-Image Translation, Image Inpainting,...</td>\n",
       "      <td>[Image Generation]</td>\n",
       "      <td>http://arxiv.org/pdf/1802.04920v2.pdf</td>\n",
       "      <td>https://paperswithcode.com/paper/dvae-discrete...</td>\n",
       "      <td>[Image Generation, Latent Variable Models]</td>\n",
       "      <td>[3D Face Animation]</td>\n",
       "      <td>[User Constrained Thumbnail Generation, Image ...</td>\n",
       "      <td>[Image Generation, Dialogue Generation, Image ...</td>\n",
       "      <td>[Methodology, Computer Vision]</td>\n",
       "      <td>2018.0</td>\n",
       "    </tr>\n",
       "    <tr>\n",
       "      <th>...</th>\n",
       "      <td>...</td>\n",
       "      <td>...</td>\n",
       "      <td>...</td>\n",
       "      <td>...</td>\n",
       "      <td>...</td>\n",
       "      <td>...</td>\n",
       "      <td>...</td>\n",
       "      <td>...</td>\n",
       "      <td>...</td>\n",
       "      <td>...</td>\n",
       "      <td>...</td>\n",
       "      <td>...</td>\n",
       "      <td>...</td>\n",
       "      <td>...</td>\n",
       "      <td>...</td>\n",
       "      <td>...</td>\n",
       "      <td>...</td>\n",
       "      <td>...</td>\n",
       "      <td>...</td>\n",
       "    </tr>\n",
       "    <tr>\n",
       "      <th>219087</th>\n",
       "      <td>SketchyCOCO</td>\n",
       "      <td>7264</td>\n",
       "      <td>SketchyCOCO: Image Generation from Freehand Sc...</td>\n",
       "      <td>2020-03-05</td>\n",
       "      <td>False</td>\n",
       "      <td>4</td>\n",
       "      <td>Image Generation</td>\n",
       "      <td>[Computer Vision]</td>\n",
       "      <td>[3D Face Animation]</td>\n",
       "      <td>[Image-to-Image Translation, Image Inpainting,...</td>\n",
       "      <td>[Image Generation]</td>\n",
       "      <td>https://arxiv.org/pdf/2003.02683v5.pdf</td>\n",
       "      <td>https://paperswithcode.com/paper/image-generat...</td>\n",
       "      <td>[Image Generation, Sketch-to-Image Translation]</td>\n",
       "      <td>[3D Face Animation]</td>\n",
       "      <td>[User Constrained Thumbnail Generation, Image ...</td>\n",
       "      <td>[Image Generation, Dialogue Generation, Image ...</td>\n",
       "      <td>[Computer Vision]</td>\n",
       "      <td>2020.0</td>\n",
       "    </tr>\n",
       "    <tr>\n",
       "      <th>219088</th>\n",
       "      <td>Scribble</td>\n",
       "      <td>7265</td>\n",
       "      <td>SketchyCOCO: Image Generation from Freehand Sc...</td>\n",
       "      <td>2020-03-05</td>\n",
       "      <td>False</td>\n",
       "      <td>3</td>\n",
       "      <td>Image Generation</td>\n",
       "      <td>[Computer Vision]</td>\n",
       "      <td>[3D Face Animation]</td>\n",
       "      <td>[Image-to-Image Translation, Image Inpainting,...</td>\n",
       "      <td>[Image Generation]</td>\n",
       "      <td>https://arxiv.org/pdf/2003.02683v5.pdf</td>\n",
       "      <td>https://paperswithcode.com/paper/image-generat...</td>\n",
       "      <td>[Image Generation, Sketch-to-Image Translation]</td>\n",
       "      <td>[3D Face Animation]</td>\n",
       "      <td>[User Constrained Thumbnail Generation, Image ...</td>\n",
       "      <td>[Image Generation, Dialogue Generation, Image ...</td>\n",
       "      <td>[Computer Vision]</td>\n",
       "      <td>2020.0</td>\n",
       "    </tr>\n",
       "    <tr>\n",
       "      <th>219293</th>\n",
       "      <td>GazeCapture</td>\n",
       "      <td>7440</td>\n",
       "      <td>GazeGAN - Unpaired Adversarial Image Generatio...</td>\n",
       "      <td>2017-11-27</td>\n",
       "      <td>False</td>\n",
       "      <td>25</td>\n",
       "      <td>Image Generation</td>\n",
       "      <td>[Computer Vision]</td>\n",
       "      <td>[3D Face Animation]</td>\n",
       "      <td>[Image-to-Image Translation, Image Inpainting,...</td>\n",
       "      <td>[Image Generation]</td>\n",
       "      <td>http://arxiv.org/pdf/1711.09767v1.pdf</td>\n",
       "      <td>https://paperswithcode.com/paper/gazegan-unpai...</td>\n",
       "      <td>[Gaze Estimation, Image Generation, Medical Di...</td>\n",
       "      <td>[3D Face Animation]</td>\n",
       "      <td>[Thoracic Disease Classification, Pose Transfe...</td>\n",
       "      <td>[Image Generation, Dialogue Generation, Image ...</td>\n",
       "      <td>[Medical, Computer Vision]</td>\n",
       "      <td>2017.0</td>\n",
       "    </tr>\n",
       "    <tr>\n",
       "      <th>219370</th>\n",
       "      <td>RHD</td>\n",
       "      <td>7495</td>\n",
       "      <td>Disentangling Latent Hands for Image Synthesis...</td>\n",
       "      <td>2018-12-03</td>\n",
       "      <td>False</td>\n",
       "      <td>39</td>\n",
       "      <td>Image Generation</td>\n",
       "      <td>[Computer Vision]</td>\n",
       "      <td>[3D Face Animation]</td>\n",
       "      <td>[Image-to-Image Translation, Image Inpainting,...</td>\n",
       "      <td>[Image Generation]</td>\n",
       "      <td>http://arxiv.org/pdf/1812.01002v2.pdf</td>\n",
       "      <td>https://paperswithcode.com/paper/disentangling...</td>\n",
       "      <td>[Image Generation, Pose Estimation]</td>\n",
       "      <td>[3D Face Animation, 2D Human Pose Estimation]</td>\n",
       "      <td>[Pose Transfer, Vehicle Pose Estimation, Keypo...</td>\n",
       "      <td>[Pose Estimation, 3D Face Animation, Dialogue ...</td>\n",
       "      <td>[Computer Vision]</td>\n",
       "      <td>2018.0</td>\n",
       "    </tr>\n",
       "    <tr>\n",
       "      <th>219855</th>\n",
       "      <td>CLUSTER</td>\n",
       "      <td>7778</td>\n",
       "      <td>Multiresolution Graph Variational Autoencoder</td>\n",
       "      <td>2021-06-02</td>\n",
       "      <td>False</td>\n",
       "      <td>40</td>\n",
       "      <td>Image Generation</td>\n",
       "      <td>[Computer Vision]</td>\n",
       "      <td>[3D Face Animation]</td>\n",
       "      <td>[Image-to-Image Translation, Image Inpainting,...</td>\n",
       "      <td>[Image Generation]</td>\n",
       "      <td>https://arxiv.org/pdf/2106.00967v1.pdf</td>\n",
       "      <td>https://paperswithcode.com/paper/multiresoluti...</td>\n",
       "      <td>[Graph Generation, Image Generation, Link Pred...</td>\n",
       "      <td>[3D Face Animation]</td>\n",
       "      <td>[Graph Representation Learning, Calibration fo...</td>\n",
       "      <td>[Image Generation, Dialogue Generation, Image ...</td>\n",
       "      <td>[Knowledge Base, Methodology, Graphs, Computer...</td>\n",
       "      <td>2021.0</td>\n",
       "    </tr>\n",
       "  </tbody>\n",
       "</table>\n",
       "<p>2137 rows × 19 columns</p>\n",
       "</div>"
      ],
      "text/plain": [
       "               name  pwc_dataset_id  \\\n",
       "176           MNIST               1   \n",
       "177          CelebA               2   \n",
       "178            SVHN             424   \n",
       "179        CIFAR-10             431   \n",
       "212           MNIST               1   \n",
       "...             ...             ...   \n",
       "219087  SketchyCOCO            7264   \n",
       "219088     Scribble            7265   \n",
       "219293  GazeCapture            7440   \n",
       "219370          RHD            7495   \n",
       "219855      CLUSTER            7778   \n",
       "\n",
       "                                                    title       date  \\\n",
       "176                                      On GANs and GMMs 2018-05-31   \n",
       "177                                      On GANs and GMMs 2018-05-31   \n",
       "178                                      On GANs and GMMs 2018-05-31   \n",
       "179                                      On GANs and GMMs 2018-05-31   \n",
       "212     DVAE++: Discrete Variational Autoencoders with... 2018-02-14   \n",
       "...                                                   ...        ...   \n",
       "219087  SketchyCOCO: Image Generation from Freehand Sc... 2020-03-05   \n",
       "219088  SketchyCOCO: Image Generation from Freehand Sc... 2020-03-05   \n",
       "219293  GazeGAN - Unpaired Adversarial Image Generatio... 2017-11-27   \n",
       "219370  Disentangling Latent Hands for Image Synthesis... 2018-12-03   \n",
       "219855      Multiresolution Graph Variational Autoencoder 2021-06-02   \n",
       "\n",
       "        is_problematic  paper_count              task         categories  \\\n",
       "176              False         4159  Image Generation  [Computer Vision]   \n",
       "177              False         1539  Image Generation  [Computer Vision]   \n",
       "178              False         1606  Image Generation  [Computer Vision]   \n",
       "179              False         6230  Image Generation  [Computer Vision]   \n",
       "212              False         4159  Image Generation  [Computer Vision]   \n",
       "...                ...          ...               ...                ...   \n",
       "219087           False            4  Image Generation  [Computer Vision]   \n",
       "219088           False            3  Image Generation  [Computer Vision]   \n",
       "219293           False           25  Image Generation  [Computer Vision]   \n",
       "219370           False           39  Image Generation  [Computer Vision]   \n",
       "219855           False           40  Image Generation  [Computer Vision]   \n",
       "\n",
       "                    parents  \\\n",
       "176     [3D Face Animation]   \n",
       "177     [3D Face Animation]   \n",
       "178     [3D Face Animation]   \n",
       "179     [3D Face Animation]   \n",
       "212     [3D Face Animation]   \n",
       "...                     ...   \n",
       "219087  [3D Face Animation]   \n",
       "219088  [3D Face Animation]   \n",
       "219293  [3D Face Animation]   \n",
       "219370  [3D Face Animation]   \n",
       "219855  [3D Face Animation]   \n",
       "\n",
       "                                                 children            siblings  \\\n",
       "176     [Image-to-Image Translation, Image Inpainting,...  [Image Generation]   \n",
       "177     [Image-to-Image Translation, Image Inpainting,...  [Image Generation]   \n",
       "178     [Image-to-Image Translation, Image Inpainting,...  [Image Generation]   \n",
       "179     [Image-to-Image Translation, Image Inpainting,...  [Image Generation]   \n",
       "212     [Image-to-Image Translation, Image Inpainting,...  [Image Generation]   \n",
       "...                                                   ...                 ...   \n",
       "219087  [Image-to-Image Translation, Image Inpainting,...  [Image Generation]   \n",
       "219088  [Image-to-Image Translation, Image Inpainting,...  [Image Generation]   \n",
       "219293  [Image-to-Image Translation, Image Inpainting,...  [Image Generation]   \n",
       "219370  [Image-to-Image Translation, Image Inpainting,...  [Image Generation]   \n",
       "219855  [Image-to-Image Translation, Image Inpainting,...  [Image Generation]   \n",
       "\n",
       "                                       pdf_url  \\\n",
       "176      http://arxiv.org/pdf/1805.12462v2.pdf   \n",
       "177      http://arxiv.org/pdf/1805.12462v2.pdf   \n",
       "178      http://arxiv.org/pdf/1805.12462v2.pdf   \n",
       "179      http://arxiv.org/pdf/1805.12462v2.pdf   \n",
       "212      http://arxiv.org/pdf/1802.04920v2.pdf   \n",
       "...                                        ...   \n",
       "219087  https://arxiv.org/pdf/2003.02683v5.pdf   \n",
       "219088  https://arxiv.org/pdf/2003.02683v5.pdf   \n",
       "219293   http://arxiv.org/pdf/1711.09767v1.pdf   \n",
       "219370   http://arxiv.org/pdf/1812.01002v2.pdf   \n",
       "219855  https://arxiv.org/pdf/2106.00967v1.pdf   \n",
       "\n",
       "                                                paper_url  \\\n",
       "176     https://paperswithcode.com/paper/on-gans-and-gmms   \n",
       "177     https://paperswithcode.com/paper/on-gans-and-gmms   \n",
       "178     https://paperswithcode.com/paper/on-gans-and-gmms   \n",
       "179     https://paperswithcode.com/paper/on-gans-and-gmms   \n",
       "212     https://paperswithcode.com/paper/dvae-discrete...   \n",
       "...                                                   ...   \n",
       "219087  https://paperswithcode.com/paper/image-generat...   \n",
       "219088  https://paperswithcode.com/paper/image-generat...   \n",
       "219293  https://paperswithcode.com/paper/gazegan-unpai...   \n",
       "219370  https://paperswithcode.com/paper/disentangling...   \n",
       "219855  https://paperswithcode.com/paper/multiresoluti...   \n",
       "\n",
       "                                                all_tasks  \\\n",
       "176                                    [Image Generation]   \n",
       "177                                    [Image Generation]   \n",
       "178                                    [Image Generation]   \n",
       "179                                    [Image Generation]   \n",
       "212            [Image Generation, Latent Variable Models]   \n",
       "...                                                   ...   \n",
       "219087    [Image Generation, Sketch-to-Image Translation]   \n",
       "219088    [Image Generation, Sketch-to-Image Translation]   \n",
       "219293  [Gaze Estimation, Image Generation, Medical Di...   \n",
       "219370                [Image Generation, Pose Estimation]   \n",
       "219855  [Graph Generation, Image Generation, Link Pred...   \n",
       "\n",
       "                                          all_parents  \\\n",
       "176                               [3D Face Animation]   \n",
       "177                               [3D Face Animation]   \n",
       "178                               [3D Face Animation]   \n",
       "179                               [3D Face Animation]   \n",
       "212                               [3D Face Animation]   \n",
       "...                                               ...   \n",
       "219087                            [3D Face Animation]   \n",
       "219088                            [3D Face Animation]   \n",
       "219293                            [3D Face Animation]   \n",
       "219370  [3D Face Animation, 2D Human Pose Estimation]   \n",
       "219855                            [3D Face Animation]   \n",
       "\n",
       "                                             all_children  \\\n",
       "176     [User Constrained Thumbnail Generation, Image ...   \n",
       "177     [User Constrained Thumbnail Generation, Image ...   \n",
       "178     [User Constrained Thumbnail Generation, Image ...   \n",
       "179     [User Constrained Thumbnail Generation, Image ...   \n",
       "212     [User Constrained Thumbnail Generation, Image ...   \n",
       "...                                                   ...   \n",
       "219087  [User Constrained Thumbnail Generation, Image ...   \n",
       "219088  [User Constrained Thumbnail Generation, Image ...   \n",
       "219293  [Thoracic Disease Classification, Pose Transfe...   \n",
       "219370  [Pose Transfer, Vehicle Pose Estimation, Keypo...   \n",
       "219855  [Graph Representation Learning, Calibration fo...   \n",
       "\n",
       "                                             all_siblings  \\\n",
       "176     [Image Generation, Dialogue Generation, Image ...   \n",
       "177     [Image Generation, Dialogue Generation, Image ...   \n",
       "178     [Image Generation, Dialogue Generation, Image ...   \n",
       "179     [Image Generation, Dialogue Generation, Image ...   \n",
       "212     [Image Generation, Dialogue Generation, Image ...   \n",
       "...                                                   ...   \n",
       "219087  [Image Generation, Dialogue Generation, Image ...   \n",
       "219088  [Image Generation, Dialogue Generation, Image ...   \n",
       "219293  [Image Generation, Dialogue Generation, Image ...   \n",
       "219370  [Pose Estimation, 3D Face Animation, Dialogue ...   \n",
       "219855  [Image Generation, Dialogue Generation, Image ...   \n",
       "\n",
       "                                           all_categories    year  \n",
       "176                                     [Computer Vision]  2018.0  \n",
       "177                                     [Computer Vision]  2018.0  \n",
       "178                                     [Computer Vision]  2018.0  \n",
       "179                                     [Computer Vision]  2018.0  \n",
       "212                        [Methodology, Computer Vision]  2018.0  \n",
       "...                                                   ...     ...  \n",
       "219087                                  [Computer Vision]  2020.0  \n",
       "219088                                  [Computer Vision]  2020.0  \n",
       "219293                         [Medical, Computer Vision]  2017.0  \n",
       "219370                                  [Computer Vision]  2018.0  \n",
       "219855  [Knowledge Base, Methodology, Graphs, Computer...  2021.0  \n",
       "\n",
       "[2137 rows x 19 columns]"
      ]
     },
     "execution_count": 296,
     "metadata": {},
     "output_type": "execute_result"
    }
   ],
   "source": [
    "dataset_citing_papers_pwc[dataset_citing_papers_pwc.task=='Image Generation']"
   ]
  },
  {
   "cell_type": "code",
   "execution_count": 92,
   "id": "c84a9582-5a2d-49f9-a9d6-28896e5317e4",
   "metadata": {},
   "outputs": [
    {
     "name": "stderr",
     "output_type": "stream",
     "text": [
      "<ipython-input-92-0d3c0921d5d1>:10: SettingWithCopyWarning:\n",
      "\n",
      "\n",
      "A value is trying to be set on a copy of a slice from a DataFrame.\n",
      "Try using .loc[row_indexer,col_indexer] = value instead\n",
      "\n",
      "See the caveats in the documentation: https://pandas.pydata.org/pandas-docs/stable/user_guide/indexing.html#returning-a-view-versus-a-copy\n",
      "\n"
     ]
    },
    {
     "name": "stdout",
     "output_type": "stream",
     "text": [
      "2D Object Detection\n",
      "3D Face Reconstruction\n",
      "3D Human Pose Estimation\n",
      "3D Object Detection\n",
      "3D Reconstruction\n",
      "3D Semantic Segmentation\n",
      "Action Classification\n",
      "Action Detection\n",
      "Action Recognition\n",
      "Anomaly Detection\n",
      "Atari Games\n"
     ]
    },
    {
     "ename": "KeyboardInterrupt",
     "evalue": "",
     "output_type": "error",
     "traceback": [
      "\u001b[0;31m---------------------------------------------------------------------------\u001b[0m",
      "\u001b[0;31mKeyboardInterrupt\u001b[0m                         Traceback (most recent call last)",
      "\u001b[0;32m<ipython-input-92-0d3c0921d5d1>\u001b[0m in \u001b[0;36m<module>\u001b[0;34m\u001b[0m\n\u001b[1;32m     37\u001b[0m     \u001b[0mtasks_df\u001b[0m\u001b[0;34m=\u001b[0m\u001b[0mpd\u001b[0m\u001b[0;34m.\u001b[0m\u001b[0mconcat\u001b[0m\u001b[0;34m(\u001b[0m\u001b[0;34m[\u001b[0m \u001b[0mtasks_borrow\u001b[0m\u001b[0;34m,\u001b[0m\u001b[0mtasks_homegrown\u001b[0m\u001b[0;34m]\u001b[0m\u001b[0;34m)\u001b[0m\u001b[0;34m.\u001b[0m\u001b[0mreset_index\u001b[0m\u001b[0;34m(\u001b[0m\u001b[0;34m)\u001b[0m\u001b[0;34m.\u001b[0m\u001b[0msort_values\u001b[0m\u001b[0;34m(\u001b[0m\u001b[0;36m0\u001b[0m\u001b[0;34m,\u001b[0m\u001b[0mascending\u001b[0m\u001b[0;34m=\u001b[0m\u001b[0;32mFalse\u001b[0m\u001b[0;34m)\u001b[0m\u001b[0;34m\u001b[0m\u001b[0;34m\u001b[0m\u001b[0m\n\u001b[1;32m     38\u001b[0m     \u001b[0mtasks_df\u001b[0m\u001b[0;34m=\u001b[0m\u001b[0mtasks_df\u001b[0m\u001b[0;34m.\u001b[0m\u001b[0mrename\u001b[0m\u001b[0;34m(\u001b[0m\u001b[0;34m{\u001b[0m\u001b[0;36m0\u001b[0m\u001b[0;34m:\u001b[0m\u001b[0;34m'count'\u001b[0m\u001b[0;34m,\u001b[0m\u001b[0;34m'index'\u001b[0m\u001b[0;34m:\u001b[0m\u001b[0;34m'task'\u001b[0m\u001b[0;34m}\u001b[0m\u001b[0;34m,\u001b[0m\u001b[0maxis\u001b[0m\u001b[0;34m=\u001b[0m\u001b[0;36m1\u001b[0m\u001b[0;34m)\u001b[0m\u001b[0;34m\u001b[0m\u001b[0;34m\u001b[0m\u001b[0m\n\u001b[0;32m---> 39\u001b[0;31m     \u001b[0mt\u001b[0m\u001b[0;34m=\u001b[0m\u001b[0mtasks_df\u001b[0m\u001b[0;34m.\u001b[0m\u001b[0mplot\u001b[0m\u001b[0;34m.\u001b[0m\u001b[0mbarh\u001b[0m\u001b[0;34m(\u001b[0m\u001b[0mx\u001b[0m\u001b[0;34m=\u001b[0m\u001b[0;34m'task'\u001b[0m\u001b[0;34m,\u001b[0m\u001b[0my\u001b[0m\u001b[0;34m=\u001b[0m\u001b[0;34m'count'\u001b[0m\u001b[0;34m,\u001b[0m\u001b[0mcolor\u001b[0m\u001b[0;34m=\u001b[0m\u001b[0mtasks_df\u001b[0m\u001b[0;34m[\u001b[0m\u001b[0;34m'source'\u001b[0m\u001b[0;34m]\u001b[0m\u001b[0;34m,\u001b[0m\u001b[0mfigsize\u001b[0m\u001b[0;34m=\u001b[0m\u001b[0;34m(\u001b[0m\u001b[0;36m20\u001b[0m\u001b[0;34m,\u001b[0m \u001b[0;36m20\u001b[0m\u001b[0;34m)\u001b[0m\u001b[0;34m)\u001b[0m\u001b[0;34m.\u001b[0m\u001b[0mfigure\u001b[0m\u001b[0;34m.\u001b[0m\u001b[0msavefig\u001b[0m\u001b[0;34m(\u001b[0m\u001b[0moutpath\u001b[0m\u001b[0;34m+\u001b[0m\u001b[0;34m'tasks/'\u001b[0m\u001b[0;34m+\u001b[0m\u001b[0mout_name\u001b[0m\u001b[0;34m+\u001b[0m\u001b[0;34m'.jpg'\u001b[0m\u001b[0;34m)\u001b[0m\u001b[0;34m\u001b[0m\u001b[0;34m\u001b[0m\u001b[0m\n\u001b[0m\u001b[1;32m     40\u001b[0m     \u001b[0mplt\u001b[0m\u001b[0;34m.\u001b[0m\u001b[0mclf\u001b[0m\u001b[0;34m(\u001b[0m\u001b[0;34m)\u001b[0m\u001b[0;34m;\u001b[0m\u001b[0mplt\u001b[0m\u001b[0;34m.\u001b[0m\u001b[0mclose\u001b[0m\u001b[0;34m(\u001b[0m\u001b[0;34m)\u001b[0m\u001b[0;34m\u001b[0m\u001b[0;34m\u001b[0m\u001b[0m\n\u001b[1;32m     41\u001b[0m     \u001b[0;32mif\u001b[0m \u001b[0mp\u001b[0m \u001b[0;32min\u001b[0m \u001b[0mmethods_tasks\u001b[0m\u001b[0;34m:\u001b[0m\u001b[0;34m\u001b[0m\u001b[0;34m\u001b[0m\u001b[0m\n",
      "\u001b[0;32m~/miniconda3/envs/data/lib/python3.8/site-packages/matplotlib/figure.py\u001b[0m in \u001b[0;36msavefig\u001b[0;34m(self, fname, transparent, **kwargs)\u001b[0m\n\u001b[1;32m   2178\u001b[0m             \u001b[0mself\u001b[0m\u001b[0;34m.\u001b[0m\u001b[0mpatch\u001b[0m\u001b[0;34m.\u001b[0m\u001b[0mset_visible\u001b[0m\u001b[0;34m(\u001b[0m\u001b[0mframeon\u001b[0m\u001b[0;34m)\u001b[0m\u001b[0;34m\u001b[0m\u001b[0;34m\u001b[0m\u001b[0m\n\u001b[1;32m   2179\u001b[0m \u001b[0;34m\u001b[0m\u001b[0m\n\u001b[0;32m-> 2180\u001b[0;31m         \u001b[0mself\u001b[0m\u001b[0;34m.\u001b[0m\u001b[0mcanvas\u001b[0m\u001b[0;34m.\u001b[0m\u001b[0mprint_figure\u001b[0m\u001b[0;34m(\u001b[0m\u001b[0mfname\u001b[0m\u001b[0;34m,\u001b[0m \u001b[0;34m**\u001b[0m\u001b[0mkwargs\u001b[0m\u001b[0;34m)\u001b[0m\u001b[0;34m\u001b[0m\u001b[0;34m\u001b[0m\u001b[0m\n\u001b[0m\u001b[1;32m   2181\u001b[0m \u001b[0;34m\u001b[0m\u001b[0m\n\u001b[1;32m   2182\u001b[0m         \u001b[0;32mif\u001b[0m \u001b[0mframeon\u001b[0m\u001b[0;34m:\u001b[0m\u001b[0;34m\u001b[0m\u001b[0;34m\u001b[0m\u001b[0m\n",
      "\u001b[0;32m~/miniconda3/envs/data/lib/python3.8/site-packages/matplotlib/backend_bases.py\u001b[0m in \u001b[0;36mprint_figure\u001b[0;34m(self, filename, dpi, facecolor, edgecolor, orientation, format, bbox_inches, **kwargs)\u001b[0m\n\u001b[1;32m   2082\u001b[0m \u001b[0;34m\u001b[0m\u001b[0m\n\u001b[1;32m   2083\u001b[0m             \u001b[0;32mtry\u001b[0m\u001b[0;34m:\u001b[0m\u001b[0;34m\u001b[0m\u001b[0;34m\u001b[0m\u001b[0m\n\u001b[0;32m-> 2084\u001b[0;31m                 result = print_method(\n\u001b[0m\u001b[1;32m   2085\u001b[0m                     \u001b[0mfilename\u001b[0m\u001b[0;34m,\u001b[0m\u001b[0;34m\u001b[0m\u001b[0;34m\u001b[0m\u001b[0m\n\u001b[1;32m   2086\u001b[0m                     \u001b[0mdpi\u001b[0m\u001b[0;34m=\u001b[0m\u001b[0mdpi\u001b[0m\u001b[0;34m,\u001b[0m\u001b[0;34m\u001b[0m\u001b[0;34m\u001b[0m\u001b[0m\n",
      "\u001b[0;32m~/miniconda3/envs/data/lib/python3.8/site-packages/matplotlib/backends/backend_agg.py\u001b[0m in \u001b[0;36mprint_jpg\u001b[0;34m(self, filename_or_obj, dryrun, pil_kwargs, *args, **kwargs)\u001b[0m\n\u001b[1;32m    594\u001b[0m             \u001b[0mpil_kwargs\u001b[0m\u001b[0;34m.\u001b[0m\u001b[0msetdefault\u001b[0m\u001b[0;34m(\u001b[0m\u001b[0;34m\"quality\"\u001b[0m\u001b[0;34m,\u001b[0m \u001b[0mrcParams\u001b[0m\u001b[0;34m[\u001b[0m\u001b[0;34m\"savefig.jpeg_quality\"\u001b[0m\u001b[0;34m]\u001b[0m\u001b[0;34m)\u001b[0m\u001b[0;34m\u001b[0m\u001b[0;34m\u001b[0m\u001b[0m\n\u001b[1;32m    595\u001b[0m             \u001b[0mpil_kwargs\u001b[0m\u001b[0;34m.\u001b[0m\u001b[0msetdefault\u001b[0m\u001b[0;34m(\u001b[0m\u001b[0;34m\"dpi\"\u001b[0m\u001b[0;34m,\u001b[0m \u001b[0;34m(\u001b[0m\u001b[0mself\u001b[0m\u001b[0;34m.\u001b[0m\u001b[0mfigure\u001b[0m\u001b[0;34m.\u001b[0m\u001b[0mdpi\u001b[0m\u001b[0;34m,\u001b[0m \u001b[0mself\u001b[0m\u001b[0;34m.\u001b[0m\u001b[0mfigure\u001b[0m\u001b[0;34m.\u001b[0m\u001b[0mdpi\u001b[0m\u001b[0;34m)\u001b[0m\u001b[0;34m)\u001b[0m\u001b[0;34m\u001b[0m\u001b[0;34m\u001b[0m\u001b[0m\n\u001b[0;32m--> 596\u001b[0;31m             return background.save(\n\u001b[0m\u001b[1;32m    597\u001b[0m                 filename_or_obj, format='jpeg', **pil_kwargs)\n\u001b[1;32m    598\u001b[0m \u001b[0;34m\u001b[0m\u001b[0m\n",
      "\u001b[0;32m~/miniconda3/envs/data/lib/python3.8/site-packages/PIL/Image.py\u001b[0m in \u001b[0;36msave\u001b[0;34m(self, fp, format, **params)\u001b[0m\n\u001b[1;32m   2237\u001b[0m             \u001b[0;31m# do what we can to clean up\u001b[0m\u001b[0;34m\u001b[0m\u001b[0;34m\u001b[0m\u001b[0;34m\u001b[0m\u001b[0m\n\u001b[1;32m   2238\u001b[0m             \u001b[0;32mif\u001b[0m \u001b[0mopen_fp\u001b[0m\u001b[0;34m:\u001b[0m\u001b[0;34m\u001b[0m\u001b[0;34m\u001b[0m\u001b[0m\n\u001b[0;32m-> 2239\u001b[0;31m                 \u001b[0mfp\u001b[0m\u001b[0;34m.\u001b[0m\u001b[0mclose\u001b[0m\u001b[0;34m(\u001b[0m\u001b[0;34m)\u001b[0m\u001b[0;34m\u001b[0m\u001b[0;34m\u001b[0m\u001b[0m\n\u001b[0m\u001b[1;32m   2240\u001b[0m \u001b[0;34m\u001b[0m\u001b[0m\n\u001b[1;32m   2241\u001b[0m     \u001b[0;32mdef\u001b[0m \u001b[0mseek\u001b[0m\u001b[0;34m(\u001b[0m\u001b[0mself\u001b[0m\u001b[0;34m,\u001b[0m \u001b[0mframe\u001b[0m\u001b[0;34m)\u001b[0m\u001b[0;34m:\u001b[0m\u001b[0;34m\u001b[0m\u001b[0;34m\u001b[0m\u001b[0m\n",
      "\u001b[0;31mKeyboardInterrupt\u001b[0m: "
     ]
    }
   ],
   "source": [
    "#annual_data[['task','date','size','task_age','pwc_size']]\n",
    "import os\n",
    "\n",
    "import matplotlib.pyplot as plt\n",
    "methods_tasks=pd.read_csv(\"MethodTasksfromEmily.txt\",header=None).squeeze().tolist()\n",
    "outpath='/mnt/c/Users/berna/Documents/GoogleDataProject/ImportPlots/'\n",
    "completed=os.listdir('/mnt/c/Users/berna/Documents/GoogleDataProject/ImportPlots/tasks')\n",
    "\n",
    "modality_dict=datasets[['name','modalities']]\n",
    "modality_dict['modes']=modality_dict['modalities'].apply(lambda x: x if x!= [] else ['Unknown'])\n",
    "modality_dict=modality_dict.drop('modalities',axis=1).set_index('name').squeeze()\n",
    "\n",
    "for p in median_parent_tasks:\n",
    "    print(p)\n",
    "    out_name=p.replace('/','_').replace(' ','_')\n",
    "    '''\n",
    "    if out_name+'.jpg' in completed:\n",
    "        print(\"COMPLETED\")\n",
    "        continue\n",
    "    '''\n",
    "    datasets_borrow=source_dest_edgelist_parents[source_dest_edgelist_parents.dest_task==p].drop_duplicates(['name','title']).groupby('name').size().sort_values().to_frame()\n",
    "    datasets_borrow['source']='blue'\n",
    "    datasets_homegrown=homegrown_edgelist_parents[homegrown_edgelist_parents.task==p].drop_duplicates(['name','title']).groupby('name').size().sort_values().to_frame()\n",
    "    datasets_homegrown['source']='orange'\n",
    "    dataset_df=pd.concat([ datasets_borrow,datasets_homegrown]).reset_index().sort_values(0,ascending=False)\n",
    "    if len(dataset_df)==0:continue\n",
    "    dataset_df=dataset_df.rename({0:'count'},axis=1)\n",
    "    d=dataset_df.plot.barh(x='name',y='count',color=dataset_df['source'],figsize=(20, 20)).figure.savefig(outpath+'datasets/'+out_name+'.jpg')\n",
    "    plt.clf();plt.close()\n",
    "    if p in methods_tasks:\n",
    "            d=dataset_df.plot.barh(x='name',y='count',color=dataset_df['source'],figsize=(20, 20)).figure.savefig(outpath+'methods_datasets/'+out_name+'.jpg')\n",
    "            plt.clf();plt.close()\n",
    "    tasks_borrow=source_dest_edgelist_parents[source_dest_edgelist_parents.dest_task==p].drop_duplicates(['name','title']).groupby('source_task').size().sort_values().to_frame()\n",
    "    tasks_borrow['source']='blue'\n",
    "    tasks_homegrown=homegrown_edgelist_parents[homegrown_edgelist_parents.task==p].drop_duplicates(['name','title']).groupby('task').size().sort_values().to_frame()\n",
    "    tasks_homegrown['source']='orange'\n",
    "    tasks_df=pd.concat([ tasks_borrow,tasks_homegrown]).reset_index().sort_values(0,ascending=False)\n",
    "    tasks_df=tasks_df.rename({0:'count','index':'task'},axis=1)\n",
    "    t=tasks_df.plot.barh(x='task',y='count',color=tasks_df['source'],figsize=(20, 20)).figure.savefig(outpath+'tasks/'+out_name+'.jpg')\n",
    "    plt.clf();plt.close()\n",
    "    if p in methods_tasks:\n",
    "            t=tasks_df.plot.barh(x='task',y='count',color=tasks_df['source'],figsize=(20, 20)).figure.savefig(outpath+'methods_tasks/'+out_name+'.jpg')\n",
    "            plt.clf();plt.close()\n",
    "    if p not in methods_tasks: continue\n",
    "    modalities=[]\n",
    "    for i,row in dataset_df.iterrows(): modalities+=modality_dict[row['name']]*row['count']\n",
    "    modalities=pd.Series(modalities).value_counts().sort_values(ascending=False)\n",
    "    m=modalities.plot.barh(figsize=(20, 20)).figure.savefig(outpath+'methods_modalities/'+out_name+'.jpg')\n",
    "    plt.clf();plt.close()"
   ]
  },
  {
   "cell_type": "code",
   "execution_count": 145,
   "id": "f566a1be-a772-4396-b21c-74815c178124",
   "metadata": {},
   "outputs": [
    {
     "data": {
      "text/plain": [
       "45.0"
      ]
     },
     "execution_count": 145,
     "metadata": {},
     "output_type": "execute_result"
    }
   ],
   "source": [
    "dataset_usage_hist.quantile(.5)"
   ]
  },
  {
   "cell_type": "code",
   "execution_count": 53,
   "id": "eeea9a56-4e3d-4f09-9a9f-f90991ded088",
   "metadata": {},
   "outputs": [
    {
     "data": {
      "text/html": [
       "<div>\n",
       "<style scoped>\n",
       "    .dataframe tbody tr th:only-of-type {\n",
       "        vertical-align: middle;\n",
       "    }\n",
       "\n",
       "    .dataframe tbody tr th {\n",
       "        vertical-align: top;\n",
       "    }\n",
       "\n",
       "    .dataframe thead th {\n",
       "        text-align: right;\n",
       "    }\n",
       "</style>\n",
       "<table border=\"1\" class=\"dataframe\">\n",
       "  <thead>\n",
       "    <tr style=\"text-align: right;\">\n",
       "      <th></th>\n",
       "      <th>source_task</th>\n",
       "      <th>dest_task</th>\n",
       "      <th>name</th>\n",
       "      <th>title</th>\n",
       "      <th>date</th>\n",
       "      <th>Images</th>\n",
       "      <th>Texts</th>\n",
       "      <th>Parent_Transfer</th>\n",
       "    </tr>\n",
       "  </thead>\n",
       "  <tbody>\n",
       "  </tbody>\n",
       "</table>\n",
       "</div>"
      ],
      "text/plain": [
       "Empty DataFrame\n",
       "Columns: [source_task, dest_task, name, title, date, Images, Texts, Parent_Transfer]\n",
       "Index: []"
      ]
     },
     "execution_count": 53,
     "metadata": {},
     "output_type": "execute_result"
    }
   ],
   "source": [
    "source_dest_edgelist_parents[source_dest_edgelist_parents.dest_task==p].drop_duplicates(['name','title']).groupby('name').size().sort_values().to_frame()\n",
    "source_dest_edgelist_parents[source_dest_edgelist_parents.source_task=='Adversarial Attack']"
   ]
  },
  {
   "cell_type": "code",
   "execution_count": 72,
   "id": "b5da71d4-eb23-4d08-8157-05a8c9d1bb36",
   "metadata": {},
   "outputs": [
    {
     "data": {
      "text/html": [
       "<div>\n",
       "<style scoped>\n",
       "    .dataframe tbody tr th:only-of-type {\n",
       "        vertical-align: middle;\n",
       "    }\n",
       "\n",
       "    .dataframe tbody tr th {\n",
       "        vertical-align: top;\n",
       "    }\n",
       "\n",
       "    .dataframe thead th {\n",
       "        text-align: right;\n",
       "    }\n",
       "</style>\n",
       "<table border=\"1\" class=\"dataframe\">\n",
       "  <thead>\n",
       "    <tr style=\"text-align: right;\">\n",
       "      <th></th>\n",
       "      <th>Unnamed: 0</th>\n",
       "      <th>task</th>\n",
       "      <th>name</th>\n",
       "      <th>title</th>\n",
       "      <th>date</th>\n",
       "      <th>Images</th>\n",
       "      <th>Texts</th>\n",
       "      <th>Parent</th>\n",
       "      <th>introduced_date</th>\n",
       "    </tr>\n",
       "  </thead>\n",
       "  <tbody>\n",
       "    <tr>\n",
       "      <th>0</th>\n",
       "      <td>0</td>\n",
       "      <td>Image Classification</td>\n",
       "      <td>MNIST</td>\n",
       "      <td>Image classification and retrieval with random...</td>\n",
       "      <td>2018-06-15</td>\n",
       "      <td>True</td>\n",
       "      <td>False</td>\n",
       "      <td>False</td>\n",
       "      <td>NaN</td>\n",
       "    </tr>\n",
       "    <tr>\n",
       "      <th>1</th>\n",
       "      <td>1</td>\n",
       "      <td>Optical Character Recognition</td>\n",
       "      <td>MNIST</td>\n",
       "      <td>Image classification and retrieval with random...</td>\n",
       "      <td>2018-06-15</td>\n",
       "      <td>True</td>\n",
       "      <td>False</td>\n",
       "      <td>True</td>\n",
       "      <td>NaN</td>\n",
       "    </tr>\n",
       "    <tr>\n",
       "      <th>2</th>\n",
       "      <td>4</td>\n",
       "      <td>Image Classification</td>\n",
       "      <td>MNIST</td>\n",
       "      <td>ASP:A Fast Adversarial Attack Example Generati...</td>\n",
       "      <td>2018-02-15</td>\n",
       "      <td>True</td>\n",
       "      <td>False</td>\n",
       "      <td>False</td>\n",
       "      <td>NaN</td>\n",
       "    </tr>\n",
       "    <tr>\n",
       "      <th>3</th>\n",
       "      <td>5</td>\n",
       "      <td>Optical Character Recognition</td>\n",
       "      <td>MNIST</td>\n",
       "      <td>ASP:A Fast Adversarial Attack Example Generati...</td>\n",
       "      <td>2018-02-15</td>\n",
       "      <td>True</td>\n",
       "      <td>False</td>\n",
       "      <td>True</td>\n",
       "      <td>NaN</td>\n",
       "    </tr>\n",
       "    <tr>\n",
       "      <th>4</th>\n",
       "      <td>10</td>\n",
       "      <td>Image Classification</td>\n",
       "      <td>MNIST</td>\n",
       "      <td>Dual Pattern Learning Networks by Empirical Du...</td>\n",
       "      <td>2018-06-11</td>\n",
       "      <td>True</td>\n",
       "      <td>False</td>\n",
       "      <td>False</td>\n",
       "      <td>NaN</td>\n",
       "    </tr>\n",
       "    <tr>\n",
       "      <th>...</th>\n",
       "      <td>...</td>\n",
       "      <td>...</td>\n",
       "      <td>...</td>\n",
       "      <td>...</td>\n",
       "      <td>...</td>\n",
       "      <td>...</td>\n",
       "      <td>...</td>\n",
       "      <td>...</td>\n",
       "      <td>...</td>\n",
       "    </tr>\n",
       "    <tr>\n",
       "      <th>26319</th>\n",
       "      <td>259614</td>\n",
       "      <td>Image Retrieval</td>\n",
       "      <td>Google Landmarks</td>\n",
       "      <td>Two-stage Discriminative Re-ranking for Large-...</td>\n",
       "      <td>2020-03-25</td>\n",
       "      <td>True</td>\n",
       "      <td>False</td>\n",
       "      <td>False</td>\n",
       "      <td>2016-12-19</td>\n",
       "    </tr>\n",
       "    <tr>\n",
       "      <th>26320</th>\n",
       "      <td>259615</td>\n",
       "      <td>Music Generation</td>\n",
       "      <td>Lakh Pianoroll Dataset</td>\n",
       "      <td>A Comprehensive Survey on Deep Music Generatio...</td>\n",
       "      <td>2020-11-13</td>\n",
       "      <td>False</td>\n",
       "      <td>False</td>\n",
       "      <td>False</td>\n",
       "      <td>2017-09-19</td>\n",
       "    </tr>\n",
       "    <tr>\n",
       "      <th>26321</th>\n",
       "      <td>259617</td>\n",
       "      <td>Music Generation</td>\n",
       "      <td>Lakh Pianoroll Dataset</td>\n",
       "      <td>Convolutional Generative Adversarial Networks ...</td>\n",
       "      <td>2018-04-25</td>\n",
       "      <td>False</td>\n",
       "      <td>False</td>\n",
       "      <td>False</td>\n",
       "      <td>2017-09-19</td>\n",
       "    </tr>\n",
       "    <tr>\n",
       "      <th>26322</th>\n",
       "      <td>259618</td>\n",
       "      <td>Music Generation</td>\n",
       "      <td>Lakh Pianoroll Dataset</td>\n",
       "      <td>Lead Sheet Generation and Arrangement by Condi...</td>\n",
       "      <td>2018-07-30</td>\n",
       "      <td>False</td>\n",
       "      <td>False</td>\n",
       "      <td>False</td>\n",
       "      <td>2017-09-19</td>\n",
       "    </tr>\n",
       "    <tr>\n",
       "      <th>26323</th>\n",
       "      <td>259619</td>\n",
       "      <td>Music Generation</td>\n",
       "      <td>Lakh Pianoroll Dataset</td>\n",
       "      <td>MIDI-Sandwich2: RNN-based Hierarchical Multi-m...</td>\n",
       "      <td>2019-09-08</td>\n",
       "      <td>False</td>\n",
       "      <td>False</td>\n",
       "      <td>False</td>\n",
       "      <td>2017-09-19</td>\n",
       "    </tr>\n",
       "  </tbody>\n",
       "</table>\n",
       "<p>26324 rows × 9 columns</p>\n",
       "</div>"
      ],
      "text/plain": [
       "       Unnamed: 0                           task                    name  \\\n",
       "0               0           Image Classification                   MNIST   \n",
       "1               1  Optical Character Recognition                   MNIST   \n",
       "2               4           Image Classification                   MNIST   \n",
       "3               5  Optical Character Recognition                   MNIST   \n",
       "4              10           Image Classification                   MNIST   \n",
       "...           ...                            ...                     ...   \n",
       "26319      259614                Image Retrieval        Google Landmarks   \n",
       "26320      259615               Music Generation  Lakh Pianoroll Dataset   \n",
       "26321      259617               Music Generation  Lakh Pianoroll Dataset   \n",
       "26322      259618               Music Generation  Lakh Pianoroll Dataset   \n",
       "26323      259619               Music Generation  Lakh Pianoroll Dataset   \n",
       "\n",
       "                                                   title        date  Images  \\\n",
       "0      Image classification and retrieval with random...  2018-06-15    True   \n",
       "1      Image classification and retrieval with random...  2018-06-15    True   \n",
       "2      ASP:A Fast Adversarial Attack Example Generati...  2018-02-15    True   \n",
       "3      ASP:A Fast Adversarial Attack Example Generati...  2018-02-15    True   \n",
       "4      Dual Pattern Learning Networks by Empirical Du...  2018-06-11    True   \n",
       "...                                                  ...         ...     ...   \n",
       "26319  Two-stage Discriminative Re-ranking for Large-...  2020-03-25    True   \n",
       "26320  A Comprehensive Survey on Deep Music Generatio...  2020-11-13   False   \n",
       "26321  Convolutional Generative Adversarial Networks ...  2018-04-25   False   \n",
       "26322  Lead Sheet Generation and Arrangement by Condi...  2018-07-30   False   \n",
       "26323  MIDI-Sandwich2: RNN-based Hierarchical Multi-m...  2019-09-08   False   \n",
       "\n",
       "       Texts  Parent introduced_date  \n",
       "0      False   False             NaN  \n",
       "1      False    True             NaN  \n",
       "2      False   False             NaN  \n",
       "3      False    True             NaN  \n",
       "4      False   False             NaN  \n",
       "...      ...     ...             ...  \n",
       "26319  False   False      2016-12-19  \n",
       "26320  False   False      2017-09-19  \n",
       "26321  False   False      2017-09-19  \n",
       "26322  False   False      2017-09-19  \n",
       "26323  False   False      2017-09-19  \n",
       "\n",
       "[26324 rows x 9 columns]"
      ]
     },
     "execution_count": 72,
     "metadata": {},
     "output_type": "execute_result"
    }
   ],
   "source": [
    "source_dest_edgelist"
   ]
  },
  {
   "cell_type": "code",
   "execution_count": 30,
   "id": "a7672056-9e91-4f09-a888-26cc3b8decd6",
   "metadata": {},
   "outputs": [],
   "source": [
    "p='Image Generation'\n",
    "datasets_borrow=source_dest_edgelist[source_dest_edgelist.dest_task==p].drop_duplicates(['name','title']).groupby('name').size().sort_values().to_frame()\n",
    "datasets_borrow['source']='blue'\n",
    "datasets_homegrown=homegrown_edgelist[homegrown_edgelist.task==p].drop_duplicates(['name','title']).groupby('name').size().sort_values().to_frame()\n",
    "datasets_homegrown['source']='orange'\n",
    "dataset_df=pd.concat([ datasets_borrow,datasets_homegrown]).reset_index().sort_values(0,ascending=False)\n",
    "dataset_df=dataset_df.rename({0:'count'},axis=1)\n",
    "\n",
    "tasks_borrow=source_dest_edgelist[source_dest_edgelist.dest_task==p].drop_duplicates(['name','title']).groupby('source_task').size().sort_values().to_frame()\n",
    "tasks_borrow['source']='blue'\n",
    "tasks_homegrown=homegrown_edgelist[homegrown_edgelist.task==p].drop_duplicates(['name','title']).groupby('task').size().sort_values().to_frame()\n",
    "tasks_homegrown['source']='orange'\n",
    "tasks_df=pd.concat([ tasks_borrow,tasks_homegrown]).reset_index().sort_values(0,ascending=False)\n",
    "tasks_df=tasks_df.rename({0:'count','index':'task'},axis=1)\n",
    "\n",
    "dataset_df['cumulative']=dataset_df.sort_values('count',ascending=False)['count'].cumsum()/dataset_df.sort_values('count',ascending=False)['count'].sum()\n",
    "#tasks_df.set_index('task').plot.pie(y='count')\n",
    "other_count=dataset_df[dataset_df['cumulative']>.90]['count'].sum()\n",
    "dataset_df=dataset_df[dataset_df['cumulative']<.90]\n",
    "dataset_df=dataset_df.append({'name':'Other','count':other_count,'cumulative':1,'source':'gray'},ignore_index=True)\n",
    "\n",
    "tasks_df['cumulative']=tasks_df.sort_values('count',ascending=False)['count'].cumsum()/tasks_df.sort_values('count',ascending=False)['count'].sum()\n",
    "#tasks_df.set_index('task').plot.pie(y='count')\n",
    "other_count=tasks_df[tasks_df['cumulative']>.90]['count'].sum()\n",
    "tasks_df=tasks_df[tasks_df['cumulative']<.90]\n",
    "tasks_df=tasks_df.append({'task':'Other','count':other_count,'cumulative':1,'source':'gray'},ignore_index=True)"
   ]
  },
  {
   "cell_type": "code",
   "execution_count": 41,
   "id": "5ec8ed91-8489-45be-8103-060a71630d4e",
   "metadata": {},
   "outputs": [
    {
     "data": {
      "application/vnd.plotly.v1+json": {
       "config": {
        "plotlyServerURL": "https://plot.ly"
       },
       "data": [
        {
         "labels": [
          "Face Detection",
          "Scene Understanding",
          "Object Recognition",
          "Scene Parsing",
          "Image Generation",
          "Handwriting Recognition",
          "Image Classification",
          "Other"
         ],
         "marker": {
          "colors": [
           "rgb(228,26,28)",
           "rgb(55,126,184)",
           "rgb(77,175,74)",
           "rgb(152,78,163)",
           "rgb(255,127,0)",
           "rgb(255,255,51)",
           "rgb(166,86,40)",
           "rgb(247,129,191)",
           "rgb(153,153,153)"
          ],
          "line": {
           "color": "#000000",
           "width": 1
          }
         },
         "pull": [
          0,
          0,
          0,
          0,
          0.2,
          0,
          0
         ],
         "textfont": {
          "color": "black"
         },
         "type": "pie",
         "values": [
          189,
          167,
          161,
          88,
          88,
          73,
          67,
          94
         ]
        }
       ],
       "layout": {
        "autosize": true,
        "font": {
         "color": "black",
         "family": "Arial"
        },
        "template": {
         "data": {
          "bar": [
           {
            "error_x": {
             "color": "#2a3f5f"
            },
            "error_y": {
             "color": "#2a3f5f"
            },
            "marker": {
             "line": {
              "color": "#E5ECF6",
              "width": 0.5
             },
             "pattern": {
              "fillmode": "overlay",
              "size": 10,
              "solidity": 0.2
             }
            },
            "type": "bar"
           }
          ],
          "barpolar": [
           {
            "marker": {
             "line": {
              "color": "#E5ECF6",
              "width": 0.5
             },
             "pattern": {
              "fillmode": "overlay",
              "size": 10,
              "solidity": 0.2
             }
            },
            "type": "barpolar"
           }
          ],
          "carpet": [
           {
            "aaxis": {
             "endlinecolor": "#2a3f5f",
             "gridcolor": "white",
             "linecolor": "white",
             "minorgridcolor": "white",
             "startlinecolor": "#2a3f5f"
            },
            "baxis": {
             "endlinecolor": "#2a3f5f",
             "gridcolor": "white",
             "linecolor": "white",
             "minorgridcolor": "white",
             "startlinecolor": "#2a3f5f"
            },
            "type": "carpet"
           }
          ],
          "choropleth": [
           {
            "colorbar": {
             "outlinewidth": 0,
             "ticks": ""
            },
            "type": "choropleth"
           }
          ],
          "contour": [
           {
            "colorbar": {
             "outlinewidth": 0,
             "ticks": ""
            },
            "colorscale": [
             [
              0,
              "#0d0887"
             ],
             [
              0.1111111111111111,
              "#46039f"
             ],
             [
              0.2222222222222222,
              "#7201a8"
             ],
             [
              0.3333333333333333,
              "#9c179e"
             ],
             [
              0.4444444444444444,
              "#bd3786"
             ],
             [
              0.5555555555555556,
              "#d8576b"
             ],
             [
              0.6666666666666666,
              "#ed7953"
             ],
             [
              0.7777777777777778,
              "#fb9f3a"
             ],
             [
              0.8888888888888888,
              "#fdca26"
             ],
             [
              1,
              "#f0f921"
             ]
            ],
            "type": "contour"
           }
          ],
          "contourcarpet": [
           {
            "colorbar": {
             "outlinewidth": 0,
             "ticks": ""
            },
            "type": "contourcarpet"
           }
          ],
          "heatmap": [
           {
            "colorbar": {
             "outlinewidth": 0,
             "ticks": ""
            },
            "colorscale": [
             [
              0,
              "#0d0887"
             ],
             [
              0.1111111111111111,
              "#46039f"
             ],
             [
              0.2222222222222222,
              "#7201a8"
             ],
             [
              0.3333333333333333,
              "#9c179e"
             ],
             [
              0.4444444444444444,
              "#bd3786"
             ],
             [
              0.5555555555555556,
              "#d8576b"
             ],
             [
              0.6666666666666666,
              "#ed7953"
             ],
             [
              0.7777777777777778,
              "#fb9f3a"
             ],
             [
              0.8888888888888888,
              "#fdca26"
             ],
             [
              1,
              "#f0f921"
             ]
            ],
            "type": "heatmap"
           }
          ],
          "heatmapgl": [
           {
            "colorbar": {
             "outlinewidth": 0,
             "ticks": ""
            },
            "colorscale": [
             [
              0,
              "#0d0887"
             ],
             [
              0.1111111111111111,
              "#46039f"
             ],
             [
              0.2222222222222222,
              "#7201a8"
             ],
             [
              0.3333333333333333,
              "#9c179e"
             ],
             [
              0.4444444444444444,
              "#bd3786"
             ],
             [
              0.5555555555555556,
              "#d8576b"
             ],
             [
              0.6666666666666666,
              "#ed7953"
             ],
             [
              0.7777777777777778,
              "#fb9f3a"
             ],
             [
              0.8888888888888888,
              "#fdca26"
             ],
             [
              1,
              "#f0f921"
             ]
            ],
            "type": "heatmapgl"
           }
          ],
          "histogram": [
           {
            "marker": {
             "pattern": {
              "fillmode": "overlay",
              "size": 10,
              "solidity": 0.2
             }
            },
            "type": "histogram"
           }
          ],
          "histogram2d": [
           {
            "colorbar": {
             "outlinewidth": 0,
             "ticks": ""
            },
            "colorscale": [
             [
              0,
              "#0d0887"
             ],
             [
              0.1111111111111111,
              "#46039f"
             ],
             [
              0.2222222222222222,
              "#7201a8"
             ],
             [
              0.3333333333333333,
              "#9c179e"
             ],
             [
              0.4444444444444444,
              "#bd3786"
             ],
             [
              0.5555555555555556,
              "#d8576b"
             ],
             [
              0.6666666666666666,
              "#ed7953"
             ],
             [
              0.7777777777777778,
              "#fb9f3a"
             ],
             [
              0.8888888888888888,
              "#fdca26"
             ],
             [
              1,
              "#f0f921"
             ]
            ],
            "type": "histogram2d"
           }
          ],
          "histogram2dcontour": [
           {
            "colorbar": {
             "outlinewidth": 0,
             "ticks": ""
            },
            "colorscale": [
             [
              0,
              "#0d0887"
             ],
             [
              0.1111111111111111,
              "#46039f"
             ],
             [
              0.2222222222222222,
              "#7201a8"
             ],
             [
              0.3333333333333333,
              "#9c179e"
             ],
             [
              0.4444444444444444,
              "#bd3786"
             ],
             [
              0.5555555555555556,
              "#d8576b"
             ],
             [
              0.6666666666666666,
              "#ed7953"
             ],
             [
              0.7777777777777778,
              "#fb9f3a"
             ],
             [
              0.8888888888888888,
              "#fdca26"
             ],
             [
              1,
              "#f0f921"
             ]
            ],
            "type": "histogram2dcontour"
           }
          ],
          "mesh3d": [
           {
            "colorbar": {
             "outlinewidth": 0,
             "ticks": ""
            },
            "type": "mesh3d"
           }
          ],
          "parcoords": [
           {
            "line": {
             "colorbar": {
              "outlinewidth": 0,
              "ticks": ""
             }
            },
            "type": "parcoords"
           }
          ],
          "pie": [
           {
            "automargin": true,
            "type": "pie"
           }
          ],
          "scatter": [
           {
            "marker": {
             "colorbar": {
              "outlinewidth": 0,
              "ticks": ""
             }
            },
            "type": "scatter"
           }
          ],
          "scatter3d": [
           {
            "line": {
             "colorbar": {
              "outlinewidth": 0,
              "ticks": ""
             }
            },
            "marker": {
             "colorbar": {
              "outlinewidth": 0,
              "ticks": ""
             }
            },
            "type": "scatter3d"
           }
          ],
          "scattercarpet": [
           {
            "marker": {
             "colorbar": {
              "outlinewidth": 0,
              "ticks": ""
             }
            },
            "type": "scattercarpet"
           }
          ],
          "scattergeo": [
           {
            "marker": {
             "colorbar": {
              "outlinewidth": 0,
              "ticks": ""
             }
            },
            "type": "scattergeo"
           }
          ],
          "scattergl": [
           {
            "marker": {
             "colorbar": {
              "outlinewidth": 0,
              "ticks": ""
             }
            },
            "type": "scattergl"
           }
          ],
          "scattermapbox": [
           {
            "marker": {
             "colorbar": {
              "outlinewidth": 0,
              "ticks": ""
             }
            },
            "type": "scattermapbox"
           }
          ],
          "scatterpolar": [
           {
            "marker": {
             "colorbar": {
              "outlinewidth": 0,
              "ticks": ""
             }
            },
            "type": "scatterpolar"
           }
          ],
          "scatterpolargl": [
           {
            "marker": {
             "colorbar": {
              "outlinewidth": 0,
              "ticks": ""
             }
            },
            "type": "scatterpolargl"
           }
          ],
          "scatterternary": [
           {
            "marker": {
             "colorbar": {
              "outlinewidth": 0,
              "ticks": ""
             }
            },
            "type": "scatterternary"
           }
          ],
          "surface": [
           {
            "colorbar": {
             "outlinewidth": 0,
             "ticks": ""
            },
            "colorscale": [
             [
              0,
              "#0d0887"
             ],
             [
              0.1111111111111111,
              "#46039f"
             ],
             [
              0.2222222222222222,
              "#7201a8"
             ],
             [
              0.3333333333333333,
              "#9c179e"
             ],
             [
              0.4444444444444444,
              "#bd3786"
             ],
             [
              0.5555555555555556,
              "#d8576b"
             ],
             [
              0.6666666666666666,
              "#ed7953"
             ],
             [
              0.7777777777777778,
              "#fb9f3a"
             ],
             [
              0.8888888888888888,
              "#fdca26"
             ],
             [
              1,
              "#f0f921"
             ]
            ],
            "type": "surface"
           }
          ],
          "table": [
           {
            "cells": {
             "fill": {
              "color": "#EBF0F8"
             },
             "line": {
              "color": "white"
             }
            },
            "header": {
             "fill": {
              "color": "#C8D4E3"
             },
             "line": {
              "color": "white"
             }
            },
            "type": "table"
           }
          ]
         },
         "layout": {
          "annotationdefaults": {
           "arrowcolor": "#2a3f5f",
           "arrowhead": 0,
           "arrowwidth": 1
          },
          "autotypenumbers": "strict",
          "coloraxis": {
           "colorbar": {
            "outlinewidth": 0,
            "ticks": ""
           }
          },
          "colorscale": {
           "diverging": [
            [
             0,
             "#8e0152"
            ],
            [
             0.1,
             "#c51b7d"
            ],
            [
             0.2,
             "#de77ae"
            ],
            [
             0.3,
             "#f1b6da"
            ],
            [
             0.4,
             "#fde0ef"
            ],
            [
             0.5,
             "#f7f7f7"
            ],
            [
             0.6,
             "#e6f5d0"
            ],
            [
             0.7,
             "#b8e186"
            ],
            [
             0.8,
             "#7fbc41"
            ],
            [
             0.9,
             "#4d9221"
            ],
            [
             1,
             "#276419"
            ]
           ],
           "sequential": [
            [
             0,
             "#0d0887"
            ],
            [
             0.1111111111111111,
             "#46039f"
            ],
            [
             0.2222222222222222,
             "#7201a8"
            ],
            [
             0.3333333333333333,
             "#9c179e"
            ],
            [
             0.4444444444444444,
             "#bd3786"
            ],
            [
             0.5555555555555556,
             "#d8576b"
            ],
            [
             0.6666666666666666,
             "#ed7953"
            ],
            [
             0.7777777777777778,
             "#fb9f3a"
            ],
            [
             0.8888888888888888,
             "#fdca26"
            ],
            [
             1,
             "#f0f921"
            ]
           ],
           "sequentialminus": [
            [
             0,
             "#0d0887"
            ],
            [
             0.1111111111111111,
             "#46039f"
            ],
            [
             0.2222222222222222,
             "#7201a8"
            ],
            [
             0.3333333333333333,
             "#9c179e"
            ],
            [
             0.4444444444444444,
             "#bd3786"
            ],
            [
             0.5555555555555556,
             "#d8576b"
            ],
            [
             0.6666666666666666,
             "#ed7953"
            ],
            [
             0.7777777777777778,
             "#fb9f3a"
            ],
            [
             0.8888888888888888,
             "#fdca26"
            ],
            [
             1,
             "#f0f921"
            ]
           ]
          },
          "colorway": [
           "#636efa",
           "#EF553B",
           "#00cc96",
           "#ab63fa",
           "#FFA15A",
           "#19d3f3",
           "#FF6692",
           "#B6E880",
           "#FF97FF",
           "#FECB52"
          ],
          "font": {
           "color": "#2a3f5f"
          },
          "geo": {
           "bgcolor": "white",
           "lakecolor": "white",
           "landcolor": "#E5ECF6",
           "showlakes": true,
           "showland": true,
           "subunitcolor": "white"
          },
          "hoverlabel": {
           "align": "left"
          },
          "hovermode": "closest",
          "mapbox": {
           "style": "light"
          },
          "paper_bgcolor": "white",
          "plot_bgcolor": "#E5ECF6",
          "polar": {
           "angularaxis": {
            "gridcolor": "white",
            "linecolor": "white",
            "ticks": ""
           },
           "bgcolor": "#E5ECF6",
           "radialaxis": {
            "gridcolor": "white",
            "linecolor": "white",
            "ticks": ""
           }
          },
          "scene": {
           "xaxis": {
            "backgroundcolor": "#E5ECF6",
            "gridcolor": "white",
            "gridwidth": 2,
            "linecolor": "white",
            "showbackground": true,
            "ticks": "",
            "zerolinecolor": "white"
           },
           "yaxis": {
            "backgroundcolor": "#E5ECF6",
            "gridcolor": "white",
            "gridwidth": 2,
            "linecolor": "white",
            "showbackground": true,
            "ticks": "",
            "zerolinecolor": "white"
           },
           "zaxis": {
            "backgroundcolor": "#E5ECF6",
            "gridcolor": "white",
            "gridwidth": 2,
            "linecolor": "white",
            "showbackground": true,
            "ticks": "",
            "zerolinecolor": "white"
           }
          },
          "shapedefaults": {
           "line": {
            "color": "#2a3f5f"
           }
          },
          "ternary": {
           "aaxis": {
            "gridcolor": "white",
            "linecolor": "white",
            "ticks": ""
           },
           "baxis": {
            "gridcolor": "white",
            "linecolor": "white",
            "ticks": ""
           },
           "bgcolor": "#E5ECF6",
           "caxis": {
            "gridcolor": "white",
            "linecolor": "white",
            "ticks": ""
           }
          },
          "title": {
           "x": 0.05
          },
          "xaxis": {
           "automargin": true,
           "gridcolor": "white",
           "linecolor": "white",
           "ticks": "",
           "title": {
            "standoff": 15
           },
           "zerolinecolor": "white",
           "zerolinewidth": 2
          },
          "yaxis": {
           "automargin": true,
           "gridcolor": "white",
           "linecolor": "white",
           "ticks": "",
           "title": {
            "standoff": 15
           },
           "zerolinecolor": "white",
           "zerolinewidth": 2
          }
         }
        },
        "title": {
         "font": {
          "family": "Arial"
         }
        }
       }
      },
      "image/png": "[encoded data removed]",
      "text/html": [
       "<div>                            <div id=\"40504b0f-4731-448b-b99a-e4cb3d8b7e4f\" class=\"plotly-graph-div\" style=\"height:525px; width:100%;\"></div>            <script type=\"text/javascript\">                require([\"plotly\"], function(Plotly) {                    window.PLOTLYENV=window.PLOTLYENV || {};                                    if (document.getElementById(\"40504b0f-4731-448b-b99a-e4cb3d8b7e4f\")) {                    Plotly.newPlot(                        \"40504b0f-4731-448b-b99a-e4cb3d8b7e4f\",                        [{\"labels\":[\"Face Detection\",\"Scene Understanding\",\"Object Recognition\",\"Scene Parsing\",\"Image Generation\",\"Handwriting Recognition\",\"Image Classification\",\"Other\"],\"marker\":{\"colors\":[\"rgb(228,26,28)\",\"rgb(55,126,184)\",\"rgb(77,175,74)\",\"rgb(152,78,163)\",\"rgb(255,127,0)\",\"rgb(255,255,51)\",\"rgb(166,86,40)\",\"rgb(247,129,191)\",\"rgb(153,153,153)\"],\"line\":{\"color\":\"#000000\",\"width\":1}},\"pull\":[0,0,0,0.0,0.2,0,0],\"textfont\":{\"color\":\"black\"},\"type\":\"pie\",\"values\":[189,167,161,88,88,73,67,94]}],                        {\"font\":{\"color\":\"black\",\"family\":\"Arial\"},\"template\":{\"data\":{\"bar\":[{\"error_x\":{\"color\":\"#2a3f5f\"},\"error_y\":{\"color\":\"#2a3f5f\"},\"marker\":{\"line\":{\"color\":\"#E5ECF6\",\"width\":0.5},\"pattern\":{\"fillmode\":\"overlay\",\"size\":10,\"solidity\":0.2}},\"type\":\"bar\"}],\"barpolar\":[{\"marker\":{\"line\":{\"color\":\"#E5ECF6\",\"width\":0.5},\"pattern\":{\"fillmode\":\"overlay\",\"size\":10,\"solidity\":0.2}},\"type\":\"barpolar\"}],\"carpet\":[{\"aaxis\":{\"endlinecolor\":\"#2a3f5f\",\"gridcolor\":\"white\",\"linecolor\":\"white\",\"minorgridcolor\":\"white\",\"startlinecolor\":\"#2a3f5f\"},\"baxis\":{\"endlinecolor\":\"#2a3f5f\",\"gridcolor\":\"white\",\"linecolor\":\"white\",\"minorgridcolor\":\"white\",\"startlinecolor\":\"#2a3f5f\"},\"type\":\"carpet\"}],\"choropleth\":[{\"colorbar\":{\"outlinewidth\":0,\"ticks\":\"\"},\"type\":\"choropleth\"}],\"contour\":[{\"colorbar\":{\"outlinewidth\":0,\"ticks\":\"\"},\"colorscale\":[[0.0,\"#0d0887\"],[0.1111111111111111,\"#46039f\"],[0.2222222222222222,\"#7201a8\"],[0.3333333333333333,\"#9c179e\"],[0.4444444444444444,\"#bd3786\"],[0.5555555555555556,\"#d8576b\"],[0.6666666666666666,\"#ed7953\"],[0.7777777777777778,\"#fb9f3a\"],[0.8888888888888888,\"#fdca26\"],[1.0,\"#f0f921\"]],\"type\":\"contour\"}],\"contourcarpet\":[{\"colorbar\":{\"outlinewidth\":0,\"ticks\":\"\"},\"type\":\"contourcarpet\"}],\"heatmap\":[{\"colorbar\":{\"outlinewidth\":0,\"ticks\":\"\"},\"colorscale\":[[0.0,\"#0d0887\"],[0.1111111111111111,\"#46039f\"],[0.2222222222222222,\"#7201a8\"],[0.3333333333333333,\"#9c179e\"],[0.4444444444444444,\"#bd3786\"],[0.5555555555555556,\"#d8576b\"],[0.6666666666666666,\"#ed7953\"],[0.7777777777777778,\"#fb9f3a\"],[0.8888888888888888,\"#fdca26\"],[1.0,\"#f0f921\"]],\"type\":\"heatmap\"}],\"heatmapgl\":[{\"colorbar\":{\"outlinewidth\":0,\"ticks\":\"\"},\"colorscale\":[[0.0,\"#0d0887\"],[0.1111111111111111,\"#46039f\"],[0.2222222222222222,\"#7201a8\"],[0.3333333333333333,\"#9c179e\"],[0.4444444444444444,\"#bd3786\"],[0.5555555555555556,\"#d8576b\"],[0.6666666666666666,\"#ed7953\"],[0.7777777777777778,\"#fb9f3a\"],[0.8888888888888888,\"#fdca26\"],[1.0,\"#f0f921\"]],\"type\":\"heatmapgl\"}],\"histogram\":[{\"marker\":{\"pattern\":{\"fillmode\":\"overlay\",\"size\":10,\"solidity\":0.2}},\"type\":\"histogram\"}],\"histogram2d\":[{\"colorbar\":{\"outlinewidth\":0,\"ticks\":\"\"},\"colorscale\":[[0.0,\"#0d0887\"],[0.1111111111111111,\"#46039f\"],[0.2222222222222222,\"#7201a8\"],[0.3333333333333333,\"#9c179e\"],[0.4444444444444444,\"#bd3786\"],[0.5555555555555556,\"#d8576b\"],[0.6666666666666666,\"#ed7953\"],[0.7777777777777778,\"#fb9f3a\"],[0.8888888888888888,\"#fdca26\"],[1.0,\"#f0f921\"]],\"type\":\"histogram2d\"}],\"histogram2dcontour\":[{\"colorbar\":{\"outlinewidth\":0,\"ticks\":\"\"},\"colorscale\":[[0.0,\"#0d0887\"],[0.1111111111111111,\"#46039f\"],[0.2222222222222222,\"#7201a8\"],[0.3333333333333333,\"#9c179e\"],[0.4444444444444444,\"#bd3786\"],[0.5555555555555556,\"#d8576b\"],[0.6666666666666666,\"#ed7953\"],[0.7777777777777778,\"#fb9f3a\"],[0.8888888888888888,\"#fdca26\"],[1.0,\"#f0f921\"]],\"type\":\"histogram2dcontour\"}],\"mesh3d\":[{\"colorbar\":{\"outlinewidth\":0,\"ticks\":\"\"},\"type\":\"mesh3d\"}],\"parcoords\":[{\"line\":{\"colorbar\":{\"outlinewidth\":0,\"ticks\":\"\"}},\"type\":\"parcoords\"}],\"pie\":[{\"automargin\":true,\"type\":\"pie\"}],\"scatter\":[{\"marker\":{\"colorbar\":{\"outlinewidth\":0,\"ticks\":\"\"}},\"type\":\"scatter\"}],\"scatter3d\":[{\"line\":{\"colorbar\":{\"outlinewidth\":0,\"ticks\":\"\"}},\"marker\":{\"colorbar\":{\"outlinewidth\":0,\"ticks\":\"\"}},\"type\":\"scatter3d\"}],\"scattercarpet\":[{\"marker\":{\"colorbar\":{\"outlinewidth\":0,\"ticks\":\"\"}},\"type\":\"scattercarpet\"}],\"scattergeo\":[{\"marker\":{\"colorbar\":{\"outlinewidth\":0,\"ticks\":\"\"}},\"type\":\"scattergeo\"}],\"scattergl\":[{\"marker\":{\"colorbar\":{\"outlinewidth\":0,\"ticks\":\"\"}},\"type\":\"scattergl\"}],\"scattermapbox\":[{\"marker\":{\"colorbar\":{\"outlinewidth\":0,\"ticks\":\"\"}},\"type\":\"scattermapbox\"}],\"scatterpolar\":[{\"marker\":{\"colorbar\":{\"outlinewidth\":0,\"ticks\":\"\"}},\"type\":\"scatterpolar\"}],\"scatterpolargl\":[{\"marker\":{\"colorbar\":{\"outlinewidth\":0,\"ticks\":\"\"}},\"type\":\"scatterpolargl\"}],\"scatterternary\":[{\"marker\":{\"colorbar\":{\"outlinewidth\":0,\"ticks\":\"\"}},\"type\":\"scatterternary\"}],\"surface\":[{\"colorbar\":{\"outlinewidth\":0,\"ticks\":\"\"},\"colorscale\":[[0.0,\"#0d0887\"],[0.1111111111111111,\"#46039f\"],[0.2222222222222222,\"#7201a8\"],[0.3333333333333333,\"#9c179e\"],[0.4444444444444444,\"#bd3786\"],[0.5555555555555556,\"#d8576b\"],[0.6666666666666666,\"#ed7953\"],[0.7777777777777778,\"#fb9f3a\"],[0.8888888888888888,\"#fdca26\"],[1.0,\"#f0f921\"]],\"type\":\"surface\"}],\"table\":[{\"cells\":{\"fill\":{\"color\":\"#EBF0F8\"},\"line\":{\"color\":\"white\"}},\"header\":{\"fill\":{\"color\":\"#C8D4E3\"},\"line\":{\"color\":\"white\"}},\"type\":\"table\"}]},\"layout\":{\"annotationdefaults\":{\"arrowcolor\":\"#2a3f5f\",\"arrowhead\":0,\"arrowwidth\":1},\"autotypenumbers\":\"strict\",\"coloraxis\":{\"colorbar\":{\"outlinewidth\":0,\"ticks\":\"\"}},\"colorscale\":{\"diverging\":[[0,\"#8e0152\"],[0.1,\"#c51b7d\"],[0.2,\"#de77ae\"],[0.3,\"#f1b6da\"],[0.4,\"#fde0ef\"],[0.5,\"#f7f7f7\"],[0.6,\"#e6f5d0\"],[0.7,\"#b8e186\"],[0.8,\"#7fbc41\"],[0.9,\"#4d9221\"],[1,\"#276419\"]],\"sequential\":[[0.0,\"#0d0887\"],[0.1111111111111111,\"#46039f\"],[0.2222222222222222,\"#7201a8\"],[0.3333333333333333,\"#9c179e\"],[0.4444444444444444,\"#bd3786\"],[0.5555555555555556,\"#d8576b\"],[0.6666666666666666,\"#ed7953\"],[0.7777777777777778,\"#fb9f3a\"],[0.8888888888888888,\"#fdca26\"],[1.0,\"#f0f921\"]],\"sequentialminus\":[[0.0,\"#0d0887\"],[0.1111111111111111,\"#46039f\"],[0.2222222222222222,\"#7201a8\"],[0.3333333333333333,\"#9c179e\"],[0.4444444444444444,\"#bd3786\"],[0.5555555555555556,\"#d8576b\"],[0.6666666666666666,\"#ed7953\"],[0.7777777777777778,\"#fb9f3a\"],[0.8888888888888888,\"#fdca26\"],[1.0,\"#f0f921\"]]},\"colorway\":[\"#636efa\",\"#EF553B\",\"#00cc96\",\"#ab63fa\",\"#FFA15A\",\"#19d3f3\",\"#FF6692\",\"#B6E880\",\"#FF97FF\",\"#FECB52\"],\"font\":{\"color\":\"#2a3f5f\"},\"geo\":{\"bgcolor\":\"white\",\"lakecolor\":\"white\",\"landcolor\":\"#E5ECF6\",\"showlakes\":true,\"showland\":true,\"subunitcolor\":\"white\"},\"hoverlabel\":{\"align\":\"left\"},\"hovermode\":\"closest\",\"mapbox\":{\"style\":\"light\"},\"paper_bgcolor\":\"white\",\"plot_bgcolor\":\"#E5ECF6\",\"polar\":{\"angularaxis\":{\"gridcolor\":\"white\",\"linecolor\":\"white\",\"ticks\":\"\"},\"bgcolor\":\"#E5ECF6\",\"radialaxis\":{\"gridcolor\":\"white\",\"linecolor\":\"white\",\"ticks\":\"\"}},\"scene\":{\"xaxis\":{\"backgroundcolor\":\"#E5ECF6\",\"gridcolor\":\"white\",\"gridwidth\":2,\"linecolor\":\"white\",\"showbackground\":true,\"ticks\":\"\",\"zerolinecolor\":\"white\"},\"yaxis\":{\"backgroundcolor\":\"#E5ECF6\",\"gridcolor\":\"white\",\"gridwidth\":2,\"linecolor\":\"white\",\"showbackground\":true,\"ticks\":\"\",\"zerolinecolor\":\"white\"},\"zaxis\":{\"backgroundcolor\":\"#E5ECF6\",\"gridcolor\":\"white\",\"gridwidth\":2,\"linecolor\":\"white\",\"showbackground\":true,\"ticks\":\"\",\"zerolinecolor\":\"white\"}},\"shapedefaults\":{\"line\":{\"color\":\"#2a3f5f\"}},\"ternary\":{\"aaxis\":{\"gridcolor\":\"white\",\"linecolor\":\"white\",\"ticks\":\"\"},\"baxis\":{\"gridcolor\":\"white\",\"linecolor\":\"white\",\"ticks\":\"\"},\"bgcolor\":\"#E5ECF6\",\"caxis\":{\"gridcolor\":\"white\",\"linecolor\":\"white\",\"ticks\":\"\"}},\"title\":{\"x\":0.05},\"xaxis\":{\"automargin\":true,\"gridcolor\":\"white\",\"linecolor\":\"white\",\"ticks\":\"\",\"title\":{\"standoff\":15},\"zerolinecolor\":\"white\",\"zerolinewidth\":2},\"yaxis\":{\"automargin\":true,\"gridcolor\":\"white\",\"linecolor\":\"white\",\"ticks\":\"\",\"title\":{\"standoff\":15},\"zerolinecolor\":\"white\",\"zerolinewidth\":2}}},\"title\":{\"font\":{\"family\":\"Arial\"}}},                        {\"responsive\": true}                    ).then(function(){\n",
       "                            \n",
       "var gd = document.getElementById('40504b0f-4731-448b-b99a-e4cb3d8b7e4f');\n",
       "var x = new MutationObserver(function (mutations, observer) {{\n",
       "        var display = window.getComputedStyle(gd).display;\n",
       "        if (!display || display === 'none') {{\n",
       "            console.log([gd, 'removed!']);\n",
       "            Plotly.purge(gd);\n",
       "            observer.disconnect();\n",
       "        }}\n",
       "}});\n",
       "\n",
       "// Listen for the removal of the full notebook cells\n",
       "var notebookContainer = gd.closest('#notebook-container');\n",
       "if (notebookContainer) {{\n",
       "    x.observe(notebookContainer, {childList: true});\n",
       "}}\n",
       "\n",
       "// Listen for the clearing of the current output cell\n",
       "var outputEl = gd.closest('.output');\n",
       "if (outputEl) {{\n",
       "    x.observe(outputEl, {childList: true});\n",
       "}}\n",
       "\n",
       "                        })                };                });            </script>        </div>"
      ]
     },
     "metadata": {},
     "output_type": "display_data"
    },
    {
     "data": {
      "application/vnd.plotly.v1+json": {
       "config": {
        "plotlyServerURL": "https://plot.ly"
       },
       "data": [
        {
         "labels": [
          "CelebA",
          "Cityscapes",
          "ImageNet",
          "MNIST",
          "LSUN",
          "FFHQ",
          "CUB-200-2011",
          "Other"
         ],
         "marker": {
          "colors": [
           "rgb(141,211,199)",
           "rgb(255,255,179)",
           "rgb(190,186,218)",
           "rgb(251,128,114)",
           "rgb(128,177,211)",
           "rgb(253,180,98)",
           "rgb(179,222,105)",
           "rgb(252,205,229)",
           "rgb(217,217,217)",
           "rgb(188,128,189)",
           "rgb(204,235,197)",
           "rgb(255,237,111)"
          ],
          "line": {
           "color": "#000000",
           "width": 1
          }
         },
         "pull": [
          0,
          0,
          0,
          0,
          0,
          0.2,
          0
         ],
         "textfont": {
          "color": "black"
         },
         "type": "pie",
         "values": [
          189,
          163,
          134,
          95,
          92,
          81,
          60,
          113
         ]
        }
       ],
       "layout": {
        "autosize": true,
        "font": {
         "color": "black",
         "family": "Arial"
        },
        "template": {
         "data": {
          "bar": [
           {
            "error_x": {
             "color": "#2a3f5f"
            },
            "error_y": {
             "color": "#2a3f5f"
            },
            "marker": {
             "line": {
              "color": "#E5ECF6",
              "width": 0.5
             },
             "pattern": {
              "fillmode": "overlay",
              "size": 10,
              "solidity": 0.2
             }
            },
            "type": "bar"
           }
          ],
          "barpolar": [
           {
            "marker": {
             "line": {
              "color": "#E5ECF6",
              "width": 0.5
             },
             "pattern": {
              "fillmode": "overlay",
              "size": 10,
              "solidity": 0.2
             }
            },
            "type": "barpolar"
           }
          ],
          "carpet": [
           {
            "aaxis": {
             "endlinecolor": "#2a3f5f",
             "gridcolor": "white",
             "linecolor": "white",
             "minorgridcolor": "white",
             "startlinecolor": "#2a3f5f"
            },
            "baxis": {
             "endlinecolor": "#2a3f5f",
             "gridcolor": "white",
             "linecolor": "white",
             "minorgridcolor": "white",
             "startlinecolor": "#2a3f5f"
            },
            "type": "carpet"
           }
          ],
          "choropleth": [
           {
            "colorbar": {
             "outlinewidth": 0,
             "ticks": ""
            },
            "type": "choropleth"
           }
          ],
          "contour": [
           {
            "colorbar": {
             "outlinewidth": 0,
             "ticks": ""
            },
            "colorscale": [
             [
              0,
              "#0d0887"
             ],
             [
              0.1111111111111111,
              "#46039f"
             ],
             [
              0.2222222222222222,
              "#7201a8"
             ],
             [
              0.3333333333333333,
              "#9c179e"
             ],
             [
              0.4444444444444444,
              "#bd3786"
             ],
             [
              0.5555555555555556,
              "#d8576b"
             ],
             [
              0.6666666666666666,
              "#ed7953"
             ],
             [
              0.7777777777777778,
              "#fb9f3a"
             ],
             [
              0.8888888888888888,
              "#fdca26"
             ],
             [
              1,
              "#f0f921"
             ]
            ],
            "type": "contour"
           }
          ],
          "contourcarpet": [
           {
            "colorbar": {
             "outlinewidth": 0,
             "ticks": ""
            },
            "type": "contourcarpet"
           }
          ],
          "heatmap": [
           {
            "colorbar": {
             "outlinewidth": 0,
             "ticks": ""
            },
            "colorscale": [
             [
              0,
              "#0d0887"
             ],
             [
              0.1111111111111111,
              "#46039f"
             ],
             [
              0.2222222222222222,
              "#7201a8"
             ],
             [
              0.3333333333333333,
              "#9c179e"
             ],
             [
              0.4444444444444444,
              "#bd3786"
             ],
             [
              0.5555555555555556,
              "#d8576b"
             ],
             [
              0.6666666666666666,
              "#ed7953"
             ],
             [
              0.7777777777777778,
              "#fb9f3a"
             ],
             [
              0.8888888888888888,
              "#fdca26"
             ],
             [
              1,
              "#f0f921"
             ]
            ],
            "type": "heatmap"
           }
          ],
          "heatmapgl": [
           {
            "colorbar": {
             "outlinewidth": 0,
             "ticks": ""
            },
            "colorscale": [
             [
              0,
              "#0d0887"
             ],
             [
              0.1111111111111111,
              "#46039f"
             ],
             [
              0.2222222222222222,
              "#7201a8"
             ],
             [
              0.3333333333333333,
              "#9c179e"
             ],
             [
              0.4444444444444444,
              "#bd3786"
             ],
             [
              0.5555555555555556,
              "#d8576b"
             ],
             [
              0.6666666666666666,
              "#ed7953"
             ],
             [
              0.7777777777777778,
              "#fb9f3a"
             ],
             [
              0.8888888888888888,
              "#fdca26"
             ],
             [
              1,
              "#f0f921"
             ]
            ],
            "type": "heatmapgl"
           }
          ],
          "histogram": [
           {
            "marker": {
             "pattern": {
              "fillmode": "overlay",
              "size": 10,
              "solidity": 0.2
             }
            },
            "type": "histogram"
           }
          ],
          "histogram2d": [
           {
            "colorbar": {
             "outlinewidth": 0,
             "ticks": ""
            },
            "colorscale": [
             [
              0,
              "#0d0887"
             ],
             [
              0.1111111111111111,
              "#46039f"
             ],
             [
              0.2222222222222222,
              "#7201a8"
             ],
             [
              0.3333333333333333,
              "#9c179e"
             ],
             [
              0.4444444444444444,
              "#bd3786"
             ],
             [
              0.5555555555555556,
              "#d8576b"
             ],
             [
              0.6666666666666666,
              "#ed7953"
             ],
             [
              0.7777777777777778,
              "#fb9f3a"
             ],
             [
              0.8888888888888888,
              "#fdca26"
             ],
             [
              1,
              "#f0f921"
             ]
            ],
            "type": "histogram2d"
           }
          ],
          "histogram2dcontour": [
           {
            "colorbar": {
             "outlinewidth": 0,
             "ticks": ""
            },
            "colorscale": [
             [
              0,
              "#0d0887"
             ],
             [
              0.1111111111111111,
              "#46039f"
             ],
             [
              0.2222222222222222,
              "#7201a8"
             ],
             [
              0.3333333333333333,
              "#9c179e"
             ],
             [
              0.4444444444444444,
              "#bd3786"
             ],
             [
              0.5555555555555556,
              "#d8576b"
             ],
             [
              0.6666666666666666,
              "#ed7953"
             ],
             [
              0.7777777777777778,
              "#fb9f3a"
             ],
             [
              0.8888888888888888,
              "#fdca26"
             ],
             [
              1,
              "#f0f921"
             ]
            ],
            "type": "histogram2dcontour"
           }
          ],
          "mesh3d": [
           {
            "colorbar": {
             "outlinewidth": 0,
             "ticks": ""
            },
            "type": "mesh3d"
           }
          ],
          "parcoords": [
           {
            "line": {
             "colorbar": {
              "outlinewidth": 0,
              "ticks": ""
             }
            },
            "type": "parcoords"
           }
          ],
          "pie": [
           {
            "automargin": true,
            "type": "pie"
           }
          ],
          "scatter": [
           {
            "marker": {
             "colorbar": {
              "outlinewidth": 0,
              "ticks": ""
             }
            },
            "type": "scatter"
           }
          ],
          "scatter3d": [
           {
            "line": {
             "colorbar": {
              "outlinewidth": 0,
              "ticks": ""
             }
            },
            "marker": {
             "colorbar": {
              "outlinewidth": 0,
              "ticks": ""
             }
            },
            "type": "scatter3d"
           }
          ],
          "scattercarpet": [
           {
            "marker": {
             "colorbar": {
              "outlinewidth": 0,
              "ticks": ""
             }
            },
            "type": "scattercarpet"
           }
          ],
          "scattergeo": [
           {
            "marker": {
             "colorbar": {
              "outlinewidth": 0,
              "ticks": ""
             }
            },
            "type": "scattergeo"
           }
          ],
          "scattergl": [
           {
            "marker": {
             "colorbar": {
              "outlinewidth": 0,
              "ticks": ""
             }
            },
            "type": "scattergl"
           }
          ],
          "scattermapbox": [
           {
            "marker": {
             "colorbar": {
              "outlinewidth": 0,
              "ticks": ""
             }
            },
            "type": "scattermapbox"
           }
          ],
          "scatterpolar": [
           {
            "marker": {
             "colorbar": {
              "outlinewidth": 0,
              "ticks": ""
             }
            },
            "type": "scatterpolar"
           }
          ],
          "scatterpolargl": [
           {
            "marker": {
             "colorbar": {
              "outlinewidth": 0,
              "ticks": ""
             }
            },
            "type": "scatterpolargl"
           }
          ],
          "scatterternary": [
           {
            "marker": {
             "colorbar": {
              "outlinewidth": 0,
              "ticks": ""
             }
            },
            "type": "scatterternary"
           }
          ],
          "surface": [
           {
            "colorbar": {
             "outlinewidth": 0,
             "ticks": ""
            },
            "colorscale": [
             [
              0,
              "#0d0887"
             ],
             [
              0.1111111111111111,
              "#46039f"
             ],
             [
              0.2222222222222222,
              "#7201a8"
             ],
             [
              0.3333333333333333,
              "#9c179e"
             ],
             [
              0.4444444444444444,
              "#bd3786"
             ],
             [
              0.5555555555555556,
              "#d8576b"
             ],
             [
              0.6666666666666666,
              "#ed7953"
             ],
             [
              0.7777777777777778,
              "#fb9f3a"
             ],
             [
              0.8888888888888888,
              "#fdca26"
             ],
             [
              1,
              "#f0f921"
             ]
            ],
            "type": "surface"
           }
          ],
          "table": [
           {
            "cells": {
             "fill": {
              "color": "#EBF0F8"
             },
             "line": {
              "color": "white"
             }
            },
            "header": {
             "fill": {
              "color": "#C8D4E3"
             },
             "line": {
              "color": "white"
             }
            },
            "type": "table"
           }
          ]
         },
         "layout": {
          "annotationdefaults": {
           "arrowcolor": "#2a3f5f",
           "arrowhead": 0,
           "arrowwidth": 1
          },
          "autotypenumbers": "strict",
          "coloraxis": {
           "colorbar": {
            "outlinewidth": 0,
            "ticks": ""
           }
          },
          "colorscale": {
           "diverging": [
            [
             0,
             "#8e0152"
            ],
            [
             0.1,
             "#c51b7d"
            ],
            [
             0.2,
             "#de77ae"
            ],
            [
             0.3,
             "#f1b6da"
            ],
            [
             0.4,
             "#fde0ef"
            ],
            [
             0.5,
             "#f7f7f7"
            ],
            [
             0.6,
             "#e6f5d0"
            ],
            [
             0.7,
             "#b8e186"
            ],
            [
             0.8,
             "#7fbc41"
            ],
            [
             0.9,
             "#4d9221"
            ],
            [
             1,
             "#276419"
            ]
           ],
           "sequential": [
            [
             0,
             "#0d0887"
            ],
            [
             0.1111111111111111,
             "#46039f"
            ],
            [
             0.2222222222222222,
             "#7201a8"
            ],
            [
             0.3333333333333333,
             "#9c179e"
            ],
            [
             0.4444444444444444,
             "#bd3786"
            ],
            [
             0.5555555555555556,
             "#d8576b"
            ],
            [
             0.6666666666666666,
             "#ed7953"
            ],
            [
             0.7777777777777778,
             "#fb9f3a"
            ],
            [
             0.8888888888888888,
             "#fdca26"
            ],
            [
             1,
             "#f0f921"
            ]
           ],
           "sequentialminus": [
            [
             0,
             "#0d0887"
            ],
            [
             0.1111111111111111,
             "#46039f"
            ],
            [
             0.2222222222222222,
             "#7201a8"
            ],
            [
             0.3333333333333333,
             "#9c179e"
            ],
            [
             0.4444444444444444,
             "#bd3786"
            ],
            [
             0.5555555555555556,
             "#d8576b"
            ],
            [
             0.6666666666666666,
             "#ed7953"
            ],
            [
             0.7777777777777778,
             "#fb9f3a"
            ],
            [
             0.8888888888888888,
             "#fdca26"
            ],
            [
             1,
             "#f0f921"
            ]
           ]
          },
          "colorway": [
           "#636efa",
           "#EF553B",
           "#00cc96",
           "#ab63fa",
           "#FFA15A",
           "#19d3f3",
           "#FF6692",
           "#B6E880",
           "#FF97FF",
           "#FECB52"
          ],
          "font": {
           "color": "#2a3f5f"
          },
          "geo": {
           "bgcolor": "white",
           "lakecolor": "white",
           "landcolor": "#E5ECF6",
           "showlakes": true,
           "showland": true,
           "subunitcolor": "white"
          },
          "hoverlabel": {
           "align": "left"
          },
          "hovermode": "closest",
          "mapbox": {
           "style": "light"
          },
          "paper_bgcolor": "white",
          "plot_bgcolor": "#E5ECF6",
          "polar": {
           "angularaxis": {
            "gridcolor": "white",
            "linecolor": "white",
            "ticks": ""
           },
           "bgcolor": "#E5ECF6",
           "radialaxis": {
            "gridcolor": "white",
            "linecolor": "white",
            "ticks": ""
           }
          },
          "scene": {
           "xaxis": {
            "backgroundcolor": "#E5ECF6",
            "gridcolor": "white",
            "gridwidth": 2,
            "linecolor": "white",
            "showbackground": true,
            "ticks": "",
            "zerolinecolor": "white"
           },
           "yaxis": {
            "backgroundcolor": "#E5ECF6",
            "gridcolor": "white",
            "gridwidth": 2,
            "linecolor": "white",
            "showbackground": true,
            "ticks": "",
            "zerolinecolor": "white"
           },
           "zaxis": {
            "backgroundcolor": "#E5ECF6",
            "gridcolor": "white",
            "gridwidth": 2,
            "linecolor": "white",
            "showbackground": true,
            "ticks": "",
            "zerolinecolor": "white"
           }
          },
          "shapedefaults": {
           "line": {
            "color": "#2a3f5f"
           }
          },
          "ternary": {
           "aaxis": {
            "gridcolor": "white",
            "linecolor": "white",
            "ticks": ""
           },
           "baxis": {
            "gridcolor": "white",
            "linecolor": "white",
            "ticks": ""
           },
           "bgcolor": "#E5ECF6",
           "caxis": {
            "gridcolor": "white",
            "linecolor": "white",
            "ticks": ""
           }
          },
          "title": {
           "x": 0.05
          },
          "xaxis": {
           "automargin": true,
           "gridcolor": "white",
           "linecolor": "white",
           "ticks": "",
           "title": {
            "standoff": 15
           },
           "zerolinecolor": "white",
           "zerolinewidth": 2
          },
          "yaxis": {
           "automargin": true,
           "gridcolor": "white",
           "linecolor": "white",
           "ticks": "",
           "title": {
            "standoff": 15
           },
           "zerolinecolor": "white",
           "zerolinewidth": 2
          }
         }
        },
        "title": {
         "font": {
          "family": "Arial"
         }
        }
       }
      },
      "image/png": "[encoded data removed]",
      "text/html": [
       "<div>                            <div id=\"be92cf84-8786-42c7-9b7e-4c27172ef4c4\" class=\"plotly-graph-div\" style=\"height:525px; width:100%;\"></div>            <script type=\"text/javascript\">                require([\"plotly\"], function(Plotly) {                    window.PLOTLYENV=window.PLOTLYENV || {};                                    if (document.getElementById(\"be92cf84-8786-42c7-9b7e-4c27172ef4c4\")) {                    Plotly.newPlot(                        \"be92cf84-8786-42c7-9b7e-4c27172ef4c4\",                        [{\"labels\":[\"CelebA\",\"Cityscapes\",\"ImageNet\",\"MNIST\",\"LSUN\",\"FFHQ\",\"CUB-200-2011\",\"Other\"],\"marker\":{\"colors\":[\"rgb(141,211,199)\",\"rgb(255,255,179)\",\"rgb(190,186,218)\",\"rgb(251,128,114)\",\"rgb(128,177,211)\",\"rgb(253,180,98)\",\"rgb(179,222,105)\",\"rgb(252,205,229)\",\"rgb(217,217,217)\",\"rgb(188,128,189)\",\"rgb(204,235,197)\",\"rgb(255,237,111)\"],\"line\":{\"color\":\"#000000\",\"width\":1}},\"pull\":[0,0,0,0.0,0,0.2,0],\"textfont\":{\"color\":\"black\"},\"type\":\"pie\",\"values\":[189,163,134,95,92,81,60,113]}],                        {\"font\":{\"color\":\"black\",\"family\":\"Arial\"},\"template\":{\"data\":{\"bar\":[{\"error_x\":{\"color\":\"#2a3f5f\"},\"error_y\":{\"color\":\"#2a3f5f\"},\"marker\":{\"line\":{\"color\":\"#E5ECF6\",\"width\":0.5},\"pattern\":{\"fillmode\":\"overlay\",\"size\":10,\"solidity\":0.2}},\"type\":\"bar\"}],\"barpolar\":[{\"marker\":{\"line\":{\"color\":\"#E5ECF6\",\"width\":0.5},\"pattern\":{\"fillmode\":\"overlay\",\"size\":10,\"solidity\":0.2}},\"type\":\"barpolar\"}],\"carpet\":[{\"aaxis\":{\"endlinecolor\":\"#2a3f5f\",\"gridcolor\":\"white\",\"linecolor\":\"white\",\"minorgridcolor\":\"white\",\"startlinecolor\":\"#2a3f5f\"},\"baxis\":{\"endlinecolor\":\"#2a3f5f\",\"gridcolor\":\"white\",\"linecolor\":\"white\",\"minorgridcolor\":\"white\",\"startlinecolor\":\"#2a3f5f\"},\"type\":\"carpet\"}],\"choropleth\":[{\"colorbar\":{\"outlinewidth\":0,\"ticks\":\"\"},\"type\":\"choropleth\"}],\"contour\":[{\"colorbar\":{\"outlinewidth\":0,\"ticks\":\"\"},\"colorscale\":[[0.0,\"#0d0887\"],[0.1111111111111111,\"#46039f\"],[0.2222222222222222,\"#7201a8\"],[0.3333333333333333,\"#9c179e\"],[0.4444444444444444,\"#bd3786\"],[0.5555555555555556,\"#d8576b\"],[0.6666666666666666,\"#ed7953\"],[0.7777777777777778,\"#fb9f3a\"],[0.8888888888888888,\"#fdca26\"],[1.0,\"#f0f921\"]],\"type\":\"contour\"}],\"contourcarpet\":[{\"colorbar\":{\"outlinewidth\":0,\"ticks\":\"\"},\"type\":\"contourcarpet\"}],\"heatmap\":[{\"colorbar\":{\"outlinewidth\":0,\"ticks\":\"\"},\"colorscale\":[[0.0,\"#0d0887\"],[0.1111111111111111,\"#46039f\"],[0.2222222222222222,\"#7201a8\"],[0.3333333333333333,\"#9c179e\"],[0.4444444444444444,\"#bd3786\"],[0.5555555555555556,\"#d8576b\"],[0.6666666666666666,\"#ed7953\"],[0.7777777777777778,\"#fb9f3a\"],[0.8888888888888888,\"#fdca26\"],[1.0,\"#f0f921\"]],\"type\":\"heatmap\"}],\"heatmapgl\":[{\"colorbar\":{\"outlinewidth\":0,\"ticks\":\"\"},\"colorscale\":[[0.0,\"#0d0887\"],[0.1111111111111111,\"#46039f\"],[0.2222222222222222,\"#7201a8\"],[0.3333333333333333,\"#9c179e\"],[0.4444444444444444,\"#bd3786\"],[0.5555555555555556,\"#d8576b\"],[0.6666666666666666,\"#ed7953\"],[0.7777777777777778,\"#fb9f3a\"],[0.8888888888888888,\"#fdca26\"],[1.0,\"#f0f921\"]],\"type\":\"heatmapgl\"}],\"histogram\":[{\"marker\":{\"pattern\":{\"fillmode\":\"overlay\",\"size\":10,\"solidity\":0.2}},\"type\":\"histogram\"}],\"histogram2d\":[{\"colorbar\":{\"outlinewidth\":0,\"ticks\":\"\"},\"colorscale\":[[0.0,\"#0d0887\"],[0.1111111111111111,\"#46039f\"],[0.2222222222222222,\"#7201a8\"],[0.3333333333333333,\"#9c179e\"],[0.4444444444444444,\"#bd3786\"],[0.5555555555555556,\"#d8576b\"],[0.6666666666666666,\"#ed7953\"],[0.7777777777777778,\"#fb9f3a\"],[0.8888888888888888,\"#fdca26\"],[1.0,\"#f0f921\"]],\"type\":\"histogram2d\"}],\"histogram2dcontour\":[{\"colorbar\":{\"outlinewidth\":0,\"ticks\":\"\"},\"colorscale\":[[0.0,\"#0d0887\"],[0.1111111111111111,\"#46039f\"],[0.2222222222222222,\"#7201a8\"],[0.3333333333333333,\"#9c179e\"],[0.4444444444444444,\"#bd3786\"],[0.5555555555555556,\"#d8576b\"],[0.6666666666666666,\"#ed7953\"],[0.7777777777777778,\"#fb9f3a\"],[0.8888888888888888,\"#fdca26\"],[1.0,\"#f0f921\"]],\"type\":\"histogram2dcontour\"}],\"mesh3d\":[{\"colorbar\":{\"outlinewidth\":0,\"ticks\":\"\"},\"type\":\"mesh3d\"}],\"parcoords\":[{\"line\":{\"colorbar\":{\"outlinewidth\":0,\"ticks\":\"\"}},\"type\":\"parcoords\"}],\"pie\":[{\"automargin\":true,\"type\":\"pie\"}],\"scatter\":[{\"marker\":{\"colorbar\":{\"outlinewidth\":0,\"ticks\":\"\"}},\"type\":\"scatter\"}],\"scatter3d\":[{\"line\":{\"colorbar\":{\"outlinewidth\":0,\"ticks\":\"\"}},\"marker\":{\"colorbar\":{\"outlinewidth\":0,\"ticks\":\"\"}},\"type\":\"scatter3d\"}],\"scattercarpet\":[{\"marker\":{\"colorbar\":{\"outlinewidth\":0,\"ticks\":\"\"}},\"type\":\"scattercarpet\"}],\"scattergeo\":[{\"marker\":{\"colorbar\":{\"outlinewidth\":0,\"ticks\":\"\"}},\"type\":\"scattergeo\"}],\"scattergl\":[{\"marker\":{\"colorbar\":{\"outlinewidth\":0,\"ticks\":\"\"}},\"type\":\"scattergl\"}],\"scattermapbox\":[{\"marker\":{\"colorbar\":{\"outlinewidth\":0,\"ticks\":\"\"}},\"type\":\"scattermapbox\"}],\"scatterpolar\":[{\"marker\":{\"colorbar\":{\"outlinewidth\":0,\"ticks\":\"\"}},\"type\":\"scatterpolar\"}],\"scatterpolargl\":[{\"marker\":{\"colorbar\":{\"outlinewidth\":0,\"ticks\":\"\"}},\"type\":\"scatterpolargl\"}],\"scatterternary\":[{\"marker\":{\"colorbar\":{\"outlinewidth\":0,\"ticks\":\"\"}},\"type\":\"scatterternary\"}],\"surface\":[{\"colorbar\":{\"outlinewidth\":0,\"ticks\":\"\"},\"colorscale\":[[0.0,\"#0d0887\"],[0.1111111111111111,\"#46039f\"],[0.2222222222222222,\"#7201a8\"],[0.3333333333333333,\"#9c179e\"],[0.4444444444444444,\"#bd3786\"],[0.5555555555555556,\"#d8576b\"],[0.6666666666666666,\"#ed7953\"],[0.7777777777777778,\"#fb9f3a\"],[0.8888888888888888,\"#fdca26\"],[1.0,\"#f0f921\"]],\"type\":\"surface\"}],\"table\":[{\"cells\":{\"fill\":{\"color\":\"#EBF0F8\"},\"line\":{\"color\":\"white\"}},\"header\":{\"fill\":{\"color\":\"#C8D4E3\"},\"line\":{\"color\":\"white\"}},\"type\":\"table\"}]},\"layout\":{\"annotationdefaults\":{\"arrowcolor\":\"#2a3f5f\",\"arrowhead\":0,\"arrowwidth\":1},\"autotypenumbers\":\"strict\",\"coloraxis\":{\"colorbar\":{\"outlinewidth\":0,\"ticks\":\"\"}},\"colorscale\":{\"diverging\":[[0,\"#8e0152\"],[0.1,\"#c51b7d\"],[0.2,\"#de77ae\"],[0.3,\"#f1b6da\"],[0.4,\"#fde0ef\"],[0.5,\"#f7f7f7\"],[0.6,\"#e6f5d0\"],[0.7,\"#b8e186\"],[0.8,\"#7fbc41\"],[0.9,\"#4d9221\"],[1,\"#276419\"]],\"sequential\":[[0.0,\"#0d0887\"],[0.1111111111111111,\"#46039f\"],[0.2222222222222222,\"#7201a8\"],[0.3333333333333333,\"#9c179e\"],[0.4444444444444444,\"#bd3786\"],[0.5555555555555556,\"#d8576b\"],[0.6666666666666666,\"#ed7953\"],[0.7777777777777778,\"#fb9f3a\"],[0.8888888888888888,\"#fdca26\"],[1.0,\"#f0f921\"]],\"sequentialminus\":[[0.0,\"#0d0887\"],[0.1111111111111111,\"#46039f\"],[0.2222222222222222,\"#7201a8\"],[0.3333333333333333,\"#9c179e\"],[0.4444444444444444,\"#bd3786\"],[0.5555555555555556,\"#d8576b\"],[0.6666666666666666,\"#ed7953\"],[0.7777777777777778,\"#fb9f3a\"],[0.8888888888888888,\"#fdca26\"],[1.0,\"#f0f921\"]]},\"colorway\":[\"#636efa\",\"#EF553B\",\"#00cc96\",\"#ab63fa\",\"#FFA15A\",\"#19d3f3\",\"#FF6692\",\"#B6E880\",\"#FF97FF\",\"#FECB52\"],\"font\":{\"color\":\"#2a3f5f\"},\"geo\":{\"bgcolor\":\"white\",\"lakecolor\":\"white\",\"landcolor\":\"#E5ECF6\",\"showlakes\":true,\"showland\":true,\"subunitcolor\":\"white\"},\"hoverlabel\":{\"align\":\"left\"},\"hovermode\":\"closest\",\"mapbox\":{\"style\":\"light\"},\"paper_bgcolor\":\"white\",\"plot_bgcolor\":\"#E5ECF6\",\"polar\":{\"angularaxis\":{\"gridcolor\":\"white\",\"linecolor\":\"white\",\"ticks\":\"\"},\"bgcolor\":\"#E5ECF6\",\"radialaxis\":{\"gridcolor\":\"white\",\"linecolor\":\"white\",\"ticks\":\"\"}},\"scene\":{\"xaxis\":{\"backgroundcolor\":\"#E5ECF6\",\"gridcolor\":\"white\",\"gridwidth\":2,\"linecolor\":\"white\",\"showbackground\":true,\"ticks\":\"\",\"zerolinecolor\":\"white\"},\"yaxis\":{\"backgroundcolor\":\"#E5ECF6\",\"gridcolor\":\"white\",\"gridwidth\":2,\"linecolor\":\"white\",\"showbackground\":true,\"ticks\":\"\",\"zerolinecolor\":\"white\"},\"zaxis\":{\"backgroundcolor\":\"#E5ECF6\",\"gridcolor\":\"white\",\"gridwidth\":2,\"linecolor\":\"white\",\"showbackground\":true,\"ticks\":\"\",\"zerolinecolor\":\"white\"}},\"shapedefaults\":{\"line\":{\"color\":\"#2a3f5f\"}},\"ternary\":{\"aaxis\":{\"gridcolor\":\"white\",\"linecolor\":\"white\",\"ticks\":\"\"},\"baxis\":{\"gridcolor\":\"white\",\"linecolor\":\"white\",\"ticks\":\"\"},\"bgcolor\":\"#E5ECF6\",\"caxis\":{\"gridcolor\":\"white\",\"linecolor\":\"white\",\"ticks\":\"\"}},\"title\":{\"x\":0.05},\"xaxis\":{\"automargin\":true,\"gridcolor\":\"white\",\"linecolor\":\"white\",\"ticks\":\"\",\"title\":{\"standoff\":15},\"zerolinecolor\":\"white\",\"zerolinewidth\":2},\"yaxis\":{\"automargin\":true,\"gridcolor\":\"white\",\"linecolor\":\"white\",\"ticks\":\"\",\"title\":{\"standoff\":15},\"zerolinecolor\":\"white\",\"zerolinewidth\":2}}},\"title\":{\"font\":{\"family\":\"Arial\"}}},                        {\"responsive\": true}                    ).then(function(){\n",
       "                            \n",
       "var gd = document.getElementById('be92cf84-8786-42c7-9b7e-4c27172ef4c4');\n",
       "var x = new MutationObserver(function (mutations, observer) {{\n",
       "        var display = window.getComputedStyle(gd).display;\n",
       "        if (!display || display === 'none') {{\n",
       "            console.log([gd, 'removed!']);\n",
       "            Plotly.purge(gd);\n",
       "            observer.disconnect();\n",
       "        }}\n",
       "}});\n",
       "\n",
       "// Listen for the removal of the full notebook cells\n",
       "var notebookContainer = gd.closest('#notebook-container');\n",
       "if (notebookContainer) {{\n",
       "    x.observe(notebookContainer, {childList: true});\n",
       "}}\n",
       "\n",
       "// Listen for the clearing of the current output cell\n",
       "var outputEl = gd.closest('.output');\n",
       "if (outputEl) {{\n",
       "    x.observe(outputEl, {childList: true});\n",
       "}}\n",
       "\n",
       "                        })                };                });            </script>        </div>"
      ]
     },
     "metadata": {},
     "output_type": "display_data"
    }
   ],
   "source": [
    "import plotly.graph_objects as go\n",
    "import plotly.express as px\n",
    "fig = go.Figure(data=[go.Pie(labels=tasks_df['task'], \n",
    "                             values=tasks_df['count'],\n",
    "                            pull=[0, 0, 0, 0.0,0.2,0,0])])\n",
    "fig.update_layout(\n",
    "    font_family=\"Arial\",\n",
    "    title_font_family=\"Arial\",\n",
    "    font_color='black',\n",
    ")\n",
    "fig.update_traces(marker=dict(colors=px.colors.qualitative.Set1,line=dict(color='#000000', width=1)),textfont_color='black')\n",
    "fig.show()\n",
    "fig.write_image(\"/mnt/c/Users/berna/Documents/GoogleDataProject/ImportPlots/ImageGenerationTasks.svg\")\n",
    "fig = go.Figure(data=[go.Pie(labels=dataset_df['name'], \n",
    "                             values=dataset_df['count'],\n",
    "                            pull=[0, 0, 0, 0.0,0,0.2,0])])\n",
    "fig.update_layout(\n",
    "    font_family=\"Arial\",\n",
    "    title_font_family=\"Arial\",\n",
    "    font_color='black',\n",
    ")\n",
    "fig.update_traces(marker=dict(colors=px.colors.qualitative.Set3,line=dict(color='#000000', width=1)),textfont_color='black')\n",
    "#fig.write_image(\"ImageGenDatasets.svg\")\n",
    "fig.show()\n",
    "fig.write_image(\"/mnt/c/Users/berna/Documents/GoogleDataProject/ImportPlots/ImageGenerationDatasets.svg\")"
   ]
  },
  {
   "cell_type": "code",
   "execution_count": 177,
   "id": "6ede41d2-1024-4bc1-82df-a38897513321",
   "metadata": {},
   "outputs": [
    {
     "name": "stdout",
     "output_type": "stream",
     "text": [
      "Requirement already satisfied: kaleido in /home/bkoch/miniconda3/envs/data/lib/python3.8/site-packages (0.2.1)\n"
     ]
    }
   ],
   "source": []
  },
  {
   "cell_type": "code",
   "execution_count": 67,
   "id": "1306c978-39a7-4a9a-a68f-6123dfcfd149",
   "metadata": {},
   "outputs": [],
   "source": [
    "p='Face Recognition'\n",
    "datasets_borrow=source_dest_edgelist[source_dest_edgelist.dest_task==p].drop_duplicates(['name','title']).groupby('name').size().sort_values().to_frame()\n",
    "datasets_borrow['source']='blue'\n",
    "datasets_homegrown=homegrown_edgelist[homegrown_edgelist.task==p].drop_duplicates(['name','title']).groupby('name').size().sort_values().to_frame()\n",
    "datasets_homegrown['source']='orange'\n",
    "dataset_df=pd.concat([ datasets_borrow,datasets_homegrown]).reset_index().sort_values(0,ascending=False)\n",
    "dataset_df=dataset_df.rename({0:'count'},axis=1)\n",
    "\n",
    "tasks_borrow=source_dest_edgelist[source_dest_edgelist.dest_task==p].drop_duplicates(['name','title']).groupby('source_task').size().sort_values().to_frame()\n",
    "tasks_borrow['source']='blue'\n",
    "tasks_homegrown=homegrown_edgelist[homegrown_edgelist.task==p].drop_duplicates(['name','title']).groupby('task').size().sort_values().to_frame()\n",
    "tasks_homegrown['source']='orange'\n",
    "tasks_df=pd.concat([ tasks_borrow,tasks_homegrown]).reset_index().sort_values(0,ascending=False)\n",
    "tasks_df=tasks_df.rename({0:'count','index':'task'},axis=1)\n",
    "\n",
    "dataset_df['cumulative']=dataset_df.sort_values('count',ascending=False)['count'].cumsum()/dataset_df.sort_values('count',ascending=False)['count'].sum()\n",
    "#tasks_df.set_index('task').plot.pie(y='count')\n",
    "other_count=dataset_df[dataset_df['cumulative']>.85]['count'].sum()\n",
    "dataset_df=dataset_df[dataset_df['cumulative']<.85]\n",
    "dataset_df=dataset_df.append({'name':'Other','count':other_count,'cumulative':1,'source':'gray'},ignore_index=True)\n",
    "\n",
    "tasks_df['cumulative']=tasks_df.sort_values('count',ascending=False)['count'].cumsum()/tasks_df.sort_values('count',ascending=False)['count'].sum()\n",
    "#tasks_df.set_index('task').plot.pie(y='count')\n",
    "other_count=tasks_df[tasks_df['cumulative']>.85]['count'].sum()\n",
    "tasks_df=tasks_df[tasks_df['cumulative']<.85]\n",
    "tasks_df=tasks_df.append({'task':'Other','count':other_count,'cumulative':1,'source':'gray'},ignore_index=True)"
   ]
  },
  {
   "cell_type": "code",
   "execution_count": 80,
   "id": "05ece0fb-18d4-42f0-b443-9d3f6782498e",
   "metadata": {},
   "outputs": [
    {
     "data": {
      "application/vnd.plotly.v1+json": {
       "config": {
        "plotlyServerURL": "https://plot.ly"
       },
       "data": [
        {
         "labels": [
          "Face Recognition",
          "Other"
         ],
         "marker": {
          "colors": [
           "rgb(228,26,28)",
           "rgb(55,126,184)",
           "rgb(77,175,74)",
           "rgb(152,78,163)",
           "rgb(255,127,0)",
           "rgb(255,255,51)",
           "rgb(166,86,40)",
           "rgb(247,129,191)",
           "rgb(153,153,153)"
          ],
          "line": {
           "color": "#000000",
           "width": 1
          }
         },
         "pull": [
          0,
          0,
          0,
          0.2,
          0,
          0,
          0
         ],
         "textfont": {
          "color": "black"
         },
         "type": "pie",
         "values": [
          776,
          453
         ]
        }
       ],
       "layout": {
        "autosize": true,
        "font": {
         "color": "black",
         "family": "Arial"
        },
        "template": {
         "data": {
          "bar": [
           {
            "error_x": {
             "color": "#2a3f5f"
            },
            "error_y": {
             "color": "#2a3f5f"
            },
            "marker": {
             "line": {
              "color": "#E5ECF6",
              "width": 0.5
             },
             "pattern": {
              "fillmode": "overlay",
              "size": 10,
              "solidity": 0.2
             }
            },
            "type": "bar"
           }
          ],
          "barpolar": [
           {
            "marker": {
             "line": {
              "color": "#E5ECF6",
              "width": 0.5
             },
             "pattern": {
              "fillmode": "overlay",
              "size": 10,
              "solidity": 0.2
             }
            },
            "type": "barpolar"
           }
          ],
          "carpet": [
           {
            "aaxis": {
             "endlinecolor": "#2a3f5f",
             "gridcolor": "white",
             "linecolor": "white",
             "minorgridcolor": "white",
             "startlinecolor": "#2a3f5f"
            },
            "baxis": {
             "endlinecolor": "#2a3f5f",
             "gridcolor": "white",
             "linecolor": "white",
             "minorgridcolor": "white",
             "startlinecolor": "#2a3f5f"
            },
            "type": "carpet"
           }
          ],
          "choropleth": [
           {
            "colorbar": {
             "outlinewidth": 0,
             "ticks": ""
            },
            "type": "choropleth"
           }
          ],
          "contour": [
           {
            "colorbar": {
             "outlinewidth": 0,
             "ticks": ""
            },
            "colorscale": [
             [
              0,
              "#0d0887"
             ],
             [
              0.1111111111111111,
              "#46039f"
             ],
             [
              0.2222222222222222,
              "#7201a8"
             ],
             [
              0.3333333333333333,
              "#9c179e"
             ],
             [
              0.4444444444444444,
              "#bd3786"
             ],
             [
              0.5555555555555556,
              "#d8576b"
             ],
             [
              0.6666666666666666,
              "#ed7953"
             ],
             [
              0.7777777777777778,
              "#fb9f3a"
             ],
             [
              0.8888888888888888,
              "#fdca26"
             ],
             [
              1,
              "#f0f921"
             ]
            ],
            "type": "contour"
           }
          ],
          "contourcarpet": [
           {
            "colorbar": {
             "outlinewidth": 0,
             "ticks": ""
            },
            "type": "contourcarpet"
           }
          ],
          "heatmap": [
           {
            "colorbar": {
             "outlinewidth": 0,
             "ticks": ""
            },
            "colorscale": [
             [
              0,
              "#0d0887"
             ],
             [
              0.1111111111111111,
              "#46039f"
             ],
             [
              0.2222222222222222,
              "#7201a8"
             ],
             [
              0.3333333333333333,
              "#9c179e"
             ],
             [
              0.4444444444444444,
              "#bd3786"
             ],
             [
              0.5555555555555556,
              "#d8576b"
             ],
             [
              0.6666666666666666,
              "#ed7953"
             ],
             [
              0.7777777777777778,
              "#fb9f3a"
             ],
             [
              0.8888888888888888,
              "#fdca26"
             ],
             [
              1,
              "#f0f921"
             ]
            ],
            "type": "heatmap"
           }
          ],
          "heatmapgl": [
           {
            "colorbar": {
             "outlinewidth": 0,
             "ticks": ""
            },
            "colorscale": [
             [
              0,
              "#0d0887"
             ],
             [
              0.1111111111111111,
              "#46039f"
             ],
             [
              0.2222222222222222,
              "#7201a8"
             ],
             [
              0.3333333333333333,
              "#9c179e"
             ],
             [
              0.4444444444444444,
              "#bd3786"
             ],
             [
              0.5555555555555556,
              "#d8576b"
             ],
             [
              0.6666666666666666,
              "#ed7953"
             ],
             [
              0.7777777777777778,
              "#fb9f3a"
             ],
             [
              0.8888888888888888,
              "#fdca26"
             ],
             [
              1,
              "#f0f921"
             ]
            ],
            "type": "heatmapgl"
           }
          ],
          "histogram": [
           {
            "marker": {
             "pattern": {
              "fillmode": "overlay",
              "size": 10,
              "solidity": 0.2
             }
            },
            "type": "histogram"
           }
          ],
          "histogram2d": [
           {
            "colorbar": {
             "outlinewidth": 0,
             "ticks": ""
            },
            "colorscale": [
             [
              0,
              "#0d0887"
             ],
             [
              0.1111111111111111,
              "#46039f"
             ],
             [
              0.2222222222222222,
              "#7201a8"
             ],
             [
              0.3333333333333333,
              "#9c179e"
             ],
             [
              0.4444444444444444,
              "#bd3786"
             ],
             [
              0.5555555555555556,
              "#d8576b"
             ],
             [
              0.6666666666666666,
              "#ed7953"
             ],
             [
              0.7777777777777778,
              "#fb9f3a"
             ],
             [
              0.8888888888888888,
              "#fdca26"
             ],
             [
              1,
              "#f0f921"
             ]
            ],
            "type": "histogram2d"
           }
          ],
          "histogram2dcontour": [
           {
            "colorbar": {
             "outlinewidth": 0,
             "ticks": ""
            },
            "colorscale": [
             [
              0,
              "#0d0887"
             ],
             [
              0.1111111111111111,
              "#46039f"
             ],
             [
              0.2222222222222222,
              "#7201a8"
             ],
             [
              0.3333333333333333,
              "#9c179e"
             ],
             [
              0.4444444444444444,
              "#bd3786"
             ],
             [
              0.5555555555555556,
              "#d8576b"
             ],
             [
              0.6666666666666666,
              "#ed7953"
             ],
             [
              0.7777777777777778,
              "#fb9f3a"
             ],
             [
              0.8888888888888888,
              "#fdca26"
             ],
             [
              1,
              "#f0f921"
             ]
            ],
            "type": "histogram2dcontour"
           }
          ],
          "mesh3d": [
           {
            "colorbar": {
             "outlinewidth": 0,
             "ticks": ""
            },
            "type": "mesh3d"
           }
          ],
          "parcoords": [
           {
            "line": {
             "colorbar": {
              "outlinewidth": 0,
              "ticks": ""
             }
            },
            "type": "parcoords"
           }
          ],
          "pie": [
           {
            "automargin": true,
            "type": "pie"
           }
          ],
          "scatter": [
           {
            "marker": {
             "colorbar": {
              "outlinewidth": 0,
              "ticks": ""
             }
            },
            "type": "scatter"
           }
          ],
          "scatter3d": [
           {
            "line": {
             "colorbar": {
              "outlinewidth": 0,
              "ticks": ""
             }
            },
            "marker": {
             "colorbar": {
              "outlinewidth": 0,
              "ticks": ""
             }
            },
            "type": "scatter3d"
           }
          ],
          "scattercarpet": [
           {
            "marker": {
             "colorbar": {
              "outlinewidth": 0,
              "ticks": ""
             }
            },
            "type": "scattercarpet"
           }
          ],
          "scattergeo": [
           {
            "marker": {
             "colorbar": {
              "outlinewidth": 0,
              "ticks": ""
             }
            },
            "type": "scattergeo"
           }
          ],
          "scattergl": [
           {
            "marker": {
             "colorbar": {
              "outlinewidth": 0,
              "ticks": ""
             }
            },
            "type": "scattergl"
           }
          ],
          "scattermapbox": [
           {
            "marker": {
             "colorbar": {
              "outlinewidth": 0,
              "ticks": ""
             }
            },
            "type": "scattermapbox"
           }
          ],
          "scatterpolar": [
           {
            "marker": {
             "colorbar": {
              "outlinewidth": 0,
              "ticks": ""
             }
            },
            "type": "scatterpolar"
           }
          ],
          "scatterpolargl": [
           {
            "marker": {
             "colorbar": {
              "outlinewidth": 0,
              "ticks": ""
             }
            },
            "type": "scatterpolargl"
           }
          ],
          "scatterternary": [
           {
            "marker": {
             "colorbar": {
              "outlinewidth": 0,
              "ticks": ""
             }
            },
            "type": "scatterternary"
           }
          ],
          "surface": [
           {
            "colorbar": {
             "outlinewidth": 0,
             "ticks": ""
            },
            "colorscale": [
             [
              0,
              "#0d0887"
             ],
             [
              0.1111111111111111,
              "#46039f"
             ],
             [
              0.2222222222222222,
              "#7201a8"
             ],
             [
              0.3333333333333333,
              "#9c179e"
             ],
             [
              0.4444444444444444,
              "#bd3786"
             ],
             [
              0.5555555555555556,
              "#d8576b"
             ],
             [
              0.6666666666666666,
              "#ed7953"
             ],
             [
              0.7777777777777778,
              "#fb9f3a"
             ],
             [
              0.8888888888888888,
              "#fdca26"
             ],
             [
              1,
              "#f0f921"
             ]
            ],
            "type": "surface"
           }
          ],
          "table": [
           {
            "cells": {
             "fill": {
              "color": "#EBF0F8"
             },
             "line": {
              "color": "white"
             }
            },
            "header": {
             "fill": {
              "color": "#C8D4E3"
             },
             "line": {
              "color": "white"
             }
            },
            "type": "table"
           }
          ]
         },
         "layout": {
          "annotationdefaults": {
           "arrowcolor": "#2a3f5f",
           "arrowhead": 0,
           "arrowwidth": 1
          },
          "autotypenumbers": "strict",
          "coloraxis": {
           "colorbar": {
            "outlinewidth": 0,
            "ticks": ""
           }
          },
          "colorscale": {
           "diverging": [
            [
             0,
             "#8e0152"
            ],
            [
             0.1,
             "#c51b7d"
            ],
            [
             0.2,
             "#de77ae"
            ],
            [
             0.3,
             "#f1b6da"
            ],
            [
             0.4,
             "#fde0ef"
            ],
            [
             0.5,
             "#f7f7f7"
            ],
            [
             0.6,
             "#e6f5d0"
            ],
            [
             0.7,
             "#b8e186"
            ],
            [
             0.8,
             "#7fbc41"
            ],
            [
             0.9,
             "#4d9221"
            ],
            [
             1,
             "#276419"
            ]
           ],
           "sequential": [
            [
             0,
             "#0d0887"
            ],
            [
             0.1111111111111111,
             "#46039f"
            ],
            [
             0.2222222222222222,
             "#7201a8"
            ],
            [
             0.3333333333333333,
             "#9c179e"
            ],
            [
             0.4444444444444444,
             "#bd3786"
            ],
            [
             0.5555555555555556,
             "#d8576b"
            ],
            [
             0.6666666666666666,
             "#ed7953"
            ],
            [
             0.7777777777777778,
             "#fb9f3a"
            ],
            [
             0.8888888888888888,
             "#fdca26"
            ],
            [
             1,
             "#f0f921"
            ]
           ],
           "sequentialminus": [
            [
             0,
             "#0d0887"
            ],
            [
             0.1111111111111111,
             "#46039f"
            ],
            [
             0.2222222222222222,
             "#7201a8"
            ],
            [
             0.3333333333333333,
             "#9c179e"
            ],
            [
             0.4444444444444444,
             "#bd3786"
            ],
            [
             0.5555555555555556,
             "#d8576b"
            ],
            [
             0.6666666666666666,
             "#ed7953"
            ],
            [
             0.7777777777777778,
             "#fb9f3a"
            ],
            [
             0.8888888888888888,
             "#fdca26"
            ],
            [
             1,
             "#f0f921"
            ]
           ]
          },
          "colorway": [
           "#636efa",
           "#EF553B",
           "#00cc96",
           "#ab63fa",
           "#FFA15A",
           "#19d3f3",
           "#FF6692",
           "#B6E880",
           "#FF97FF",
           "#FECB52"
          ],
          "font": {
           "color": "#2a3f5f"
          },
          "geo": {
           "bgcolor": "white",
           "lakecolor": "white",
           "landcolor": "#E5ECF6",
           "showlakes": true,
           "showland": true,
           "subunitcolor": "white"
          },
          "hoverlabel": {
           "align": "left"
          },
          "hovermode": "closest",
          "mapbox": {
           "style": "light"
          },
          "paper_bgcolor": "white",
          "plot_bgcolor": "#E5ECF6",
          "polar": {
           "angularaxis": {
            "gridcolor": "white",
            "linecolor": "white",
            "ticks": ""
           },
           "bgcolor": "#E5ECF6",
           "radialaxis": {
            "gridcolor": "white",
            "linecolor": "white",
            "ticks": ""
           }
          },
          "scene": {
           "xaxis": {
            "backgroundcolor": "#E5ECF6",
            "gridcolor": "white",
            "gridwidth": 2,
            "linecolor": "white",
            "showbackground": true,
            "ticks": "",
            "zerolinecolor": "white"
           },
           "yaxis": {
            "backgroundcolor": "#E5ECF6",
            "gridcolor": "white",
            "gridwidth": 2,
            "linecolor": "white",
            "showbackground": true,
            "ticks": "",
            "zerolinecolor": "white"
           },
           "zaxis": {
            "backgroundcolor": "#E5ECF6",
            "gridcolor": "white",
            "gridwidth": 2,
            "linecolor": "white",
            "showbackground": true,
            "ticks": "",
            "zerolinecolor": "white"
           }
          },
          "shapedefaults": {
           "line": {
            "color": "#2a3f5f"
           }
          },
          "ternary": {
           "aaxis": {
            "gridcolor": "white",
            "linecolor": "white",
            "ticks": ""
           },
           "baxis": {
            "gridcolor": "white",
            "linecolor": "white",
            "ticks": ""
           },
           "bgcolor": "#E5ECF6",
           "caxis": {
            "gridcolor": "white",
            "linecolor": "white",
            "ticks": ""
           }
          },
          "title": {
           "x": 0.05
          },
          "xaxis": {
           "automargin": true,
           "gridcolor": "white",
           "linecolor": "white",
           "ticks": "",
           "title": {
            "standoff": 15
           },
           "zerolinecolor": "white",
           "zerolinewidth": 2
          },
          "yaxis": {
           "automargin": true,
           "gridcolor": "white",
           "linecolor": "white",
           "ticks": "",
           "title": {
            "standoff": 15
           },
           "zerolinecolor": "white",
           "zerolinewidth": 2
          }
         }
        },
        "title": {
         "font": {
          "family": "Arial"
         }
        }
       }
      },
      "image/png": "[encoded data removed]",
      "text/html": [
       "<div>                            <div id=\"4473fff5-1316-4d58-9969-f9455b86e815\" class=\"plotly-graph-div\" style=\"height:525px; width:100%;\"></div>            <script type=\"text/javascript\">                require([\"plotly\"], function(Plotly) {                    window.PLOTLYENV=window.PLOTLYENV || {};                                    if (document.getElementById(\"4473fff5-1316-4d58-9969-f9455b86e815\")) {                    Plotly.newPlot(                        \"4473fff5-1316-4d58-9969-f9455b86e815\",                        [{\"labels\":[\"Face Recognition\",\"Other\"],\"marker\":{\"colors\":[\"rgb(228,26,28)\",\"rgb(55,126,184)\",\"rgb(77,175,74)\",\"rgb(152,78,163)\",\"rgb(255,127,0)\",\"rgb(255,255,51)\",\"rgb(166,86,40)\",\"rgb(247,129,191)\",\"rgb(153,153,153)\"],\"line\":{\"color\":\"#000000\",\"width\":1}},\"pull\":[0,0,0,0.2,0,0,0],\"textfont\":{\"color\":\"black\"},\"type\":\"pie\",\"values\":[776,453]}],                        {\"font\":{\"color\":\"black\",\"family\":\"Arial\"},\"template\":{\"data\":{\"bar\":[{\"error_x\":{\"color\":\"#2a3f5f\"},\"error_y\":{\"color\":\"#2a3f5f\"},\"marker\":{\"line\":{\"color\":\"#E5ECF6\",\"width\":0.5},\"pattern\":{\"fillmode\":\"overlay\",\"size\":10,\"solidity\":0.2}},\"type\":\"bar\"}],\"barpolar\":[{\"marker\":{\"line\":{\"color\":\"#E5ECF6\",\"width\":0.5},\"pattern\":{\"fillmode\":\"overlay\",\"size\":10,\"solidity\":0.2}},\"type\":\"barpolar\"}],\"carpet\":[{\"aaxis\":{\"endlinecolor\":\"#2a3f5f\",\"gridcolor\":\"white\",\"linecolor\":\"white\",\"minorgridcolor\":\"white\",\"startlinecolor\":\"#2a3f5f\"},\"baxis\":{\"endlinecolor\":\"#2a3f5f\",\"gridcolor\":\"white\",\"linecolor\":\"white\",\"minorgridcolor\":\"white\",\"startlinecolor\":\"#2a3f5f\"},\"type\":\"carpet\"}],\"choropleth\":[{\"colorbar\":{\"outlinewidth\":0,\"ticks\":\"\"},\"type\":\"choropleth\"}],\"contour\":[{\"colorbar\":{\"outlinewidth\":0,\"ticks\":\"\"},\"colorscale\":[[0.0,\"#0d0887\"],[0.1111111111111111,\"#46039f\"],[0.2222222222222222,\"#7201a8\"],[0.3333333333333333,\"#9c179e\"],[0.4444444444444444,\"#bd3786\"],[0.5555555555555556,\"#d8576b\"],[0.6666666666666666,\"#ed7953\"],[0.7777777777777778,\"#fb9f3a\"],[0.8888888888888888,\"#fdca26\"],[1.0,\"#f0f921\"]],\"type\":\"contour\"}],\"contourcarpet\":[{\"colorbar\":{\"outlinewidth\":0,\"ticks\":\"\"},\"type\":\"contourcarpet\"}],\"heatmap\":[{\"colorbar\":{\"outlinewidth\":0,\"ticks\":\"\"},\"colorscale\":[[0.0,\"#0d0887\"],[0.1111111111111111,\"#46039f\"],[0.2222222222222222,\"#7201a8\"],[0.3333333333333333,\"#9c179e\"],[0.4444444444444444,\"#bd3786\"],[0.5555555555555556,\"#d8576b\"],[0.6666666666666666,\"#ed7953\"],[0.7777777777777778,\"#fb9f3a\"],[0.8888888888888888,\"#fdca26\"],[1.0,\"#f0f921\"]],\"type\":\"heatmap\"}],\"heatmapgl\":[{\"colorbar\":{\"outlinewidth\":0,\"ticks\":\"\"},\"colorscale\":[[0.0,\"#0d0887\"],[0.1111111111111111,\"#46039f\"],[0.2222222222222222,\"#7201a8\"],[0.3333333333333333,\"#9c179e\"],[0.4444444444444444,\"#bd3786\"],[0.5555555555555556,\"#d8576b\"],[0.6666666666666666,\"#ed7953\"],[0.7777777777777778,\"#fb9f3a\"],[0.8888888888888888,\"#fdca26\"],[1.0,\"#f0f921\"]],\"type\":\"heatmapgl\"}],\"histogram\":[{\"marker\":{\"pattern\":{\"fillmode\":\"overlay\",\"size\":10,\"solidity\":0.2}},\"type\":\"histogram\"}],\"histogram2d\":[{\"colorbar\":{\"outlinewidth\":0,\"ticks\":\"\"},\"colorscale\":[[0.0,\"#0d0887\"],[0.1111111111111111,\"#46039f\"],[0.2222222222222222,\"#7201a8\"],[0.3333333333333333,\"#9c179e\"],[0.4444444444444444,\"#bd3786\"],[0.5555555555555556,\"#d8576b\"],[0.6666666666666666,\"#ed7953\"],[0.7777777777777778,\"#fb9f3a\"],[0.8888888888888888,\"#fdca26\"],[1.0,\"#f0f921\"]],\"type\":\"histogram2d\"}],\"histogram2dcontour\":[{\"colorbar\":{\"outlinewidth\":0,\"ticks\":\"\"},\"colorscale\":[[0.0,\"#0d0887\"],[0.1111111111111111,\"#46039f\"],[0.2222222222222222,\"#7201a8\"],[0.3333333333333333,\"#9c179e\"],[0.4444444444444444,\"#bd3786\"],[0.5555555555555556,\"#d8576b\"],[0.6666666666666666,\"#ed7953\"],[0.7777777777777778,\"#fb9f3a\"],[0.8888888888888888,\"#fdca26\"],[1.0,\"#f0f921\"]],\"type\":\"histogram2dcontour\"}],\"mesh3d\":[{\"colorbar\":{\"outlinewidth\":0,\"ticks\":\"\"},\"type\":\"mesh3d\"}],\"parcoords\":[{\"line\":{\"colorbar\":{\"outlinewidth\":0,\"ticks\":\"\"}},\"type\":\"parcoords\"}],\"pie\":[{\"automargin\":true,\"type\":\"pie\"}],\"scatter\":[{\"marker\":{\"colorbar\":{\"outlinewidth\":0,\"ticks\":\"\"}},\"type\":\"scatter\"}],\"scatter3d\":[{\"line\":{\"colorbar\":{\"outlinewidth\":0,\"ticks\":\"\"}},\"marker\":{\"colorbar\":{\"outlinewidth\":0,\"ticks\":\"\"}},\"type\":\"scatter3d\"}],\"scattercarpet\":[{\"marker\":{\"colorbar\":{\"outlinewidth\":0,\"ticks\":\"\"}},\"type\":\"scattercarpet\"}],\"scattergeo\":[{\"marker\":{\"colorbar\":{\"outlinewidth\":0,\"ticks\":\"\"}},\"type\":\"scattergeo\"}],\"scattergl\":[{\"marker\":{\"colorbar\":{\"outlinewidth\":0,\"ticks\":\"\"}},\"type\":\"scattergl\"}],\"scattermapbox\":[{\"marker\":{\"colorbar\":{\"outlinewidth\":0,\"ticks\":\"\"}},\"type\":\"scattermapbox\"}],\"scatterpolar\":[{\"marker\":{\"colorbar\":{\"outlinewidth\":0,\"ticks\":\"\"}},\"type\":\"scatterpolar\"}],\"scatterpolargl\":[{\"marker\":{\"colorbar\":{\"outlinewidth\":0,\"ticks\":\"\"}},\"type\":\"scatterpolargl\"}],\"scatterternary\":[{\"marker\":{\"colorbar\":{\"outlinewidth\":0,\"ticks\":\"\"}},\"type\":\"scatterternary\"}],\"surface\":[{\"colorbar\":{\"outlinewidth\":0,\"ticks\":\"\"},\"colorscale\":[[0.0,\"#0d0887\"],[0.1111111111111111,\"#46039f\"],[0.2222222222222222,\"#7201a8\"],[0.3333333333333333,\"#9c179e\"],[0.4444444444444444,\"#bd3786\"],[0.5555555555555556,\"#d8576b\"],[0.6666666666666666,\"#ed7953\"],[0.7777777777777778,\"#fb9f3a\"],[0.8888888888888888,\"#fdca26\"],[1.0,\"#f0f921\"]],\"type\":\"surface\"}],\"table\":[{\"cells\":{\"fill\":{\"color\":\"#EBF0F8\"},\"line\":{\"color\":\"white\"}},\"header\":{\"fill\":{\"color\":\"#C8D4E3\"},\"line\":{\"color\":\"white\"}},\"type\":\"table\"}]},\"layout\":{\"annotationdefaults\":{\"arrowcolor\":\"#2a3f5f\",\"arrowhead\":0,\"arrowwidth\":1},\"autotypenumbers\":\"strict\",\"coloraxis\":{\"colorbar\":{\"outlinewidth\":0,\"ticks\":\"\"}},\"colorscale\":{\"diverging\":[[0,\"#8e0152\"],[0.1,\"#c51b7d\"],[0.2,\"#de77ae\"],[0.3,\"#f1b6da\"],[0.4,\"#fde0ef\"],[0.5,\"#f7f7f7\"],[0.6,\"#e6f5d0\"],[0.7,\"#b8e186\"],[0.8,\"#7fbc41\"],[0.9,\"#4d9221\"],[1,\"#276419\"]],\"sequential\":[[0.0,\"#0d0887\"],[0.1111111111111111,\"#46039f\"],[0.2222222222222222,\"#7201a8\"],[0.3333333333333333,\"#9c179e\"],[0.4444444444444444,\"#bd3786\"],[0.5555555555555556,\"#d8576b\"],[0.6666666666666666,\"#ed7953\"],[0.7777777777777778,\"#fb9f3a\"],[0.8888888888888888,\"#fdca26\"],[1.0,\"#f0f921\"]],\"sequentialminus\":[[0.0,\"#0d0887\"],[0.1111111111111111,\"#46039f\"],[0.2222222222222222,\"#7201a8\"],[0.3333333333333333,\"#9c179e\"],[0.4444444444444444,\"#bd3786\"],[0.5555555555555556,\"#d8576b\"],[0.6666666666666666,\"#ed7953\"],[0.7777777777777778,\"#fb9f3a\"],[0.8888888888888888,\"#fdca26\"],[1.0,\"#f0f921\"]]},\"colorway\":[\"#636efa\",\"#EF553B\",\"#00cc96\",\"#ab63fa\",\"#FFA15A\",\"#19d3f3\",\"#FF6692\",\"#B6E880\",\"#FF97FF\",\"#FECB52\"],\"font\":{\"color\":\"#2a3f5f\"},\"geo\":{\"bgcolor\":\"white\",\"lakecolor\":\"white\",\"landcolor\":\"#E5ECF6\",\"showlakes\":true,\"showland\":true,\"subunitcolor\":\"white\"},\"hoverlabel\":{\"align\":\"left\"},\"hovermode\":\"closest\",\"mapbox\":{\"style\":\"light\"},\"paper_bgcolor\":\"white\",\"plot_bgcolor\":\"#E5ECF6\",\"polar\":{\"angularaxis\":{\"gridcolor\":\"white\",\"linecolor\":\"white\",\"ticks\":\"\"},\"bgcolor\":\"#E5ECF6\",\"radialaxis\":{\"gridcolor\":\"white\",\"linecolor\":\"white\",\"ticks\":\"\"}},\"scene\":{\"xaxis\":{\"backgroundcolor\":\"#E5ECF6\",\"gridcolor\":\"white\",\"gridwidth\":2,\"linecolor\":\"white\",\"showbackground\":true,\"ticks\":\"\",\"zerolinecolor\":\"white\"},\"yaxis\":{\"backgroundcolor\":\"#E5ECF6\",\"gridcolor\":\"white\",\"gridwidth\":2,\"linecolor\":\"white\",\"showbackground\":true,\"ticks\":\"\",\"zerolinecolor\":\"white\"},\"zaxis\":{\"backgroundcolor\":\"#E5ECF6\",\"gridcolor\":\"white\",\"gridwidth\":2,\"linecolor\":\"white\",\"showbackground\":true,\"ticks\":\"\",\"zerolinecolor\":\"white\"}},\"shapedefaults\":{\"line\":{\"color\":\"#2a3f5f\"}},\"ternary\":{\"aaxis\":{\"gridcolor\":\"white\",\"linecolor\":\"white\",\"ticks\":\"\"},\"baxis\":{\"gridcolor\":\"white\",\"linecolor\":\"white\",\"ticks\":\"\"},\"bgcolor\":\"#E5ECF6\",\"caxis\":{\"gridcolor\":\"white\",\"linecolor\":\"white\",\"ticks\":\"\"}},\"title\":{\"x\":0.05},\"xaxis\":{\"automargin\":true,\"gridcolor\":\"white\",\"linecolor\":\"white\",\"ticks\":\"\",\"title\":{\"standoff\":15},\"zerolinecolor\":\"white\",\"zerolinewidth\":2},\"yaxis\":{\"automargin\":true,\"gridcolor\":\"white\",\"linecolor\":\"white\",\"ticks\":\"\",\"title\":{\"standoff\":15},\"zerolinecolor\":\"white\",\"zerolinewidth\":2}}},\"title\":{\"font\":{\"family\":\"Arial\"}}},                        {\"responsive\": true}                    ).then(function(){\n",
       "                            \n",
       "var gd = document.getElementById('4473fff5-1316-4d58-9969-f9455b86e815');\n",
       "var x = new MutationObserver(function (mutations, observer) {{\n",
       "        var display = window.getComputedStyle(gd).display;\n",
       "        if (!display || display === 'none') {{\n",
       "            console.log([gd, 'removed!']);\n",
       "            Plotly.purge(gd);\n",
       "            observer.disconnect();\n",
       "        }}\n",
       "}});\n",
       "\n",
       "// Listen for the removal of the full notebook cells\n",
       "var notebookContainer = gd.closest('#notebook-container');\n",
       "if (notebookContainer) {{\n",
       "    x.observe(notebookContainer, {childList: true});\n",
       "}}\n",
       "\n",
       "// Listen for the clearing of the current output cell\n",
       "var outputEl = gd.closest('.output');\n",
       "if (outputEl) {{\n",
       "    x.observe(outputEl, {childList: true});\n",
       "}}\n",
       "\n",
       "                        })                };                });            </script>        </div>"
      ]
     },
     "metadata": {},
     "output_type": "display_data"
    },
    {
     "data": {
      "application/vnd.plotly.v1+json": {
       "config": {
        "plotlyServerURL": "https://plot.ly"
       },
       "data": [
        {
         "labels": [
          "LFW",
          "CASIA-WebFace",
          "VGGFace2",
          "MegaFace",
          "MS-Celeb-1M",
          "IJB-A",
          "Multi-PIE",
          "Other"
         ],
         "marker": {
          "colors": [
           "rgb(228,26,28)",
           "rgb(55,126,184)",
           "rgb(77,175,74)",
           "rgb(255,255,,255)",
           "rgb(255,255,255)",
           "rgb(255,255,51)",
           "rgb(166,86,40)",
           "rgb(247,129,191)",
           "rgb(153,153,153)"
          ],
          "line": {
           "color": "#000000",
           "width": 1
          }
         },
         "pull": [
          0,
          0,
          0,
          0.2,
          0.2,
          0,
          0
         ],
         "textfont": {
          "color": "black"
         },
         "type": "pie",
         "values": [
          301,
          158,
          130,
          110,
          110,
          108,
          93,
          219
         ]
        }
       ],
       "layout": {
        "autosize": true,
        "font": {
         "color": "black",
         "family": "Arial"
        },
        "template": {
         "data": {
          "bar": [
           {
            "error_x": {
             "color": "#2a3f5f"
            },
            "error_y": {
             "color": "#2a3f5f"
            },
            "marker": {
             "line": {
              "color": "#E5ECF6",
              "width": 0.5
             },
             "pattern": {
              "fillmode": "overlay",
              "size": 10,
              "solidity": 0.2
             }
            },
            "type": "bar"
           }
          ],
          "barpolar": [
           {
            "marker": {
             "line": {
              "color": "#E5ECF6",
              "width": 0.5
             },
             "pattern": {
              "fillmode": "overlay",
              "size": 10,
              "solidity": 0.2
             }
            },
            "type": "barpolar"
           }
          ],
          "carpet": [
           {
            "aaxis": {
             "endlinecolor": "#2a3f5f",
             "gridcolor": "white",
             "linecolor": "white",
             "minorgridcolor": "white",
             "startlinecolor": "#2a3f5f"
            },
            "baxis": {
             "endlinecolor": "#2a3f5f",
             "gridcolor": "white",
             "linecolor": "white",
             "minorgridcolor": "white",
             "startlinecolor": "#2a3f5f"
            },
            "type": "carpet"
           }
          ],
          "choropleth": [
           {
            "colorbar": {
             "outlinewidth": 0,
             "ticks": ""
            },
            "type": "choropleth"
           }
          ],
          "contour": [
           {
            "colorbar": {
             "outlinewidth": 0,
             "ticks": ""
            },
            "colorscale": [
             [
              0,
              "#0d0887"
             ],
             [
              0.1111111111111111,
              "#46039f"
             ],
             [
              0.2222222222222222,
              "#7201a8"
             ],
             [
              0.3333333333333333,
              "#9c179e"
             ],
             [
              0.4444444444444444,
              "#bd3786"
             ],
             [
              0.5555555555555556,
              "#d8576b"
             ],
             [
              0.6666666666666666,
              "#ed7953"
             ],
             [
              0.7777777777777778,
              "#fb9f3a"
             ],
             [
              0.8888888888888888,
              "#fdca26"
             ],
             [
              1,
              "#f0f921"
             ]
            ],
            "type": "contour"
           }
          ],
          "contourcarpet": [
           {
            "colorbar": {
             "outlinewidth": 0,
             "ticks": ""
            },
            "type": "contourcarpet"
           }
          ],
          "heatmap": [
           {
            "colorbar": {
             "outlinewidth": 0,
             "ticks": ""
            },
            "colorscale": [
             [
              0,
              "#0d0887"
             ],
             [
              0.1111111111111111,
              "#46039f"
             ],
             [
              0.2222222222222222,
              "#7201a8"
             ],
             [
              0.3333333333333333,
              "#9c179e"
             ],
             [
              0.4444444444444444,
              "#bd3786"
             ],
             [
              0.5555555555555556,
              "#d8576b"
             ],
             [
              0.6666666666666666,
              "#ed7953"
             ],
             [
              0.7777777777777778,
              "#fb9f3a"
             ],
             [
              0.8888888888888888,
              "#fdca26"
             ],
             [
              1,
              "#f0f921"
             ]
            ],
            "type": "heatmap"
           }
          ],
          "heatmapgl": [
           {
            "colorbar": {
             "outlinewidth": 0,
             "ticks": ""
            },
            "colorscale": [
             [
              0,
              "#0d0887"
             ],
             [
              0.1111111111111111,
              "#46039f"
             ],
             [
              0.2222222222222222,
              "#7201a8"
             ],
             [
              0.3333333333333333,
              "#9c179e"
             ],
             [
              0.4444444444444444,
              "#bd3786"
             ],
             [
              0.5555555555555556,
              "#d8576b"
             ],
             [
              0.6666666666666666,
              "#ed7953"
             ],
             [
              0.7777777777777778,
              "#fb9f3a"
             ],
             [
              0.8888888888888888,
              "#fdca26"
             ],
             [
              1,
              "#f0f921"
             ]
            ],
            "type": "heatmapgl"
           }
          ],
          "histogram": [
           {
            "marker": {
             "pattern": {
              "fillmode": "overlay",
              "size": 10,
              "solidity": 0.2
             }
            },
            "type": "histogram"
           }
          ],
          "histogram2d": [
           {
            "colorbar": {
             "outlinewidth": 0,
             "ticks": ""
            },
            "colorscale": [
             [
              0,
              "#0d0887"
             ],
             [
              0.1111111111111111,
              "#46039f"
             ],
             [
              0.2222222222222222,
              "#7201a8"
             ],
             [
              0.3333333333333333,
              "#9c179e"
             ],
             [
              0.4444444444444444,
              "#bd3786"
             ],
             [
              0.5555555555555556,
              "#d8576b"
             ],
             [
              0.6666666666666666,
              "#ed7953"
             ],
             [
              0.7777777777777778,
              "#fb9f3a"
             ],
             [
              0.8888888888888888,
              "#fdca26"
             ],
             [
              1,
              "#f0f921"
             ]
            ],
            "type": "histogram2d"
           }
          ],
          "histogram2dcontour": [
           {
            "colorbar": {
             "outlinewidth": 0,
             "ticks": ""
            },
            "colorscale": [
             [
              0,
              "#0d0887"
             ],
             [
              0.1111111111111111,
              "#46039f"
             ],
             [
              0.2222222222222222,
              "#7201a8"
             ],
             [
              0.3333333333333333,
              "#9c179e"
             ],
             [
              0.4444444444444444,
              "#bd3786"
             ],
             [
              0.5555555555555556,
              "#d8576b"
             ],
             [
              0.6666666666666666,
              "#ed7953"
             ],
             [
              0.7777777777777778,
              "#fb9f3a"
             ],
             [
              0.8888888888888888,
              "#fdca26"
             ],
             [
              1,
              "#f0f921"
             ]
            ],
            "type": "histogram2dcontour"
           }
          ],
          "mesh3d": [
           {
            "colorbar": {
             "outlinewidth": 0,
             "ticks": ""
            },
            "type": "mesh3d"
           }
          ],
          "parcoords": [
           {
            "line": {
             "colorbar": {
              "outlinewidth": 0,
              "ticks": ""
             }
            },
            "type": "parcoords"
           }
          ],
          "pie": [
           {
            "automargin": true,
            "type": "pie"
           }
          ],
          "scatter": [
           {
            "marker": {
             "colorbar": {
              "outlinewidth": 0,
              "ticks": ""
             }
            },
            "type": "scatter"
           }
          ],
          "scatter3d": [
           {
            "line": {
             "colorbar": {
              "outlinewidth": 0,
              "ticks": ""
             }
            },
            "marker": {
             "colorbar": {
              "outlinewidth": 0,
              "ticks": ""
             }
            },
            "type": "scatter3d"
           }
          ],
          "scattercarpet": [
           {
            "marker": {
             "colorbar": {
              "outlinewidth": 0,
              "ticks": ""
             }
            },
            "type": "scattercarpet"
           }
          ],
          "scattergeo": [
           {
            "marker": {
             "colorbar": {
              "outlinewidth": 0,
              "ticks": ""
             }
            },
            "type": "scattergeo"
           }
          ],
          "scattergl": [
           {
            "marker": {
             "colorbar": {
              "outlinewidth": 0,
              "ticks": ""
             }
            },
            "type": "scattergl"
           }
          ],
          "scattermapbox": [
           {
            "marker": {
             "colorbar": {
              "outlinewidth": 0,
              "ticks": ""
             }
            },
            "type": "scattermapbox"
           }
          ],
          "scatterpolar": [
           {
            "marker": {
             "colorbar": {
              "outlinewidth": 0,
              "ticks": ""
             }
            },
            "type": "scatterpolar"
           }
          ],
          "scatterpolargl": [
           {
            "marker": {
             "colorbar": {
              "outlinewidth": 0,
              "ticks": ""
             }
            },
            "type": "scatterpolargl"
           }
          ],
          "scatterternary": [
           {
            "marker": {
             "colorbar": {
              "outlinewidth": 0,
              "ticks": ""
             }
            },
            "type": "scatterternary"
           }
          ],
          "surface": [
           {
            "colorbar": {
             "outlinewidth": 0,
             "ticks": ""
            },
            "colorscale": [
             [
              0,
              "#0d0887"
             ],
             [
              0.1111111111111111,
              "#46039f"
             ],
             [
              0.2222222222222222,
              "#7201a8"
             ],
             [
              0.3333333333333333,
              "#9c179e"
             ],
             [
              0.4444444444444444,
              "#bd3786"
             ],
             [
              0.5555555555555556,
              "#d8576b"
             ],
             [
              0.6666666666666666,
              "#ed7953"
             ],
             [
              0.7777777777777778,
              "#fb9f3a"
             ],
             [
              0.8888888888888888,
              "#fdca26"
             ],
             [
              1,
              "#f0f921"
             ]
            ],
            "type": "surface"
           }
          ],
          "table": [
           {
            "cells": {
             "fill": {
              "color": "#EBF0F8"
             },
             "line": {
              "color": "white"
             }
            },
            "header": {
             "fill": {
              "color": "#C8D4E3"
             },
             "line": {
              "color": "white"
             }
            },
            "type": "table"
           }
          ]
         },
         "layout": {
          "annotationdefaults": {
           "arrowcolor": "#2a3f5f",
           "arrowhead": 0,
           "arrowwidth": 1
          },
          "autotypenumbers": "strict",
          "coloraxis": {
           "colorbar": {
            "outlinewidth": 0,
            "ticks": ""
           }
          },
          "colorscale": {
           "diverging": [
            [
             0,
             "#8e0152"
            ],
            [
             0.1,
             "#c51b7d"
            ],
            [
             0.2,
             "#de77ae"
            ],
            [
             0.3,
             "#f1b6da"
            ],
            [
             0.4,
             "#fde0ef"
            ],
            [
             0.5,
             "#f7f7f7"
            ],
            [
             0.6,
             "#e6f5d0"
            ],
            [
             0.7,
             "#b8e186"
            ],
            [
             0.8,
             "#7fbc41"
            ],
            [
             0.9,
             "#4d9221"
            ],
            [
             1,
             "#276419"
            ]
           ],
           "sequential": [
            [
             0,
             "#0d0887"
            ],
            [
             0.1111111111111111,
             "#46039f"
            ],
            [
             0.2222222222222222,
             "#7201a8"
            ],
            [
             0.3333333333333333,
             "#9c179e"
            ],
            [
             0.4444444444444444,
             "#bd3786"
            ],
            [
             0.5555555555555556,
             "#d8576b"
            ],
            [
             0.6666666666666666,
             "#ed7953"
            ],
            [
             0.7777777777777778,
             "#fb9f3a"
            ],
            [
             0.8888888888888888,
             "#fdca26"
            ],
            [
             1,
             "#f0f921"
            ]
           ],
           "sequentialminus": [
            [
             0,
             "#0d0887"
            ],
            [
             0.1111111111111111,
             "#46039f"
            ],
            [
             0.2222222222222222,
             "#7201a8"
            ],
            [
             0.3333333333333333,
             "#9c179e"
            ],
            [
             0.4444444444444444,
             "#bd3786"
            ],
            [
             0.5555555555555556,
             "#d8576b"
            ],
            [
             0.6666666666666666,
             "#ed7953"
            ],
            [
             0.7777777777777778,
             "#fb9f3a"
            ],
            [
             0.8888888888888888,
             "#fdca26"
            ],
            [
             1,
             "#f0f921"
            ]
           ]
          },
          "colorway": [
           "#636efa",
           "#EF553B",
           "#00cc96",
           "#ab63fa",
           "#FFA15A",
           "#19d3f3",
           "#FF6692",
           "#B6E880",
           "#FF97FF",
           "#FECB52"
          ],
          "font": {
           "color": "#2a3f5f"
          },
          "geo": {
           "bgcolor": "white",
           "lakecolor": "white",
           "landcolor": "#E5ECF6",
           "showlakes": true,
           "showland": true,
           "subunitcolor": "white"
          },
          "hoverlabel": {
           "align": "left"
          },
          "hovermode": "closest",
          "mapbox": {
           "style": "light"
          },
          "paper_bgcolor": "white",
          "plot_bgcolor": "#E5ECF6",
          "polar": {
           "angularaxis": {
            "gridcolor": "white",
            "linecolor": "white",
            "ticks": ""
           },
           "bgcolor": "#E5ECF6",
           "radialaxis": {
            "gridcolor": "white",
            "linecolor": "white",
            "ticks": ""
           }
          },
          "scene": {
           "xaxis": {
            "backgroundcolor": "#E5ECF6",
            "gridcolor": "white",
            "gridwidth": 2,
            "linecolor": "white",
            "showbackground": true,
            "ticks": "",
            "zerolinecolor": "white"
           },
           "yaxis": {
            "backgroundcolor": "#E5ECF6",
            "gridcolor": "white",
            "gridwidth": 2,
            "linecolor": "white",
            "showbackground": true,
            "ticks": "",
            "zerolinecolor": "white"
           },
           "zaxis": {
            "backgroundcolor": "#E5ECF6",
            "gridcolor": "white",
            "gridwidth": 2,
            "linecolor": "white",
            "showbackground": true,
            "ticks": "",
            "zerolinecolor": "white"
           }
          },
          "shapedefaults": {
           "line": {
            "color": "#2a3f5f"
           }
          },
          "ternary": {
           "aaxis": {
            "gridcolor": "white",
            "linecolor": "white",
            "ticks": ""
           },
           "baxis": {
            "gridcolor": "white",
            "linecolor": "white",
            "ticks": ""
           },
           "bgcolor": "#E5ECF6",
           "caxis": {
            "gridcolor": "white",
            "linecolor": "white",
            "ticks": ""
           }
          },
          "title": {
           "x": 0.05
          },
          "xaxis": {
           "automargin": true,
           "gridcolor": "white",
           "linecolor": "white",
           "ticks": "",
           "title": {
            "standoff": 15
           },
           "zerolinecolor": "white",
           "zerolinewidth": 2
          },
          "yaxis": {
           "automargin": true,
           "gridcolor": "white",
           "linecolor": "white",
           "ticks": "",
           "title": {
            "standoff": 15
           },
           "zerolinecolor": "white",
           "zerolinewidth": 2
          }
         }
        },
        "title": {
         "font": {
          "family": "Arial"
         }
        }
       }
      },
      "image/png": "[encoded data removed]",
      "text/html": [
       "<div>                            <div id=\"99aa5ea9-910b-40d6-97e6-898b2b8ff454\" class=\"plotly-graph-div\" style=\"height:525px; width:100%;\"></div>            <script type=\"text/javascript\">                require([\"plotly\"], function(Plotly) {                    window.PLOTLYENV=window.PLOTLYENV || {};                                    if (document.getElementById(\"99aa5ea9-910b-40d6-97e6-898b2b8ff454\")) {                    Plotly.newPlot(                        \"99aa5ea9-910b-40d6-97e6-898b2b8ff454\",                        [{\"labels\":[\"LFW\",\"CASIA-WebFace\",\"VGGFace2\",\"MegaFace\",\"MS-Celeb-1M\",\"IJB-A\",\"Multi-PIE\",\"Other\"],\"marker\":{\"colors\":[\"rgb(228,26,28)\",\"rgb(55,126,184)\",\"rgb(77,175,74)\",\"rgb(255,255,,255)\",\"rgb(255,255,255)\",\"rgb(255,255,51)\",\"rgb(166,86,40)\",\"rgb(247,129,191)\",\"rgb(153,153,153)\"],\"line\":{\"color\":\"#000000\",\"width\":1}},\"pull\":[0,0,0,0.2,0.2,0,0],\"textfont\":{\"color\":\"black\"},\"type\":\"pie\",\"values\":[301,158,130,110,110,108,93,219]}],                        {\"font\":{\"color\":\"black\",\"family\":\"Arial\"},\"template\":{\"data\":{\"bar\":[{\"error_x\":{\"color\":\"#2a3f5f\"},\"error_y\":{\"color\":\"#2a3f5f\"},\"marker\":{\"line\":{\"color\":\"#E5ECF6\",\"width\":0.5},\"pattern\":{\"fillmode\":\"overlay\",\"size\":10,\"solidity\":0.2}},\"type\":\"bar\"}],\"barpolar\":[{\"marker\":{\"line\":{\"color\":\"#E5ECF6\",\"width\":0.5},\"pattern\":{\"fillmode\":\"overlay\",\"size\":10,\"solidity\":0.2}},\"type\":\"barpolar\"}],\"carpet\":[{\"aaxis\":{\"endlinecolor\":\"#2a3f5f\",\"gridcolor\":\"white\",\"linecolor\":\"white\",\"minorgridcolor\":\"white\",\"startlinecolor\":\"#2a3f5f\"},\"baxis\":{\"endlinecolor\":\"#2a3f5f\",\"gridcolor\":\"white\",\"linecolor\":\"white\",\"minorgridcolor\":\"white\",\"startlinecolor\":\"#2a3f5f\"},\"type\":\"carpet\"}],\"choropleth\":[{\"colorbar\":{\"outlinewidth\":0,\"ticks\":\"\"},\"type\":\"choropleth\"}],\"contour\":[{\"colorbar\":{\"outlinewidth\":0,\"ticks\":\"\"},\"colorscale\":[[0.0,\"#0d0887\"],[0.1111111111111111,\"#46039f\"],[0.2222222222222222,\"#7201a8\"],[0.3333333333333333,\"#9c179e\"],[0.4444444444444444,\"#bd3786\"],[0.5555555555555556,\"#d8576b\"],[0.6666666666666666,\"#ed7953\"],[0.7777777777777778,\"#fb9f3a\"],[0.8888888888888888,\"#fdca26\"],[1.0,\"#f0f921\"]],\"type\":\"contour\"}],\"contourcarpet\":[{\"colorbar\":{\"outlinewidth\":0,\"ticks\":\"\"},\"type\":\"contourcarpet\"}],\"heatmap\":[{\"colorbar\":{\"outlinewidth\":0,\"ticks\":\"\"},\"colorscale\":[[0.0,\"#0d0887\"],[0.1111111111111111,\"#46039f\"],[0.2222222222222222,\"#7201a8\"],[0.3333333333333333,\"#9c179e\"],[0.4444444444444444,\"#bd3786\"],[0.5555555555555556,\"#d8576b\"],[0.6666666666666666,\"#ed7953\"],[0.7777777777777778,\"#fb9f3a\"],[0.8888888888888888,\"#fdca26\"],[1.0,\"#f0f921\"]],\"type\":\"heatmap\"}],\"heatmapgl\":[{\"colorbar\":{\"outlinewidth\":0,\"ticks\":\"\"},\"colorscale\":[[0.0,\"#0d0887\"],[0.1111111111111111,\"#46039f\"],[0.2222222222222222,\"#7201a8\"],[0.3333333333333333,\"#9c179e\"],[0.4444444444444444,\"#bd3786\"],[0.5555555555555556,\"#d8576b\"],[0.6666666666666666,\"#ed7953\"],[0.7777777777777778,\"#fb9f3a\"],[0.8888888888888888,\"#fdca26\"],[1.0,\"#f0f921\"]],\"type\":\"heatmapgl\"}],\"histogram\":[{\"marker\":{\"pattern\":{\"fillmode\":\"overlay\",\"size\":10,\"solidity\":0.2}},\"type\":\"histogram\"}],\"histogram2d\":[{\"colorbar\":{\"outlinewidth\":0,\"ticks\":\"\"},\"colorscale\":[[0.0,\"#0d0887\"],[0.1111111111111111,\"#46039f\"],[0.2222222222222222,\"#7201a8\"],[0.3333333333333333,\"#9c179e\"],[0.4444444444444444,\"#bd3786\"],[0.5555555555555556,\"#d8576b\"],[0.6666666666666666,\"#ed7953\"],[0.7777777777777778,\"#fb9f3a\"],[0.8888888888888888,\"#fdca26\"],[1.0,\"#f0f921\"]],\"type\":\"histogram2d\"}],\"histogram2dcontour\":[{\"colorbar\":{\"outlinewidth\":0,\"ticks\":\"\"},\"colorscale\":[[0.0,\"#0d0887\"],[0.1111111111111111,\"#46039f\"],[0.2222222222222222,\"#7201a8\"],[0.3333333333333333,\"#9c179e\"],[0.4444444444444444,\"#bd3786\"],[0.5555555555555556,\"#d8576b\"],[0.6666666666666666,\"#ed7953\"],[0.7777777777777778,\"#fb9f3a\"],[0.8888888888888888,\"#fdca26\"],[1.0,\"#f0f921\"]],\"type\":\"histogram2dcontour\"}],\"mesh3d\":[{\"colorbar\":{\"outlinewidth\":0,\"ticks\":\"\"},\"type\":\"mesh3d\"}],\"parcoords\":[{\"line\":{\"colorbar\":{\"outlinewidth\":0,\"ticks\":\"\"}},\"type\":\"parcoords\"}],\"pie\":[{\"automargin\":true,\"type\":\"pie\"}],\"scatter\":[{\"marker\":{\"colorbar\":{\"outlinewidth\":0,\"ticks\":\"\"}},\"type\":\"scatter\"}],\"scatter3d\":[{\"line\":{\"colorbar\":{\"outlinewidth\":0,\"ticks\":\"\"}},\"marker\":{\"colorbar\":{\"outlinewidth\":0,\"ticks\":\"\"}},\"type\":\"scatter3d\"}],\"scattercarpet\":[{\"marker\":{\"colorbar\":{\"outlinewidth\":0,\"ticks\":\"\"}},\"type\":\"scattercarpet\"}],\"scattergeo\":[{\"marker\":{\"colorbar\":{\"outlinewidth\":0,\"ticks\":\"\"}},\"type\":\"scattergeo\"}],\"scattergl\":[{\"marker\":{\"colorbar\":{\"outlinewidth\":0,\"ticks\":\"\"}},\"type\":\"scattergl\"}],\"scattermapbox\":[{\"marker\":{\"colorbar\":{\"outlinewidth\":0,\"ticks\":\"\"}},\"type\":\"scattermapbox\"}],\"scatterpolar\":[{\"marker\":{\"colorbar\":{\"outlinewidth\":0,\"ticks\":\"\"}},\"type\":\"scatterpolar\"}],\"scatterpolargl\":[{\"marker\":{\"colorbar\":{\"outlinewidth\":0,\"ticks\":\"\"}},\"type\":\"scatterpolargl\"}],\"scatterternary\":[{\"marker\":{\"colorbar\":{\"outlinewidth\":0,\"ticks\":\"\"}},\"type\":\"scatterternary\"}],\"surface\":[{\"colorbar\":{\"outlinewidth\":0,\"ticks\":\"\"},\"colorscale\":[[0.0,\"#0d0887\"],[0.1111111111111111,\"#46039f\"],[0.2222222222222222,\"#7201a8\"],[0.3333333333333333,\"#9c179e\"],[0.4444444444444444,\"#bd3786\"],[0.5555555555555556,\"#d8576b\"],[0.6666666666666666,\"#ed7953\"],[0.7777777777777778,\"#fb9f3a\"],[0.8888888888888888,\"#fdca26\"],[1.0,\"#f0f921\"]],\"type\":\"surface\"}],\"table\":[{\"cells\":{\"fill\":{\"color\":\"#EBF0F8\"},\"line\":{\"color\":\"white\"}},\"header\":{\"fill\":{\"color\":\"#C8D4E3\"},\"line\":{\"color\":\"white\"}},\"type\":\"table\"}]},\"layout\":{\"annotationdefaults\":{\"arrowcolor\":\"#2a3f5f\",\"arrowhead\":0,\"arrowwidth\":1},\"autotypenumbers\":\"strict\",\"coloraxis\":{\"colorbar\":{\"outlinewidth\":0,\"ticks\":\"\"}},\"colorscale\":{\"diverging\":[[0,\"#8e0152\"],[0.1,\"#c51b7d\"],[0.2,\"#de77ae\"],[0.3,\"#f1b6da\"],[0.4,\"#fde0ef\"],[0.5,\"#f7f7f7\"],[0.6,\"#e6f5d0\"],[0.7,\"#b8e186\"],[0.8,\"#7fbc41\"],[0.9,\"#4d9221\"],[1,\"#276419\"]],\"sequential\":[[0.0,\"#0d0887\"],[0.1111111111111111,\"#46039f\"],[0.2222222222222222,\"#7201a8\"],[0.3333333333333333,\"#9c179e\"],[0.4444444444444444,\"#bd3786\"],[0.5555555555555556,\"#d8576b\"],[0.6666666666666666,\"#ed7953\"],[0.7777777777777778,\"#fb9f3a\"],[0.8888888888888888,\"#fdca26\"],[1.0,\"#f0f921\"]],\"sequentialminus\":[[0.0,\"#0d0887\"],[0.1111111111111111,\"#46039f\"],[0.2222222222222222,\"#7201a8\"],[0.3333333333333333,\"#9c179e\"],[0.4444444444444444,\"#bd3786\"],[0.5555555555555556,\"#d8576b\"],[0.6666666666666666,\"#ed7953\"],[0.7777777777777778,\"#fb9f3a\"],[0.8888888888888888,\"#fdca26\"],[1.0,\"#f0f921\"]]},\"colorway\":[\"#636efa\",\"#EF553B\",\"#00cc96\",\"#ab63fa\",\"#FFA15A\",\"#19d3f3\",\"#FF6692\",\"#B6E880\",\"#FF97FF\",\"#FECB52\"],\"font\":{\"color\":\"#2a3f5f\"},\"geo\":{\"bgcolor\":\"white\",\"lakecolor\":\"white\",\"landcolor\":\"#E5ECF6\",\"showlakes\":true,\"showland\":true,\"subunitcolor\":\"white\"},\"hoverlabel\":{\"align\":\"left\"},\"hovermode\":\"closest\",\"mapbox\":{\"style\":\"light\"},\"paper_bgcolor\":\"white\",\"plot_bgcolor\":\"#E5ECF6\",\"polar\":{\"angularaxis\":{\"gridcolor\":\"white\",\"linecolor\":\"white\",\"ticks\":\"\"},\"bgcolor\":\"#E5ECF6\",\"radialaxis\":{\"gridcolor\":\"white\",\"linecolor\":\"white\",\"ticks\":\"\"}},\"scene\":{\"xaxis\":{\"backgroundcolor\":\"#E5ECF6\",\"gridcolor\":\"white\",\"gridwidth\":2,\"linecolor\":\"white\",\"showbackground\":true,\"ticks\":\"\",\"zerolinecolor\":\"white\"},\"yaxis\":{\"backgroundcolor\":\"#E5ECF6\",\"gridcolor\":\"white\",\"gridwidth\":2,\"linecolor\":\"white\",\"showbackground\":true,\"ticks\":\"\",\"zerolinecolor\":\"white\"},\"zaxis\":{\"backgroundcolor\":\"#E5ECF6\",\"gridcolor\":\"white\",\"gridwidth\":2,\"linecolor\":\"white\",\"showbackground\":true,\"ticks\":\"\",\"zerolinecolor\":\"white\"}},\"shapedefaults\":{\"line\":{\"color\":\"#2a3f5f\"}},\"ternary\":{\"aaxis\":{\"gridcolor\":\"white\",\"linecolor\":\"white\",\"ticks\":\"\"},\"baxis\":{\"gridcolor\":\"white\",\"linecolor\":\"white\",\"ticks\":\"\"},\"bgcolor\":\"#E5ECF6\",\"caxis\":{\"gridcolor\":\"white\",\"linecolor\":\"white\",\"ticks\":\"\"}},\"title\":{\"x\":0.05},\"xaxis\":{\"automargin\":true,\"gridcolor\":\"white\",\"linecolor\":\"white\",\"ticks\":\"\",\"title\":{\"standoff\":15},\"zerolinecolor\":\"white\",\"zerolinewidth\":2},\"yaxis\":{\"automargin\":true,\"gridcolor\":\"white\",\"linecolor\":\"white\",\"ticks\":\"\",\"title\":{\"standoff\":15},\"zerolinecolor\":\"white\",\"zerolinewidth\":2}}},\"title\":{\"font\":{\"family\":\"Arial\"}}},                        {\"responsive\": true}                    ).then(function(){\n",
       "                            \n",
       "var gd = document.getElementById('99aa5ea9-910b-40d6-97e6-898b2b8ff454');\n",
       "var x = new MutationObserver(function (mutations, observer) {{\n",
       "        var display = window.getComputedStyle(gd).display;\n",
       "        if (!display || display === 'none') {{\n",
       "            console.log([gd, 'removed!']);\n",
       "            Plotly.purge(gd);\n",
       "            observer.disconnect();\n",
       "        }}\n",
       "}});\n",
       "\n",
       "// Listen for the removal of the full notebook cells\n",
       "var notebookContainer = gd.closest('#notebook-container');\n",
       "if (notebookContainer) {{\n",
       "    x.observe(notebookContainer, {childList: true});\n",
       "}}\n",
       "\n",
       "// Listen for the clearing of the current output cell\n",
       "var outputEl = gd.closest('.output');\n",
       "if (outputEl) {{\n",
       "    x.observe(outputEl, {childList: true});\n",
       "}}\n",
       "\n",
       "                        })                };                });            </script>        </div>"
      ]
     },
     "metadata": {},
     "output_type": "display_data"
    }
   ],
   "source": [
    "import plotly.graph_objects as go\n",
    "\n",
    "fig = go.Figure(data=[go.Pie(labels=tasks_df['task'], \n",
    "                             values=tasks_df['count'],\n",
    "                            pull=[0, 0, 0, 0.2,0,0,0])])\n",
    "fig.update_layout(\n",
    "    font_family=\"Arial\",\n",
    "    title_font_family=\"Arial\",\n",
    "    font_color='black',\n",
    ")\n",
    "fig.update_traces(marker=dict(colors=px.colors.qualitative.Set1,line=dict(color='#000000', width=1)),textfont_color='black')\n",
    "fig.show()\n",
    "temp=[i for i in px.colors.qualitative.Set1]\n",
    "temp[3]='rgb(255,255,,255)'\n",
    "temp[4]='rgb(255,255,255)'\n",
    "temp\n",
    "fig = go.Figure(data=[go.Pie(labels=dataset_df['name'], \n",
    "                             values=dataset_df['count'],\n",
    "                            pull=[0, 0, 0,.2,.2,0,0])])\n",
    "fig.update_layout(\n",
    "    font_family=\"Arial\",\n",
    "    title_font_family=\"Arial\",\n",
    "    font_color='black',\n",
    ")\n",
    "fig.update_traces(marker=dict(colors=temp,line=dict(color='#000000', width=1)),textfont_color='black')\n",
    "fig.show()\n",
    "fig.write_image(\"/mnt/c/Users/berna/Documents/GoogleDataProject/ImportPlots/FaceRecognitionDatasets.svg\")"
   ]
  },
  {
   "cell_type": "code",
   "execution_count": 77,
   "id": "8cc2a650-2ebe-4d87-b045-8f310f93988f",
   "metadata": {},
   "outputs": [
    {
     "data": {
      "text/plain": [
       "['rgb(228,26,28)',\n",
       " 'rgb(55,126,184)',\n",
       " 'rgb(77,175,74)',\n",
       " 'rgb(0,0,0)',\n",
       " 'rgb(0,0,0)',\n",
       " 'rgb(255,255,51)',\n",
       " 'rgb(166,86,40)',\n",
       " 'rgb(247,129,191)',\n",
       " 'rgb(153,153,153)']"
      ]
     },
     "execution_count": 77,
     "metadata": {},
     "output_type": "execute_result"
    }
   ],
   "source": []
  },
  {
   "cell_type": "code",
   "execution_count": 25,
   "id": "88e7c9e4-8e4b-4fb0-af27-4e10958a2748",
   "metadata": {},
   "outputs": [],
   "source": [
    "%matplotlib inline\n",
    "tasks_df['cumulative']=tasks_df.sort_values('count',ascending=False)['count'].cumsum()/tasks_df.sort_values('count',ascending=False)['count'].sum()\n",
    "#tasks_df.set_index('task').plot.pie(y='count')\n",
    "other_count=tasks_df[tasks_df['cumulative']>.99]['count'].sum()\n",
    "tasks_df=tasks_df[tasks_df['cumulative']<.99]\n",
    "tasks_df=tasks_df.append({'task':'Other','count':other_count,'cumulative':1,'source':'gray'},ignore_index=True)"
   ]
  },
  {
   "cell_type": "code",
   "execution_count": 26,
   "id": "7cd31219-fd7d-4142-bf9b-90f7c96604e4",
   "metadata": {},
   "outputs": [
    {
     "data": {
      "text/html": [
       "<div>\n",
       "<style scoped>\n",
       "    .dataframe tbody tr th:only-of-type {\n",
       "        vertical-align: middle;\n",
       "    }\n",
       "\n",
       "    .dataframe tbody tr th {\n",
       "        vertical-align: top;\n",
       "    }\n",
       "\n",
       "    .dataframe thead th {\n",
       "        text-align: right;\n",
       "    }\n",
       "</style>\n",
       "<table border=\"1\" class=\"dataframe\">\n",
       "  <thead>\n",
       "    <tr style=\"text-align: right;\">\n",
       "      <th></th>\n",
       "      <th>name</th>\n",
       "      <th>count</th>\n",
       "      <th>source</th>\n",
       "      <th>cumulative</th>\n",
       "    </tr>\n",
       "  </thead>\n",
       "  <tbody>\n",
       "    <tr>\n",
       "      <th>0</th>\n",
       "      <td>CASIA-WebFace</td>\n",
       "      <td>158</td>\n",
       "      <td>orange</td>\n",
       "      <td>0.208995</td>\n",
       "    </tr>\n",
       "    <tr>\n",
       "      <th>1</th>\n",
       "      <td>VGGFace2</td>\n",
       "      <td>129</td>\n",
       "      <td>orange</td>\n",
       "      <td>0.379630</td>\n",
       "    </tr>\n",
       "    <tr>\n",
       "      <th>2</th>\n",
       "      <td>MS-Celeb-1M</td>\n",
       "      <td>109</td>\n",
       "      <td>orange</td>\n",
       "      <td>0.523810</td>\n",
       "    </tr>\n",
       "    <tr>\n",
       "      <th>3</th>\n",
       "      <td>MegaFace</td>\n",
       "      <td>108</td>\n",
       "      <td>orange</td>\n",
       "      <td>0.666667</td>\n",
       "    </tr>\n",
       "    <tr>\n",
       "      <th>4</th>\n",
       "      <td>IJB-A</td>\n",
       "      <td>108</td>\n",
       "      <td>orange</td>\n",
       "      <td>0.809524</td>\n",
       "    </tr>\n",
       "    <tr>\n",
       "      <th>5</th>\n",
       "      <td>CelebA</td>\n",
       "      <td>75</td>\n",
       "      <td>blue</td>\n",
       "      <td>0.908730</td>\n",
       "    </tr>\n",
       "    <tr>\n",
       "      <th>6</th>\n",
       "      <td>Other</td>\n",
       "      <td>50</td>\n",
       "      <td>gray</td>\n",
       "      <td>0.974868</td>\n",
       "    </tr>\n",
       "    <tr>\n",
       "      <th>7</th>\n",
       "      <td>Other</td>\n",
       "      <td>19</td>\n",
       "      <td>gray</td>\n",
       "      <td>1.000000</td>\n",
       "    </tr>\n",
       "  </tbody>\n",
       "</table>\n",
       "</div>"
      ],
      "text/plain": [
       "            name  count  source  cumulative\n",
       "0  CASIA-WebFace    158  orange    0.208995\n",
       "1       VGGFace2    129  orange    0.379630\n",
       "2    MS-Celeb-1M    109  orange    0.523810\n",
       "3       MegaFace    108  orange    0.666667\n",
       "4          IJB-A    108  orange    0.809524\n",
       "5         CelebA     75    blue    0.908730\n",
       "6          Other     50    gray    0.974868\n",
       "7          Other     19    gray    1.000000"
      ]
     },
     "execution_count": 26,
     "metadata": {},
     "output_type": "execute_result"
    }
   ],
   "source": [
    "dataset_df['cumulative']=dataset_df.sort_values('count',ascending=False)['count'].cumsum()/dataset_df.sort_values('count',ascending=False)['count'].sum()\n",
    "#tasks_df.set_index('task').plot.pie(y='count')\n",
    "other_count=dataset_df[dataset_df['cumulative']>.99]['count'].sum()\n",
    "dataset_df=dataset_df[dataset_df['cumulative']<.99]\n",
    "dataset_df=dataset_df.append({'name':'Other','count':other_count,'cumulative':1,'source':'gray'},ignore_index=True)\n",
    "dataset_df"
   ]
  },
  {
   "cell_type": "code",
   "execution_count": 27,
   "id": "f378afb9-5ccf-4896-91fe-0323b6b788c4",
   "metadata": {},
   "outputs": [
    {
     "data": {
      "application/vnd.plotly.v1+json": {
       "config": {
        "plotlyServerURL": "https://plot.ly"
       },
       "data": [
        {
         "labels": [
          "Face Recognition",
          "Face Detection",
          "Other"
         ],
         "marker": {
          "colors": [
           "rgb(228,26,28)",
           "rgb(55,126,184)",
           "rgb(77,175,74)",
           "rgb(152,78,163)",
           "rgb(255,127,0)",
           "rgb(255,255,51)",
           "rgb(166,86,40)",
           "rgb(247,129,191)",
           "rgb(153,153,153)"
          ],
          "line": {
           "color": "#000000",
           "width": 1
          }
         },
         "pull": [
          0,
          0,
          0,
          0.2,
          0,
          0,
          0
         ],
         "textfont": {
          "color": "black"
         },
         "type": "pie",
         "values": [
          618,
          94,
          44
         ]
        }
       ],
       "layout": {
        "autosize": true,
        "font": {
         "color": "black",
         "family": "Arial"
        },
        "template": {
         "data": {
          "bar": [
           {
            "error_x": {
             "color": "#2a3f5f"
            },
            "error_y": {
             "color": "#2a3f5f"
            },
            "marker": {
             "line": {
              "color": "#E5ECF6",
              "width": 0.5
             },
             "pattern": {
              "fillmode": "overlay",
              "size": 10,
              "solidity": 0.2
             }
            },
            "type": "bar"
           }
          ],
          "barpolar": [
           {
            "marker": {
             "line": {
              "color": "#E5ECF6",
              "width": 0.5
             },
             "pattern": {
              "fillmode": "overlay",
              "size": 10,
              "solidity": 0.2
             }
            },
            "type": "barpolar"
           }
          ],
          "carpet": [
           {
            "aaxis": {
             "endlinecolor": "#2a3f5f",
             "gridcolor": "white",
             "linecolor": "white",
             "minorgridcolor": "white",
             "startlinecolor": "#2a3f5f"
            },
            "baxis": {
             "endlinecolor": "#2a3f5f",
             "gridcolor": "white",
             "linecolor": "white",
             "minorgridcolor": "white",
             "startlinecolor": "#2a3f5f"
            },
            "type": "carpet"
           }
          ],
          "choropleth": [
           {
            "colorbar": {
             "outlinewidth": 0,
             "ticks": ""
            },
            "type": "choropleth"
           }
          ],
          "contour": [
           {
            "colorbar": {
             "outlinewidth": 0,
             "ticks": ""
            },
            "colorscale": [
             [
              0,
              "#0d0887"
             ],
             [
              0.1111111111111111,
              "#46039f"
             ],
             [
              0.2222222222222222,
              "#7201a8"
             ],
             [
              0.3333333333333333,
              "#9c179e"
             ],
             [
              0.4444444444444444,
              "#bd3786"
             ],
             [
              0.5555555555555556,
              "#d8576b"
             ],
             [
              0.6666666666666666,
              "#ed7953"
             ],
             [
              0.7777777777777778,
              "#fb9f3a"
             ],
             [
              0.8888888888888888,
              "#fdca26"
             ],
             [
              1,
              "#f0f921"
             ]
            ],
            "type": "contour"
           }
          ],
          "contourcarpet": [
           {
            "colorbar": {
             "outlinewidth": 0,
             "ticks": ""
            },
            "type": "contourcarpet"
           }
          ],
          "heatmap": [
           {
            "colorbar": {
             "outlinewidth": 0,
             "ticks": ""
            },
            "colorscale": [
             [
              0,
              "#0d0887"
             ],
             [
              0.1111111111111111,
              "#46039f"
             ],
             [
              0.2222222222222222,
              "#7201a8"
             ],
             [
              0.3333333333333333,
              "#9c179e"
             ],
             [
              0.4444444444444444,
              "#bd3786"
             ],
             [
              0.5555555555555556,
              "#d8576b"
             ],
             [
              0.6666666666666666,
              "#ed7953"
             ],
             [
              0.7777777777777778,
              "#fb9f3a"
             ],
             [
              0.8888888888888888,
              "#fdca26"
             ],
             [
              1,
              "#f0f921"
             ]
            ],
            "type": "heatmap"
           }
          ],
          "heatmapgl": [
           {
            "colorbar": {
             "outlinewidth": 0,
             "ticks": ""
            },
            "colorscale": [
             [
              0,
              "#0d0887"
             ],
             [
              0.1111111111111111,
              "#46039f"
             ],
             [
              0.2222222222222222,
              "#7201a8"
             ],
             [
              0.3333333333333333,
              "#9c179e"
             ],
             [
              0.4444444444444444,
              "#bd3786"
             ],
             [
              0.5555555555555556,
              "#d8576b"
             ],
             [
              0.6666666666666666,
              "#ed7953"
             ],
             [
              0.7777777777777778,
              "#fb9f3a"
             ],
             [
              0.8888888888888888,
              "#fdca26"
             ],
             [
              1,
              "#f0f921"
             ]
            ],
            "type": "heatmapgl"
           }
          ],
          "histogram": [
           {
            "marker": {
             "pattern": {
              "fillmode": "overlay",
              "size": 10,
              "solidity": 0.2
             }
            },
            "type": "histogram"
           }
          ],
          "histogram2d": [
           {
            "colorbar": {
             "outlinewidth": 0,
             "ticks": ""
            },
            "colorscale": [
             [
              0,
              "#0d0887"
             ],
             [
              0.1111111111111111,
              "#46039f"
             ],
             [
              0.2222222222222222,
              "#7201a8"
             ],
             [
              0.3333333333333333,
              "#9c179e"
             ],
             [
              0.4444444444444444,
              "#bd3786"
             ],
             [
              0.5555555555555556,
              "#d8576b"
             ],
             [
              0.6666666666666666,
              "#ed7953"
             ],
             [
              0.7777777777777778,
              "#fb9f3a"
             ],
             [
              0.8888888888888888,
              "#fdca26"
             ],
             [
              1,
              "#f0f921"
             ]
            ],
            "type": "histogram2d"
           }
          ],
          "histogram2dcontour": [
           {
            "colorbar": {
             "outlinewidth": 0,
             "ticks": ""
            },
            "colorscale": [
             [
              0,
              "#0d0887"
             ],
             [
              0.1111111111111111,
              "#46039f"
             ],
             [
              0.2222222222222222,
              "#7201a8"
             ],
             [
              0.3333333333333333,
              "#9c179e"
             ],
             [
              0.4444444444444444,
              "#bd3786"
             ],
             [
              0.5555555555555556,
              "#d8576b"
             ],
             [
              0.6666666666666666,
              "#ed7953"
             ],
             [
              0.7777777777777778,
              "#fb9f3a"
             ],
             [
              0.8888888888888888,
              "#fdca26"
             ],
             [
              1,
              "#f0f921"
             ]
            ],
            "type": "histogram2dcontour"
           }
          ],
          "mesh3d": [
           {
            "colorbar": {
             "outlinewidth": 0,
             "ticks": ""
            },
            "type": "mesh3d"
           }
          ],
          "parcoords": [
           {
            "line": {
             "colorbar": {
              "outlinewidth": 0,
              "ticks": ""
             }
            },
            "type": "parcoords"
           }
          ],
          "pie": [
           {
            "automargin": true,
            "type": "pie"
           }
          ],
          "scatter": [
           {
            "marker": {
             "colorbar": {
              "outlinewidth": 0,
              "ticks": ""
             }
            },
            "type": "scatter"
           }
          ],
          "scatter3d": [
           {
            "line": {
             "colorbar": {
              "outlinewidth": 0,
              "ticks": ""
             }
            },
            "marker": {
             "colorbar": {
              "outlinewidth": 0,
              "ticks": ""
             }
            },
            "type": "scatter3d"
           }
          ],
          "scattercarpet": [
           {
            "marker": {
             "colorbar": {
              "outlinewidth": 0,
              "ticks": ""
             }
            },
            "type": "scattercarpet"
           }
          ],
          "scattergeo": [
           {
            "marker": {
             "colorbar": {
              "outlinewidth": 0,
              "ticks": ""
             }
            },
            "type": "scattergeo"
           }
          ],
          "scattergl": [
           {
            "marker": {
             "colorbar": {
              "outlinewidth": 0,
              "ticks": ""
             }
            },
            "type": "scattergl"
           }
          ],
          "scattermapbox": [
           {
            "marker": {
             "colorbar": {
              "outlinewidth": 0,
              "ticks": ""
             }
            },
            "type": "scattermapbox"
           }
          ],
          "scatterpolar": [
           {
            "marker": {
             "colorbar": {
              "outlinewidth": 0,
              "ticks": ""
             }
            },
            "type": "scatterpolar"
           }
          ],
          "scatterpolargl": [
           {
            "marker": {
             "colorbar": {
              "outlinewidth": 0,
              "ticks": ""
             }
            },
            "type": "scatterpolargl"
           }
          ],
          "scatterternary": [
           {
            "marker": {
             "colorbar": {
              "outlinewidth": 0,
              "ticks": ""
             }
            },
            "type": "scatterternary"
           }
          ],
          "surface": [
           {
            "colorbar": {
             "outlinewidth": 0,
             "ticks": ""
            },
            "colorscale": [
             [
              0,
              "#0d0887"
             ],
             [
              0.1111111111111111,
              "#46039f"
             ],
             [
              0.2222222222222222,
              "#7201a8"
             ],
             [
              0.3333333333333333,
              "#9c179e"
             ],
             [
              0.4444444444444444,
              "#bd3786"
             ],
             [
              0.5555555555555556,
              "#d8576b"
             ],
             [
              0.6666666666666666,
              "#ed7953"
             ],
             [
              0.7777777777777778,
              "#fb9f3a"
             ],
             [
              0.8888888888888888,
              "#fdca26"
             ],
             [
              1,
              "#f0f921"
             ]
            ],
            "type": "surface"
           }
          ],
          "table": [
           {
            "cells": {
             "fill": {
              "color": "#EBF0F8"
             },
             "line": {
              "color": "white"
             }
            },
            "header": {
             "fill": {
              "color": "#C8D4E3"
             },
             "line": {
              "color": "white"
             }
            },
            "type": "table"
           }
          ]
         },
         "layout": {
          "annotationdefaults": {
           "arrowcolor": "#2a3f5f",
           "arrowhead": 0,
           "arrowwidth": 1
          },
          "autotypenumbers": "strict",
          "coloraxis": {
           "colorbar": {
            "outlinewidth": 0,
            "ticks": ""
           }
          },
          "colorscale": {
           "diverging": [
            [
             0,
             "#8e0152"
            ],
            [
             0.1,
             "#c51b7d"
            ],
            [
             0.2,
             "#de77ae"
            ],
            [
             0.3,
             "#f1b6da"
            ],
            [
             0.4,
             "#fde0ef"
            ],
            [
             0.5,
             "#f7f7f7"
            ],
            [
             0.6,
             "#e6f5d0"
            ],
            [
             0.7,
             "#b8e186"
            ],
            [
             0.8,
             "#7fbc41"
            ],
            [
             0.9,
             "#4d9221"
            ],
            [
             1,
             "#276419"
            ]
           ],
           "sequential": [
            [
             0,
             "#0d0887"
            ],
            [
             0.1111111111111111,
             "#46039f"
            ],
            [
             0.2222222222222222,
             "#7201a8"
            ],
            [
             0.3333333333333333,
             "#9c179e"
            ],
            [
             0.4444444444444444,
             "#bd3786"
            ],
            [
             0.5555555555555556,
             "#d8576b"
            ],
            [
             0.6666666666666666,
             "#ed7953"
            ],
            [
             0.7777777777777778,
             "#fb9f3a"
            ],
            [
             0.8888888888888888,
             "#fdca26"
            ],
            [
             1,
             "#f0f921"
            ]
           ],
           "sequentialminus": [
            [
             0,
             "#0d0887"
            ],
            [
             0.1111111111111111,
             "#46039f"
            ],
            [
             0.2222222222222222,
             "#7201a8"
            ],
            [
             0.3333333333333333,
             "#9c179e"
            ],
            [
             0.4444444444444444,
             "#bd3786"
            ],
            [
             0.5555555555555556,
             "#d8576b"
            ],
            [
             0.6666666666666666,
             "#ed7953"
            ],
            [
             0.7777777777777778,
             "#fb9f3a"
            ],
            [
             0.8888888888888888,
             "#fdca26"
            ],
            [
             1,
             "#f0f921"
            ]
           ]
          },
          "colorway": [
           "#636efa",
           "#EF553B",
           "#00cc96",
           "#ab63fa",
           "#FFA15A",
           "#19d3f3",
           "#FF6692",
           "#B6E880",
           "#FF97FF",
           "#FECB52"
          ],
          "font": {
           "color": "#2a3f5f"
          },
          "geo": {
           "bgcolor": "white",
           "lakecolor": "white",
           "landcolor": "#E5ECF6",
           "showlakes": true,
           "showland": true,
           "subunitcolor": "white"
          },
          "hoverlabel": {
           "align": "left"
          },
          "hovermode": "closest",
          "mapbox": {
           "style": "light"
          },
          "paper_bgcolor": "white",
          "plot_bgcolor": "#E5ECF6",
          "polar": {
           "angularaxis": {
            "gridcolor": "white",
            "linecolor": "white",
            "ticks": ""
           },
           "bgcolor": "#E5ECF6",
           "radialaxis": {
            "gridcolor": "white",
            "linecolor": "white",
            "ticks": ""
           }
          },
          "scene": {
           "xaxis": {
            "backgroundcolor": "#E5ECF6",
            "gridcolor": "white",
            "gridwidth": 2,
            "linecolor": "white",
            "showbackground": true,
            "ticks": "",
            "zerolinecolor": "white"
           },
           "yaxis": {
            "backgroundcolor": "#E5ECF6",
            "gridcolor": "white",
            "gridwidth": 2,
            "linecolor": "white",
            "showbackground": true,
            "ticks": "",
            "zerolinecolor": "white"
           },
           "zaxis": {
            "backgroundcolor": "#E5ECF6",
            "gridcolor": "white",
            "gridwidth": 2,
            "linecolor": "white",
            "showbackground": true,
            "ticks": "",
            "zerolinecolor": "white"
           }
          },
          "shapedefaults": {
           "line": {
            "color": "#2a3f5f"
           }
          },
          "ternary": {
           "aaxis": {
            "gridcolor": "white",
            "linecolor": "white",
            "ticks": ""
           },
           "baxis": {
            "gridcolor": "white",
            "linecolor": "white",
            "ticks": ""
           },
           "bgcolor": "#E5ECF6",
           "caxis": {
            "gridcolor": "white",
            "linecolor": "white",
            "ticks": ""
           }
          },
          "title": {
           "x": 0.05
          },
          "xaxis": {
           "automargin": true,
           "gridcolor": "white",
           "linecolor": "white",
           "ticks": "",
           "title": {
            "standoff": 15
           },
           "zerolinecolor": "white",
           "zerolinewidth": 2
          },
          "yaxis": {
           "automargin": true,
           "gridcolor": "white",
           "linecolor": "white",
           "ticks": "",
           "title": {
            "standoff": 15
           },
           "zerolinecolor": "white",
           "zerolinewidth": 2
          }
         }
        },
        "title": {
         "font": {
          "family": "Arial"
         }
        }
       }
      },
      "image/png": "[encoded data removed]",
      "text/html": [
       "<div>                            <div id=\"6d47029f-5610-4c87-94b5-5e1da02bbbeb\" class=\"plotly-graph-div\" style=\"height:525px; width:100%;\"></div>            <script type=\"text/javascript\">                require([\"plotly\"], function(Plotly) {                    window.PLOTLYENV=window.PLOTLYENV || {};                                    if (document.getElementById(\"6d47029f-5610-4c87-94b5-5e1da02bbbeb\")) {                    Plotly.newPlot(                        \"6d47029f-5610-4c87-94b5-5e1da02bbbeb\",                        [{\"labels\":[\"Face Recognition\",\"Face Detection\",\"Other\"],\"marker\":{\"colors\":[\"rgb(228,26,28)\",\"rgb(55,126,184)\",\"rgb(77,175,74)\",\"rgb(152,78,163)\",\"rgb(255,127,0)\",\"rgb(255,255,51)\",\"rgb(166,86,40)\",\"rgb(247,129,191)\",\"rgb(153,153,153)\"],\"line\":{\"color\":\"#000000\",\"width\":1}},\"pull\":[0,0,0,0.2,0,0,0],\"textfont\":{\"color\":\"black\"},\"type\":\"pie\",\"values\":[618,94,44]}],                        {\"font\":{\"color\":\"black\",\"family\":\"Arial\"},\"template\":{\"data\":{\"bar\":[{\"error_x\":{\"color\":\"#2a3f5f\"},\"error_y\":{\"color\":\"#2a3f5f\"},\"marker\":{\"line\":{\"color\":\"#E5ECF6\",\"width\":0.5},\"pattern\":{\"fillmode\":\"overlay\",\"size\":10,\"solidity\":0.2}},\"type\":\"bar\"}],\"barpolar\":[{\"marker\":{\"line\":{\"color\":\"#E5ECF6\",\"width\":0.5},\"pattern\":{\"fillmode\":\"overlay\",\"size\":10,\"solidity\":0.2}},\"type\":\"barpolar\"}],\"carpet\":[{\"aaxis\":{\"endlinecolor\":\"#2a3f5f\",\"gridcolor\":\"white\",\"linecolor\":\"white\",\"minorgridcolor\":\"white\",\"startlinecolor\":\"#2a3f5f\"},\"baxis\":{\"endlinecolor\":\"#2a3f5f\",\"gridcolor\":\"white\",\"linecolor\":\"white\",\"minorgridcolor\":\"white\",\"startlinecolor\":\"#2a3f5f\"},\"type\":\"carpet\"}],\"choropleth\":[{\"colorbar\":{\"outlinewidth\":0,\"ticks\":\"\"},\"type\":\"choropleth\"}],\"contour\":[{\"colorbar\":{\"outlinewidth\":0,\"ticks\":\"\"},\"colorscale\":[[0.0,\"#0d0887\"],[0.1111111111111111,\"#46039f\"],[0.2222222222222222,\"#7201a8\"],[0.3333333333333333,\"#9c179e\"],[0.4444444444444444,\"#bd3786\"],[0.5555555555555556,\"#d8576b\"],[0.6666666666666666,\"#ed7953\"],[0.7777777777777778,\"#fb9f3a\"],[0.8888888888888888,\"#fdca26\"],[1.0,\"#f0f921\"]],\"type\":\"contour\"}],\"contourcarpet\":[{\"colorbar\":{\"outlinewidth\":0,\"ticks\":\"\"},\"type\":\"contourcarpet\"}],\"heatmap\":[{\"colorbar\":{\"outlinewidth\":0,\"ticks\":\"\"},\"colorscale\":[[0.0,\"#0d0887\"],[0.1111111111111111,\"#46039f\"],[0.2222222222222222,\"#7201a8\"],[0.3333333333333333,\"#9c179e\"],[0.4444444444444444,\"#bd3786\"],[0.5555555555555556,\"#d8576b\"],[0.6666666666666666,\"#ed7953\"],[0.7777777777777778,\"#fb9f3a\"],[0.8888888888888888,\"#fdca26\"],[1.0,\"#f0f921\"]],\"type\":\"heatmap\"}],\"heatmapgl\":[{\"colorbar\":{\"outlinewidth\":0,\"ticks\":\"\"},\"colorscale\":[[0.0,\"#0d0887\"],[0.1111111111111111,\"#46039f\"],[0.2222222222222222,\"#7201a8\"],[0.3333333333333333,\"#9c179e\"],[0.4444444444444444,\"#bd3786\"],[0.5555555555555556,\"#d8576b\"],[0.6666666666666666,\"#ed7953\"],[0.7777777777777778,\"#fb9f3a\"],[0.8888888888888888,\"#fdca26\"],[1.0,\"#f0f921\"]],\"type\":\"heatmapgl\"}],\"histogram\":[{\"marker\":{\"pattern\":{\"fillmode\":\"overlay\",\"size\":10,\"solidity\":0.2}},\"type\":\"histogram\"}],\"histogram2d\":[{\"colorbar\":{\"outlinewidth\":0,\"ticks\":\"\"},\"colorscale\":[[0.0,\"#0d0887\"],[0.1111111111111111,\"#46039f\"],[0.2222222222222222,\"#7201a8\"],[0.3333333333333333,\"#9c179e\"],[0.4444444444444444,\"#bd3786\"],[0.5555555555555556,\"#d8576b\"],[0.6666666666666666,\"#ed7953\"],[0.7777777777777778,\"#fb9f3a\"],[0.8888888888888888,\"#fdca26\"],[1.0,\"#f0f921\"]],\"type\":\"histogram2d\"}],\"histogram2dcontour\":[{\"colorbar\":{\"outlinewidth\":0,\"ticks\":\"\"},\"colorscale\":[[0.0,\"#0d0887\"],[0.1111111111111111,\"#46039f\"],[0.2222222222222222,\"#7201a8\"],[0.3333333333333333,\"#9c179e\"],[0.4444444444444444,\"#bd3786\"],[0.5555555555555556,\"#d8576b\"],[0.6666666666666666,\"#ed7953\"],[0.7777777777777778,\"#fb9f3a\"],[0.8888888888888888,\"#fdca26\"],[1.0,\"#f0f921\"]],\"type\":\"histogram2dcontour\"}],\"mesh3d\":[{\"colorbar\":{\"outlinewidth\":0,\"ticks\":\"\"},\"type\":\"mesh3d\"}],\"parcoords\":[{\"line\":{\"colorbar\":{\"outlinewidth\":0,\"ticks\":\"\"}},\"type\":\"parcoords\"}],\"pie\":[{\"automargin\":true,\"type\":\"pie\"}],\"scatter\":[{\"marker\":{\"colorbar\":{\"outlinewidth\":0,\"ticks\":\"\"}},\"type\":\"scatter\"}],\"scatter3d\":[{\"line\":{\"colorbar\":{\"outlinewidth\":0,\"ticks\":\"\"}},\"marker\":{\"colorbar\":{\"outlinewidth\":0,\"ticks\":\"\"}},\"type\":\"scatter3d\"}],\"scattercarpet\":[{\"marker\":{\"colorbar\":{\"outlinewidth\":0,\"ticks\":\"\"}},\"type\":\"scattercarpet\"}],\"scattergeo\":[{\"marker\":{\"colorbar\":{\"outlinewidth\":0,\"ticks\":\"\"}},\"type\":\"scattergeo\"}],\"scattergl\":[{\"marker\":{\"colorbar\":{\"outlinewidth\":0,\"ticks\":\"\"}},\"type\":\"scattergl\"}],\"scattermapbox\":[{\"marker\":{\"colorbar\":{\"outlinewidth\":0,\"ticks\":\"\"}},\"type\":\"scattermapbox\"}],\"scatterpolar\":[{\"marker\":{\"colorbar\":{\"outlinewidth\":0,\"ticks\":\"\"}},\"type\":\"scatterpolar\"}],\"scatterpolargl\":[{\"marker\":{\"colorbar\":{\"outlinewidth\":0,\"ticks\":\"\"}},\"type\":\"scatterpolargl\"}],\"scatterternary\":[{\"marker\":{\"colorbar\":{\"outlinewidth\":0,\"ticks\":\"\"}},\"type\":\"scatterternary\"}],\"surface\":[{\"colorbar\":{\"outlinewidth\":0,\"ticks\":\"\"},\"colorscale\":[[0.0,\"#0d0887\"],[0.1111111111111111,\"#46039f\"],[0.2222222222222222,\"#7201a8\"],[0.3333333333333333,\"#9c179e\"],[0.4444444444444444,\"#bd3786\"],[0.5555555555555556,\"#d8576b\"],[0.6666666666666666,\"#ed7953\"],[0.7777777777777778,\"#fb9f3a\"],[0.8888888888888888,\"#fdca26\"],[1.0,\"#f0f921\"]],\"type\":\"surface\"}],\"table\":[{\"cells\":{\"fill\":{\"color\":\"#EBF0F8\"},\"line\":{\"color\":\"white\"}},\"header\":{\"fill\":{\"color\":\"#C8D4E3\"},\"line\":{\"color\":\"white\"}},\"type\":\"table\"}]},\"layout\":{\"annotationdefaults\":{\"arrowcolor\":\"#2a3f5f\",\"arrowhead\":0,\"arrowwidth\":1},\"autotypenumbers\":\"strict\",\"coloraxis\":{\"colorbar\":{\"outlinewidth\":0,\"ticks\":\"\"}},\"colorscale\":{\"diverging\":[[0,\"#8e0152\"],[0.1,\"#c51b7d\"],[0.2,\"#de77ae\"],[0.3,\"#f1b6da\"],[0.4,\"#fde0ef\"],[0.5,\"#f7f7f7\"],[0.6,\"#e6f5d0\"],[0.7,\"#b8e186\"],[0.8,\"#7fbc41\"],[0.9,\"#4d9221\"],[1,\"#276419\"]],\"sequential\":[[0.0,\"#0d0887\"],[0.1111111111111111,\"#46039f\"],[0.2222222222222222,\"#7201a8\"],[0.3333333333333333,\"#9c179e\"],[0.4444444444444444,\"#bd3786\"],[0.5555555555555556,\"#d8576b\"],[0.6666666666666666,\"#ed7953\"],[0.7777777777777778,\"#fb9f3a\"],[0.8888888888888888,\"#fdca26\"],[1.0,\"#f0f921\"]],\"sequentialminus\":[[0.0,\"#0d0887\"],[0.1111111111111111,\"#46039f\"],[0.2222222222222222,\"#7201a8\"],[0.3333333333333333,\"#9c179e\"],[0.4444444444444444,\"#bd3786\"],[0.5555555555555556,\"#d8576b\"],[0.6666666666666666,\"#ed7953\"],[0.7777777777777778,\"#fb9f3a\"],[0.8888888888888888,\"#fdca26\"],[1.0,\"#f0f921\"]]},\"colorway\":[\"#636efa\",\"#EF553B\",\"#00cc96\",\"#ab63fa\",\"#FFA15A\",\"#19d3f3\",\"#FF6692\",\"#B6E880\",\"#FF97FF\",\"#FECB52\"],\"font\":{\"color\":\"#2a3f5f\"},\"geo\":{\"bgcolor\":\"white\",\"lakecolor\":\"white\",\"landcolor\":\"#E5ECF6\",\"showlakes\":true,\"showland\":true,\"subunitcolor\":\"white\"},\"hoverlabel\":{\"align\":\"left\"},\"hovermode\":\"closest\",\"mapbox\":{\"style\":\"light\"},\"paper_bgcolor\":\"white\",\"plot_bgcolor\":\"#E5ECF6\",\"polar\":{\"angularaxis\":{\"gridcolor\":\"white\",\"linecolor\":\"white\",\"ticks\":\"\"},\"bgcolor\":\"#E5ECF6\",\"radialaxis\":{\"gridcolor\":\"white\",\"linecolor\":\"white\",\"ticks\":\"\"}},\"scene\":{\"xaxis\":{\"backgroundcolor\":\"#E5ECF6\",\"gridcolor\":\"white\",\"gridwidth\":2,\"linecolor\":\"white\",\"showbackground\":true,\"ticks\":\"\",\"zerolinecolor\":\"white\"},\"yaxis\":{\"backgroundcolor\":\"#E5ECF6\",\"gridcolor\":\"white\",\"gridwidth\":2,\"linecolor\":\"white\",\"showbackground\":true,\"ticks\":\"\",\"zerolinecolor\":\"white\"},\"zaxis\":{\"backgroundcolor\":\"#E5ECF6\",\"gridcolor\":\"white\",\"gridwidth\":2,\"linecolor\":\"white\",\"showbackground\":true,\"ticks\":\"\",\"zerolinecolor\":\"white\"}},\"shapedefaults\":{\"line\":{\"color\":\"#2a3f5f\"}},\"ternary\":{\"aaxis\":{\"gridcolor\":\"white\",\"linecolor\":\"white\",\"ticks\":\"\"},\"baxis\":{\"gridcolor\":\"white\",\"linecolor\":\"white\",\"ticks\":\"\"},\"bgcolor\":\"#E5ECF6\",\"caxis\":{\"gridcolor\":\"white\",\"linecolor\":\"white\",\"ticks\":\"\"}},\"title\":{\"x\":0.05},\"xaxis\":{\"automargin\":true,\"gridcolor\":\"white\",\"linecolor\":\"white\",\"ticks\":\"\",\"title\":{\"standoff\":15},\"zerolinecolor\":\"white\",\"zerolinewidth\":2},\"yaxis\":{\"automargin\":true,\"gridcolor\":\"white\",\"linecolor\":\"white\",\"ticks\":\"\",\"title\":{\"standoff\":15},\"zerolinecolor\":\"white\",\"zerolinewidth\":2}}},\"title\":{\"font\":{\"family\":\"Arial\"}}},                        {\"responsive\": true}                    ).then(function(){\n",
       "                            \n",
       "var gd = document.getElementById('6d47029f-5610-4c87-94b5-5e1da02bbbeb');\n",
       "var x = new MutationObserver(function (mutations, observer) {{\n",
       "        var display = window.getComputedStyle(gd).display;\n",
       "        if (!display || display === 'none') {{\n",
       "            console.log([gd, 'removed!']);\n",
       "            Plotly.purge(gd);\n",
       "            observer.disconnect();\n",
       "        }}\n",
       "}});\n",
       "\n",
       "// Listen for the removal of the full notebook cells\n",
       "var notebookContainer = gd.closest('#notebook-container');\n",
       "if (notebookContainer) {{\n",
       "    x.observe(notebookContainer, {childList: true});\n",
       "}}\n",
       "\n",
       "// Listen for the clearing of the current output cell\n",
       "var outputEl = gd.closest('.output');\n",
       "if (outputEl) {{\n",
       "    x.observe(outputEl, {childList: true});\n",
       "}}\n",
       "\n",
       "                        })                };                });            </script>        </div>"
      ]
     },
     "metadata": {},
     "output_type": "display_data"
    },
    {
     "data": {
      "application/vnd.plotly.v1+json": {
       "config": {
        "plotlyServerURL": "https://plot.ly"
       },
       "data": [
        {
         "labels": [
          "CASIA-WebFace",
          "VGGFace2",
          "MS-Celeb-1M",
          "MegaFace",
          "IJB-A",
          "CelebA",
          "Other",
          "Other"
         ],
         "marker": {
          "colors": [
           "rgb(228,26,28)",
           "rgb(55,126,184)",
           "rgb(77,175,74)",
           "rgb(152,78,163)",
           "rgb(255,127,0)",
           "rgb(255,255,51)",
           "rgb(166,86,40)",
           "rgb(247,129,191)",
           "rgb(153,153,153)"
          ],
          "line": {
           "color": "#000000",
           "width": 1
          }
         },
         "pull": [
          0,
          0,
          0,
          0.2,
          0,
          0,
          0
         ],
         "textfont": {
          "color": "black"
         },
         "type": "pie",
         "values": [
          158,
          129,
          109,
          108,
          108,
          75,
          50,
          19
         ]
        }
       ],
       "layout": {
        "autosize": true,
        "font": {
         "color": "black",
         "family": "Arial"
        },
        "template": {
         "data": {
          "bar": [
           {
            "error_x": {
             "color": "#2a3f5f"
            },
            "error_y": {
             "color": "#2a3f5f"
            },
            "marker": {
             "line": {
              "color": "#E5ECF6",
              "width": 0.5
             },
             "pattern": {
              "fillmode": "overlay",
              "size": 10,
              "solidity": 0.2
             }
            },
            "type": "bar"
           }
          ],
          "barpolar": [
           {
            "marker": {
             "line": {
              "color": "#E5ECF6",
              "width": 0.5
             },
             "pattern": {
              "fillmode": "overlay",
              "size": 10,
              "solidity": 0.2
             }
            },
            "type": "barpolar"
           }
          ],
          "carpet": [
           {
            "aaxis": {
             "endlinecolor": "#2a3f5f",
             "gridcolor": "white",
             "linecolor": "white",
             "minorgridcolor": "white",
             "startlinecolor": "#2a3f5f"
            },
            "baxis": {
             "endlinecolor": "#2a3f5f",
             "gridcolor": "white",
             "linecolor": "white",
             "minorgridcolor": "white",
             "startlinecolor": "#2a3f5f"
            },
            "type": "carpet"
           }
          ],
          "choropleth": [
           {
            "colorbar": {
             "outlinewidth": 0,
             "ticks": ""
            },
            "type": "choropleth"
           }
          ],
          "contour": [
           {
            "colorbar": {
             "outlinewidth": 0,
             "ticks": ""
            },
            "colorscale": [
             [
              0,
              "#0d0887"
             ],
             [
              0.1111111111111111,
              "#46039f"
             ],
             [
              0.2222222222222222,
              "#7201a8"
             ],
             [
              0.3333333333333333,
              "#9c179e"
             ],
             [
              0.4444444444444444,
              "#bd3786"
             ],
             [
              0.5555555555555556,
              "#d8576b"
             ],
             [
              0.6666666666666666,
              "#ed7953"
             ],
             [
              0.7777777777777778,
              "#fb9f3a"
             ],
             [
              0.8888888888888888,
              "#fdca26"
             ],
             [
              1,
              "#f0f921"
             ]
            ],
            "type": "contour"
           }
          ],
          "contourcarpet": [
           {
            "colorbar": {
             "outlinewidth": 0,
             "ticks": ""
            },
            "type": "contourcarpet"
           }
          ],
          "heatmap": [
           {
            "colorbar": {
             "outlinewidth": 0,
             "ticks": ""
            },
            "colorscale": [
             [
              0,
              "#0d0887"
             ],
             [
              0.1111111111111111,
              "#46039f"
             ],
             [
              0.2222222222222222,
              "#7201a8"
             ],
             [
              0.3333333333333333,
              "#9c179e"
             ],
             [
              0.4444444444444444,
              "#bd3786"
             ],
             [
              0.5555555555555556,
              "#d8576b"
             ],
             [
              0.6666666666666666,
              "#ed7953"
             ],
             [
              0.7777777777777778,
              "#fb9f3a"
             ],
             [
              0.8888888888888888,
              "#fdca26"
             ],
             [
              1,
              "#f0f921"
             ]
            ],
            "type": "heatmap"
           }
          ],
          "heatmapgl": [
           {
            "colorbar": {
             "outlinewidth": 0,
             "ticks": ""
            },
            "colorscale": [
             [
              0,
              "#0d0887"
             ],
             [
              0.1111111111111111,
              "#46039f"
             ],
             [
              0.2222222222222222,
              "#7201a8"
             ],
             [
              0.3333333333333333,
              "#9c179e"
             ],
             [
              0.4444444444444444,
              "#bd3786"
             ],
             [
              0.5555555555555556,
              "#d8576b"
             ],
             [
              0.6666666666666666,
              "#ed7953"
             ],
             [
              0.7777777777777778,
              "#fb9f3a"
             ],
             [
              0.8888888888888888,
              "#fdca26"
             ],
             [
              1,
              "#f0f921"
             ]
            ],
            "type": "heatmapgl"
           }
          ],
          "histogram": [
           {
            "marker": {
             "pattern": {
              "fillmode": "overlay",
              "size": 10,
              "solidity": 0.2
             }
            },
            "type": "histogram"
           }
          ],
          "histogram2d": [
           {
            "colorbar": {
             "outlinewidth": 0,
             "ticks": ""
            },
            "colorscale": [
             [
              0,
              "#0d0887"
             ],
             [
              0.1111111111111111,
              "#46039f"
             ],
             [
              0.2222222222222222,
              "#7201a8"
             ],
             [
              0.3333333333333333,
              "#9c179e"
             ],
             [
              0.4444444444444444,
              "#bd3786"
             ],
             [
              0.5555555555555556,
              "#d8576b"
             ],
             [
              0.6666666666666666,
              "#ed7953"
             ],
             [
              0.7777777777777778,
              "#fb9f3a"
             ],
             [
              0.8888888888888888,
              "#fdca26"
             ],
             [
              1,
              "#f0f921"
             ]
            ],
            "type": "histogram2d"
           }
          ],
          "histogram2dcontour": [
           {
            "colorbar": {
             "outlinewidth": 0,
             "ticks": ""
            },
            "colorscale": [
             [
              0,
              "#0d0887"
             ],
             [
              0.1111111111111111,
              "#46039f"
             ],
             [
              0.2222222222222222,
              "#7201a8"
             ],
             [
              0.3333333333333333,
              "#9c179e"
             ],
             [
              0.4444444444444444,
              "#bd3786"
             ],
             [
              0.5555555555555556,
              "#d8576b"
             ],
             [
              0.6666666666666666,
              "#ed7953"
             ],
             [
              0.7777777777777778,
              "#fb9f3a"
             ],
             [
              0.8888888888888888,
              "#fdca26"
             ],
             [
              1,
              "#f0f921"
             ]
            ],
            "type": "histogram2dcontour"
           }
          ],
          "mesh3d": [
           {
            "colorbar": {
             "outlinewidth": 0,
             "ticks": ""
            },
            "type": "mesh3d"
           }
          ],
          "parcoords": [
           {
            "line": {
             "colorbar": {
              "outlinewidth": 0,
              "ticks": ""
             }
            },
            "type": "parcoords"
           }
          ],
          "pie": [
           {
            "automargin": true,
            "type": "pie"
           }
          ],
          "scatter": [
           {
            "marker": {
             "colorbar": {
              "outlinewidth": 0,
              "ticks": ""
             }
            },
            "type": "scatter"
           }
          ],
          "scatter3d": [
           {
            "line": {
             "colorbar": {
              "outlinewidth": 0,
              "ticks": ""
             }
            },
            "marker": {
             "colorbar": {
              "outlinewidth": 0,
              "ticks": ""
             }
            },
            "type": "scatter3d"
           }
          ],
          "scattercarpet": [
           {
            "marker": {
             "colorbar": {
              "outlinewidth": 0,
              "ticks": ""
             }
            },
            "type": "scattercarpet"
           }
          ],
          "scattergeo": [
           {
            "marker": {
             "colorbar": {
              "outlinewidth": 0,
              "ticks": ""
             }
            },
            "type": "scattergeo"
           }
          ],
          "scattergl": [
           {
            "marker": {
             "colorbar": {
              "outlinewidth": 0,
              "ticks": ""
             }
            },
            "type": "scattergl"
           }
          ],
          "scattermapbox": [
           {
            "marker": {
             "colorbar": {
              "outlinewidth": 0,
              "ticks": ""
             }
            },
            "type": "scattermapbox"
           }
          ],
          "scatterpolar": [
           {
            "marker": {
             "colorbar": {
              "outlinewidth": 0,
              "ticks": ""
             }
            },
            "type": "scatterpolar"
           }
          ],
          "scatterpolargl": [
           {
            "marker": {
             "colorbar": {
              "outlinewidth": 0,
              "ticks": ""
             }
            },
            "type": "scatterpolargl"
           }
          ],
          "scatterternary": [
           {
            "marker": {
             "colorbar": {
              "outlinewidth": 0,
              "ticks": ""
             }
            },
            "type": "scatterternary"
           }
          ],
          "surface": [
           {
            "colorbar": {
             "outlinewidth": 0,
             "ticks": ""
            },
            "colorscale": [
             [
              0,
              "#0d0887"
             ],
             [
              0.1111111111111111,
              "#46039f"
             ],
             [
              0.2222222222222222,
              "#7201a8"
             ],
             [
              0.3333333333333333,
              "#9c179e"
             ],
             [
              0.4444444444444444,
              "#bd3786"
             ],
             [
              0.5555555555555556,
              "#d8576b"
             ],
             [
              0.6666666666666666,
              "#ed7953"
             ],
             [
              0.7777777777777778,
              "#fb9f3a"
             ],
             [
              0.8888888888888888,
              "#fdca26"
             ],
             [
              1,
              "#f0f921"
             ]
            ],
            "type": "surface"
           }
          ],
          "table": [
           {
            "cells": {
             "fill": {
              "color": "#EBF0F8"
             },
             "line": {
              "color": "white"
             }
            },
            "header": {
             "fill": {
              "color": "#C8D4E3"
             },
             "line": {
              "color": "white"
             }
            },
            "type": "table"
           }
          ]
         },
         "layout": {
          "annotationdefaults": {
           "arrowcolor": "#2a3f5f",
           "arrowhead": 0,
           "arrowwidth": 1
          },
          "autotypenumbers": "strict",
          "coloraxis": {
           "colorbar": {
            "outlinewidth": 0,
            "ticks": ""
           }
          },
          "colorscale": {
           "diverging": [
            [
             0,
             "#8e0152"
            ],
            [
             0.1,
             "#c51b7d"
            ],
            [
             0.2,
             "#de77ae"
            ],
            [
             0.3,
             "#f1b6da"
            ],
            [
             0.4,
             "#fde0ef"
            ],
            [
             0.5,
             "#f7f7f7"
            ],
            [
             0.6,
             "#e6f5d0"
            ],
            [
             0.7,
             "#b8e186"
            ],
            [
             0.8,
             "#7fbc41"
            ],
            [
             0.9,
             "#4d9221"
            ],
            [
             1,
             "#276419"
            ]
           ],
           "sequential": [
            [
             0,
             "#0d0887"
            ],
            [
             0.1111111111111111,
             "#46039f"
            ],
            [
             0.2222222222222222,
             "#7201a8"
            ],
            [
             0.3333333333333333,
             "#9c179e"
            ],
            [
             0.4444444444444444,
             "#bd3786"
            ],
            [
             0.5555555555555556,
             "#d8576b"
            ],
            [
             0.6666666666666666,
             "#ed7953"
            ],
            [
             0.7777777777777778,
             "#fb9f3a"
            ],
            [
             0.8888888888888888,
             "#fdca26"
            ],
            [
             1,
             "#f0f921"
            ]
           ],
           "sequentialminus": [
            [
             0,
             "#0d0887"
            ],
            [
             0.1111111111111111,
             "#46039f"
            ],
            [
             0.2222222222222222,
             "#7201a8"
            ],
            [
             0.3333333333333333,
             "#9c179e"
            ],
            [
             0.4444444444444444,
             "#bd3786"
            ],
            [
             0.5555555555555556,
             "#d8576b"
            ],
            [
             0.6666666666666666,
             "#ed7953"
            ],
            [
             0.7777777777777778,
             "#fb9f3a"
            ],
            [
             0.8888888888888888,
             "#fdca26"
            ],
            [
             1,
             "#f0f921"
            ]
           ]
          },
          "colorway": [
           "#636efa",
           "#EF553B",
           "#00cc96",
           "#ab63fa",
           "#FFA15A",
           "#19d3f3",
           "#FF6692",
           "#B6E880",
           "#FF97FF",
           "#FECB52"
          ],
          "font": {
           "color": "#2a3f5f"
          },
          "geo": {
           "bgcolor": "white",
           "lakecolor": "white",
           "landcolor": "#E5ECF6",
           "showlakes": true,
           "showland": true,
           "subunitcolor": "white"
          },
          "hoverlabel": {
           "align": "left"
          },
          "hovermode": "closest",
          "mapbox": {
           "style": "light"
          },
          "paper_bgcolor": "white",
          "plot_bgcolor": "#E5ECF6",
          "polar": {
           "angularaxis": {
            "gridcolor": "white",
            "linecolor": "white",
            "ticks": ""
           },
           "bgcolor": "#E5ECF6",
           "radialaxis": {
            "gridcolor": "white",
            "linecolor": "white",
            "ticks": ""
           }
          },
          "scene": {
           "xaxis": {
            "backgroundcolor": "#E5ECF6",
            "gridcolor": "white",
            "gridwidth": 2,
            "linecolor": "white",
            "showbackground": true,
            "ticks": "",
            "zerolinecolor": "white"
           },
           "yaxis": {
            "backgroundcolor": "#E5ECF6",
            "gridcolor": "white",
            "gridwidth": 2,
            "linecolor": "white",
            "showbackground": true,
            "ticks": "",
            "zerolinecolor": "white"
           },
           "zaxis": {
            "backgroundcolor": "#E5ECF6",
            "gridcolor": "white",
            "gridwidth": 2,
            "linecolor": "white",
            "showbackground": true,
            "ticks": "",
            "zerolinecolor": "white"
           }
          },
          "shapedefaults": {
           "line": {
            "color": "#2a3f5f"
           }
          },
          "ternary": {
           "aaxis": {
            "gridcolor": "white",
            "linecolor": "white",
            "ticks": ""
           },
           "baxis": {
            "gridcolor": "white",
            "linecolor": "white",
            "ticks": ""
           },
           "bgcolor": "#E5ECF6",
           "caxis": {
            "gridcolor": "white",
            "linecolor": "white",
            "ticks": ""
           }
          },
          "title": {
           "x": 0.05
          },
          "xaxis": {
           "automargin": true,
           "gridcolor": "white",
           "linecolor": "white",
           "ticks": "",
           "title": {
            "standoff": 15
           },
           "zerolinecolor": "white",
           "zerolinewidth": 2
          },
          "yaxis": {
           "automargin": true,
           "gridcolor": "white",
           "linecolor": "white",
           "ticks": "",
           "title": {
            "standoff": 15
           },
           "zerolinecolor": "white",
           "zerolinewidth": 2
          }
         }
        },
        "title": {
         "font": {
          "family": "Arial"
         }
        }
       }
      },
      "image/png": "[encoded data removed]",
      "text/html": [
       "<div>                            <div id=\"798e660d-9926-41ce-9be4-8dbf7589358c\" class=\"plotly-graph-div\" style=\"height:525px; width:100%;\"></div>            <script type=\"text/javascript\">                require([\"plotly\"], function(Plotly) {                    window.PLOTLYENV=window.PLOTLYENV || {};                                    if (document.getElementById(\"798e660d-9926-41ce-9be4-8dbf7589358c\")) {                    Plotly.newPlot(                        \"798e660d-9926-41ce-9be4-8dbf7589358c\",                        [{\"labels\":[\"CASIA-WebFace\",\"VGGFace2\",\"MS-Celeb-1M\",\"MegaFace\",\"IJB-A\",\"CelebA\",\"Other\",\"Other\"],\"marker\":{\"colors\":[\"rgb(228,26,28)\",\"rgb(55,126,184)\",\"rgb(77,175,74)\",\"rgb(152,78,163)\",\"rgb(255,127,0)\",\"rgb(255,255,51)\",\"rgb(166,86,40)\",\"rgb(247,129,191)\",\"rgb(153,153,153)\"],\"line\":{\"color\":\"#000000\",\"width\":1}},\"pull\":[0,0,0,0.2,0,0,0],\"textfont\":{\"color\":\"black\"},\"type\":\"pie\",\"values\":[158,129,109,108,108,75,50,19]}],                        {\"font\":{\"color\":\"black\",\"family\":\"Arial\"},\"template\":{\"data\":{\"bar\":[{\"error_x\":{\"color\":\"#2a3f5f\"},\"error_y\":{\"color\":\"#2a3f5f\"},\"marker\":{\"line\":{\"color\":\"#E5ECF6\",\"width\":0.5},\"pattern\":{\"fillmode\":\"overlay\",\"size\":10,\"solidity\":0.2}},\"type\":\"bar\"}],\"barpolar\":[{\"marker\":{\"line\":{\"color\":\"#E5ECF6\",\"width\":0.5},\"pattern\":{\"fillmode\":\"overlay\",\"size\":10,\"solidity\":0.2}},\"type\":\"barpolar\"}],\"carpet\":[{\"aaxis\":{\"endlinecolor\":\"#2a3f5f\",\"gridcolor\":\"white\",\"linecolor\":\"white\",\"minorgridcolor\":\"white\",\"startlinecolor\":\"#2a3f5f\"},\"baxis\":{\"endlinecolor\":\"#2a3f5f\",\"gridcolor\":\"white\",\"linecolor\":\"white\",\"minorgridcolor\":\"white\",\"startlinecolor\":\"#2a3f5f\"},\"type\":\"carpet\"}],\"choropleth\":[{\"colorbar\":{\"outlinewidth\":0,\"ticks\":\"\"},\"type\":\"choropleth\"}],\"contour\":[{\"colorbar\":{\"outlinewidth\":0,\"ticks\":\"\"},\"colorscale\":[[0.0,\"#0d0887\"],[0.1111111111111111,\"#46039f\"],[0.2222222222222222,\"#7201a8\"],[0.3333333333333333,\"#9c179e\"],[0.4444444444444444,\"#bd3786\"],[0.5555555555555556,\"#d8576b\"],[0.6666666666666666,\"#ed7953\"],[0.7777777777777778,\"#fb9f3a\"],[0.8888888888888888,\"#fdca26\"],[1.0,\"#f0f921\"]],\"type\":\"contour\"}],\"contourcarpet\":[{\"colorbar\":{\"outlinewidth\":0,\"ticks\":\"\"},\"type\":\"contourcarpet\"}],\"heatmap\":[{\"colorbar\":{\"outlinewidth\":0,\"ticks\":\"\"},\"colorscale\":[[0.0,\"#0d0887\"],[0.1111111111111111,\"#46039f\"],[0.2222222222222222,\"#7201a8\"],[0.3333333333333333,\"#9c179e\"],[0.4444444444444444,\"#bd3786\"],[0.5555555555555556,\"#d8576b\"],[0.6666666666666666,\"#ed7953\"],[0.7777777777777778,\"#fb9f3a\"],[0.8888888888888888,\"#fdca26\"],[1.0,\"#f0f921\"]],\"type\":\"heatmap\"}],\"heatmapgl\":[{\"colorbar\":{\"outlinewidth\":0,\"ticks\":\"\"},\"colorscale\":[[0.0,\"#0d0887\"],[0.1111111111111111,\"#46039f\"],[0.2222222222222222,\"#7201a8\"],[0.3333333333333333,\"#9c179e\"],[0.4444444444444444,\"#bd3786\"],[0.5555555555555556,\"#d8576b\"],[0.6666666666666666,\"#ed7953\"],[0.7777777777777778,\"#fb9f3a\"],[0.8888888888888888,\"#fdca26\"],[1.0,\"#f0f921\"]],\"type\":\"heatmapgl\"}],\"histogram\":[{\"marker\":{\"pattern\":{\"fillmode\":\"overlay\",\"size\":10,\"solidity\":0.2}},\"type\":\"histogram\"}],\"histogram2d\":[{\"colorbar\":{\"outlinewidth\":0,\"ticks\":\"\"},\"colorscale\":[[0.0,\"#0d0887\"],[0.1111111111111111,\"#46039f\"],[0.2222222222222222,\"#7201a8\"],[0.3333333333333333,\"#9c179e\"],[0.4444444444444444,\"#bd3786\"],[0.5555555555555556,\"#d8576b\"],[0.6666666666666666,\"#ed7953\"],[0.7777777777777778,\"#fb9f3a\"],[0.8888888888888888,\"#fdca26\"],[1.0,\"#f0f921\"]],\"type\":\"histogram2d\"}],\"histogram2dcontour\":[{\"colorbar\":{\"outlinewidth\":0,\"ticks\":\"\"},\"colorscale\":[[0.0,\"#0d0887\"],[0.1111111111111111,\"#46039f\"],[0.2222222222222222,\"#7201a8\"],[0.3333333333333333,\"#9c179e\"],[0.4444444444444444,\"#bd3786\"],[0.5555555555555556,\"#d8576b\"],[0.6666666666666666,\"#ed7953\"],[0.7777777777777778,\"#fb9f3a\"],[0.8888888888888888,\"#fdca26\"],[1.0,\"#f0f921\"]],\"type\":\"histogram2dcontour\"}],\"mesh3d\":[{\"colorbar\":{\"outlinewidth\":0,\"ticks\":\"\"},\"type\":\"mesh3d\"}],\"parcoords\":[{\"line\":{\"colorbar\":{\"outlinewidth\":0,\"ticks\":\"\"}},\"type\":\"parcoords\"}],\"pie\":[{\"automargin\":true,\"type\":\"pie\"}],\"scatter\":[{\"marker\":{\"colorbar\":{\"outlinewidth\":0,\"ticks\":\"\"}},\"type\":\"scatter\"}],\"scatter3d\":[{\"line\":{\"colorbar\":{\"outlinewidth\":0,\"ticks\":\"\"}},\"marker\":{\"colorbar\":{\"outlinewidth\":0,\"ticks\":\"\"}},\"type\":\"scatter3d\"}],\"scattercarpet\":[{\"marker\":{\"colorbar\":{\"outlinewidth\":0,\"ticks\":\"\"}},\"type\":\"scattercarpet\"}],\"scattergeo\":[{\"marker\":{\"colorbar\":{\"outlinewidth\":0,\"ticks\":\"\"}},\"type\":\"scattergeo\"}],\"scattergl\":[{\"marker\":{\"colorbar\":{\"outlinewidth\":0,\"ticks\":\"\"}},\"type\":\"scattergl\"}],\"scattermapbox\":[{\"marker\":{\"colorbar\":{\"outlinewidth\":0,\"ticks\":\"\"}},\"type\":\"scattermapbox\"}],\"scatterpolar\":[{\"marker\":{\"colorbar\":{\"outlinewidth\":0,\"ticks\":\"\"}},\"type\":\"scatterpolar\"}],\"scatterpolargl\":[{\"marker\":{\"colorbar\":{\"outlinewidth\":0,\"ticks\":\"\"}},\"type\":\"scatterpolargl\"}],\"scatterternary\":[{\"marker\":{\"colorbar\":{\"outlinewidth\":0,\"ticks\":\"\"}},\"type\":\"scatterternary\"}],\"surface\":[{\"colorbar\":{\"outlinewidth\":0,\"ticks\":\"\"},\"colorscale\":[[0.0,\"#0d0887\"],[0.1111111111111111,\"#46039f\"],[0.2222222222222222,\"#7201a8\"],[0.3333333333333333,\"#9c179e\"],[0.4444444444444444,\"#bd3786\"],[0.5555555555555556,\"#d8576b\"],[0.6666666666666666,\"#ed7953\"],[0.7777777777777778,\"#fb9f3a\"],[0.8888888888888888,\"#fdca26\"],[1.0,\"#f0f921\"]],\"type\":\"surface\"}],\"table\":[{\"cells\":{\"fill\":{\"color\":\"#EBF0F8\"},\"line\":{\"color\":\"white\"}},\"header\":{\"fill\":{\"color\":\"#C8D4E3\"},\"line\":{\"color\":\"white\"}},\"type\":\"table\"}]},\"layout\":{\"annotationdefaults\":{\"arrowcolor\":\"#2a3f5f\",\"arrowhead\":0,\"arrowwidth\":1},\"autotypenumbers\":\"strict\",\"coloraxis\":{\"colorbar\":{\"outlinewidth\":0,\"ticks\":\"\"}},\"colorscale\":{\"diverging\":[[0,\"#8e0152\"],[0.1,\"#c51b7d\"],[0.2,\"#de77ae\"],[0.3,\"#f1b6da\"],[0.4,\"#fde0ef\"],[0.5,\"#f7f7f7\"],[0.6,\"#e6f5d0\"],[0.7,\"#b8e186\"],[0.8,\"#7fbc41\"],[0.9,\"#4d9221\"],[1,\"#276419\"]],\"sequential\":[[0.0,\"#0d0887\"],[0.1111111111111111,\"#46039f\"],[0.2222222222222222,\"#7201a8\"],[0.3333333333333333,\"#9c179e\"],[0.4444444444444444,\"#bd3786\"],[0.5555555555555556,\"#d8576b\"],[0.6666666666666666,\"#ed7953\"],[0.7777777777777778,\"#fb9f3a\"],[0.8888888888888888,\"#fdca26\"],[1.0,\"#f0f921\"]],\"sequentialminus\":[[0.0,\"#0d0887\"],[0.1111111111111111,\"#46039f\"],[0.2222222222222222,\"#7201a8\"],[0.3333333333333333,\"#9c179e\"],[0.4444444444444444,\"#bd3786\"],[0.5555555555555556,\"#d8576b\"],[0.6666666666666666,\"#ed7953\"],[0.7777777777777778,\"#fb9f3a\"],[0.8888888888888888,\"#fdca26\"],[1.0,\"#f0f921\"]]},\"colorway\":[\"#636efa\",\"#EF553B\",\"#00cc96\",\"#ab63fa\",\"#FFA15A\",\"#19d3f3\",\"#FF6692\",\"#B6E880\",\"#FF97FF\",\"#FECB52\"],\"font\":{\"color\":\"#2a3f5f\"},\"geo\":{\"bgcolor\":\"white\",\"lakecolor\":\"white\",\"landcolor\":\"#E5ECF6\",\"showlakes\":true,\"showland\":true,\"subunitcolor\":\"white\"},\"hoverlabel\":{\"align\":\"left\"},\"hovermode\":\"closest\",\"mapbox\":{\"style\":\"light\"},\"paper_bgcolor\":\"white\",\"plot_bgcolor\":\"#E5ECF6\",\"polar\":{\"angularaxis\":{\"gridcolor\":\"white\",\"linecolor\":\"white\",\"ticks\":\"\"},\"bgcolor\":\"#E5ECF6\",\"radialaxis\":{\"gridcolor\":\"white\",\"linecolor\":\"white\",\"ticks\":\"\"}},\"scene\":{\"xaxis\":{\"backgroundcolor\":\"#E5ECF6\",\"gridcolor\":\"white\",\"gridwidth\":2,\"linecolor\":\"white\",\"showbackground\":true,\"ticks\":\"\",\"zerolinecolor\":\"white\"},\"yaxis\":{\"backgroundcolor\":\"#E5ECF6\",\"gridcolor\":\"white\",\"gridwidth\":2,\"linecolor\":\"white\",\"showbackground\":true,\"ticks\":\"\",\"zerolinecolor\":\"white\"},\"zaxis\":{\"backgroundcolor\":\"#E5ECF6\",\"gridcolor\":\"white\",\"gridwidth\":2,\"linecolor\":\"white\",\"showbackground\":true,\"ticks\":\"\",\"zerolinecolor\":\"white\"}},\"shapedefaults\":{\"line\":{\"color\":\"#2a3f5f\"}},\"ternary\":{\"aaxis\":{\"gridcolor\":\"white\",\"linecolor\":\"white\",\"ticks\":\"\"},\"baxis\":{\"gridcolor\":\"white\",\"linecolor\":\"white\",\"ticks\":\"\"},\"bgcolor\":\"#E5ECF6\",\"caxis\":{\"gridcolor\":\"white\",\"linecolor\":\"white\",\"ticks\":\"\"}},\"title\":{\"x\":0.05},\"xaxis\":{\"automargin\":true,\"gridcolor\":\"white\",\"linecolor\":\"white\",\"ticks\":\"\",\"title\":{\"standoff\":15},\"zerolinecolor\":\"white\",\"zerolinewidth\":2},\"yaxis\":{\"automargin\":true,\"gridcolor\":\"white\",\"linecolor\":\"white\",\"ticks\":\"\",\"title\":{\"standoff\":15},\"zerolinecolor\":\"white\",\"zerolinewidth\":2}}},\"title\":{\"font\":{\"family\":\"Arial\"}}},                        {\"responsive\": true}                    ).then(function(){\n",
       "                            \n",
       "var gd = document.getElementById('798e660d-9926-41ce-9be4-8dbf7589358c');\n",
       "var x = new MutationObserver(function (mutations, observer) {{\n",
       "        var display = window.getComputedStyle(gd).display;\n",
       "        if (!display || display === 'none') {{\n",
       "            console.log([gd, 'removed!']);\n",
       "            Plotly.purge(gd);\n",
       "            observer.disconnect();\n",
       "        }}\n",
       "}});\n",
       "\n",
       "// Listen for the removal of the full notebook cells\n",
       "var notebookContainer = gd.closest('#notebook-container');\n",
       "if (notebookContainer) {{\n",
       "    x.observe(notebookContainer, {childList: true});\n",
       "}}\n",
       "\n",
       "// Listen for the clearing of the current output cell\n",
       "var outputEl = gd.closest('.output');\n",
       "if (outputEl) {{\n",
       "    x.observe(outputEl, {childList: true});\n",
       "}}\n",
       "\n",
       "                        })                };                });            </script>        </div>"
      ]
     },
     "metadata": {},
     "output_type": "display_data"
    }
   ],
   "source": [
    "import plotly.graph_objects as go\n",
    "\n",
    "fig = go.Figure(data=[go.Pie(labels=tasks_df['task'], \n",
    "                             values=tasks_df['count'],\n",
    "                            pull=[0, 0, 0, 0.2,0,0,0])])\n",
    "fig.update_layout(\n",
    "    font_family=\"Arial\",\n",
    "    title_font_family=\"Arial\",\n",
    "    font_color='black',\n",
    ")\n",
    "fig.update_traces(marker=dict(colors=px.colors.qualitative.Set1,line=dict(color='#000000', width=1)),textfont_color='black')\n",
    "fig.show()\n",
    "\n",
    "fig = go.Figure(data=[go.Pie(labels=dataset_df['name'], \n",
    "                             values=dataset_df['count'],\n",
    "                            pull=[0, 0, 0, 0.2,0,0,0])])\n",
    "fig.update_layout(\n",
    "    font_family=\"Arial\",\n",
    "    title_font_family=\"Arial\",\n",
    "    font_color='black',\n",
    ")\n",
    "fig.update_traces(marker=dict(colors=px.colors.qualitative.Set1,line=dict(color='#000000', width=1)),textfont_color='black')\n",
    "fig.show()"
   ]
  },
  {
   "cell_type": "code",
   "execution_count": 42,
   "id": "2a470ae8-5e7f-45ed-bb1a-fbb61ac5457a",
   "metadata": {},
   "outputs": [
    {
     "data": {
      "text/html": [
       "<div>\n",
       "<style scoped>\n",
       "    .dataframe tbody tr th:only-of-type {\n",
       "        vertical-align: middle;\n",
       "    }\n",
       "\n",
       "    .dataframe tbody tr th {\n",
       "        vertical-align: top;\n",
       "    }\n",
       "\n",
       "    .dataframe thead th {\n",
       "        text-align: right;\n",
       "    }\n",
       "</style>\n",
       "<table border=\"1\" class=\"dataframe\">\n",
       "  <thead>\n",
       "    <tr style=\"text-align: right;\">\n",
       "      <th></th>\n",
       "      <th>source_task</th>\n",
       "      <th>dest_task</th>\n",
       "      <th>name</th>\n",
       "      <th>title</th>\n",
       "      <th>date</th>\n",
       "      <th>Images</th>\n",
       "      <th>Texts</th>\n",
       "      <th>Parent_Transfer</th>\n",
       "    </tr>\n",
       "  </thead>\n",
       "  <tbody>\n",
       "    <tr>\n",
       "      <th>3892</th>\n",
       "      <td>Object Recognition</td>\n",
       "      <td>Face Recognition</td>\n",
       "      <td>ImageNet</td>\n",
       "      <td>Physical Attribute Prediction Using Deep Resid...</td>\n",
       "      <td>2018-12-19</td>\n",
       "      <td>True</td>\n",
       "      <td>False</td>\n",
       "      <td>False</td>\n",
       "    </tr>\n",
       "    <tr>\n",
       "      <th>3895</th>\n",
       "      <td>Image Classification</td>\n",
       "      <td>Face Recognition</td>\n",
       "      <td>ImageNet</td>\n",
       "      <td>Physical Attribute Prediction Using Deep Resid...</td>\n",
       "      <td>2018-12-19</td>\n",
       "      <td>True</td>\n",
       "      <td>False</td>\n",
       "      <td>False</td>\n",
       "    </tr>\n",
       "    <tr>\n",
       "      <th>3898</th>\n",
       "      <td>Object Localization</td>\n",
       "      <td>Face Recognition</td>\n",
       "      <td>ImageNet</td>\n",
       "      <td>Physical Attribute Prediction Using Deep Resid...</td>\n",
       "      <td>2018-12-19</td>\n",
       "      <td>True</td>\n",
       "      <td>False</td>\n",
       "      <td>False</td>\n",
       "    </tr>\n",
       "    <tr>\n",
       "      <th>3998</th>\n",
       "      <td>Object Recognition</td>\n",
       "      <td>Face Recognition</td>\n",
       "      <td>ImageNet</td>\n",
       "      <td>FaceGuard: A Self-Supervised Defense Against A...</td>\n",
       "      <td>2020-11-28</td>\n",
       "      <td>True</td>\n",
       "      <td>False</td>\n",
       "      <td>False</td>\n",
       "    </tr>\n",
       "    <tr>\n",
       "      <th>4001</th>\n",
       "      <td>Image Classification</td>\n",
       "      <td>Face Recognition</td>\n",
       "      <td>ImageNet</td>\n",
       "      <td>FaceGuard: A Self-Supervised Defense Against A...</td>\n",
       "      <td>2020-11-28</td>\n",
       "      <td>True</td>\n",
       "      <td>False</td>\n",
       "      <td>False</td>\n",
       "    </tr>\n",
       "    <tr>\n",
       "      <th>...</th>\n",
       "      <td>...</td>\n",
       "      <td>...</td>\n",
       "      <td>...</td>\n",
       "      <td>...</td>\n",
       "      <td>...</td>\n",
       "      <td>...</td>\n",
       "      <td>...</td>\n",
       "      <td>...</td>\n",
       "    </tr>\n",
       "    <tr>\n",
       "      <th>23021</th>\n",
       "      <td>Image Classification</td>\n",
       "      <td>Face Recognition</td>\n",
       "      <td>ImageNet</td>\n",
       "      <td>RepMLP: Re-parameterizing Convolutions into Fu...</td>\n",
       "      <td>2021-05-05</td>\n",
       "      <td>True</td>\n",
       "      <td>False</td>\n",
       "      <td>False</td>\n",
       "    </tr>\n",
       "    <tr>\n",
       "      <th>23023</th>\n",
       "      <td>Object Localization</td>\n",
       "      <td>Face Recognition</td>\n",
       "      <td>ImageNet</td>\n",
       "      <td>RepMLP: Re-parameterizing Convolutions into Fu...</td>\n",
       "      <td>2021-05-05</td>\n",
       "      <td>True</td>\n",
       "      <td>False</td>\n",
       "      <td>False</td>\n",
       "    </tr>\n",
       "    <tr>\n",
       "      <th>24193</th>\n",
       "      <td>Object Recognition</td>\n",
       "      <td>Face Recognition</td>\n",
       "      <td>ImageNet</td>\n",
       "      <td>Quality-Agnostic Image Recognition via Inverti...</td>\n",
       "      <td>2021-06-19</td>\n",
       "      <td>True</td>\n",
       "      <td>False</td>\n",
       "      <td>False</td>\n",
       "    </tr>\n",
       "    <tr>\n",
       "      <th>24195</th>\n",
       "      <td>Image Classification</td>\n",
       "      <td>Face Recognition</td>\n",
       "      <td>ImageNet</td>\n",
       "      <td>Quality-Agnostic Image Recognition via Inverti...</td>\n",
       "      <td>2021-06-19</td>\n",
       "      <td>True</td>\n",
       "      <td>False</td>\n",
       "      <td>False</td>\n",
       "    </tr>\n",
       "    <tr>\n",
       "      <th>24197</th>\n",
       "      <td>Object Localization</td>\n",
       "      <td>Face Recognition</td>\n",
       "      <td>ImageNet</td>\n",
       "      <td>Quality-Agnostic Image Recognition via Inverti...</td>\n",
       "      <td>2021-06-19</td>\n",
       "      <td>True</td>\n",
       "      <td>False</td>\n",
       "      <td>False</td>\n",
       "    </tr>\n",
       "  </tbody>\n",
       "</table>\n",
       "<p>96 rows × 8 columns</p>\n",
       "</div>"
      ],
      "text/plain": [
       "                source_task         dest_task      name  \\\n",
       "3892     Object Recognition  Face Recognition  ImageNet   \n",
       "3895   Image Classification  Face Recognition  ImageNet   \n",
       "3898    Object Localization  Face Recognition  ImageNet   \n",
       "3998     Object Recognition  Face Recognition  ImageNet   \n",
       "4001   Image Classification  Face Recognition  ImageNet   \n",
       "...                     ...               ...       ...   \n",
       "23021  Image Classification  Face Recognition  ImageNet   \n",
       "23023   Object Localization  Face Recognition  ImageNet   \n",
       "24193    Object Recognition  Face Recognition  ImageNet   \n",
       "24195  Image Classification  Face Recognition  ImageNet   \n",
       "24197   Object Localization  Face Recognition  ImageNet   \n",
       "\n",
       "                                                   title       date  Images  \\\n",
       "3892   Physical Attribute Prediction Using Deep Resid... 2018-12-19    True   \n",
       "3895   Physical Attribute Prediction Using Deep Resid... 2018-12-19    True   \n",
       "3898   Physical Attribute Prediction Using Deep Resid... 2018-12-19    True   \n",
       "3998   FaceGuard: A Self-Supervised Defense Against A... 2020-11-28    True   \n",
       "4001   FaceGuard: A Self-Supervised Defense Against A... 2020-11-28    True   \n",
       "...                                                  ...        ...     ...   \n",
       "23021  RepMLP: Re-parameterizing Convolutions into Fu... 2021-05-05    True   \n",
       "23023  RepMLP: Re-parameterizing Convolutions into Fu... 2021-05-05    True   \n",
       "24193  Quality-Agnostic Image Recognition via Inverti... 2021-06-19    True   \n",
       "24195  Quality-Agnostic Image Recognition via Inverti... 2021-06-19    True   \n",
       "24197  Quality-Agnostic Image Recognition via Inverti... 2021-06-19    True   \n",
       "\n",
       "       Texts  Parent_Transfer  \n",
       "3892   False            False  \n",
       "3895   False            False  \n",
       "3898   False            False  \n",
       "3998   False            False  \n",
       "4001   False            False  \n",
       "...      ...              ...  \n",
       "23021  False            False  \n",
       "23023  False            False  \n",
       "24193  False            False  \n",
       "24195  False            False  \n",
       "24197  False            False  \n",
       "\n",
       "[96 rows x 8 columns]"
      ]
     },
     "execution_count": 42,
     "metadata": {},
     "output_type": "execute_result"
    }
   ],
   "source": [
    "source_dest_edgelist_parents[(source_dest_edgelist_parents.dest_task=='Face Recognition')&(source_dest_edgelist_parents.name=='ImageNet')]\n"
   ]
  },
  {
   "cell_type": "code",
   "execution_count": null,
   "id": "e10de947-a474-45d1-9c03-e76efc609815",
   "metadata": {},
   "outputs": [],
   "source": [
    "\n",
    "import plotly.graph_objects as go\n",
    "\n",
    "fig = go.Figure(data=[go.Pie(labels=['Oxygen','Hydrogen','Carbon_Dioxide','Nitrogen'],\n",
    "                             values=[4500,2500,1053,500])])\n",
    "fig.update_traces(hoverinfo='label+percent', textinfo='value', textfont_size=20,\n",
    "                  marker=dict(colors=colors, line=dict(color='#000000', width=2)))\n",
    "fig.show()"
   ]
  },
  {
   "cell_type": "code",
   "execution_count": 262,
   "id": "7278f376-6238-4a6b-86eb-575529d53079",
   "metadata": {},
   "outputs": [
    {
     "data": {
      "text/html": [
       "<div>\n",
       "<style scoped>\n",
       "    .dataframe tbody tr th:only-of-type {\n",
       "        vertical-align: middle;\n",
       "    }\n",
       "\n",
       "    .dataframe tbody tr th {\n",
       "        vertical-align: top;\n",
       "    }\n",
       "\n",
       "    .dataframe thead th {\n",
       "        text-align: right;\n",
       "    }\n",
       "</style>\n",
       "<table border=\"1\" class=\"dataframe\">\n",
       "  <thead>\n",
       "    <tr style=\"text-align: right;\">\n",
       "      <th></th>\n",
       "      <th>task</th>\n",
       "      <th>year</th>\n",
       "      <th>num_dataset_births</th>\n",
       "      <th>num_papers_adopting</th>\n",
       "      <th>num_dataset_imports</th>\n",
       "      <th>num_papers_growing</th>\n",
       "      <th>size</th>\n",
       "      <th>task_age</th>\n",
       "      <th>adoption_ratio</th>\n",
       "      <th>creation_ratio</th>\n",
       "      <th>...</th>\n",
       "      <th>adoption_pct</th>\n",
       "      <th>creation_pct</th>\n",
       "      <th>conversion_pct</th>\n",
       "      <th>cvmethods</th>\n",
       "      <th>Images</th>\n",
       "      <th>Texts</th>\n",
       "      <th>pwc_size</th>\n",
       "      <th>CV</th>\n",
       "      <th>NLP</th>\n",
       "      <th>Methodology</th>\n",
       "    </tr>\n",
       "  </thead>\n",
       "  <tbody>\n",
       "    <tr>\n",
       "      <th>3440</th>\n",
       "      <td>Object Detection</td>\n",
       "      <td>2015</td>\n",
       "      <td>0.0</td>\n",
       "      <td>148.0</td>\n",
       "      <td>0.0</td>\n",
       "      <td>1.0</td>\n",
       "      <td>149.0</td>\n",
       "      <td>2007.0</td>\n",
       "      <td>148.0</td>\n",
       "      <td>NaN</td>\n",
       "      <td>...</td>\n",
       "      <td>0.993289</td>\n",
       "      <td>NaN</td>\n",
       "      <td>0.0</td>\n",
       "      <td>False</td>\n",
       "      <td>1</td>\n",
       "      <td>1</td>\n",
       "      <td>12110</td>\n",
       "      <td>1</td>\n",
       "      <td>0</td>\n",
       "      <td>0</td>\n",
       "    </tr>\n",
       "  </tbody>\n",
       "</table>\n",
       "<p>1 rows × 21 columns</p>\n",
       "</div>"
      ],
      "text/plain": [
       "                  task  year  num_dataset_births  num_papers_adopting  \\\n",
       "3440  Object Detection  2015                 0.0                148.0   \n",
       "\n",
       "      num_dataset_imports  num_papers_growing   size  task_age  \\\n",
       "3440                  0.0                 1.0  149.0    2007.0   \n",
       "\n",
       "      adoption_ratio  creation_ratio  ...  adoption_pct  creation_pct  \\\n",
       "3440           148.0             NaN  ...      0.993289           NaN   \n",
       "\n",
       "      conversion_pct  cvmethods  Images  Texts  pwc_size  CV  NLP  Methodology  \n",
       "3440             0.0      False       1      1     12110   1    0            0  \n",
       "\n",
       "[1 rows x 21 columns]"
      ]
     },
     "execution_count": 262,
     "metadata": {},
     "output_type": "execute_result"
    }
   ],
   "source": [
    "#pwc_papers2=pwc_papers.copy()\n",
    "#pwc_papers2['year']=pwc_papers2['year'].apply(lambda x: x if x % 2==0 else x-1)\n",
    "pwc_papers2.year.unique()\n",
    "\n",
    "annual_data2[(annual_data2.task=='Object Detection') &(annual_data2.year==2014)]\n",
    "annual_data2[(annual_data2.task=='Object Detection') &(annual_data2.year==2015)]\n",
    "\n",
    "annual_data[(annual_data.task=='Object Detection') &(annual_data.year==2014)]\n",
    "annual_data[(annual_data.task=='Object Detection') &(annual_data.year==2015)]\n"
   ]
  },
  {
   "cell_type": "code",
   "execution_count": 13,
   "id": "4887636d-0e97-4f0e-9a1c-5ac455d19897",
   "metadata": {},
   "outputs": [],
   "source": [
    "from skbio.diversity import alpha\n",
    "dataset_name=[]\n",
    "paper_title=[]\n",
    "paper_date=[]\n",
    "paper_tasks=[]\n",
    "paper_CV=[]\n",
    "paper_NLP=[]\n",
    "paper_Methods=[]\n",
    "paper_parent=[]\n",
    "def in_category(x,cat):\n",
    "    if x in task_category_dict and cat in task_category_dict[x]:\n",
    "        return 1\n",
    "    if x in parent_child_dict and any([cat in task_category_dict[p] for p in child_parent_dict[x]]):\n",
    "        return 1\n",
    "    return 0\n",
    "\n",
    "for i, row in dataset_citing_papers_pwc.drop_duplicates(['name','title']).iterrows():\n",
    "    if row['name']=='PRID2011':continue\n",
    "    valid_tasks= set(datasets[datasets.name==row['name']]['dataset_tasks'].iloc[0]+\\\n",
    "                     datasets[datasets.name==row['name']]['dataset_tasks_children'].iloc[0]+\\\n",
    "                     datasets[datasets.name==row['name']]['dataset_tasks_siblings'].iloc[0]\n",
    "                    )\n",
    "    for t in row['all_tasks']:\n",
    "        if t not in valid_tasks: continue \n",
    "        #if t not in focal_tasks:continue\n",
    "        dataset_name.append(row['name'])\n",
    "        paper_title.append(row['title'])\n",
    "        paper_date.append(row['date'].year)\n",
    "        paper_tasks.append(t)\n",
    "        paper_parent.append(False)\n",
    "    for t in row['all_parents']:\n",
    "        if t not in valid_tasks: continue\n",
    "        #if t not in focal_tasks:continue\n",
    "        dataset_name.append(row['name'])\n",
    "        paper_title.append(row['title'])\n",
    "        paper_date.append(row['date'].year)\n",
    "        paper_tasks.append(t)\n",
    "        paper_parent.append(True)\n",
    "entropy_dataset=pd.DataFrame({'task':paper_tasks,'name':dataset_name,'title':paper_title,'date':paper_date}).drop_duplicates()"
   ]
  },
  {
   "cell_type": "code",
   "execution_count": 14,
   "id": "1fda5e13",
   "metadata": {},
   "outputs": [],
   "source": [
    "import numpy as np\n",
    "from scipy.stats import entropy\n",
    "from skbio.diversity import alpha\n",
    "from math import log\n",
    "#right now I am just saying having 1 or 0 datasets is meaningless\n",
    "def gini(x):\n",
    "    if len(x)<2:return None\n",
    "    x=np.array(x)\n",
    "    \"\"\"Compute Gini coefficient of array of values\"\"\"\n",
    "    diffsum = 0\n",
    "    for i, xi in enumerate(x[:-1], 1):\n",
    "        diffsum += np.sum(np.abs(xi - x[i:]))\n",
    "    return diffsum / (len(x)**2 * np.mean(x))\n",
    "\n",
    "def corrected_gini(x):\n",
    "    if len(x)<2:return None\n",
    "    x=np.array(x)\n",
    "    \"\"\"Compute Gini coefficient of array of values\"\"\"\n",
    "    diffsum = 0\n",
    "    for i, xi in enumerate(x[:-1], 1):\n",
    "        diffsum += np.sum(np.abs(xi - x[i:]))\n",
    "    gini = diffsum / (len(x)**2 * np.mean(x))\n",
    "    return len(x)*gini/(len(x)-1) \n",
    "\n",
    "\n",
    "def pielou(x):\n",
    "    if len(x)<2:return None\n",
    "    x=np.array(x)\n",
    "    return entropy(x,base=2)/log(len(x),2)\n"
   ]
  },
  {
   "cell_type": "code",
   "execution_count": 15,
   "id": "70fe2280",
   "metadata": {},
   "outputs": [],
   "source": [
    "task_ds_ycounts=entropy_dataset.groupby(['task','name',entropy_dataset.date]).size().reset_index()\n",
    "task_ds_ycounts.columns=['task', 'name','year','count']\n",
    "ginis=task_ds_ycounts.groupby(['task','year'])['count'].agg(corrected_gini).reset_index()\n",
    "ginis.columns=['task','year','gini']\n",
    "pielous=task_ds_ycounts.groupby(['task','year'])['count'].agg(pielou).reset_index()\n",
    "pielous.columns=['task','year','pielou']\n",
    "simpson=task_ds_ycounts.groupby(['task','year'])['count'].agg(alpha.simpson_e).reset_index()\n",
    "simpson.columns=['task','year','simpson']\n",
    "size=task_ds_ycounts.groupby(['task','year'])['count'].sum().reset_index()\n",
    "size.columns=['task','year','task_size']\n",
    "inequity_years_df=pd.merge(ginis,pielous,on=['task','year'])\n",
    "inequity_years_df=pd.merge(inequity_years_df,simpson,on=['task','year'],how='left')\n",
    "inequity_years_df=pd.merge(inequity_years_df,size,on=['task','year'],how='left')\n",
    "inequity_years_df=pd.merge(inequity_years_df,\n",
    "                           annual_data[['task','year','task_age','pwc_size','Images','Texts','cvmethods','CV','NLP','Methodology']],\n",
    "                           on=['task','year'], how='left')\n",
    "inequity_years_df['CV']=inequity_years_df['task'].apply(lambda x: in_category(x,'Computer Vision'))\n",
    "inequity_years_df['NLP']=inequity_years_df['task'].apply(lambda x: in_category(x,'Natural Language Processing'))\n",
    "inequity_years_df['Methodology']=inequity_years_df['task'].apply(lambda x: in_category(x,'Methodology'))\n",
    "inequity_years_df['Methodology']=inequity_years_df['Methodology'].apply(lambda x: 0 if x in Methodologies_to_Drop else x)\n",
    "inequity_years_df.to_csv(\"/mnt/c/Users/berna/Documents/GoogleDataProject/EntropyInputs/EntropyDatasetforR.txt\",sep='\\t',quoting=1)"
   ]
  },
  {
   "cell_type": "code",
   "execution_count": 17,
   "id": "e6b8fdd0-8ae3-4fd1-b0b4-8ad26db10b92",
   "metadata": {},
   "outputs": [
    {
     "data": {
      "text/plain": [
       "1           2D Object Detection\n",
       "5        3D Face Reconstruction\n",
       "7      3D Human Pose Estimation\n",
       "9           3D Object Detection\n",
       "10            3D Reconstruction\n",
       "                 ...           \n",
       "249           Image Compression\n",
       "250            Image Inpainting\n",
       "260      Small Object Detection\n",
       "266            Video Generation\n",
       "268    Visual Place Recognition\n",
       "Name: task, Length: 133, dtype: object"
      ]
     },
     "execution_count": 17,
     "metadata": {},
     "output_type": "execute_result"
    }
   ],
   "source": [
    "median_parent_tasks"
   ]
  },
  {
   "cell_type": "code",
   "execution_count": 18,
   "id": "c3dc1d43-11cf-4aef-9e35-5e1dbe2a24ef",
   "metadata": {},
   "outputs": [
    {
     "name": "stdout",
     "output_type": "stream",
     "text": [
      "                     task  year     count\n",
      "0     2D Object Detection  2011       NaN\n",
      "1     2D Object Detection  2012       NaN\n",
      "2     2D Object Detection  2014  0.666667\n",
      "3     2D Object Detection  2015  0.741935\n",
      "4     2D Object Detection  2016  0.789757\n",
      "...                   ...   ...       ...\n",
      "1079   Zero-Shot Learning  2017  0.516129\n",
      "1080   Zero-Shot Learning  2018  0.727660\n",
      "1081   Zero-Shot Learning  2019  0.740260\n",
      "1082   Zero-Shot Learning  2020  0.753472\n",
      "1083   Zero-Shot Learning  2021  0.728571\n",
      "\n",
      "[1084 rows x 3 columns]\n"
     ]
    }
   ],
   "source": [
    "parent_tasks=[i for i in parent_child_dict if len(parent_child_dict[i])!=0]\n",
    "task_ds_ycounts=entropy_dataset.groupby(['task','name',entropy_dataset.date]).size().reset_index()\n",
    "task_ds_ycounts= task_ds_ycounts[task_ds_ycounts.task.isin(median_parent_tasks)]\n",
    "#task_ds_ycounts= task_ds_ycounts[task_ds_ycounts.task.isin(parent_tasks)]\n",
    "\n",
    "task_ds_ycounts.columns=['task', 'name','year','count']\n",
    "ginis=task_ds_ycounts.groupby(['task','year'])['count'].agg(corrected_gini).reset_index()\n",
    "print(ginis)\n",
    "ginis.columns=['task','year','gini']\n",
    "pielous=task_ds_ycounts.groupby(['task','year'])['count'].agg(pielou).reset_index()\n",
    "pielous.columns=['task','year','pielou']\n",
    "simpson=task_ds_ycounts.groupby(['task','year'])['count'].agg(alpha.simpson_e).reset_index()\n",
    "simpson.columns=['task','year','simpson']\n",
    "size=task_ds_ycounts.groupby(['task','year'])['count'].sum().reset_index()\n",
    "size.columns=['task','year','task_size']\n",
    "inequity_years_df=pd.merge(ginis,pielous,on=['task','year'])\n",
    "inequity_years_df=pd.merge(inequity_years_df,simpson,on=['task','year'],how='left')\n",
    "inequity_years_df=pd.merge(inequity_years_df,size,on=['task','year'],how='left')\n",
    "task_age_df=task_age.reset_index()\n",
    "task_age_df.columns=['task','task_age']\n",
    "inequity_years_df=pd.merge(inequity_years_df,task_age_df,on='task',how='left')\n",
    "pwc_papers['year']=pd.to_datetime(pwc_papers['date']).dt.year\n",
    "annual_size=pwc_papers.groupby('year').size().reset_index()\n",
    "annual_size.columns=['year','pwc_size']\n",
    "inequity_years_df=pd.merge(inequity_years_df,annual_size,on='year',how='left')\n",
    "inequity_years_df['CV']=inequity_years_df['task'].apply(lambda x: in_category(x,'Computer Vision'))\n",
    "inequity_years_df['NLP']=inequity_years_df['task'].apply(lambda x: in_category(x,'Natural Language Processing'))\n",
    "inequity_years_df['Methodology']=inequity_years_df['task'].apply(lambda x: in_category(x,'Methodology'))\n",
    "inequity_years_df['Methodology']=inequity_years_df['Methodology'].apply(lambda x: 0 if x in Methodologies_to_Drop else x)\n",
    "inequity_years_df.to_csv(\"/mnt/c/Users/berna/Documents/GoogleDataProject/EntropyInputs/EntropyDatasetforRParentsOnly.txt\",sep='\\t',quoting=1)"
   ]
  },
  {
   "cell_type": "code",
   "execution_count": 19,
   "id": "c84b9e97-5571-4069-a074-73c825bd7d46",
   "metadata": {},
   "outputs": [],
   "source": [
    "\n",
    "parent_tasks=[i for i in parent_child_dict if len(parent_child_dict[i])!=0]\n",
    "task_ds_counts=entropy_dataset.groupby(['task','name']).size().reset_index()\n",
    "task_ds_counts= task_ds_counts[task_ds_counts.task.isin(median_parent_tasks)]\n",
    "task_ds_counts.columns=['task', 'name','count']\n",
    "ginis=task_ds_counts.groupby(['task'])['count'].agg(corrected_gini).reset_index()\n",
    "ginis.columns=['task','gini']\n",
    "pielous=task_ds_counts.groupby(['task'])['count'].agg(pielou).reset_index()\n",
    "pielous.columns=['task','pielou']\n",
    "simpson=task_ds_counts.groupby(['task'])['count'].agg(alpha.simpson_e).reset_index()\n",
    "simpson.columns=['task','simpson']\n",
    "size=task_ds_counts.groupby(['task'])['count'].sum().reset_index()\n",
    "size.columns=['task','task_size']\n",
    "inequity_df=pd.merge(ginis,pielous,on=['task'])\n",
    "inequity_df=pd.merge(inequity_df,simpson,on=['task'],how='left')\n",
    "inequity_df=pd.merge(inequity_df,size,on=['task'],how='left')\n",
    "inequity_df['CV']=inequity_df['task'].apply(lambda x: in_category(x,'Computer Vision'))\n",
    "inequity_df['NLP']=inequity_df['task'].apply(lambda x: in_category(x,'Natural Language Processing'))\n",
    "inequity_df['Methodology']=inequity_df['task'].apply(lambda x: in_category(x,'Methodology'))\n",
    "inequity_df.to_csv(\"/mnt/c/Users/berna/Documents/GoogleDataProject/EntropyInputs/EntropyDatasetforRParentsOnly.AllYears.txt\",sep='\\t',quoting=1)"
   ]
  },
  {
   "cell_type": "code",
   "execution_count": 266,
   "id": "e5a0afb9-0cd3-4bf6-90e9-d56d09a6ed04",
   "metadata": {},
   "outputs": [
    {
     "data": {
      "text/html": [
       "<div>\n",
       "<style scoped>\n",
       "    .dataframe tbody tr th:only-of-type {\n",
       "        vertical-align: middle;\n",
       "    }\n",
       "\n",
       "    .dataframe tbody tr th {\n",
       "        vertical-align: top;\n",
       "    }\n",
       "\n",
       "    .dataframe thead th {\n",
       "        text-align: right;\n",
       "    }\n",
       "</style>\n",
       "<table border=\"1\" class=\"dataframe\">\n",
       "  <thead>\n",
       "    <tr style=\"text-align: right;\">\n",
       "      <th></th>\n",
       "      <th>task</th>\n",
       "      <th>gini</th>\n",
       "      <th>pielou</th>\n",
       "      <th>simpson</th>\n",
       "      <th>task_size</th>\n",
       "      <th>CV</th>\n",
       "      <th>NLP</th>\n",
       "      <th>Methodology</th>\n",
       "      <th>cvmethods</th>\n",
       "    </tr>\n",
       "  </thead>\n",
       "  <tbody>\n",
       "    <tr>\n",
       "      <th>0</th>\n",
       "      <td>3D Human Pose Estimation</td>\n",
       "      <td>0.729564</td>\n",
       "      <td>0.717602</td>\n",
       "      <td>0.244357</td>\n",
       "      <td>572</td>\n",
       "      <td>1</td>\n",
       "      <td>0</td>\n",
       "      <td>0</td>\n",
       "      <td>0</td>\n",
       "    </tr>\n",
       "    <tr>\n",
       "      <th>1</th>\n",
       "      <td>3D Reconstruction</td>\n",
       "      <td>0.798951</td>\n",
       "      <td>0.508718</td>\n",
       "      <td>0.109737</td>\n",
       "      <td>156</td>\n",
       "      <td>1</td>\n",
       "      <td>0</td>\n",
       "      <td>0</td>\n",
       "      <td>0</td>\n",
       "    </tr>\n",
       "    <tr>\n",
       "      <th>2</th>\n",
       "      <td>Abstractive Text Summarization</td>\n",
       "      <td>0.713778</td>\n",
       "      <td>0.666146</td>\n",
       "      <td>0.115863</td>\n",
       "      <td>225</td>\n",
       "      <td>0</td>\n",
       "      <td>1</td>\n",
       "      <td>0</td>\n",
       "      <td>0</td>\n",
       "    </tr>\n",
       "    <tr>\n",
       "      <th>3</th>\n",
       "      <td>Action Classification</td>\n",
       "      <td>0.742728</td>\n",
       "      <td>0.655283</td>\n",
       "      <td>0.215259</td>\n",
       "      <td>273</td>\n",
       "      <td>1</td>\n",
       "      <td>0</td>\n",
       "      <td>0</td>\n",
       "      <td>0</td>\n",
       "    </tr>\n",
       "    <tr>\n",
       "      <th>4</th>\n",
       "      <td>Action Detection</td>\n",
       "      <td>0.760732</td>\n",
       "      <td>0.644857</td>\n",
       "      <td>0.251102</td>\n",
       "      <td>198</td>\n",
       "      <td>1</td>\n",
       "      <td>0</td>\n",
       "      <td>0</td>\n",
       "      <td>0</td>\n",
       "    </tr>\n",
       "    <tr>\n",
       "      <th>...</th>\n",
       "      <td>...</td>\n",
       "      <td>...</td>\n",
       "      <td>...</td>\n",
       "      <td>...</td>\n",
       "      <td>...</td>\n",
       "      <td>...</td>\n",
       "      <td>...</td>\n",
       "      <td>...</td>\n",
       "      <td>...</td>\n",
       "    </tr>\n",
       "    <tr>\n",
       "      <th>151</th>\n",
       "      <td>Visual Relationship Detection</td>\n",
       "      <td>0.952381</td>\n",
       "      <td>0.162326</td>\n",
       "      <td>0.524376</td>\n",
       "      <td>42</td>\n",
       "      <td>1</td>\n",
       "      <td>0</td>\n",
       "      <td>0</td>\n",
       "      <td>0</td>\n",
       "    </tr>\n",
       "    <tr>\n",
       "      <th>152</th>\n",
       "      <td>Visual Tracking</td>\n",
       "      <td>0.710470</td>\n",
       "      <td>0.679660</td>\n",
       "      <td>0.367190</td>\n",
       "      <td>422</td>\n",
       "      <td>1</td>\n",
       "      <td>0</td>\n",
       "      <td>0</td>\n",
       "      <td>0</td>\n",
       "    </tr>\n",
       "    <tr>\n",
       "      <th>153</th>\n",
       "      <td>Word Embeddings</td>\n",
       "      <td>0.700752</td>\n",
       "      <td>0.705129</td>\n",
       "      <td>0.160159</td>\n",
       "      <td>194</td>\n",
       "      <td>0</td>\n",
       "      <td>0</td>\n",
       "      <td>1</td>\n",
       "      <td>0</td>\n",
       "    </tr>\n",
       "    <tr>\n",
       "      <th>154</th>\n",
       "      <td>Word Sense Disambiguation</td>\n",
       "      <td>0.686333</td>\n",
       "      <td>0.700433</td>\n",
       "      <td>0.289784</td>\n",
       "      <td>103</td>\n",
       "      <td>0</td>\n",
       "      <td>1</td>\n",
       "      <td>0</td>\n",
       "      <td>0</td>\n",
       "    </tr>\n",
       "    <tr>\n",
       "      <th>155</th>\n",
       "      <td>Zero-Shot Learning</td>\n",
       "      <td>0.844504</td>\n",
       "      <td>0.487425</td>\n",
       "      <td>0.205516</td>\n",
       "      <td>373</td>\n",
       "      <td>1</td>\n",
       "      <td>0</td>\n",
       "      <td>1</td>\n",
       "      <td>1</td>\n",
       "    </tr>\n",
       "  </tbody>\n",
       "</table>\n",
       "<p>156 rows × 9 columns</p>\n",
       "</div>"
      ],
      "text/plain": [
       "                               task      gini    pielou   simpson  task_size  \\\n",
       "0          3D Human Pose Estimation  0.729564  0.717602  0.244357        572   \n",
       "1                 3D Reconstruction  0.798951  0.508718  0.109737        156   \n",
       "2    Abstractive Text Summarization  0.713778  0.666146  0.115863        225   \n",
       "3             Action Classification  0.742728  0.655283  0.215259        273   \n",
       "4                  Action Detection  0.760732  0.644857  0.251102        198   \n",
       "..                              ...       ...       ...       ...        ...   \n",
       "151   Visual Relationship Detection  0.952381  0.162326  0.524376         42   \n",
       "152                 Visual Tracking  0.710470  0.679660  0.367190        422   \n",
       "153                 Word Embeddings  0.700752  0.705129  0.160159        194   \n",
       "154       Word Sense Disambiguation  0.686333  0.700433  0.289784        103   \n",
       "155              Zero-Shot Learning  0.844504  0.487425  0.205516        373   \n",
       "\n",
       "     CV  NLP  Methodology  cvmethods  \n",
       "0     1    0            0          0  \n",
       "1     1    0            0          0  \n",
       "2     0    1            0          0  \n",
       "3     1    0            0          0  \n",
       "4     1    0            0          0  \n",
       "..   ..  ...          ...        ...  \n",
       "151   1    0            0          0  \n",
       "152   1    0            0          0  \n",
       "153   0    0            1          0  \n",
       "154   0    1            0          0  \n",
       "155   1    0            1          1  \n",
       "\n",
       "[156 rows x 9 columns]"
      ]
     },
     "execution_count": 266,
     "metadata": {},
     "output_type": "execute_result"
    }
   ],
   "source": [
    "inequity_df"
   ]
  },
  {
   "cell_type": "code",
   "execution_count": null,
   "id": "eb33f0aa-bdc0-4a81-aa43-e58598928f47",
   "metadata": {},
   "outputs": [],
   "source": [
    "task_ds_ycounts[(task_ds_ycounts.year==2015) & (task_ds_ycounts.task=='3D Human Pose Estimation')]"
   ]
  }
 ],
 "metadata": {
  "kernelspec": {
   "display_name": "Python 3",
   "language": "python",
   "name": "python3"
  },
  "language_info": {
   "codemirror_mode": {
    "name": "ipython",
    "version": 3
   },
   "file_extension": ".py",
   "mimetype": "text/x-python",
   "name": "python",
   "nbconvert_exporter": "python",
   "pygments_lexer": "ipython3",
   "version": "3.8.11"
  }
 },
 "nbformat": 4,
 "nbformat_minor": 5
}
