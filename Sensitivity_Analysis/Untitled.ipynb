{
 "cells": [
  {
   "cell_type": "code",
   "execution_count": 1,
   "id": "6a97381a-b1b4-44d7-86c5-7ec9eed0213c",
   "metadata": {},
   "outputs": [],
   "source": [
    "conferences_by_id={\n",
    "    \"NeurIPS\":1127325140,\n",
    "    \"ICML\":1180662882,\n",
    "    \"ICLR\":2584161585,\n",
    "    \"AAAI\":1184914352,\n",
    "    \"ACL\":1188739475,\n",
    "    \"CVPR\":1158167855,\n",
    "    \"AISTATS\":2622962978,\n",
    "    \"KDD\":1130985203,\n",
    "    \"IJCAI\":1203999783,\n",
    "    \"SIGIR\":1140684652,\n",
    "}"
   ]
  },
  {
   "cell_type": "code",
   "execution_count": 51,
   "id": "6ffddaf1-2db1-4f1a-85de-c0c212d43be5",
   "metadata": {},
   "outputs": [],
   "source": [
    "from unidecode import unidecode\n",
    "import string\n",
    "import pandas as pd\n",
    "from gensim.utils import deaccent\n",
    "\n",
    "def clean_title_for_MAG(link_file):\n",
    "    #print(link_file).columns\n",
    "    #link_file=link_file[~pd.isnull(link_file['PaperTitle'])].reset_index()\n",
    "    link_file['PWC_Clean_Title']=link_file['title'].str.lower().str.replace('_',\"UNDERSCORE\").\\\n",
    "    str.replace('–',' ').str.replace('—',' ').str.replace('\\'',' ').replace(u'’', ' ').str.replace(u'\\u0027',' ').str.replace(u'\\u2019',' ').\\\n",
    "    str.normalize('NFKD').str.encode('ascii', errors='ignore').str.decode('utf8').\\\n",
    "    str.translate(str.maketrans(string.punctuation, ' '*len(string.punctuation))).\\\n",
    "    str.replace(' +', ' ',regex=True).str.replace(\"UNDERSCORE\",\"_\").str.strip()\n",
    "    #str.normalize('NFKD').str.encode('ascii', errors='ignore').str.decode('utf8').\\\n",
    "    link_file['PWC_Clean_Title']=link_file['PWC_Clean_Title'].apply(lambda x: deaccent(str(x)))\n",
    "    link_file['PWC_Clean_Title']=link_file['PWC_Clean_Title'].str.replace('”', \"\",regex=True).str.replace('“', \"\",regex=True).\\\n",
    "    str.replace('−', \" \",regex=True).str.replace('‐', \" \",regex=True).\\\n",
    "    str.replace('―', \"\",regex=True).str.replace('ø', \"o\",regex=True).str.replace(\"â\",\"a\",regex=True).\\\n",
    "    str.replace('ℓ', \"l\",regex=True).str.replace(\"  \",\" \").str.replace(\"ε\",\"e\")\n",
    "    return link_file"
   ]
  },
  {
   "cell_type": "code",
   "execution_count": 37,
   "id": "acf99c81-685e-436c-b8a4-fac6b838eeac",
   "metadata": {},
   "outputs": [],
   "source": [
    "import pandas as pd\n",
    "import json\n",
    "\n",
    "pwc=pd.read_json('../Dataset_Curation/PWC_Data/papers-with-abstracts.json')\n",
    "\n",
    "benchmark_tables=pd.read_json('../Dataset_Curation/PWC_Data/Derivative_Datasets/benchmarks_with_datasets.json')\n",
    "benchmark_tables=benchmark_tables.rename({'paper_title':'title'},axis=1)\n",
    "\n",
    "datasets=pd.read_json('../Dataset_Curation/PWC_Data/datasets.json')\n",
    "datasets['title']=datasets['paper'].apply(lambda js: js['title'] if js is not None else None)\n",
    "dataset_citing_papers=pd.read_csv('../Dataset_Curation/PWC_Data/Derivative_Datasets/datasets_citing_papers.txt',sep='\\t')"
   ]
  },
  {
   "cell_type": "code",
   "execution_count": 52,
   "id": "5f5ad756-278a-4d77-8072-95279e87ecb7",
   "metadata": {},
   "outputs": [],
   "source": [
    "pwc_titles=pd.concat([pwc['title'],benchmark_tables['title'],\n",
    "                      datasets['title'],dataset_citing_papers['title']]).drop_duplicates().to_frame()\n",
    "pwc_titles=pwc_titles[~pwc_titles.isnull()]\n",
    "pwc_titles=clean_title_for_MAG(pwc_titles)"
   ]
  },
  {
   "cell_type": "code",
   "execution_count": 88,
   "id": "5746e112-f3b0-4d1b-999e-4acf51e91b39",
   "metadata": {},
   "outputs": [
    {
     "name": "stdout",
     "output_type": "stream",
     "text": [
      "46774 46774 46774 46774\n"
     ]
    }
   ],
   "source": [
    "all_conf_titles=[]\n",
    "all_conf_disp_titles=[]\n",
    "all_conf_cc=[]\n",
    "all_conf_y=[]\n",
    "\n",
    "for c in conferences_by_id:\n",
    "    with open(f'./conferences/{c}.json') as f:\n",
    "        mag_papers=json.load(f)\n",
    "    if mag_papers['expr'].find(str(conferences_by_id[c]))==-1: print(\"WRONG CONFERENCE\")\n",
    "    all_conf_titles+=[e['Ti'] for e in mag_papers['entities'] if e['Y']>=2015 and e['Y']<=2020]\n",
    "    all_conf_disp_titles+=[e['DN'] for e in mag_papers['entities'] if e['Y']>=2015 and e['Y']<=2020]\n",
    "    all_conf_cc+=[e['CC'] for e in mag_papers['entities'] if e['Y']>=2015 and e['Y']<=2020]\n",
    "    all_conf_y+=[e['Y'] for e in mag_papers['entities'] if e['Y']>=2015 and e['Y']<=2020]\n",
    "    \n",
    "print(len(all_conf_titles),len(all_conf_disp_titles),len(all_conf_cc),len(all_conf_y))"
   ]
  },
  {
   "cell_type": "code",
   "execution_count": 89,
   "id": "1343f49c-6c47-420c-922d-ea09cfc21a16",
   "metadata": {},
   "outputs": [],
   "source": [
    "mag_papers=pd.DataFrame({'title':all_conf_titles,'display_title':all_conf_disp_titles,'citations':all_conf_cc,'year':all_conf_y})"
   ]
  },
  {
   "cell_type": "code",
   "execution_count": 93,
   "id": "1db4e9a5-0b5c-4f95-82f3-e3127155849c",
   "metadata": {},
   "outputs": [
    {
     "name": "stdout",
     "output_type": "stream",
     "text": [
      "Total number of papers:  46774\n",
      "0.5894514046265019  percent of top conference papers are in PWC.\n",
      "0.893462666006669  percent of top conference citations are in PWC.\n",
      "Year:  2015\n",
      "Total number of papers:  3881\n",
      "0.3893326462251997  percent of top conference papers are in PWC.\n",
      "0.8647727691667588  percent of top conference citations are in PWC.\n",
      "Year:  2016\n",
      "Total number of papers:  5452\n",
      "0.48826118855465883  percent of top conference papers are in PWC.\n",
      "0.8948825289800354  percent of top conference citations are in PWC.\n",
      "Year:  2017\n",
      "Total number of papers:  6577\n",
      "0.5298768435456895  percent of top conference papers are in PWC.\n",
      "0.9000993945965483  percent of top conference citations are in PWC.\n",
      "Year:  2018\n",
      "Total number of papers:  7907\n",
      "0.5997217655242191  percent of top conference papers are in PWC.\n",
      "0.9012898877093004  percent of top conference citations are in PWC.\n",
      "Year:  2019\n",
      "Total number of papers:  10002\n",
      "0.6254749050189962  percent of top conference papers are in PWC.\n",
      "0.8956805336792365  percent of top conference citations are in PWC.\n",
      "Year:  2020\n",
      "Total number of papers:  12955\n",
      "0.6881512929370899  percent of top conference papers are in PWC.\n",
      "0.9206539493204262  percent of top conference citations are in PWC.\n"
     ]
    }
   ],
   "source": [
    "matches=(mag_papers['title'].isin(pwc_titles['PWC_Clean_Title']) | mag_papers['display_title'].isin(pwc_titles['title']))\n",
    "print(\"Total number of papers: \", mag_papers.shape[0])\n",
    "print(matches.sum()/mag_papers.shape[0], \" percent of top conference papers are in PWC.\")\n",
    "print(mag_papers['citations'][matches].sum()/mag_papers['citations'].sum(), \" percent of top conference citations are in PWC.\")\n",
    "\n",
    "for y in range(2015,2021):\n",
    "    print(\"Year: \",y)\n",
    "    mag_papers_y=mag_papers[mag_papers['year']==y]\n",
    "    matches=(mag_papers_y['title'].isin(pwc_titles['PWC_Clean_Title']) | mag_papers_y['display_title'].isin(pwc_titles['title']))\n",
    "    print(\"Total number of papers: \", mag_papers_y.shape[0])\n",
    "    print(matches.sum()/mag_papers_y.shape[0], \" percent of top conference papers are in PWC.\")\n",
    "    print(mag_papers_y['citations'][matches].sum()/mag_papers_y['citations'].sum(), \" percent of top conference citations are in PWC.\")\n"
   ]
  }
 ],
 "metadata": {
  "kernelspec": {
   "display_name": "Python 3 (ipykernel)",
   "language": "python",
   "name": "python3"
  },
  "language_info": {
   "codemirror_mode": {
    "name": "ipython",
    "version": 3
   },
   "file_extension": ".py",
   "mimetype": "text/x-python",
   "name": "python",
   "nbconvert_exporter": "python",
   "pygments_lexer": "ipython3",
   "version": "3.7.7"
  }
 },
 "nbformat": 4,
 "nbformat_minor": 5
}
